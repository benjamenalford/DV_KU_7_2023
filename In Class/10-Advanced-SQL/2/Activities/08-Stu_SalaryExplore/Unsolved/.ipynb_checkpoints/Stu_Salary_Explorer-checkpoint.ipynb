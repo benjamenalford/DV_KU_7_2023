{
 "cells": [
  {
   "cell_type": "code",
   "execution_count": 13,
   "id": "4889338e",
   "metadata": {},
   "outputs": [],
   "source": [
    "# import SQLAlchemy and inspect dependencies\n",
    "import sqlalchemy\n",
    "from sqlalchemy import create_engine, inspect\n",
    "\n",
    "# create engine for the employee_compensation.sqlite database\n",
    "\n",
    "database_path = \"./prescriptions.sqlite\"\n",
    "engine = create_engine(f\"sqlite:///{database_path}\")\n"
   ]
  },
  {
   "cell_type": "code",
   "execution_count": 14,
   "id": "67339100",
   "metadata": {},
   "outputs": [],
   "source": [
    "# create the inspector and connect to the engine\n",
    "i = inspect(engine)\n"
   ]
  },
  {
   "cell_type": "code",
   "execution_count": 15,
   "id": "3e9fe842",
   "metadata": {},
   "outputs": [
    {
     "data": {
      "text/plain": [
       "['prescription']"
      ]
     },
     "execution_count": 15,
     "metadata": {},
     "output_type": "execute_result"
    }
   ],
   "source": [
    "# collect the name of the tables within the database\n",
    "i.get_table_names()\n"
   ]
  },
  {
   "cell_type": "code",
   "execution_count": 20,
   "id": "f6392b3d",
   "metadata": {},
   "outputs": [
    {
     "name": "stdout",
     "output_type": "stream",
     "text": [
      "id INTEGER\n",
      "name VARCHAR\n",
      "strength FLOAT\n",
      "doses_per_administration INTEGER\n",
      "route VARCHAR\n",
      "administrations_per_day VARCHAR\n",
      "total_quantity_to_dispense INTEGER\n",
      "refill_limit INTEGER\n",
      "refill_frequency VARCHAR\n"
     ]
    }
   ],
   "source": [
    "# Collect the names and data types for the employee_compensation table.\n",
    "cols = i.get_columns('prescription')\n",
    "for c in cols:\n",
    "    print(c['name'],c['type'])"
   ]
  },
  {
   "cell_type": "code",
   "execution_count": 21,
   "id": "74e4bd51",
   "metadata": {},
   "outputs": [],
   "source": [
    "import pandas as pd"
   ]
  },
  {
   "cell_type": "code",
   "execution_count": 22,
   "id": "ebb46f48",
   "metadata": {},
   "outputs": [
    {
     "data": {
      "text/html": [
       "<div>\n",
       "<style scoped>\n",
       "    .dataframe tbody tr th:only-of-type {\n",
       "        vertical-align: middle;\n",
       "    }\n",
       "\n",
       "    .dataframe tbody tr th {\n",
       "        vertical-align: top;\n",
       "    }\n",
       "\n",
       "    .dataframe thead th {\n",
       "        text-align: right;\n",
       "    }\n",
       "</style>\n",
       "<table border=\"1\" class=\"dataframe\">\n",
       "  <thead>\n",
       "    <tr style=\"text-align: right;\">\n",
       "      <th></th>\n",
       "      <th>name</th>\n",
       "      <th>type</th>\n",
       "      <th>nullable</th>\n",
       "      <th>default</th>\n",
       "      <th>autoincrement</th>\n",
       "      <th>primary_key</th>\n",
       "    </tr>\n",
       "  </thead>\n",
       "  <tbody>\n",
       "    <tr>\n",
       "      <th>0</th>\n",
       "      <td>id</td>\n",
       "      <td>INTEGER</td>\n",
       "      <td>False</td>\n",
       "      <td>None</td>\n",
       "      <td>auto</td>\n",
       "      <td>1</td>\n",
       "    </tr>\n",
       "    <tr>\n",
       "      <th>1</th>\n",
       "      <td>name</td>\n",
       "      <td>VARCHAR</td>\n",
       "      <td>True</td>\n",
       "      <td>None</td>\n",
       "      <td>auto</td>\n",
       "      <td>0</td>\n",
       "    </tr>\n",
       "    <tr>\n",
       "      <th>2</th>\n",
       "      <td>strength</td>\n",
       "      <td>FLOAT</td>\n",
       "      <td>True</td>\n",
       "      <td>None</td>\n",
       "      <td>auto</td>\n",
       "      <td>0</td>\n",
       "    </tr>\n",
       "    <tr>\n",
       "      <th>3</th>\n",
       "      <td>doses_per_administration</td>\n",
       "      <td>INTEGER</td>\n",
       "      <td>True</td>\n",
       "      <td>None</td>\n",
       "      <td>auto</td>\n",
       "      <td>0</td>\n",
       "    </tr>\n",
       "    <tr>\n",
       "      <th>4</th>\n",
       "      <td>route</td>\n",
       "      <td>VARCHAR</td>\n",
       "      <td>True</td>\n",
       "      <td>None</td>\n",
       "      <td>auto</td>\n",
       "      <td>0</td>\n",
       "    </tr>\n",
       "    <tr>\n",
       "      <th>5</th>\n",
       "      <td>administrations_per_day</td>\n",
       "      <td>VARCHAR</td>\n",
       "      <td>True</td>\n",
       "      <td>None</td>\n",
       "      <td>auto</td>\n",
       "      <td>0</td>\n",
       "    </tr>\n",
       "    <tr>\n",
       "      <th>6</th>\n",
       "      <td>total_quantity_to_dispense</td>\n",
       "      <td>INTEGER</td>\n",
       "      <td>True</td>\n",
       "      <td>None</td>\n",
       "      <td>auto</td>\n",
       "      <td>0</td>\n",
       "    </tr>\n",
       "    <tr>\n",
       "      <th>7</th>\n",
       "      <td>refill_limit</td>\n",
       "      <td>INTEGER</td>\n",
       "      <td>True</td>\n",
       "      <td>None</td>\n",
       "      <td>auto</td>\n",
       "      <td>0</td>\n",
       "    </tr>\n",
       "    <tr>\n",
       "      <th>8</th>\n",
       "      <td>refill_frequency</td>\n",
       "      <td>VARCHAR</td>\n",
       "      <td>True</td>\n",
       "      <td>None</td>\n",
       "      <td>auto</td>\n",
       "      <td>0</td>\n",
       "    </tr>\n",
       "  </tbody>\n",
       "</table>\n",
       "</div>"
      ],
      "text/plain": [
       "                         name     type  nullable default autoincrement  \\\n",
       "0                          id  INTEGER     False    None          auto   \n",
       "1                        name  VARCHAR      True    None          auto   \n",
       "2                    strength    FLOAT      True    None          auto   \n",
       "3    doses_per_administration  INTEGER      True    None          auto   \n",
       "4                       route  VARCHAR      True    None          auto   \n",
       "5     administrations_per_day  VARCHAR      True    None          auto   \n",
       "6  total_quantity_to_dispense  INTEGER      True    None          auto   \n",
       "7                refill_limit  INTEGER      True    None          auto   \n",
       "8            refill_frequency  VARCHAR      True    None          auto   \n",
       "\n",
       "   primary_key  \n",
       "0            1  \n",
       "1            0  \n",
       "2            0  \n",
       "3            0  \n",
       "4            0  \n",
       "5            0  \n",
       "6            0  \n",
       "7            0  \n",
       "8            0  "
      ]
     },
     "execution_count": 22,
     "metadata": {},
     "output_type": "execute_result"
    }
   ],
   "source": [
    "pd.DataFrame(cols)"
   ]
  },
  {
   "cell_type": "code",
   "execution_count": 25,
   "id": "e8e6e057",
   "metadata": {},
   "outputs": [
    {
     "data": {
      "text/html": [
       "<div>\n",
       "<style scoped>\n",
       "    .dataframe tbody tr th:only-of-type {\n",
       "        vertical-align: middle;\n",
       "    }\n",
       "\n",
       "    .dataframe tbody tr th {\n",
       "        vertical-align: top;\n",
       "    }\n",
       "\n",
       "    .dataframe thead th {\n",
       "        text-align: right;\n",
       "    }\n",
       "</style>\n",
       "<table border=\"1\" class=\"dataframe\">\n",
       "  <thead>\n",
       "    <tr style=\"text-align: right;\">\n",
       "      <th></th>\n",
       "      <th>0</th>\n",
       "      <th>1</th>\n",
       "      <th>2</th>\n",
       "      <th>3</th>\n",
       "      <th>4</th>\n",
       "      <th>5</th>\n",
       "      <th>6</th>\n",
       "      <th>7</th>\n",
       "      <th>8</th>\n",
       "    </tr>\n",
       "  </thead>\n",
       "  <tbody>\n",
       "    <tr>\n",
       "      <th>0</th>\n",
       "      <td>1</td>\n",
       "      <td>Theriac</td>\n",
       "      <td>1000.0</td>\n",
       "      <td>1</td>\n",
       "      <td>oral</td>\n",
       "      <td>3</td>\n",
       "      <td>90</td>\n",
       "      <td>0</td>\n",
       "      <td>None</td>\n",
       "    </tr>\n",
       "    <tr>\n",
       "      <th>1</th>\n",
       "      <td>2</td>\n",
       "      <td>Haloperidol</td>\n",
       "      <td>1.0</td>\n",
       "      <td>2</td>\n",
       "      <td>oral</td>\n",
       "      <td>2</td>\n",
       "      <td>120</td>\n",
       "      <td>1</td>\n",
       "      <td>monthly</td>\n",
       "    </tr>\n",
       "    <tr>\n",
       "      <th>2</th>\n",
       "      <td>3</td>\n",
       "      <td>Theriac</td>\n",
       "      <td>1000.0</td>\n",
       "      <td>1</td>\n",
       "      <td>oral</td>\n",
       "      <td>3</td>\n",
       "      <td>90</td>\n",
       "      <td>0</td>\n",
       "      <td>None</td>\n",
       "    </tr>\n",
       "    <tr>\n",
       "      <th>3</th>\n",
       "      <td>4</td>\n",
       "      <td>Haloperidol</td>\n",
       "      <td>1.0</td>\n",
       "      <td>2</td>\n",
       "      <td>oral</td>\n",
       "      <td>2</td>\n",
       "      <td>120</td>\n",
       "      <td>1</td>\n",
       "      <td>monthly</td>\n",
       "    </tr>\n",
       "    <tr>\n",
       "      <th>4</th>\n",
       "      <td>5</td>\n",
       "      <td>Theriac</td>\n",
       "      <td>1000.0</td>\n",
       "      <td>1</td>\n",
       "      <td>oral</td>\n",
       "      <td>3</td>\n",
       "      <td>90</td>\n",
       "      <td>0</td>\n",
       "      <td>None</td>\n",
       "    </tr>\n",
       "    <tr>\n",
       "      <th>5</th>\n",
       "      <td>6</td>\n",
       "      <td>Haloperidol</td>\n",
       "      <td>1.0</td>\n",
       "      <td>2</td>\n",
       "      <td>oral</td>\n",
       "      <td>2</td>\n",
       "      <td>120</td>\n",
       "      <td>1</td>\n",
       "      <td>monthly</td>\n",
       "    </tr>\n",
       "  </tbody>\n",
       "</table>\n",
       "</div>"
      ],
      "text/plain": [
       "   0            1       2  3     4  5    6  7        8\n",
       "0  1      Theriac  1000.0  1  oral  3   90  0     None\n",
       "1  2  Haloperidol     1.0  2  oral  2  120  1  monthly\n",
       "2  3      Theriac  1000.0  1  oral  3   90  0     None\n",
       "3  4  Haloperidol     1.0  2  oral  2  120  1  monthly\n",
       "4  5      Theriac  1000.0  1  oral  3   90  0     None\n",
       "5  6  Haloperidol     1.0  2  oral  2  120  1  monthly"
      ]
     },
     "execution_count": 25,
     "metadata": {},
     "output_type": "execute_result"
    }
   ],
   "source": [
    "pd.DataFrame(engine.execute(\"select * from prescription\"))"
   ]
  },
  {
   "cell_type": "code",
   "execution_count": 26,
   "id": "0cbbeed6",
   "metadata": {},
   "outputs": [
    {
     "data": {
      "text/html": [
       "<div>\n",
       "<style scoped>\n",
       "    .dataframe tbody tr th:only-of-type {\n",
       "        vertical-align: middle;\n",
       "    }\n",
       "\n",
       "    .dataframe tbody tr th {\n",
       "        vertical-align: top;\n",
       "    }\n",
       "\n",
       "    .dataframe thead th {\n",
       "        text-align: right;\n",
       "    }\n",
       "</style>\n",
       "<table border=\"1\" class=\"dataframe\">\n",
       "  <thead>\n",
       "    <tr style=\"text-align: right;\">\n",
       "      <th></th>\n",
       "      <th>id</th>\n",
       "      <th>name</th>\n",
       "      <th>strength</th>\n",
       "      <th>doses_per_administration</th>\n",
       "      <th>route</th>\n",
       "      <th>administrations_per_day</th>\n",
       "      <th>total_quantity_to_dispense</th>\n",
       "      <th>refill_limit</th>\n",
       "      <th>refill_frequency</th>\n",
       "    </tr>\n",
       "  </thead>\n",
       "  <tbody>\n",
       "    <tr>\n",
       "      <th>0</th>\n",
       "      <td>1</td>\n",
       "      <td>Theriac</td>\n",
       "      <td>1000.0</td>\n",
       "      <td>1</td>\n",
       "      <td>oral</td>\n",
       "      <td>3</td>\n",
       "      <td>90</td>\n",
       "      <td>0</td>\n",
       "      <td>None</td>\n",
       "    </tr>\n",
       "    <tr>\n",
       "      <th>1</th>\n",
       "      <td>2</td>\n",
       "      <td>Haloperidol</td>\n",
       "      <td>1.0</td>\n",
       "      <td>2</td>\n",
       "      <td>oral</td>\n",
       "      <td>2</td>\n",
       "      <td>120</td>\n",
       "      <td>1</td>\n",
       "      <td>monthly</td>\n",
       "    </tr>\n",
       "    <tr>\n",
       "      <th>2</th>\n",
       "      <td>3</td>\n",
       "      <td>Theriac</td>\n",
       "      <td>1000.0</td>\n",
       "      <td>1</td>\n",
       "      <td>oral</td>\n",
       "      <td>3</td>\n",
       "      <td>90</td>\n",
       "      <td>0</td>\n",
       "      <td>None</td>\n",
       "    </tr>\n",
       "    <tr>\n",
       "      <th>3</th>\n",
       "      <td>4</td>\n",
       "      <td>Haloperidol</td>\n",
       "      <td>1.0</td>\n",
       "      <td>2</td>\n",
       "      <td>oral</td>\n",
       "      <td>2</td>\n",
       "      <td>120</td>\n",
       "      <td>1</td>\n",
       "      <td>monthly</td>\n",
       "    </tr>\n",
       "    <tr>\n",
       "      <th>4</th>\n",
       "      <td>5</td>\n",
       "      <td>Theriac</td>\n",
       "      <td>1000.0</td>\n",
       "      <td>1</td>\n",
       "      <td>oral</td>\n",
       "      <td>3</td>\n",
       "      <td>90</td>\n",
       "      <td>0</td>\n",
       "      <td>None</td>\n",
       "    </tr>\n",
       "    <tr>\n",
       "      <th>5</th>\n",
       "      <td>6</td>\n",
       "      <td>Haloperidol</td>\n",
       "      <td>1.0</td>\n",
       "      <td>2</td>\n",
       "      <td>oral</td>\n",
       "      <td>2</td>\n",
       "      <td>120</td>\n",
       "      <td>1</td>\n",
       "      <td>monthly</td>\n",
       "    </tr>\n",
       "  </tbody>\n",
       "</table>\n",
       "</div>"
      ],
      "text/plain": [
       "   id         name  strength  doses_per_administration route  \\\n",
       "0   1      Theriac    1000.0                         1  oral   \n",
       "1   2  Haloperidol       1.0                         2  oral   \n",
       "2   3      Theriac    1000.0                         1  oral   \n",
       "3   4  Haloperidol       1.0                         2  oral   \n",
       "4   5      Theriac    1000.0                         1  oral   \n",
       "5   6  Haloperidol       1.0                         2  oral   \n",
       "\n",
       "  administrations_per_day  total_quantity_to_dispense  refill_limit  \\\n",
       "0                       3                          90             0   \n",
       "1                       2                         120             1   \n",
       "2                       3                          90             0   \n",
       "3                       2                         120             1   \n",
       "4                       3                          90             0   \n",
       "5                       2                         120             1   \n",
       "\n",
       "  refill_frequency  \n",
       "0             None  \n",
       "1          monthly  \n",
       "2             None  \n",
       "3          monthly  \n",
       "4             None  \n",
       "5          monthly  "
      ]
     },
     "execution_count": 26,
     "metadata": {},
     "output_type": "execute_result"
    }
   ],
   "source": [
    "pd.read_sql(\"select * from prescription\", engine)"
   ]
  },
  {
   "cell_type": "code",
   "execution_count": 27,
   "id": "4875eedc",
   "metadata": {},
   "outputs": [],
   "source": [
    "from sqlalchemy.ext.automap import automap_base\n",
    "from sqlalchemy.orm import Session\n"
   ]
  },
  {
   "cell_type": "code",
   "execution_count": 28,
   "id": "b912baec",
   "metadata": {},
   "outputs": [],
   "source": [
    "Base = automap_base()\n",
    "Base.prepare(autoload_with=engine)"
   ]
  },
  {
   "cell_type": "code",
   "execution_count": 30,
   "id": "f5e97d14",
   "metadata": {},
   "outputs": [
    {
     "data": {
      "text/plain": [
       "['prescription']"
      ]
     },
     "execution_count": 30,
     "metadata": {},
     "output_type": "execute_result"
    }
   ],
   "source": [
    "Base.classes.keys()"
   ]
  },
  {
   "cell_type": "code",
   "execution_count": 31,
   "id": "d5d624a9",
   "metadata": {},
   "outputs": [],
   "source": [
    "Prescription = Base.classes.prescription"
   ]
  },
  {
   "cell_type": "code",
   "execution_count": 32,
   "id": "092f501d",
   "metadata": {},
   "outputs": [],
   "source": [
    "session = Session(engine)"
   ]
  },
  {
   "cell_type": "code",
   "execution_count": 35,
   "id": "56164ed3",
   "metadata": {},
   "outputs": [
    {
     "data": {
      "text/plain": [
       "[('Theriac', 1000.0),\n",
       " ('Haloperidol', 1.0),\n",
       " ('Theriac', 1000.0),\n",
       " ('Haloperidol', 1.0),\n",
       " ('Theriac', 1000.0),\n",
       " ('Haloperidol', 1.0)]"
      ]
     },
     "execution_count": 35,
     "metadata": {},
     "output_type": "execute_result"
    }
   ],
   "source": [
    "session.query(Prescription.name,Prescription.strength).all()"
   ]
  },
  {
   "cell_type": "code",
   "execution_count": 38,
   "id": "63ef72ed",
   "metadata": {},
   "outputs": [
    {
     "data": {
      "text/html": [
       "<div>\n",
       "<style scoped>\n",
       "    .dataframe tbody tr th:only-of-type {\n",
       "        vertical-align: middle;\n",
       "    }\n",
       "\n",
       "    .dataframe tbody tr th {\n",
       "        vertical-align: top;\n",
       "    }\n",
       "\n",
       "    .dataframe thead th {\n",
       "        text-align: right;\n",
       "    }\n",
       "</style>\n",
       "<table border=\"1\" class=\"dataframe\">\n",
       "  <thead>\n",
       "    <tr style=\"text-align: right;\">\n",
       "      <th></th>\n",
       "      <th>0</th>\n",
       "    </tr>\n",
       "  </thead>\n",
       "  <tbody>\n",
       "    <tr>\n",
       "      <th>0</th>\n",
       "      <td>Theriac</td>\n",
       "    </tr>\n",
       "    <tr>\n",
       "      <th>1</th>\n",
       "      <td>Haloperidol</td>\n",
       "    </tr>\n",
       "    <tr>\n",
       "      <th>2</th>\n",
       "      <td>Theriac</td>\n",
       "    </tr>\n",
       "    <tr>\n",
       "      <th>3</th>\n",
       "      <td>Haloperidol</td>\n",
       "    </tr>\n",
       "    <tr>\n",
       "      <th>4</th>\n",
       "      <td>Theriac</td>\n",
       "    </tr>\n",
       "    <tr>\n",
       "      <th>5</th>\n",
       "      <td>Haloperidol</td>\n",
       "    </tr>\n",
       "  </tbody>\n",
       "</table>\n",
       "</div>"
      ],
      "text/plain": [
       "             0\n",
       "0      Theriac\n",
       "1  Haloperidol\n",
       "2      Theriac\n",
       "3  Haloperidol\n",
       "4      Theriac\n",
       "5  Haloperidol"
      ]
     },
     "execution_count": 38,
     "metadata": {},
     "output_type": "execute_result"
    }
   ],
   "source": [
    "pd.DataFrame(session.query(Prescription.name).all())"
   ]
  },
  {
   "cell_type": "code",
   "execution_count": null,
   "id": "eb8b977a",
   "metadata": {},
   "outputs": [],
   "source": []
  }
 ],
 "metadata": {
  "kernelspec": {
   "display_name": "Python 3 (ipykernel)",
   "language": "python",
   "name": "python3"
  },
  "language_info": {
   "codemirror_mode": {
    "name": "ipython",
    "version": 3
   },
   "file_extension": ".py",
   "mimetype": "text/x-python",
   "name": "python",
   "nbconvert_exporter": "python",
   "pygments_lexer": "ipython3",
   "version": "3.7.7"
  },
  "name": "stu_salary_explore.ipynb"
 },
 "nbformat": 4,
 "nbformat_minor": 5
}
