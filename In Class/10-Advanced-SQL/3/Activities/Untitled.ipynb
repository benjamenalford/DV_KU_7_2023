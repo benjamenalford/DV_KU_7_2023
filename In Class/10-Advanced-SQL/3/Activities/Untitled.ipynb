{
 "cells": [
  {
   "cell_type": "code",
   "execution_count": 2,
   "id": "a935d06d",
   "metadata": {},
   "outputs": [],
   "source": [
    "import requests \n",
    "import pandas as pd"
   ]
  },
  {
   "cell_type": "code",
   "execution_count": 3,
   "id": "7b9a166a",
   "metadata": {},
   "outputs": [],
   "source": [
    "res = requests.get('http://127.0.0.1:5000/api/v1.0/super-hero')"
   ]
  },
  {
   "cell_type": "code",
   "execution_count": 5,
   "id": "37968797",
   "metadata": {},
   "outputs": [
    {
     "data": {
      "text/plain": [
       "[{'real_name': 'Arthur Curry', 'superhero': 'Aquaman'},\n",
       " {'real_name': 'Bruce Wayne', 'superhero': 'Batman'},\n",
       " {'real_name': 'Victor Stone', 'superhero': 'Cyborg'},\n",
       " {'real_name': 'Barry Allen', 'superhero': 'Flash'},\n",
       " {'real_name': 'Hal Jordan', 'superhero': 'Green Lantern'},\n",
       " {'real_name': 'Clark Kent/Kal-El', 'superhero': 'Superman'},\n",
       " {'real_name': 'Princess Diana', 'superhero': 'Wonder Woman'}]"
      ]
     },
     "execution_count": 5,
     "metadata": {},
     "output_type": "execute_result"
    }
   ],
   "source": [
    "res.json()"
   ]
  },
  {
   "cell_type": "code",
   "execution_count": 6,
   "id": "ec314d3d",
   "metadata": {},
   "outputs": [
    {
     "data": {
      "text/html": [
       "<div>\n",
       "<style scoped>\n",
       "    .dataframe tbody tr th:only-of-type {\n",
       "        vertical-align: middle;\n",
       "    }\n",
       "\n",
       "    .dataframe tbody tr th {\n",
       "        vertical-align: top;\n",
       "    }\n",
       "\n",
       "    .dataframe thead th {\n",
       "        text-align: right;\n",
       "    }\n",
       "</style>\n",
       "<table border=\"1\" class=\"dataframe\">\n",
       "  <thead>\n",
       "    <tr style=\"text-align: right;\">\n",
       "      <th></th>\n",
       "      <th>real_name</th>\n",
       "      <th>superhero</th>\n",
       "    </tr>\n",
       "  </thead>\n",
       "  <tbody>\n",
       "    <tr>\n",
       "      <th>0</th>\n",
       "      <td>Arthur Curry</td>\n",
       "      <td>Aquaman</td>\n",
       "    </tr>\n",
       "    <tr>\n",
       "      <th>1</th>\n",
       "      <td>Bruce Wayne</td>\n",
       "      <td>Batman</td>\n",
       "    </tr>\n",
       "    <tr>\n",
       "      <th>2</th>\n",
       "      <td>Victor Stone</td>\n",
       "      <td>Cyborg</td>\n",
       "    </tr>\n",
       "    <tr>\n",
       "      <th>3</th>\n",
       "      <td>Barry Allen</td>\n",
       "      <td>Flash</td>\n",
       "    </tr>\n",
       "    <tr>\n",
       "      <th>4</th>\n",
       "      <td>Hal Jordan</td>\n",
       "      <td>Green Lantern</td>\n",
       "    </tr>\n",
       "    <tr>\n",
       "      <th>5</th>\n",
       "      <td>Clark Kent/Kal-El</td>\n",
       "      <td>Superman</td>\n",
       "    </tr>\n",
       "    <tr>\n",
       "      <th>6</th>\n",
       "      <td>Princess Diana</td>\n",
       "      <td>Wonder Woman</td>\n",
       "    </tr>\n",
       "  </tbody>\n",
       "</table>\n",
       "</div>"
      ],
      "text/plain": [
       "           real_name      superhero\n",
       "0       Arthur Curry        Aquaman\n",
       "1        Bruce Wayne         Batman\n",
       "2       Victor Stone         Cyborg\n",
       "3        Barry Allen          Flash\n",
       "4         Hal Jordan  Green Lantern\n",
       "5  Clark Kent/Kal-El       Superman\n",
       "6     Princess Diana   Wonder Woman"
      ]
     },
     "execution_count": 6,
     "metadata": {},
     "output_type": "execute_result"
    }
   ],
   "source": [
    "pd.DataFrame(res.json())"
   ]
  },
  {
   "cell_type": "code",
   "execution_count": null,
   "id": "65cdb0bd",
   "metadata": {},
   "outputs": [],
   "source": []
  }
 ],
 "metadata": {
  "kernelspec": {
   "display_name": "PythonData",
   "language": "python",
   "name": "pythondata"
  },
  "language_info": {
   "codemirror_mode": {
    "name": "ipython",
    "version": 3
   },
   "file_extension": ".py",
   "mimetype": "text/x-python",
   "name": "python",
   "nbconvert_exporter": "python",
   "pygments_lexer": "ipython3",
   "version": "3.7.7"
  }
 },
 "nbformat": 4,
 "nbformat_minor": 5
}
