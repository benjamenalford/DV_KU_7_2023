{
 "cells": [
  {
   "cell_type": "code",
   "execution_count": 18,
   "id": "918dc645",
   "metadata": {},
   "outputs": [
    {
     "data": {
      "text/html": [
       "<div>\n",
       "<style scoped>\n",
       "    .dataframe tbody tr th:only-of-type {\n",
       "        vertical-align: middle;\n",
       "    }\n",
       "\n",
       "    .dataframe tbody tr th {\n",
       "        vertical-align: top;\n",
       "    }\n",
       "\n",
       "    .dataframe thead th {\n",
       "        text-align: right;\n",
       "    }\n",
       "</style>\n",
       "<table border=\"1\" class=\"dataframe\">\n",
       "  <thead>\n",
       "    <tr style=\"text-align: right;\">\n",
       "      <th></th>\n",
       "      <th>close</th>\n",
       "      <th>volume</th>\n",
       "      <th>open</th>\n",
       "      <th>high</th>\n",
       "      <th>low</th>\n",
       "      <th>returns</th>\n",
       "      <th>hi_low_spread</th>\n",
       "    </tr>\n",
       "  </thead>\n",
       "  <tbody>\n",
       "    <tr>\n",
       "      <th>0</th>\n",
       "      <td>3.61</td>\n",
       "      <td>18193730</td>\n",
       "      <td>3.55</td>\n",
       "      <td>3.73</td>\n",
       "      <td>3.53</td>\n",
       "      <td>0.028490</td>\n",
       "      <td>0.20</td>\n",
       "    </tr>\n",
       "    <tr>\n",
       "      <th>1</th>\n",
       "      <td>3.82</td>\n",
       "      <td>16233940</td>\n",
       "      <td>3.55</td>\n",
       "      <td>3.90</td>\n",
       "      <td>3.55</td>\n",
       "      <td>0.058172</td>\n",
       "      <td>0.35</td>\n",
       "    </tr>\n",
       "    <tr>\n",
       "      <th>2</th>\n",
       "      <td>4.26</td>\n",
       "      <td>21236940</td>\n",
       "      <td>3.90</td>\n",
       "      <td>4.30</td>\n",
       "      <td>3.83</td>\n",
       "      <td>0.115183</td>\n",
       "      <td>0.47</td>\n",
       "    </tr>\n",
       "    <tr>\n",
       "      <th>3</th>\n",
       "      <td>4.32</td>\n",
       "      <td>16369170</td>\n",
       "      <td>4.36</td>\n",
       "      <td>4.39</td>\n",
       "      <td>4.11</td>\n",
       "      <td>0.014085</td>\n",
       "      <td>0.28</td>\n",
       "    </tr>\n",
       "    <tr>\n",
       "      <th>4</th>\n",
       "      <td>4.31</td>\n",
       "      <td>15075630</td>\n",
       "      <td>4.45</td>\n",
       "      <td>4.45</td>\n",
       "      <td>4.12</td>\n",
       "      <td>-0.002315</td>\n",
       "      <td>0.33</td>\n",
       "    </tr>\n",
       "  </tbody>\n",
       "</table>\n",
       "</div>"
      ],
      "text/plain": [
       "   close    volume  open  high   low   returns  hi_low_spread\n",
       "0   3.61  18193730  3.55  3.73  3.53  0.028490           0.20\n",
       "1   3.82  16233940  3.55  3.90  3.55  0.058172           0.35\n",
       "2   4.26  21236940  3.90  4.30  3.83  0.115183           0.47\n",
       "3   4.32  16369170  4.36  4.39  4.11  0.014085           0.28\n",
       "4   4.31  15075630  4.45  4.45  4.12 -0.002315           0.33"
      ]
     },
     "execution_count": 18,
     "metadata": {},
     "output_type": "execute_result"
    }
   ],
   "source": [
    "# Import the modules\n",
    "import pandas as pd\n",
    "import hvplot.pandas\n",
    "from pathlib import Path\n",
    "from sklearn.cluster import KMeans\n",
    "from sklearn.preprocessing import StandardScaler\n",
    "\n",
    "# Read in the CSV file as a Pandas DataFrame\n",
    "spread_df = pd.read_csv(\n",
    "    Path(\"../Resources/stock_data.csv\")\n",
    ")\n",
    "del spread_df[\"date\"]\n",
    "# Review the DataFrame\n",
    "spread_df.head()"
   ]
  },
  {
   "cell_type": "code",
   "execution_count": 19,
   "id": "7c8ca419",
   "metadata": {},
   "outputs": [
    {
     "name": "stderr",
     "output_type": "stream",
     "text": [
      "C:\\Users\\benjamenalford\\.conda\\envs\\PythonData\\lib\\site-packages\\sklearn\\cluster\\_kmeans.py:1037: UserWarning: KMeans is known to have a memory leak on Windows with MKL, when there are less chunks than available threads. You can avoid it by setting the environment variable OMP_NUM_THREADS=10.\n",
      "  \"KMeans is known to have a memory leak on Windows \"\n"
     ]
    }
   ],
   "source": [
    "# Create a a list to store inertia values\n",
    "k_inertia = []\n",
    "# Create a a list to store the values of k\n",
    "k_list = []\n",
    "\n",
    "# Create a for loop where each value of k is evaluated using the K-means algorithm\n",
    "# Fit the model using the home_sales_df DataFrame\n",
    "# Append the value of the computed inertia from the `inertia_` attribute of the K-means model instance\n",
    "for k in range(1,11):\n",
    "    model = KMeans(n_clusters=k)\n",
    "    model.fit(spread_df)\n",
    "    k_inertia.append(model.inertia_)\n",
    "    k_list.append(k)\n",
    "    \n",
    "# Create a dictionary that holds the list values for k and inertia\n",
    "\n"
   ]
  },
  {
   "cell_type": "code",
   "execution_count": 20,
   "id": "c5ba2aea",
   "metadata": {},
   "outputs": [
    {
     "data": {
      "text/plain": [
       "<matplotlib.axes._subplots.AxesSubplot at 0x1f2efdd6c88>"
      ]
     },
     "execution_count": 20,
     "metadata": {},
     "output_type": "execute_result"
    },
    {
     "data": {
      "image/png": "[encoded data removed]",
      "text/plain": [
       "<Figure size 432x288 with 1 Axes>"
      ]
     },
     "metadata": {
      "needs_background": "light"
     },
     "output_type": "display_data"
    }
   ],
   "source": [
    "# Create a DataFrame using the elbow_data dictionary\n",
    "df = pd.DataFrame({\"k\":k_list,\"inertia\":k_inertia})\n",
    "\n",
    "# Plot the DataFrame\n",
    "df.plot(x=\"k\",y=\"inertia\")"
   ]
  },
  {
   "cell_type": "code",
   "execution_count": 21,
   "id": "773d3c7f",
   "metadata": {},
   "outputs": [
    {
     "data": {},
     "metadata": {},
     "output_type": "display_data"
    },
    {
     "data": {
      "application/vnd.holoviews_exec.v0+json": "",
      "text/html": [
       "<div id='1945'>\n",
       "  <div class=\"bk-root\" id=\"ee44cbd5-1a49-4bcc-9c73-c17faf9ba780\" data-root-id=\"1945\"></div>\n",
       "</div>\n",
       "<script type=\"application/javascript\">(function(root) {\n",
       "  function embed_document(root) {\n",
       "    var docs_json = {\"d35dd93b-0b17-47d1-9db9-a146e2304775\":{\"defs\":[{\"extends\":null,\"module\":null,\"name\":\"ReactiveHTML1\",\"overrides\":[],\"properties\":[]},{\"extends\":null,\"module\":null,\"name\":\"FlexBox1\",\"overrides\":[],\"properties\":[{\"default\":\"flex-start\",\"kind\":null,\"name\":\"align_content\"},{\"default\":\"flex-start\",\"kind\":null,\"name\":\"align_items\"},{\"default\":\"row\",\"kind\":null,\"name\":\"flex_direction\"},{\"default\":\"wrap\",\"kind\":null,\"name\":\"flex_wrap\"},{\"default\":\"flex-start\",\"kind\":null,\"name\":\"justify_content\"}]},{\"extends\":null,\"module\":null,\"name\":\"GridStack1\",\"overrides\":[],\"properties\":[{\"default\":\"warn\",\"kind\":null,\"name\":\"mode\"},{\"default\":null,\"kind\":null,\"name\":\"ncols\"},{\"default\":null,\"kind\":null,\"name\":\"nrows\"},{\"default\":true,\"kind\":null,\"name\":\"allow_resize\"},{\"default\":true,\"kind\":null,\"name\":\"allow_drag\"},{\"default\":[],\"kind\":null,\"name\":\"state\"}]},{\"extends\":null,\"module\":null,\"name\":\"click1\",\"overrides\":[],\"properties\":[{\"default\":\"\",\"kind\":null,\"name\":\"terminal_output\"},{\"default\":\"\",\"kind\":null,\"name\":\"debug_name\"},{\"default\":0,\"kind\":null,\"name\":\"clears\"}]},{\"extends\":null,\"module\":null,\"name\":\"NotificationAreaBase1\",\"overrides\":[],\"properties\":[{\"default\":\"bottom-right\",\"kind\":null,\"name\":\"position\"},{\"default\":0,\"kind\":null,\"name\":\"_clear\"}]},{\"extends\":null,\"module\":null,\"name\":\"NotificationArea1\",\"overrides\":[],\"properties\":[{\"default\":[],\"kind\":null,\"name\":\"notifications\"},{\"default\":\"bottom-right\",\"kind\":null,\"name\":\"position\"},{\"default\":0,\"kind\":null,\"name\":\"_clear\"},{\"default\":[{\"background\":\"#ffc107\",\"icon\":{\"className\":\"fas fa-exclamation-triangle\",\"color\":\"white\",\"tagName\":\"i\"},\"type\":\"warning\"},{\"background\":\"#007bff\",\"icon\":{\"className\":\"fas fa-info-circle\",\"color\":\"white\",\"tagName\":\"i\"},\"type\":\"info\"}],\"kind\":null,\"name\":\"types\"}]},{\"extends\":null,\"module\":null,\"name\":\"Notification\",\"overrides\":[],\"properties\":[{\"default\":null,\"kind\":null,\"name\":\"background\"},{\"default\":3000,\"kind\":null,\"name\":\"duration\"},{\"default\":null,\"kind\":null,\"name\":\"icon\"},{\"default\":\"\",\"kind\":null,\"name\":\"message\"},{\"default\":null,\"kind\":null,\"name\":\"notification_type\"},{\"default\":false,\"kind\":null,\"name\":\"_destroyed\"}]},{\"extends\":null,\"module\":null,\"name\":\"TemplateActions1\",\"overrides\":[],\"properties\":[{\"default\":0,\"kind\":null,\"name\":\"open_modal\"},{\"default\":0,\"kind\":null,\"name\":\"close_modal\"}]},{\"extends\":null,\"module\":null,\"name\":\"MaterialTemplateActions1\",\"overrides\":[],\"properties\":[{\"default\":0,\"kind\":null,\"name\":\"open_modal\"},{\"default\":0,\"kind\":null,\"name\":\"close_modal\"}]}],\"roots\":{\"references\":[{\"attributes\":{\"callback\":null,\"renderers\":[{\"id\":\"1985\"}],\"tags\":[\"hv_created\"],\"tooltips\":[[\"k\",\"@{k}\"],[\"inertia\",\"@{inertia}\"]]},\"id\":\"1948\",\"type\":\"HoverTool\"},{\"attributes\":{\"coordinates\":null,\"data_source\":{\"id\":\"1979\"},\"glyph\":{\"id\":\"1982\"},\"group\":null,\"hover_glyph\":null,\"muted_glyph\":{\"id\":\"1984\"},\"nonselection_glyph\":{\"id\":\"1983\"},\"selection_glyph\":{\"id\":\"1987\"},\"view\":{\"id\":\"1986\"}},\"id\":\"1985\",\"type\":\"GlyphRenderer\"},{\"attributes\":{},\"id\":\"1959\",\"type\":\"BasicTicker\"},{\"attributes\":{\"data\":{\"inertia\":{\"__ndarray__\":\"aA4+Nzitw0P3XjVVm3yrQ1pqCnbmwJtDroBYmYH/kEOzoOo9y1SHQw8xVF1mEoFDk7UWh+t3eEOrptjVrrpyQ+IwCgH0iG1DcP07p8QrZ0M=\",\"dtype\":\"float64\",\"order\":\"little\",\"shape\":[10]},\"k\":[1,2,3,4,5,6,7,8,9,10]},\"selected\":{\"id\":\"1980\"},\"selection_policy\":{\"id\":\"2005\"}},\"id\":\"1979\",\"type\":\"ColumnDataSource\"},{\"attributes\":{\"coordinates\":null,\"group\":null,\"text_color\":\"black\",\"text_font_size\":\"12pt\"},\"id\":\"1950\",\"type\":\"Title\"},{\"attributes\":{\"end\":3.1140551502686126e+18,\"reset_end\":3.1140551502686126e+18,\"reset_start\":-2.261762303852393e+17,\"start\":-2.261762303852393e+17,\"tags\":[[[\"inertia\",\"inertia\",null]]]},\"id\":\"1947\",\"type\":\"Range1d\"},{\"attributes\":{},\"id\":\"1954\",\"type\":\"LinearScale\"},{\"attributes\":{},\"id\":\"1992\",\"type\":\"BasicTickFormatter\"},{\"attributes\":{},\"id\":\"1963\",\"type\":\"BasicTicker\"},{\"attributes\":{\"axis\":{\"id\":\"1958\"},\"coordinates\":null,\"grid_line_color\":null,\"group\":null,\"ticker\":null},\"id\":\"1961\",\"type\":\"Grid\"},{\"attributes\":{\"bottom_units\":\"screen\",\"coordinates\":null,\"fill_alpha\":0.5,\"fill_color\":\"lightgrey\",\"group\":null,\"left_units\":\"screen\",\"level\":\"overlay\",\"line_alpha\":1.0,\"line_color\":\"black\",\"line_dash\":[4,4],\"line_width\":2,\"right_units\":\"screen\",\"syncable\":false,\"top_units\":\"screen\"},\"id\":\"1971\",\"type\":\"BoxAnnotation\"},{\"attributes\":{},\"id\":\"1956\",\"type\":\"LinearScale\"},{\"attributes\":{\"overlay\":{\"id\":\"1971\"}},\"id\":\"1969\",\"type\":\"BoxZoomTool\"},{\"attributes\":{\"axis\":{\"id\":\"1962\"},\"coordinates\":null,\"dimension\":1,\"grid_line_color\":null,\"group\":null,\"ticker\":null},\"id\":\"1965\",\"type\":\"Grid\"},{\"attributes\":{\"axis_label\":\"k\",\"coordinates\":null,\"formatter\":{\"id\":\"1989\"},\"group\":null,\"major_label_policy\":{\"id\":\"1990\"},\"ticker\":{\"id\":\"1959\"}},\"id\":\"1958\",\"type\":\"LinearAxis\"},{\"attributes\":{},\"id\":\"1993\",\"type\":\"AllLabels\"},{\"attributes\":{},\"id\":\"2005\",\"type\":\"UnionRenderers\"},{\"attributes\":{\"axis_label\":\"inertia\",\"coordinates\":null,\"formatter\":{\"id\":\"1992\"},\"group\":null,\"major_label_policy\":{\"id\":\"1993\"},\"ticker\":{\"id\":\"1963\"}},\"id\":\"1962\",\"type\":\"LinearAxis\"},{\"attributes\":{},\"id\":\"1989\",\"type\":\"BasicTickFormatter\"},{\"attributes\":{\"source\":{\"id\":\"1979\"}},\"id\":\"1986\",\"type\":\"CDSView\"},{\"attributes\":{\"below\":[{\"id\":\"1958\"}],\"center\":[{\"id\":\"1961\"},{\"id\":\"1965\"}],\"height\":300,\"left\":[{\"id\":\"1962\"}],\"margin\":[5,5,5,5],\"min_border_bottom\":10,\"min_border_left\":10,\"min_border_right\":10,\"min_border_top\":10,\"renderers\":[{\"id\":\"1985\"}],\"sizing_mode\":\"fixed\",\"title\":{\"id\":\"1950\"},\"toolbar\":{\"id\":\"1972\"},\"width\":700,\"x_range\":{\"id\":\"1946\"},\"x_scale\":{\"id\":\"1954\"},\"y_range\":{\"id\":\"1947\"},\"y_scale\":{\"id\":\"1956\"}},\"id\":\"1949\",\"subtype\":\"Figure\",\"type\":\"Plot\"},{\"attributes\":{\"line_alpha\":0.2,\"line_color\":\"#30a2da\",\"line_width\":2,\"x\":{\"field\":\"k\"},\"y\":{\"field\":\"inertia\"}},\"id\":\"1984\",\"type\":\"Line\"},{\"attributes\":{\"active_drag\":{\"id\":\"1967\"},\"active_scroll\":{\"id\":\"1968\"},\"tools\":[{\"id\":\"1948\"},{\"id\":\"1966\"},{\"id\":\"1967\"},{\"id\":\"1968\"},{\"id\":\"1969\"},{\"id\":\"1970\"}]},\"id\":\"1972\",\"type\":\"Toolbar\"},{\"attributes\":{\"end\":10.0,\"reset_end\":10.0,\"reset_start\":1.0,\"start\":1.0,\"tags\":[[[\"k\",\"k\",null]]]},\"id\":\"1946\",\"type\":\"Range1d\"},{\"attributes\":{\"line_alpha\":0.1,\"line_color\":\"#30a2da\",\"line_width\":2,\"x\":{\"field\":\"k\"},\"y\":{\"field\":\"inertia\"}},\"id\":\"1983\",\"type\":\"Line\"},{\"attributes\":{},\"id\":\"1966\",\"type\":\"SaveTool\"},{\"attributes\":{},\"id\":\"1990\",\"type\":\"AllLabels\"},{\"attributes\":{},\"id\":\"1967\",\"type\":\"PanTool\"},{\"attributes\":{},\"id\":\"1980\",\"type\":\"Selection\"},{\"attributes\":{\"line_color\":\"#30a2da\",\"line_width\":2,\"x\":{\"field\":\"k\"},\"y\":{\"field\":\"inertia\"}},\"id\":\"1982\",\"type\":\"Line\"},{\"attributes\":{\"line_color\":\"#30a2da\",\"line_width\":2,\"x\":{\"field\":\"k\"},\"y\":{\"field\":\"inertia\"}},\"id\":\"1987\",\"type\":\"Line\"},{\"attributes\":{},\"id\":\"1970\",\"type\":\"ResetTool\"},{\"attributes\":{},\"id\":\"1968\",\"type\":\"WheelZoomTool\"},{\"attributes\":{\"children\":[{\"id\":\"1949\"}],\"height\":300,\"margin\":[0,0,0,0],\"name\":\"Row01599\",\"sizing_mode\":\"fixed\",\"tags\":[\"embedded\"],\"width\":700},\"id\":\"1945\",\"type\":\"Row\"}],\"root_ids\":[\"1945\"]},\"title\":\"Bokeh Application\",\"version\":\"2.4.3\"}};\n",
       "    var render_items = [{\"docid\":\"d35dd93b-0b17-47d1-9db9-a146e2304775\",\"root_ids\":[\"1945\"],\"roots\":{\"1945\":\"ee44cbd5-1a49-4bcc-9c73-c17faf9ba780\"}}];\n",
       "    root.Bokeh.embed.embed_items_notebook(docs_json, render_items);\n",
       "    for (const render_item of render_items) {\n",
       "      for (const root_id of render_item.root_ids) {\n",
       "\tconst id_el = document.getElementById(root_id)\n",
       "\tif (id_el.children.length && (id_el.children[0].className === 'bk-root')) {\n",
       "\t  const root_el = id_el.children[0]\n",
       "\t  root_el.id = root_el.id + '-rendered'\n",
       "\t}\n",
       "      }\n",
       "    }\n",
       "  }\n",
       "  if (root.Bokeh !== undefined && root.Bokeh.Panel !== undefined) {\n",
       "    embed_document(root);\n",
       "  } else {\n",
       "    var attempts = 0;\n",
       "    var timer = setInterval(function(root) {\n",
       "      if (root.Bokeh !== undefined && root.Bokeh.Panel !== undefined) {\n",
       "        clearInterval(timer);\n",
       "        embed_document(root);\n",
       "      } else if (document.readyState == \"complete\") {\n",
       "        attempts++;\n",
       "        if (attempts > 200) {\n",
       "          clearInterval(timer);\n",
       "          console.log(\"Bokeh: ERROR: Unable to run BokehJS code because BokehJS library is missing\");\n",
       "        }\n",
       "      }\n",
       "    }, 25, root)\n",
       "  }\n",
       "})(window);</script>"
      ],
      "text/plain": [
       ":Curve   [k]   (inertia)"
      ]
     },
     "execution_count": 21,
     "metadata": {
      "application/vnd.holoviews_exec.v0+json": {
       "id": "1945"
      }
     },
     "output_type": "execute_result"
    }
   ],
   "source": [
    "df.hvplot(x=\"k\",y=\"inertia\")"
   ]
  },
  {
   "cell_type": "code",
   "execution_count": 22,
   "id": "632c1516",
   "metadata": {},
   "outputs": [],
   "source": [
    "model = KMeans(n_clusters=3)"
   ]
  },
  {
   "cell_type": "code",
   "execution_count": 24,
   "id": "52dbfdc6",
   "metadata": {},
   "outputs": [
    {
     "data": {
      "text/plain": [
       "KMeans(n_clusters=3)"
      ]
     },
     "execution_count": 24,
     "metadata": {},
     "output_type": "execute_result"
    }
   ],
   "source": [
    "model.fit(spread_df)"
   ]
  },
  {
   "cell_type": "code",
   "execution_count": 25,
   "id": "4a88cb5f",
   "metadata": {},
   "outputs": [],
   "source": [
    "predictions = model.predict(spread_df)"
   ]
  },
  {
   "cell_type": "code",
   "execution_count": 26,
   "id": "e38c463b",
   "metadata": {},
   "outputs": [],
   "source": [
    "spread_df['classification'] = predictions"
   ]
  },
  {
   "cell_type": "code",
   "execution_count": 27,
   "id": "6defe973",
   "metadata": {},
   "outputs": [
    {
     "data": {
      "text/html": [
       "<div>\n",
       "<style scoped>\n",
       "    .dataframe tbody tr th:only-of-type {\n",
       "        vertical-align: middle;\n",
       "    }\n",
       "\n",
       "    .dataframe tbody tr th {\n",
       "        vertical-align: top;\n",
       "    }\n",
       "\n",
       "    .dataframe thead th {\n",
       "        text-align: right;\n",
       "    }\n",
       "</style>\n",
       "<table border=\"1\" class=\"dataframe\">\n",
       "  <thead>\n",
       "    <tr style=\"text-align: right;\">\n",
       "      <th></th>\n",
       "      <th>close</th>\n",
       "      <th>volume</th>\n",
       "      <th>open</th>\n",
       "      <th>high</th>\n",
       "      <th>low</th>\n",
       "      <th>returns</th>\n",
       "      <th>hi_low_spread</th>\n",
       "      <th>classification</th>\n",
       "    </tr>\n",
       "  </thead>\n",
       "  <tbody>\n",
       "    <tr>\n",
       "      <th>0</th>\n",
       "      <td>3.61</td>\n",
       "      <td>18193730</td>\n",
       "      <td>3.55</td>\n",
       "      <td>3.73</td>\n",
       "      <td>3.53</td>\n",
       "      <td>0.028490</td>\n",
       "      <td>0.20</td>\n",
       "      <td>0</td>\n",
       "    </tr>\n",
       "    <tr>\n",
       "      <th>1</th>\n",
       "      <td>3.82</td>\n",
       "      <td>16233940</td>\n",
       "      <td>3.55</td>\n",
       "      <td>3.90</td>\n",
       "      <td>3.55</td>\n",
       "      <td>0.058172</td>\n",
       "      <td>0.35</td>\n",
       "      <td>0</td>\n",
       "    </tr>\n",
       "    <tr>\n",
       "      <th>2</th>\n",
       "      <td>4.26</td>\n",
       "      <td>21236940</td>\n",
       "      <td>3.90</td>\n",
       "      <td>4.30</td>\n",
       "      <td>3.83</td>\n",
       "      <td>0.115183</td>\n",
       "      <td>0.47</td>\n",
       "      <td>0</td>\n",
       "    </tr>\n",
       "    <tr>\n",
       "      <th>3</th>\n",
       "      <td>4.32</td>\n",
       "      <td>16369170</td>\n",
       "      <td>4.36</td>\n",
       "      <td>4.39</td>\n",
       "      <td>4.11</td>\n",
       "      <td>0.014085</td>\n",
       "      <td>0.28</td>\n",
       "      <td>0</td>\n",
       "    </tr>\n",
       "    <tr>\n",
       "      <th>4</th>\n",
       "      <td>4.31</td>\n",
       "      <td>15075630</td>\n",
       "      <td>4.45</td>\n",
       "      <td>4.45</td>\n",
       "      <td>4.12</td>\n",
       "      <td>-0.002315</td>\n",
       "      <td>0.33</td>\n",
       "      <td>0</td>\n",
       "    </tr>\n",
       "  </tbody>\n",
       "</table>\n",
       "</div>"
      ],
      "text/plain": [
       "   close    volume  open  high   low   returns  hi_low_spread  classification\n",
       "0   3.61  18193730  3.55  3.73  3.53  0.028490           0.20               0\n",
       "1   3.82  16233940  3.55  3.90  3.55  0.058172           0.35               0\n",
       "2   4.26  21236940  3.90  4.30  3.83  0.115183           0.47               0\n",
       "3   4.32  16369170  4.36  4.39  4.11  0.014085           0.28               0\n",
       "4   4.31  15075630  4.45  4.45  4.12 -0.002315           0.33               0"
      ]
     },
     "execution_count": 27,
     "metadata": {},
     "output_type": "execute_result"
    }
   ],
   "source": [
    "spread_df.head(5)"
   ]
  },
  {
   "cell_type": "code",
   "execution_count": 31,
   "id": "1a40044b",
   "metadata": {},
   "outputs": [
    {
     "data": {},
     "metadata": {},
     "output_type": "display_data"
    },
    {
     "data": {
      "application/vnd.holoviews_exec.v0+json": "",
      "text/html": [
       "<div id='2411'>\n",
       "  <div class=\"bk-root\" id=\"b7882d11-72f5-4ca2-8bed-0297f37763c7\" data-root-id=\"2411\"></div>\n",
       "</div>\n",
       "<script type=\"application/javascript\">(function(root) {\n",
       "  function embed_document(root) {\n",
       "    var docs_json = {\"feddeb33-382c-4d8b-a0b3-0627a9559c37\":{\"defs\":[{\"extends\":null,\"module\":null,\"name\":\"ReactiveHTML1\",\"overrides\":[],\"properties\":[]},{\"extends\":null,\"module\":null,\"name\":\"FlexBox1\",\"overrides\":[],\"properties\":[{\"default\":\"flex-start\",\"kind\":null,\"name\":\"align_content\"},{\"default\":\"flex-start\",\"kind\":null,\"name\":\"align_items\"},{\"default\":\"row\",\"kind\":null,\"name\":\"flex_direction\"},{\"default\":\"wrap\",\"kind\":null,\"name\":\"flex_wrap\"},{\"default\":\"flex-start\",\"kind\":null,\"name\":\"justify_content\"}]},{\"extends\":null,\"module\":null,\"name\":\"GridStack1\",\"overrides\":[],\"properties\":[{\"default\":\"warn\",\"kind\":null,\"name\":\"mode\"},{\"default\":null,\"kind\":null,\"name\":\"ncols\"},{\"default\":null,\"kind\":null,\"name\":\"nrows\"},{\"default\":true,\"kind\":null,\"name\":\"allow_resize\"},{\"default\":true,\"kind\":null,\"name\":\"allow_drag\"},{\"default\":[],\"kind\":null,\"name\":\"state\"}]},{\"extends\":null,\"module\":null,\"name\":\"click1\",\"overrides\":[],\"properties\":[{\"default\":\"\",\"kind\":null,\"name\":\"terminal_output\"},{\"default\":\"\",\"kind\":null,\"name\":\"debug_name\"},{\"default\":0,\"kind\":null,\"name\":\"clears\"}]},{\"extends\":null,\"module\":null,\"name\":\"NotificationAreaBase1\",\"overrides\":[],\"properties\":[{\"default\":\"bottom-right\",\"kind\":null,\"name\":\"position\"},{\"default\":0,\"kind\":null,\"name\":\"_clear\"}]},{\"extends\":null,\"module\":null,\"name\":\"NotificationArea1\",\"overrides\":[],\"properties\":[{\"default\":[],\"kind\":null,\"name\":\"notifications\"},{\"default\":\"bottom-right\",\"kind\":null,\"name\":\"position\"},{\"default\":0,\"kind\":null,\"name\":\"_clear\"},{\"default\":[{\"background\":\"#ffc107\",\"icon\":{\"className\":\"fas fa-exclamation-triangle\",\"color\":\"white\",\"tagName\":\"i\"},\"type\":\"warning\"},{\"background\":\"#007bff\",\"icon\":{\"className\":\"fas fa-info-circle\",\"color\":\"white\",\"tagName\":\"i\"},\"type\":\"info\"}],\"kind\":null,\"name\":\"types\"}]},{\"extends\":null,\"module\":null,\"name\":\"Notification\",\"overrides\":[],\"properties\":[{\"default\":null,\"kind\":null,\"name\":\"background\"},{\"default\":3000,\"kind\":null,\"name\":\"duration\"},{\"default\":null,\"kind\":null,\"name\":\"icon\"},{\"default\":\"\",\"kind\":null,\"name\":\"message\"},{\"default\":null,\"kind\":null,\"name\":\"notification_type\"},{\"default\":false,\"kind\":null,\"name\":\"_destroyed\"}]},{\"extends\":null,\"module\":null,\"name\":\"TemplateActions1\",\"overrides\":[],\"properties\":[{\"default\":0,\"kind\":null,\"name\":\"open_modal\"},{\"default\":0,\"kind\":null,\"name\":\"close_modal\"}]},{\"extends\":null,\"module\":null,\"name\":\"MaterialTemplateActions1\",\"overrides\":[],\"properties\":[{\"default\":0,\"kind\":null,\"name\":\"open_modal\"},{\"default\":0,\"kind\":null,\"name\":\"close_modal\"}]}],\"roots\":{\"references\":[{\"attributes\":{\"axis_label\":\"classification\",\"coordinates\":null,\"formatter\":{\"id\":\"2458\"},\"group\":null,\"major_label_policy\":{\"id\":\"2459\"},\"ticker\":{\"id\":\"2429\"}},\"id\":\"2428\",\"type\":\"LinearAxis\"},{\"attributes\":{\"axis_label\":\"volume\",\"coordinates\":null,\"formatter\":{\"id\":\"2455\"},\"group\":null,\"major_label_policy\":{\"id\":\"2456\"},\"ticker\":{\"id\":\"2425\"}},\"id\":\"2424\",\"type\":\"LinearAxis\"},{\"attributes\":{\"fill_alpha\":{\"value\":0.2},\"fill_color\":{\"value\":\"#30a2da\"},\"hatch_alpha\":{\"value\":0.2},\"hatch_color\":{\"value\":\"#30a2da\"},\"line_alpha\":{\"value\":0.2},\"line_color\":{\"value\":\"#30a2da\"},\"size\":{\"value\":5.477225575051661},\"x\":{\"field\":\"volume\"},\"y\":{\"field\":\"classification\"}},\"id\":\"2450\",\"type\":\"Scatter\"},{\"attributes\":{\"axis\":{\"id\":\"2428\"},\"coordinates\":null,\"dimension\":1,\"grid_line_color\":null,\"group\":null,\"ticker\":null},\"id\":\"2431\",\"type\":\"Grid\"},{\"attributes\":{\"source\":{\"id\":\"2445\"}},\"id\":\"2452\",\"type\":\"CDSView\"},{\"attributes\":{\"active_drag\":{\"id\":\"2433\"},\"active_scroll\":{\"id\":\"2434\"},\"tools\":[{\"id\":\"2414\"},{\"id\":\"2432\"},{\"id\":\"2433\"},{\"id\":\"2434\"},{\"id\":\"2435\"},{\"id\":\"2436\"}]},\"id\":\"2438\",\"type\":\"Toolbar\"},{\"attributes\":{},\"id\":\"2456\",\"type\":\"AllLabels\"},{\"attributes\":{\"below\":[{\"id\":\"2424\"}],\"center\":[{\"id\":\"2427\"},{\"id\":\"2431\"}],\"height\":300,\"left\":[{\"id\":\"2428\"}],\"margin\":[5,5,5,5],\"min_border_bottom\":10,\"min_border_left\":10,\"min_border_right\":10,\"min_border_top\":10,\"renderers\":[{\"id\":\"2451\"}],\"sizing_mode\":\"fixed\",\"title\":{\"id\":\"2416\"},\"toolbar\":{\"id\":\"2438\"},\"width\":700,\"x_range\":{\"id\":\"2412\"},\"x_scale\":{\"id\":\"2420\"},\"y_range\":{\"id\":\"2413\"},\"y_scale\":{\"id\":\"2422\"}},\"id\":\"2415\",\"subtype\":\"Figure\",\"type\":\"Plot\"},{\"attributes\":{\"fill_color\":{\"value\":\"#30a2da\"},\"hatch_color\":{\"value\":\"#30a2da\"},\"line_color\":{\"value\":\"#30a2da\"},\"size\":{\"value\":5.477225575051661},\"x\":{\"field\":\"volume\"},\"y\":{\"field\":\"classification\"}},\"id\":\"2448\",\"type\":\"Scatter\"},{\"attributes\":{},\"id\":\"2455\",\"type\":\"BasicTickFormatter\"},{\"attributes\":{\"callback\":null,\"renderers\":[{\"id\":\"2451\"}],\"tags\":[\"hv_created\"],\"tooltips\":[[\"volume\",\"@{volume}\"],[\"classification\",\"@{classification}\"]]},\"id\":\"2414\",\"type\":\"HoverTool\"},{\"attributes\":{},\"id\":\"2446\",\"type\":\"Selection\"},{\"attributes\":{},\"id\":\"2432\",\"type\":\"SaveTool\"},{\"attributes\":{},\"id\":\"2433\",\"type\":\"PanTool\"},{\"attributes\":{},\"id\":\"2459\",\"type\":\"AllLabels\"},{\"attributes\":{},\"id\":\"2436\",\"type\":\"ResetTool\"},{\"attributes\":{},\"id\":\"2434\",\"type\":\"WheelZoomTool\"},{\"attributes\":{},\"id\":\"2471\",\"type\":\"UnionRenderers\"},{\"attributes\":{\"data\":{\"classification\":{\"__ndarray__\":\"AAAAAAAAAAAAAAAAAAAAAAAAAAAAAAAAAAAAAAAAAAAAAAAAAAAAAAAAAAAAAAAAAAAAAAAAAAAAAAAAAAAAAAAAAAAAAAAAAAAAAAAAAAAAAAAAAAAAAAAAAAAAAAAAAAAAAAAAAAAAAAAAAAAAAAAAAAAAAAAAAAAAAAAAAAAAAAAAAAAAAAAAAAAAAAAAAAAAAAAAAAAAAAAAAAAAAAAAAAAAAAAAAAAAAAAAAAAAAAAAAAAAAAAAAAAAAAAAAAAAAAAAAAAAAAAAAAAAAAAAAAAAAAAAAAAAAAAAAAABAAAAAQAAAAAAAAAAAAAAAAAAAAAAAAAAAAAAAAAAAAAAAAAAAAAAAAAAAAAAAAAAAAAAAAAAAAAAAAAAAAAAAAAAAAAAAAAAAAAAAAAAAAAAAAAAAAAAAAAAAAAAAAABAAAAAAAAAAAAAAAAAAAAAQAAAAAAAAAAAAAAAAAAAAAAAAAAAAAAAQAAAAEAAAAAAAAAAQAAAAAAAAAAAAAAAQAAAAAAAAAAAAAAAAAAAAAAAAAAAAAAAAAAAAAAAAAAAAAAAAAAAAAAAAABAAAAAAAAAAAAAAAAAAAAAAAAAAAAAAAAAAAAAAAAAAAAAAAAAAAAAAAAAAEAAAAAAAAAAAAAAAAAAAAAAAAAAAAAAAAAAAAAAAAAAAAAAAAAAAAAAAAAAAAAAAAAAAAAAAAAAAAAAAAAAAAAAAAAAAAAAAAAAAACAAAAAQAAAAEAAAAAAAAAAQAAAAEAAAAAAAAAAAAAAAAAAAAAAAAAAAAAAAAAAAAAAAAAAAAAAAEAAAABAAAAAQAAAAEAAAAAAAAAAAAAAAAAAAAAAAAAAAAAAAEAAAAAAAAAAAAAAAAAAAAAAAAAAAAAAAAAAAAAAAAAAAAAAAAAAAAAAAAAAAAAAAAAAAAAAAAAAAAAAAAAAAAAAAAAAAAAAAAAAAAAAAAAAAAAAAAAAAAAAAAAAAAAAAEAAAAAAAAAAAAAAAAAAAAAAAAAAAAAAAAAAAAAAAAAAAAAAAAAAAAAAAAAAAAAAAAAAAAAAAAAAAAAAAAAAAAAAAAAAAAAAAAAAAAAAAAAAAAAAAAAAAAAAAAAAAAAAAAAAAAAAAAAAAAAAAAAAAAAAAAAAAAAAAAAAAAAAAAAAAAAAAAAAAAAAAAAAAAAAAAAAAAAAAAAAAAAAAAAAAAAAAAAAAAAAAAAAAAAAAAAAAAAAAAAAAAAAAAAAAAAAAAAAAAAAAAAAAAAAAAAAAAAAAAAAAAAAAAAAAAAAAAAAAAAAAEAAAABAAAAAAAAAAAAAAAAAAAAAAAAAAAAAAAAAAAAAAAAAAAAAAAAAAAAAAAAAAAAAAABAAAAAAAAAAEAAAABAAAAAAAAAAEAAAAAAAAAAAAAAAEAAAAAAAAAAAAAAAAAAAAAAAAAAAAAAAAAAAAAAAAAAAAAAAAAAAAAAAAAAAAAAAAAAAAAAAAAAAAAAAAAAAAAAAAAAAAAAAAAAAAAAAAAAAAAAAAAAAAAAAAAAAAAAAAAAAAAAAAAAAAAAAAAAAAAAAAAAAAAAAAAAAABAAAAAAAAAAAAAAAAAAAAAAAAAAAAAAAAAAAAAAAAAAAAAAAAAAAAAQAAAAEAAAABAAAAAAAAAAAAAAAAAAAAAAAAAAAAAAAAAAAAAAAAAAAAAAAAAAAAAAAAAAAAAAAAAAAAAAAAAAAAAAAAAAAAAAAAAAEAAAABAAAAAQAAAAAAAAAAAAAAAAAAAAAAAAAAAAAAAAAAAAAAAAAAAAAAAAAAAAAAAAABAAAAAAAAAAAAAAAAAAAAAAAAAAAAAAAAAAAAAAAAAAAAAAAAAAAAAQAAAAAAAAAAAAAAAAAAAAAAAAAAAAAAAAAAAAAAAAAAAAAAAQAAAAEAAAAAAAAAAQAAAAAAAAAAAAAAAAAAAAAAAAAAAAAAAAAAAAAAAAAAAAAAAAAAAAAAAAAAAAAAAAAAAAAAAAAAAAAAAQAAAAAAAAAAAAAAAAAAAAAAAAAAAAAAAAAAAAAAAAAAAAAAAAAAAAAAAAAAAAAAAAAAAAAAAAABAAAAAAAAAAAAAAAAAAAAAAAAAAAAAAAAAAAAAAAAAAAAAAAAAAAAAAAAAAAAAAAAAAAAAAAAAAAAAAAAAAAAAAAAAAAAAAAAAAAAAAAAAAAAAAAAAAAAAAAAAAAAAAAAAAAAAAAAAAAAAAAAAAAAAAAAAAAAAAAAAAAAAAAAAAAAAAAAAAAAAAAAAAAAAAAAAAAAAAAAAAAAAAAAAAAAAAAAAAAAAAABAAAAAQAAAAAAAAAAAAAAAAAAAAAAAAAAAAAAAAAAAAEAAAAAAAAAAAAAAAAAAAAAAAAAAAAAAAEAAAAAAAAAAAAAAAAAAAAAAAAAAAAAAAAAAAAAAAAAAAAAAAAAAAAAAAAAAAAAAAEAAAABAAAAAAAAAAAAAAAAAAAAAAAAAAAAAAAAAAAAAAAAAAAAAAAAAAAAAAAAAAAAAAAAAAAAAAAAAAAAAAAAAAAAAAAAAAAAAAAAAAAAAAAAAAAAAAAAAAAAAAAAAAAAAAAAAAAAAAAAAAAAAAAAAAAAAAAAAAAAAAAAAAAAAAAAAAAAAAAAAAAAAAAAAAAAAAAAAAAAAAAAAAAAAAAAAAAAAAAAAAAAAAAAAAAAAAAAAAAAAAAAAAAAAAAAAAAAAAAAAAAAAAAAAAAAAAAAAAAAAAAAAAAAAAAAAAAAAAAAAAAAAAAAAAAAAAAAAAAAAAAAAAAAAAAAAAAAAAAAAAAAAAAAAAAAAAAAAAAAAAAAAAAAAAAAAAAAAAAAAAAAAAAAAAAAAAAAAAAAAAAAAAAAAAAAAAAAAAAAAAAAAAAAAAAAAAAAAAAAAQAAAAAAAAAAAAAAAAAAAAAAAAAAAAAAAAAAAAAAAAAAAAAAAAAAAAAAAAAAAAAAAAAAAAAAAAAAAAAAAAAAAAAAAAAAAAAAAAAAAAAAAAAAAAAAAAAAAAAAAAAAAAAAAAAAAAEAAAAAAAAAAAAAAAAAAAAAAAAAAAAAAAAAAAAAAAAAAAAAAAAAAAAAAAAAAQAAAAAAAAAAAAAAAAAAAAAAAAAAAAAAAAAAAAAAAAAAAAAAAAAAAAAAAAAAAAAAAAAAAAAAAAAAAAAAAAAAAAAAAAAAAAAAAAAAAAAAAAAAAAAAAAAAAAAAAAAAAAAAAAAAAAAAAAAAAAAAAAAAAAAAAAAAAAAAAAAAAAAAAAABAAAAAAAAAAAAAAAAAAAAAAAAAAEAAAAAAAAAAAAAAAAAAAAAAAAAAAAAAAAAAAAAAAAAAAAAAAAAAAAAAAAAAAAAAAAAAAAAAAAAAAAAAAAAAAAAAAAAAAAAAAAAAAAAAAAAAQAAAAEAAAAAAAAAAQAAAAAAAAAAAAAAAAAAAAAAAAAAAAAAAAAAAAAAAAAAAAAAAAAAAAAAAAAAAAAAAAAAAAAAAAAAAAAAAAAAAAAAAAAAAAAAAAAAAAAAAAAAAAAAAAAAAAAAAAAAAAAAAAAAAAAAAAAAAAAAAAAAAAAAAAAAAAAAAAAAAAAAAAAAAAAAAAAAAAAAAAAAAAAAAAAAAAAAAAAAAAAAAAAAAAAAAAAAAAAAAAAAAAAAAAAAAAAAAAAAAAAAAAAAAAAAAAAAAAAAAAAAAAAAAAAAAAAAAAAAAAAAAAAAAAAAAAAAAAAAAAAAAAAAAAAAAAAAAAAAAAAAAAAAAAAAAAAAAAAAAAAAAAAAAAAAAAAAAAAAAAAAAAAAAAAAAAAAAAAAAAAAAAAAAAAAAAAAAAAAAAAAAAAAAAAAAAAAAAAAAAAAAAAAAAAAAAAAAAAAAAAAAAAAAAAAAAAAAAAAAAAAAAAAAAAAAAAAAAAAAAAAAAAAAAAAAAAAAAAAAAAAAAAAAAAAAAAAAAAAAAAAAAAAAAAAAAAAAAAAAAAAAAAAAAAAAAAAAAAAAAAAAAAAAAAAAAAAAAAAAAAAAAAAAAAAAAAAAAAAAAAAAAAAAAAAAAAAAAAAAAAAAAAAAAAAAAAAAAAAAAAAAAAAAAAAAAAAAAAAAAAAAAAAAAAAAAAAAAAAAAAAAAAAAAAAAAAAAAAAAAAAAAAAAAAAAAAAAAAAAAAAAAAAAAAAAAAAAAAAAAAAAAAAAAAAAAAAAAAAAAAAAAAAAAAAAAAAAAAAAAAAAAAAAAAAAAAAAAAAAAAAAAAAAAAAAAAAAAAAAAAAAAAAAAAAAAAAAAAAAAAAAAAAAAAAAAAAAAAAAAAAAAAAAAAAAAAAAAAAAAAAAAAAAAAAAAAAAAAAAAAAAAAAAAAAAAEAAAAAAAAAAAAAAAAAAAAAAAAAAAAAAAAAAAAAAAAAAQAAAAAAAAAAAAAAAAAAAAAAAAAAAAAAAAAAAAAAAAAAAAAAAAAAAAAAAAAAAAAAAAAAAAEAAAAAAAAAAAAAAAAAAAAAAAAAAAAAAAAAAAAAAAAAAAAAAAAAAAAAAAAAAAAAAAAAAAAAAAAAAAAAAAAAAAAAAAAAAAAAAAAAAAAAAAAAAAAAAAAAAAAAAAAAAAAAAAEAAAAAAAAAAAAAAAEAAAABAAAAAAAAAAAAAAAAAAAAAAAAAAAAAAAAAAAAAAAAAAAAAAAAAAAAAAAAAAAAAAAAAAAAAAAAAAAAAAAAAAAAAAAAAAAAAAABAAAAAAAAAAAAAAAAAAAAAAAAAAIAAAAAAAAAAAAAAAAAAAAAAAAAAAAAAAAAAAAAAAAAAAAAAAAAAAAAAAAAAAAAAAAAAAAAAAAAAAAAAAEAAAAAAAAAAAAAAAAAAAAAAAAAAAAAAAAAAAAAAAAAAAAAAAAAAAAAAAAAAQAAAAEAAAABAAAAAQAAAAAAAAAAAAAAAAAAAAAAAAAAAAAAAAAAAAAAAAAAAAAAAAAAAAAAAAAAAAAAAAAAAAAAAAAAAAAAAAAAAAAAAAAAAAAAAAAAAAAAAAAAAAAAAAAAAAAAAAAAAAAAAAAAAAAAAAAAAAAAAAAAAAAAAAAAAAAAAAAAAAEAAAAAAAAAAQAAAAAAAAAAAAAAAAAAAAAAAAAAAAAAAAAAAAAAAAAAAAAAAAAAAAAAAAAAAAAAAAAAAAAAAAAAAAAAAAAAAAAAAAAAAAAAAAAAAAAAAAAAAAAAAAAAAAAAAAAAAAAAAAAAAAAAAAAAAAAAAAAAAAAAAAAAAAAAAAAAAAAAAAAAAAAAAAAAAAAAAAAAAAAAAAAAAAAAAAAAAAAAAAAAAAAAAAAAAAAAAAAAAAAAAAAAAAAAAAAAAAAAAAAAAAAAAAAAAAAAAAAAAAAAAQAAAAAAAAAAAAAAAAAAAAAAAAAAAAAAAAAAAAAAAAAAAAAAAAAAAAAAAAAAAAAAAAAAAAAAAAAAAAAAAAAAAAAAAAABAAAAAQAAAAEAAAABAAAAAAAAAAEAAAABAAAAAAAAAAEAAAABAAAAAAAAAAEAAAAAAAAAAAAAAAAAAAAAAAAAAAAAAAAAAAAAAAAAAAAAAAAAAAAAAAAAAAAAAAAAAAAAAAAAAAAAAAAAAAAAAAAAAAAAAAAAAAAAAAAAAAAAAAAAAAAAAAAAAAAAAAAAAAAAAAAAAAAAAAAAAAAAAAAAAAAAAAAAAAAAAAAAAAAAAAAAAAAAAAAAAAAAAAAAAAAAAAAAAgAAAAEAAAAAAAAAAAAAAAAAAAABAAAAAgAAAAEAAAABAAAAAQAAAAAAAAABAAAAAAAAAAAAAAAAAAAAAAAAAAAAAAAAAAAAAAAAAAAAAAAAAAAAAAAAAAAAAAAAAAAAAAAAAAAAAAAAAAAAAAAAAAAAAAAAAAAAAAAAAAAAAAAAAAAAAQAAAAAAAAAAAAAAAAAAAAAAAAAAAAAAAAAAAAAAAAAAAAAAAAAAAAAAAAAAAAAAAAAAAAAAAAAAAAAAAAAAAAAAAAABAAAAAAAAAAAAAAAAAAAAAAAAAAAAAAAAAAAAAAAAAAAAAAAAAAAAAAAAAAAAAAAAAAAAAAAAAAAAAAAAAAAAAQAAAAEAAAAAAAAAAQAAAAIAAAABAAAAAQAAAAEAAAABAAAAAQAAAAAAAAAAAAAAAAAAAAAAAAAAAAAAAAAAAAAAAAAAAAAAAAAAAAAAAAAAAAAAAAAAAAAAAAAAAAAAAAAAAAAAAAAAAAAAAAAAAAAAAAAAAAAAAAAAAAAAAAAAAAAAAAAAAAAAAAAAAAAAAAAAAAAAAAAAAAAAAAAAAAAAAAAAAAAAAAAAAAAAAAAAAAAAAAAAAAAAAAAAAAAAAAAAAAAAAAAAAAAAAAAAAAAAAAAAAAAAAAAAAAAAAAAAAAAAAQAAAAEAAAAAAAAAAAAAAAAAAAAAAAAAAQAAAAEAAAABAAAAAQAAAAEAAAABAAAAAAAAAAEAAAAAAAAAAAAAAAAAAAAAAAAAAAAAAAAAAAAAAAAAAAAAAAAAAAAAAAAAAAAAAAAAAAAAAAAAAAAAAAAAAAAAAAAAAAAAAAAAAAAAAAAAAAAAAAAAAAAAAAAAAAAAAAAAAAAAAAAAAAAAAAAAAAAAAAAAAQAAAAEAAAAAAAAAAAAAAAAAAAAAAAAAAAAAAAAAAAAAAAAAAAAAAAAAAAAAAAAAAAAAAAAAAAAAAAAAAAAAAAAAAAAAAAAAAAAAAAAAAAAAAAAAAAAAAAAAAAAAAAAAAAAAAAAAAAAAAAAAAAAAAAAAAAAAAAAAAQAAAAEAAAAAAAAAAAAAAAAAAAAAAAAAAAAAAAAAAAAAAAAAAAAAAAAAAAAAAAAAAAAAAAAAAAAAAAAAAAAAAAAAAAAAAAAAAAAAAAAAAAAAAAAAAAAAAAAAAAAAAAAAAAAAAAAAAAAAAAAAAAAAAAAAAAAAAAAAAAAAAAAAAAAAAAAAAAAAAAAAAAAAAAAAAAAAAAAAAAAAAAAAAAAAAAAAAAAAAAAAAAAAAAEAAAABAAAAAAAAAAAAAAAAAAAAAAAAAAAAAAAAAAAAAAAAAAAAAAAAAAAAAQAAAAAAAAAAAAAAAAAAAAEAAAACAAAAAQAAAAEAAAACAAAAAAAAAAAAAAAAAAAAAAAAAAAAAAAAAAAAAAAAAAEAAAACAAAAAAAAAAAAAAAAAAAAAAAAAAAAAAAAAAAAAAAAAAAAAAAAAAAAAAAAAAAAAAABAAAAAAAAAAAAAAAAAAAAAAAAAAAAAAAAAAAAAAAAAAAAAAAAAAAAAAAAAAAAAAAAAAAAAAAAAAAAAAAAAAAAAAAAAAAAAAAAAAAAAAAAAAAAAAAAAAAAAAAAAAAAAAAAAAAAAAAAAAAAAAAAAAAAAAAAAAAAAAABAAAAAAAAAAAAAAAAAAAAAAAAAAAAAAAAAAAAAQAAAAAAAAAAAAAAAAAAAAAAAAAAAAAAAQAAAAAAAAAAAAAAAAAAAAAAAAAAAAAAAAAAAAAAAAAAAAAAAAAAAAAAAAAAAAAAAAAAAAAAAAAAAAAAAAAAAAAAAAAAAAAAAAAAAAAAAAAAAAAAAAAAAAAAAAAAAAAAAAAAAAAAAAAAAAAAAAAAAAAAAAAAAAAAAAAAAAAAAAAAAAAAAAAAAAAAAAAAAAAAAAAAAAAAAAAAAAAAAAAAAAAAAAAAAAAAAAAAAAAAAAAAAAAAAAAAAAAAAAAAAAAAAAAAAAAAAAAAAAAAAAAAAAAAAAAAAAAAAAAAAAAAAAAAAAAAAAAAAAAAAAAAAAAAAAAAAAAAAAAAAAAAAQAAAAEAAAAAAAAAAAAAAAAAAAABAAAAAAAAAAAAAAAAAAAAAAAAAAAAAAAAAAAAAQAAAAAAAAAAAAAAAAAAAAAAAAAAAAAAAAAAAAAAAAAAAAAAAAAAAAAAAAAAAAAAAAAAAAAAAAAAAAAAAAAAAAAAAAAAAAAAAAAAAAAAAAAAAAAAAAAAAAAAAAAAAAAAAAAAAAAAAAAAAAAAAAAAAAAAAAAAAAAAAAAAAAAAAAAAAAAAAAAAAAAAAAAAAAAAAAAAAAAAAAAAAAAAAAAAAAAAAAAAAAAAAAAAAAAAAAAAAAAAAAAAAAAAAAAAAAAAAAAAAAEAAAAAAAAAAAAAAAAAAAAAAAAAAAAAAAAAAAAAAAAAAAAAAAAAAAAAAAAAAAAAAAAAAAAAAAAAAAAAAAAAAAAAAAAAAAAAAAAAAAAAAAAAAAAAAAAAAAAAAAAAAAAAAAAAAAAAAAAAAAAAAAAAAAAAAAAAAAAAAAAAAAAAAAAAAAAAAAAAAAAAAAAAAAAAAAAAAAAAAAAAAAAAAAAAAAAAAAAAAAAAAAAAAAAAAAAAAAAAAAAAAAAAAAAAAAAAAAAAAAABAAAAAAAAAAAAAAAAAAAAAAAAAAAAAAABAAAAAAAAAAAAAAAAAAAAAAAAAAAAAAAAAAAAAAAAAAAAAAAAAAAAAAAAAAAAAAAAAAAAAAAAAAAAAAAAAAAAAAAAAAAAAAAAAAAAAAAAAAAAAAAAAAAAAAAAAAAAAAAAAAAAAAAAAAAAAAAAAAAAAAAAAAAAAAAAAAAAAAAAAAAAAAAAAAAAAAAAAAAAAAAAAAAAAAAAAAAAAAAAAAAAAAAAAAAAAAAAAAAAAAAAAAAAAAAAAAAAAAAAAAAAAAAAAAAAAAAAAAAAAAAAAAAAAAAAAAAAAAAAAAAAAAAAAAAAAAAAAAAAAAAAAAAAAAAAAAAAAAAAAAAAAAAAAAAAAAAAAAAAAAAAAAAAAAAAAAAAAAAAAAAAAAAAAAAAAAAAAAAAAAAAAAAAAAAAAAAAAAAAAAAAAAAAAAAAAAAAAAAAAAAAAAAAAAAAAAAAAAAAAAAAAAAAAAAAAAAAAAAAAAAAAAAAAAAAAAAAAAAAAAAAAAAAAAAAAAAAAAAAAAAAAAAAAAAAAAAAAAAAAAAAAAAAAAAAAAAAAAAAAAAAAAAAAAAAAAAAAAAAAAAAAAAAAAAAAAAAAAAAAAAAAAAAAAAAAAAAAAAAAAAAAAAAAAAAAAAAAAAAAAAAAAAAAAAAAAAAAAAAAAAAAAAAAAAAAAAAAAAAAAAAAAAAAAAAAAAAAAAAAAAAAAAAAAAAAAAAAAAAAAAAAAAAAAAAAAAAAAAAAAAAAAAAAAAAAAAAAAAAAAAAAAAAAAAAAAAAAAAAAAAAAAAAAAAAAAAAAAAAAAAAAAAAAAAAAAAAAAAAAAAAAAAAAAAAAAAAAAAAAAAAAAAAAAAAAAAAAAAAAAAAAAAAAAAAAAAAAAAAAAAAAAAAAAAAAAAAAAAAAAAAAAAAAAAAAAAAAAAAAAAAAAAAAAAAAAAAAAAAAAAAAAAAAAAAAAAAAAAAAAAAAAAAAAAAAAAAAAAAAAAAAAAAAAAAAAAAAAAAAAAAAAAAAAAAAAAAAAAAAAAAAAAAAAAAAAAAAAAAAAAAAAAAAAAAAAAAAAAAAAAAAAAAAAAAAAAAAAAAAAACAAAAAQAAAAAAAAAAAAAAAAAAAAAAAAAAAAAAAAAAAAAAAAAAAAAAAAAAAAAAAAAAAAAAAAAAAAAAAAAAAAAAAAAAAAAAAAAAAAAAAAAAAAAAAAAAAAAAAAAAAAAAAAAAAAAAAAAAAAAAAAAAAAAAAAAAAAAAAAAAAAAAAAAAAAAAAAAAAAAAAAAAAAAAAAAAAAAAAAAAAAAAAAABAAAAAQAAAAAAAAABAAAAAAAAAAAAAAAAAAAAAAAAAAAAAAAAAAAAAAAAAAAAAAAAAAAAAAAAAAAAAAAAAAAAAAAAAAAAAAAAAAAAAAAAAAAAAAAAAAAAAAAAAAAAAAABAAAAAgAAAAEAAAAAAAAAAAAAAAAAAAAAAAAAAAAAAAAAAAAAAAAAAAAAAAAAAAAAAAAAAAAAAAAAAAAAAAAAAAAAAAAAAAAAAAAAAAAAAAEAAAABAAAAAAAAAAAAAAAAAAAAAAAAAAAAAAAAAAAAAAAAAAAAAAAAAAAAAAAAAAEAAAABAAAAAgAAAAEAAAABAAAAAQAAAAEAAAABAAAAAAAAAAAAAAAAAAAAAAAAAAEAAAAAAAAAAAAAAAAAAAAAAAAAAQAAAAAAAAAAAAAAAAAAAAAAAAAAAAAAAAAAAAAAAAAAAAAAAAAAAAEAAAAAAAAAAAAAAAAAAAABAAAAAQAAAAEAAAABAAAAAQAAAAAAAAABAAAAAQAAAAAAAAAAAAAAAAAAAAAAAAAAAAAAAAAAAAAAAAABAAAAAAAAAAAAAAAAAAAAAQAAAAIAAAABAAAAAQAAAAEAAAAAAAAAAAAAAAAAAAABAAAAAAAAAAEAAAABAAAAAAAAAAEAAAABAAAAAgAAAAEAAAABAAAAAQAAAAEAAAABAAAAAQAAAAEAAAABAAAAAQAAAAAAAAAAAAAAAQAAAAEAAAABAAAAAQAAAAEAAAAAAAAAAAAAAAAAAAAAAAAAAAAAAAAAAAABAAAAAAAAAAEAAAABAAAAAQAAAAAAAAAAAAAAAQAAAAEAAAAAAAAAAAAAAAAAAAABAAAAAgAAAAIAAAABAAAAAgAAAAIAAAABAAAAAQAAAAEAAAABAAAAAAAAAAAAAAABAAAAAAAAAAEAAAABAAAAAQAAAAEAAAABAAAAAgAAAAEAAAACAAAAAgAAAAIAAAABAAAAAQAAAAEAAAABAAAAAQAAAAEAAAABAAAAAQAAAAIAAAABAAAAAQAAAAEAAAABAAAAAQAAAAEAAAAAAAAAAAAAAAEAAAABAAAAAQAAAAEAAAABAAAAAgAAAAEAAAABAAAAAQAAAAAAAAABAAAAAAAAAAAAAAAAAAAAAQAAAAAAAAAAAAAAAAAAAAAAAAAAAAAAAQAAAAEAAAACAAAAAgAAAAEAAAABAAAAAAAAAAEAAAABAAAAAQAAAAEAAAABAAAAAgAAAAIAAAABAAAAAQAAAAEAAAABAAAAAQAAAAAAAAAAAAAAAAAAAAEAAAABAAAAAQAAAAEAAAACAAAAAgAAAAEAAAACAAAAAgAAAAEAAAABAAAAAQAAAAEAAAABAAAAAgAAAAIAAAACAAAAAgAAAAEAAAABAAAAAQAAAAEAAAABAAAAAAAAAAEAAAABAAAAAQAAAAEAAAABAAAAAQAAAAIAAAABAAAAAQAAAAEAAAABAAAAAQAAAAEAAAABAAAAAQAAAAIAAAACAAAAAQAAAAEAAAABAAAAAQAAAAEAAAABAAAAAQAAAAEAAAABAAAAAQAAAAEAAAABAAAAAQAAAAEAAAABAAAAAAAAAAEAAAAAAAAAAQAAAAAAAAAAAAAAAAAAAAAAAAABAAAAAQAAAAEAAAABAAAAAAAAAAAAAAABAAAAAQAAAAEAAAAAAAAAAAAAAAEAAAABAAAAAQAAAAEAAAACAAAAAQAAAAEAAAABAAAAAQAAAAAAAAAAAAAAAAAAAAEAAAABAAAAAAAAAAAAAAABAAAAAQAAAAAAAAABAAAAAAAAAAAAAAAAAAAAAAAAAAAAAAAAAAAAAQAAAAEAAAACAAAAAQAAAAIAAAACAAAAAQAAAAEAAAABAAAAAQAAAAEAAAABAAAAAQAAAAEAAAABAAAAAQAAAAAAAAAAAAAAAAAAAAEAAAAAAAAAAAAAAAAAAAAAAAAAAQAAAAEAAAABAAAAAQAAAAEAAAABAAAAAQAAAAAAAAAAAAAAAAAAAAAAAAAAAAAAAQAAAAAAAAABAAAAAQAAAAEAAAAAAAAAAAAAAAEAAAAAAAAAAAAAAAAAAAAAAAAAAQAAAAIAAAACAAAAAQAAAAEAAAABAAAAAQAAAAAAAAABAAAAAQAAAAAAAAABAAAAAQAAAAAAAAABAAAAAQAAAAEAAAABAAAAAQAAAAEAAAACAAAAAQAAAAEAAAACAAAAAQAAAAEAAAABAAAAAQAAAAEAAAAAAAAAAQAAAAEAAAABAAAAAQAAAAAAAAAAAAAAAAAAAAEAAAABAAAAAQAAAAEAAAABAAAAAQAAAAEAAAACAAAAAQAAAAEAAAABAAAAAgAAAAEAAAABAAAAAAAAAAEAAAABAAAAAQAAAAEAAAABAAAAAQAAAAEAAAABAAAAAQAAAAEAAAABAAAAAQAAAAEAAAABAAAAAAAAAAEAAAAAAAAAAQAAAAAAAAAAAAAAAQAAAAEAAAABAAAAAAAAAAEAAAABAAAAAQAAAAIAAAABAAAAAQAAAAEAAAAAAAAAAAAAAAEAAAABAAAAAAAAAAEAAAABAAAAAQAAAAEAAAABAAAAAQAAAAAAAAABAAAAAQAAAAEAAAABAAAAAQAAAAEAAAAAAAAAAQAAAAEAAAABAAAAAQAAAAEAAAABAAAAAQAAAAEAAAABAAAAAQAAAAEAAAACAAAAAQAAAAIAAAABAAAAAQAAAAEAAAABAAAAAQAAAAEAAAABAAAAAQAAAAEAAAABAAAAAAAAAAAAAAABAAAAAQAAAAAAAAABAAAAAQAAAAAAAAABAAAAAQAAAAAAAAABAAAAAQAAAAEAAAABAAAAAQAAAAIAAAACAAAAAgAAAAIAAAABAAAAAQAAAAEAAAABAAAAAQAAAAEAAAABAAAAAQAAAAEAAAABAAAAAQAAAAEAAAABAAAAAQAAAAEAAAABAAAAAgAAAAIAAAACAAAAAgAAAAIAAAACAAAAAQAAAAIAAAACAAAAAgAAAAIAAAACAAAAAgAAAAIAAAACAAAAAgAAAAIAAAACAAAAAgAAAAIAAAACAAAAAgAAAAIAAAABAAAAAQAAAAIAAAABAAAAAgAAAAIAAAABAAAAAQAAAAIAAAACAAAAAgAAAAIAAAACAAAAAQAAAAEAAAABAAAAAQAAAAIAAAACAAAAAQAAAAIAAAACAAAAAgAAAAEAAAABAAAAAgAAAAIAAAACAAAAAgAAAAIAAAACAAAAAQAAAAEAAAABAAAAAQAAAAIAAAABAAAAAgAAAAEAAAACAAAAAQAAAAEAAAABAAAAAgAAAAIAAAABAAAAAQAAAAIAAAACAAAAAgAAAAIAAAABAAAAAQAAAAEAAAABAAAAAQAAAAIAAAABAAAAAgAAAAIAAAACAAAAAQAAAAIAAAACAAAAAgAAAAEAAAABAAAAAgAAAAIAAAACAAAAAgAAAAIAAAACAAAAAQAAAAEAAAABAAAAAQAAAAEAAAABAAAAAQAAAAEAAAABAAAAAgAAAAIAAAACAAAAAgAAAAIAAAACAAAAAQAAAAIAAAABAAAAAQAAAAEAAAABAAAAAQAAAAEAAAABAAAAAQAAAAEAAAABAAAAAQAAAAEAAAABAAAAAQAAAAEAAAAAAAAAAQAAAAEAAAAAAAAAAQAAAAEAAAABAAAAAQAAAAEAAAABAAAAAQAAAAEAAAAAAAAAAgAAAAIAAAACAAAAAgAAAAEAAAABAAAAAQAAAAEAAAABAAAAAQAAAAEAAAACAAAAAQAAAAEAAAABAAAAAQAAAAEAAAABAAAAAAAAAAAAAAABAAAAAQAAAAAAAAAAAAAAAQAAAAEAAAABAAAAAQAAAAEAAAA=\",\"dtype\":\"int32\",\"order\":\"little\",\"shape\":[2516]},\"volume\":[18193730,16233940,21236940,16369170,15075630,23369680,14316080,25214610,29715910,35462450,33845500,30087120,19644630,22936030,25208560,14475570,8274297,16077030,21508280,18365310,24513080,26601030,24929570,19079900,19698060,18769500,12304240,18762410,18316570,15841310,39905250,27451800,27513390,32794600,29174170,20840130,21533580,21377070,19656660,14538840,16700730,14882390,24127250,25967860,13398670,26785810,20437320,32692250,19991060,12988380,15478030,14396050,35890720,18714220,15918480,30637190,47042130,66549950,26234650,25147540,15776630,15661620,18376800,20784480,14278010,12824160,20091200,12121100,11638200,12255360,10631800,12645140,13461230,22041840,23171590,15691720,23268940,10910470,6528869,20128290,49167240,28046750,20669030,26079130,41922910,22117050,32570370,18990770,33174350,19614140,73293380,44373370,39061150,48450210,27529330,26727930,43022440,38144110,34234700,26252970,39945640,34427200,36253300,29799610,20210120,31039480,37529900,42687720,31799670,29205740,21868910,16855480,20260170,27308890,38496060,29482100,32130450,37263140,62152160,20515610,35576430,27026900,21165390,26643510,26786650,31023820,30652100,27134080,31587350,23819910,23034730,25192300,14630560,20914320,15786960,16253650,24474740,163011400,68089060,48783000,26731550,79097880,65837160,28181510,29233740,18549670,16360830,16185080,19363390,23136360,26884870,68998930,43842330,45590890,41600090,30300030,25950770,20037170,24212760,30504000,43159360,19926540,15931910,30412620,26187140,19547360,11331970,17262880,20977380,14400480,9396454,18719210,22109100,18640620,26793490,13752150,23615690,33379050,32711720,22451350,34323200,24841830,22785770,37676450,69078360,20548860,20930520,26824320,32068170,37390460,25440380,21106160,14521660,33124270,28773250,24288750,19962880,17268430,14961060,21786760,13565840,12019200,14645920,8099694,9698492,15568400,16542430,20947080,17076070,14845140,25495670,14236770,14438360,14819000,12759120,17627060,23415840,15984500,12802500,11419460,25355170,23571100,17771290,15930180,15099300,10615710,12091050,15823060,12150420,9610309,13440680,12850020,11756310,10464210,18738340,29120290,21484340,24195500,16576140,15032690,29137930,54533450,67693610,27860500,21243630,28631380,22369590,18825820,24334580,27143240,23011430,14350360,37958890,27504640,46458590,36748340,44849690,48442280,34686900,41061890,33539570,33217860,59012160,27713460,29698660,29864740,37458710,39731410,24503140,30404950,37479000,24219670,28072570,31186630,24141970,22533740,37600820,27179180,36005600,24745120,27986620,21054220,21792340,35673880,33533170,21698820,16524190,25871740,23876140,23034910,31270200,22847050,21543910,43853780,26403310,27289890,26073110,25865220,23664890,21822440,20371780,36004580,38839270,49082690,51095570,72972600,27850510,30619150,28168430,25148840,28568770,32459680,34586140,30782310,40211370,35900270,29104370,20257000,18838650,14581120,33032000,26488580,80663710,54872990,55087260,24273930,20061140,14686010,20100180,21653360,22982120,22080790,32874640,27766090,28958120,49321180,23609580,28567040,34991380,24405740,22263300,21637710,19353080,17190680,23093810,51715290,33660880,18333720,21538190,20186350,22864470,20614940,27111770,39439990,53638600,56224980,32203970,44179390,38510110,27508390,23020600,36272350,23465730,20987360,25379310,24687210,27686800,32256990,35791020,37670150,26643310,39315980,45568590,23130380,21179000,37036540,16108570,18441460,32400570,26826900,20604320,21736400,20356200,29567540,24711770,28465510,42670870,31290490,17939230,34469660,15850480,26798480,17760140,13892750,14459560,12062820,10386650,14304840,4053140,15563650,12916880,23883570,19535810,17230060,22879530,31775490,19981120,16822030,15101260,29520790,15770200,17160180,9935174,25999740,14031550,9683514,9198763,10784430,8492919,6137534,6926378,6213426,7969674,21152390,26865910,19457260,21187650,14062350,42422660,82035320,33951140,31453110,38153220,21980190,22683030,25083520,64266970,27980970,36793440,25042680,29736850,33397730,42732300,40235870,36207390,22920400,21088320,18569550,18797010,18389370,14926440,11335250,37740880,30316840,47679980,53306040,30922720,32215050,32276660,40913240,29280670,21558110,19403340,21249600,18730700,23071760,29788190,20307630,23310090,26244670,21126800,17091030,19805980,21081340,14518940,21514880,13726180,11876440,13585400,17417080,17483710,12030150,14757180,14592260,18374240,20395230,26558630,26096070,21005150,14985740,19908120,16624260,12465180,11528150,13563830,12619620,16732830,12063220,21325830,18601850,21695970,21944180,12866470,17021420,11383670,10712150,17346420,16844670,14697400,17448640,9489256,15049630,14899760,17307840,12878220,16577000,20014860,17954420,15704330,16696110,16863660,15950500,12007060,8120097,9621687,11511050,13355540,15133070,21264660,12262040,17802740,27120170,15715440,14571310,12446400,12709980,14470680,48088840,31079420,33807460,26234240,17414660,33876930,17826690,9505275,20625040,27292680,25379100,27641100,16218500,13084260,12530170,19964230,26007170,37587780,20819800,19663600,12733710,31197800,25753460,18389170,29103320,85988210,32279980,21455700,23537700,16729440,20857780,23189880,33139930,31579420,34734510,39379350,41205290,25312100,35363910,25932770,15587880,11475850,16353170,15248110,27199920,37995160,18433400,31113800,17181370,27367020,17110710,13491060,17389290,26830110,15252460,17933960,16298650,18692450,32012830,17494200,20403700,19041980,23742630,23775030,19879340,36453120,17314720,20039680,44630770,21920640,27756900,26930580,28898250,67915980,29669660,39476870,37434280,28839940,19191110,22122700,14707800,15419660,19246290,17296650,12780500,16610040,21307740,18301330,25206770,13915380,24367660,14840620,19644130,41120950,47546080,19378330,45372870,21239740,26416540,17551140,14547580,13998960,18515900,23914880,22802620,12228400,13705430,12695860,18188570,12644470,15300510,19460310,18337010,8668941,12142980,10189820,16149740,10880780,7732224,11215760,11391230,12657310,16653590,13348470,14582520,22676450,13350700,13624840,11698370,14150110,13173150,11852610,16213650,6665907,5645267,5277572,6144644,6894894,12672250,8029229,11468140,12934630,12586310,10131440,11205090,11480090,9667192,8262012,19939490,21710520,28702990,21901190,38600440,36787720,25160260,16427210,13362850,17476490,14671490,15775140,15302170,13137770,18869120,15605930,13357810,16445950,19481440,18748610,15232810,13133850,13955030,15661840,20773140,16382900,19280680,14753620,10513600,13946590,19150970,11202700,25117330,15013140,18978700,21238150,15092490,15385380,17884460,22706980,27146680,14106500,12015890,16425070,9080146,9341203,8149170,8690136,9801989,15375530,13920220,14585310,12475800,18442810,16055590,14951770,10066570,16429330,9540800,10959610,11975350,14930990,15753920,13998870,25049940,38757670,23445090,20549200,17392070,22488020,17785720,13327230,18849850,14124580,15769260,12320390,10557870,12568820,19307850,26539530,17695770,13394270,12500410,17242190,27079960,14970240,16378180,12600480,19693160,9713052,10025500,16984760,18305570,19833050,25557240,15575410,12255180,13458470,17448520,7580883,11839240,12517360,12580500,8485636,9290847,11949890,21226820,23322300,17210920,15990100,17457260,10162480,8999058,11533810,20963440,11156280,11319310,13353830,9952311,13368600,75463720,16126990,19880400,15543640,14790560,14271170,15849400,27560620,52266960,22162020,20998790,20282480,11234010,13867360,9535446,13540520,16230060,15798230,8352180,18011420,17095010,52638710,23039110,7842579,12803110,13190080,10406540,12980050,9228056,17269560,15997430,17671650,24401700,12557210,13057560,14469050,9992176,12146750,23642580,16155900,34252850,19926160,31013890,32407060,33063270,50271140,38354580,23584920,41814760,91237480,31301500,20835820,20223350,23694330,29230920,22939920,19540370,15547070,25037940,27001310,27758820,23216340,11212400,9895975,19684490,19222870,17918280,83828050,26699890,38359990,32945060,35493700,109868000,37922450,33484450,37302410,21975150,9999999,17426300,21768770,20666080,21060460,24026720,29993900,35814760,39581930,15927330,59880080,40033280,20233830,23501230,18753360,11636230,7524664,8567478,30140180,22728900,27456800,42744010,66866360,70138500,52162400,20377720,22210320,34201720,10015460,14742230,24563110,25054360,16552820,15273240,26622240,20243640,24791160,40763190,9625363,12773270,18482900,26208380,20588510,27182840,24949150,22040260,25550470,29134010,16659390,19404770,20019960,17299210,23686080,31361790,17725820,41573190,35078810,69135820,32477290,33571660,23608530,20070080,19701610,27846130,18802500,15378210,12406710,8827923,6778847,5971768,22406330,13672940,11478990,13283770,10700180,19797600,21240660,30775710,20232000,16846650,17509870,10651780,11360640,19686110,14564980,13934050,10834530,21069350,11322140,13393250,9499486,7482024,9201910,15795460,12991700,19313770,13497660,17021520,18344850,11252750,6327445,5892635,4868149,14441960,11371700,14432910,11177490,13724940,44634880,33858820,20683570,12900320,10712680,11521920,10952760,14815590,27061850,25033800,14131640,14550350,16536670,20951070,17303460,11207410,32626890,87945000,74122270,87224240,51331770,35304790,56980220,47161000,30558920,54834820,53210220,38997120,80160760,33913210,35421350,36495720,28730530,33122590,20615720,19582310,16247910,14663850,17653310,23924130,19587700,15404510,20824780,12020510,32305060,20168750,14594450,14191750,14365370,31946270,22809920,24142850,26588540,32682550,29053820,26645810,19779510,17396430,13310900,10681190,17712730,11320780,8965372,16894910,9550119,19120120,106792000,50248310,21864270,39672880,16926150,69380920,151446600,49758410,76717500,50766260,29221360,42510640,32247460,19591600,34249330,22216020,13411720,11674230,19355480,27522380,16942080,13656330,10583220,12294260,32032580,28169780,11606420,14351430,16627450,13950500,10071380,22448320,22444900,51610970,19453800,13385160,31670370,15531500,29565950,23054970,35940790,23618720,33176450,23851520,28776030,25278500,30593060,25590720,24046270,24246040,94516030,20901540,21396920,23539760,17437210,11405380,16543420,26000870,18561830,25488340,17112130,16709040,35876760,35989690,23997960,17338270,63562310,51935420,34002480,44369980,108447900,68808010,92413090,65916630,42953530,43314200,23720140,15791100,16149680,18007040,14398660,16682520,13980280,15034500,18817240,12038640,12981290,20070950,28886180,15110240,11570830,13048630,20115540,9913561,13646250,11296940,11562630,16956760,19861240,15448410,24093160,23323170,21608240,14421130,15793610,10449820,29549780,13428020,9950604,9059569,22204680,14823530,12621370,10418340,12762650,14494760,5798855,9875522,8236660,17432700,12347840,20548430,22887160,42388340,42930940,30678740,30667580,20840770,22856060,42434780,66603880,46975590,45842720,58180190,86329010,29841660,48321490,31330130,27959420,21765000,17111230,13602150,22278150,22681000,14858900,16072860,23135300,21241120,34198080,18321310,13368550,12405900,11956700,14175530,13276080,13606810,10717900,9173451,13211680,18218050,14643240,19555810,10516100,10740170,10706080,55435800,42134890,34951440,14690990,19770480,18161540,19914580,15266520,28453300,23564500,23860830,20669450,14384080,14799680,24502100,13183890,15380930,18711230,14834590,16780420,23367050,24800580,17339070,11268830,21348820,34356490,22735060,21694140,18078410,31447520,102353000,52698840,29085050,27517350,37672140,31637530,14580940,18232920,37749160,14468610,8978250,17897310,22366630,14543560,15971590,14783080,11212280,10349620,18000880,17130980,18171030,15645960,13369480,11869430,9800173,6911519,12290070,8876228,10030640,10859500,10842550,13257420,13700100,8465954,7596192,28302000,20579550,26616090,17726290,26172210,19406680,14680460,10879400,54668490,49632800,20367790,13807700,21558880,15809510,25850240,29280230,20325220,22521690,21165500,41601520,18458970,39243940,22304540,72964740,156094200,61560630,48897820,137034500,34111500,33652040,31619010,27808530,31603430,31418900,35962510,42863020,111968600,33526870,21361900,40329770,16271150,32710980,27166950,29560460,27350150,30396790,26147060,33349190,45381080,23201470,11986560,11937900,8364666,8998241,9169418,7304374,10331440,7329811,12588260,9596869,12790300,6630243,8396168,8950417,13276840,8086371,14120910,18257030,40019180,24880130,16059280,22716630,14201380,16277180,11694850,17506030,12829230,26832500,55675210,33645920,27631990,16754590,17862280,17538010,27327850,69483640,40991890,38102460,39925880,36155290,38604690,75804630,28699850,24021120,23005310,23730660,11945350,13296570,22875480,15600870,13287070,14693080,11733620,12524310,9633141,8929950,7292980,12591390,8113460,15858140,10908430,12345720,12591610,14956310,10318360,15043310,11310550,12292640,11071560,10553450,5665011,16013070,12437740,18256490,15538960,9445695,25392300,22918520,17683630,10149260,21209540,19624310,17049330,12521260,12396250,14681910,15029630,8276449,4624005,4025955,8526993,7779228,11176420,8308172,8836156,13916650,12373330,11128830,8907568,9970828,17886250,9986012,17718760,30172610,56671860,46522910,36166280,11104020,36557460,51802420,24777570,17790200,12908080,25623000,22588940,34828280,73180050,38132570,24111050,13955380,11739790,12972490,9585105,8674560,7282617,6565546,10667420,6318836,10901380,6151341,8680872,7149149,15629320,8644947,12113840,11471770,16785240,12262970,10276840,11750480,13825140,8098865,6130375,7741149,11382790,8781601,10758700,7420847,8696232,26953530,28196150,16818630,8557807,7024181,11235510,7045863,8047911,5729175,4348785,7114736,6174922,8387343,13346730,15252720,28179120,53122450,29147160,31241710,27614960,15125260,14990940,13476680,11428850,11867040,11462370,11654300,9664705,12367660,18491600,15012520,9758803,10043790,10016600,7249043,8858710,8036913,4681622,9583275,6800595,7119698,12815880,10003490,17413660,12123430,7727023,6779356,7103022,8046887,11491820,7349656,6208936,12279660,8158497,7670984,4553446,8621427,9781194,27478700,25393210,25471000,19399200,17900880,17512840,18345790,97045670,22845720,19368380,19358450,31176340,19882970,46356660,15111470,23364680,17493980,9049715,15809520,13509620,20489440,28115700,12126610,14982920,15993970,10612790,16042430,11907530,14587100,25426480,15837440,7732694,25929210,14281870,13235970,9475520,7666911,29750000,7470926,8524768,7838435,6182510,9048949,9751510,7441178,13745160,12518960,17217370,12073250,10708420,11834720,10921540,6513566,8446010,6302617,7154181,6723794,6009499,12606140,4290325,30736690,16452210,6520445,4926411,5824857,11798440,5374258,9967075,9641689,11244590,5599242,5485651,7004223,5737704,5514019,7138787,7595260,8663497,7858632,9197867,8625861,7687701,6687943,10182280,27268150,21271000,10670660,5574769,14961000,8207419,9554983,6313499,5740686,6950462,4496887,4897116,5851132,8704415,8205318,4302179,8996145,6231234,6160923,3530645,3576405,5919891,4027291,5824909,8802107,4704259,10488010,4862634,15858610,6915033,2606577,9915362,5646342,7501680,7054734,4573578,8473616,9055612,8694560,13067020,11883770,7686052,7319550,19507030,11374070,17704860,6871914,24888570,30365170,11900890,16048590,15292210,10046410,11068230,32356640,12972230,23750860,22177700,31821770,19629310,17979540,12749290,15568560,21190630,18935550,29229490,26382930,16245520,13062930,11095350,10829200,7112022,11998040,8816117,11214710,9978131,8284518,7912421,11581740,14991010,9466004,7858282,9936910,11851210,13765170,10804010,7784114,9893691,6709579,6906231,5614299,7911456,11400320,9009785,10843670,22082140,15431290,8794854,10018100,13076610,9622544,21362570,33838770,21564540,12850070,28999640,26303210,13448710,10315300,10161830,10035960,7683731,13611540,14945710,9068395,8257526,5591035,9638433,12532990,13403710,8483296,9031849,16117070,8047970,8979330,7485518,8935556,11701290,7914238,13457330,143087900,80580780,36265690,24123980,20173350,17712050,16966920,13781440,8687477,21529470,11838240,16299370,9413073,7537126,9236210,16468240,14703790,20065840,19504420,17624020,13774400,35454680,34265660,24718920,22614570,34394040,25316020,29675440,35324690,17554780,21301450,20598900,16064990,16218510,15091610,13535210,16748840,11574240,34162050,64877400,43523000,35828650,47909030,29082970,36694080,31105750,29160390,33081670,26091260,18200080,16327740,19388990,15772980,28117990,21009260,20823380,13987340,20038890,14169150,38589410,23418010,20097130,39520180,101819500,118273300,81172410,38538500,27498120,22576780,26702130,40797280,23789750,22400200,20155210,21442770,16761580,29037190,13140610,25464680,28330880,26737720,13785060,30704860,75059970,41461470,27523800,22909510,16407060,31351740,16909330,16062950,18344870,22275730,18533130,24803060,57654100,90734570,170721100,77967340,50735660,64274840,52713100,47800180,37833450,28983770,33436400,35800090,60987860,29859870,30026660,27866950,30632580,47445680,30439500,25745810,31212740,27049420,33050370,13766940,32469660,33575940,30396980,66892790,24204010,25179670,29364320,63892740,64204350,52974070,78807250,47599440,37679300,77242520,42324890,39879990,33787100,33643860,32194920,36971240,37610130,38472230,71563110,39482720,29579310,28829650,78023390,124134000,62296240,65516810,71173480,34598200,14214120,25742810,54755520,36459680,56570720,42360750,31381360,92134400,54850990,104504900,60536690,63255660,46660430,46878230,48842780,77525980,45999390,59184180,44688380,36015540,32232730,44168130,71072640,50180310,44033460,55114820,40742680,38777380,34437560,37215840,29122540,39337330,75178900,38344340,70388000,51705580,46087250,27936610,27848180,43858900,61800440,35779140,32563480,37648430,51993490,165784500,116246800,59981710,139921700,158507200,75894880,72826820,54522240,57231080,40436710,33655580,52403840,40831730,66250920,71394390,79900450,46130900,95126330,141638700,73311380,103970100,163489100,117044000,76518390,71231410,45122590,62426240,72917550,52355490,55070770,44356700,224761700,91009110,72373080,61120500,44402540,50022400,42560780,37108080,37822400,43964720,84480730,48320200,58271440,58675610,139236400,70362040,47083720,59818640,37200530,53325260,38093970,37128380,36252160,41939040,25516800,36090980,35795170,36606250,31123270,50248290,63863980,267432900,140835000,76962220,51704530,35068930,49726280,65893570,72878010,55993720,52468570,160810600,159885600,86807510,50232860,78616820,49703970,42949280,33492590,31853380,35269030,42903690,47931740,43009550,66145900,114578700,150667100,89209870,167229800,125590800,87162690,51670440,61368550,59671780,61620470,117641600,188263500,149051300,200262900,100449300,89113140,84962280,87268080,59175870,39929100,99157210,88800030,88121390,78224060,70990560,78290100,111407400,82000300,71634170,78173280,51850750,47504460,50971930,70752040,92517550,235590000,130072800,66561270,68989860,48878440,67313440,52390000,64084020,57354860,46944630,58777060,82513300,63432560,64296850,57802470,64491210,47219890,37456460,58786300,38946780,44193270,37161680,29650370,35326790,33500250,43798290,51532900,53073420,51472280,33989840,35711620,60714580,43183050,54305240,37098230,37006760,50200410,83040320,65299220,96500450,166270300,50224570,83880060,68107920,59777410,35744970,33723630,34399110,84929460,42164720,34590210,28107190,53875890,43200630,38481230,69522200,37315850,34063350,28891590,38941260,33721630,32448020,49695740,78891200,166405700,87296580,115511000,137433400,78475980,66738370,47849240,44158040,96003560,67768030,58724490,76527680,50138710,54003220,37195820,33422450,31743120,56706930,35873840,31799300,23784300,11035760,41766090,65215400,63241920,43105690,42079680,97133350,67167770,38592990,32532050,34834780,29898330,36120990,41379990,28970230,45424770,63690700,43674640,31370190,21839960,50679050,20411300,22851820,18542550,26607910,43830470,153162800,109288400,63635850,63143340,62426620,52335790,37051170,46991180,41879890,38917310,62003200,46279510,34649300,46348240,41857520,42555860,43709320,66232190,87660690,140571100,67171010,79195600,116095400,86285130,55582730,56168660,85316260,62932090,32379740,51695890,57714520,47240490,46848120,40069650,37824310,33161500,42103360,55817200,43293160,62981050,57956290,43673270,45831700,127314100,75963420,89440590,83545210,174114400,80209850,63112840,37538020,53221710,64888650,44650310,59811510,54759180,75688790,68458540,64698640,48585690,64737130,54856380,67067670,65373470,51021630,38237650,42889140,28994160,47715150,38889900,28771670,45204700,42247940,57742160,38868090,42906640,44886420,85940620,144894800,74265930,50529070,43360090,29193300,33257430,47803850,53940250,35163600,49500430,49269010,43841960,50149830,44074970,73308040,38051070,53973530,49530040,43211680,44440810,47324440,43797830,39402110,58109590,46699110,71452360,74382450,56008480,96957660,99561050,81834940,80610500,66691810,89738020,112862500,77526520,103906800,92438260,76161740,95440270,59200310,94289130,54113220,55904660,48655280,41410390,43311830,32094030,40538700,65039470,58455450,36698850,42439080,44077820,40607950,64916850,42185430,40791720,41147930,42867630,44866840,58080570,80578490,190642900,161643700,160260900,118105600,75305700,52758040,53062330,83336110,72507680,51958490,46385180,65652850,81226280,88892330,86157320,69361230,60507310,62883850,54828680,61849990,111741600,163473500,323844500,215300400,142838100,103310600,65013800,191535000,256903900,143349900,123108000,161809900,159043200,196501400,302743600,217312000,179847400,176268000,123939700,122652200,129260500,117777200,118275300,79114970,87619620,165268800,94623810,144627000,189940600,95743030,87541090,103591300,105135000,146250000,146516800,110862700,70325660,92170210,89300800,79456530,130523600,113831100,101347900,125703600,188496800,119447300,94204080,98693880,110330500,136010400,123512800,107776700,144761700,120899500,92265540,85769210,95665980,75852920,106138800,96460050,112179200,93169460,109673200,81455560,54611300,82892900,118771800,134198200,79662780,82106130,139093500,127013600,103133300,105527100,77641220,87817520,100056400,87940320,84614800,115048600,101088300,120303700,119056000,129562600,62933130,108498500,110853500,108590900,84461870,86497360,117014500,111510800,106684100,117593000,163680500,115286200,84972130,71053050,62548940,70533680,84502560,87971230,78292580,77542570,96329090,110161400,134743600,126418900,210777100,181877200,105173100,69846670,121159200,78457780,86449170,77101180,60387870,67318410,57294230,63934490,78499180,57323750,56690950,49488120,52444420,62932710,44622530,62265120,38578940,45049370,47986840,35300270,60328940,51971070,49856070,54114630,56261330,56399350,42707330,46445110,34636110,154214600,150947000,127895100,114991600,78295460,75291650,88468390,64508920,53314640,62824700,52823610,197043700,82049300,65521490,57868370,75260050,64160940,44616360,40957900,40739300,47212740,48154690,39814790,36400850,41583740,51487330,56709000,48736860,44265600]},\"selected\":{\"id\":\"2446\"},\"selection_policy\":{\"id\":\"2471\"}},\"id\":\"2445\",\"type\":\"ColumnDataSource\"},{\"attributes\":{\"overlay\":{\"id\":\"2437\"}},\"id\":\"2435\",\"type\":\"BoxZoomTool\"},{\"attributes\":{\"angle\":{\"value\":0.0},\"fill_alpha\":{\"value\":1.0},\"fill_color\":{\"value\":\"#30a2da\"},\"hatch_alpha\":{\"value\":1.0},\"hatch_color\":{\"value\":\"#30a2da\"},\"hatch_scale\":{\"value\":12.0},\"hatch_weight\":{\"value\":1.0},\"line_alpha\":{\"value\":1.0},\"line_cap\":{\"value\":\"butt\"},\"line_color\":{\"value\":\"#30a2da\"},\"line_dash\":{\"value\":[]},\"line_dash_offset\":{\"value\":0},\"line_join\":{\"value\":\"bevel\"},\"line_width\":{\"value\":1},\"marker\":{\"value\":\"circle\"},\"size\":{\"value\":5.477225575051661},\"x\":{\"field\":\"volume\"},\"y\":{\"field\":\"classification\"}},\"id\":\"2453\",\"type\":\"Scatter\"},{\"attributes\":{\"fill_alpha\":{\"value\":0.1},\"fill_color\":{\"value\":\"#30a2da\"},\"hatch_alpha\":{\"value\":0.1},\"hatch_color\":{\"value\":\"#30a2da\"},\"line_alpha\":{\"value\":0.1},\"line_color\":{\"value\":\"#30a2da\"},\"size\":{\"value\":5.477225575051661},\"x\":{\"field\":\"volume\"},\"y\":{\"field\":\"classification\"}},\"id\":\"2449\",\"type\":\"Scatter\"},{\"attributes\":{},\"id\":\"2425\",\"type\":\"BasicTicker\"},{\"attributes\":{\"coordinates\":null,\"data_source\":{\"id\":\"2445\"},\"glyph\":{\"id\":\"2448\"},\"group\":null,\"hover_glyph\":null,\"muted_glyph\":{\"id\":\"2450\"},\"nonselection_glyph\":{\"id\":\"2449\"},\"selection_glyph\":{\"id\":\"2453\"},\"view\":{\"id\":\"2452\"}},\"id\":\"2451\",\"type\":\"GlyphRenderer\"},{\"attributes\":{\"coordinates\":null,\"group\":null,\"text_color\":\"black\",\"text_font_size\":\"12pt\"},\"id\":\"2416\",\"type\":\"Title\"},{\"attributes\":{\"children\":[{\"id\":\"2415\"}],\"height\":300,\"margin\":[0,0,0,0],\"name\":\"Row02044\",\"sizing_mode\":\"fixed\",\"tags\":[\"embedded\"],\"width\":700},\"id\":\"2411\",\"type\":\"Row\"},{\"attributes\":{\"end\":2.2,\"reset_end\":2.2,\"reset_start\":-0.2,\"start\":-0.2,\"tags\":[[[\"classification\",\"classification\",null]]]},\"id\":\"2413\",\"type\":\"Range1d\"},{\"attributes\":{},\"id\":\"2420\",\"type\":\"LinearScale\"},{\"attributes\":{\"end\":337611839.55714285,\"reset_end\":337611839.55714285,\"reset_start\":-11160762.557142857,\"start\":-11160762.557142857,\"tags\":[[[\"volume\",\"volume\",null]]]},\"id\":\"2412\",\"type\":\"Range1d\"},{\"attributes\":{},\"id\":\"2429\",\"type\":\"BasicTicker\"},{\"attributes\":{},\"id\":\"2458\",\"type\":\"BasicTickFormatter\"},{\"attributes\":{\"bottom_units\":\"screen\",\"coordinates\":null,\"fill_alpha\":0.5,\"fill_color\":\"lightgrey\",\"group\":null,\"left_units\":\"screen\",\"level\":\"overlay\",\"line_alpha\":1.0,\"line_color\":\"black\",\"line_dash\":[4,4],\"line_width\":2,\"right_units\":\"screen\",\"syncable\":false,\"top_units\":\"screen\"},\"id\":\"2437\",\"type\":\"BoxAnnotation\"},{\"attributes\":{\"axis\":{\"id\":\"2424\"},\"coordinates\":null,\"grid_line_color\":null,\"group\":null,\"ticker\":null},\"id\":\"2427\",\"type\":\"Grid\"},{\"attributes\":{},\"id\":\"2422\",\"type\":\"LinearScale\"}],\"root_ids\":[\"2411\"]},\"title\":\"Bokeh Application\",\"version\":\"2.4.3\"}};\n",
       "    var render_items = [{\"docid\":\"feddeb33-382c-4d8b-a0b3-0627a9559c37\",\"root_ids\":[\"2411\"],\"roots\":{\"2411\":\"b7882d11-72f5-4ca2-8bed-0297f37763c7\"}}];\n",
       "    root.Bokeh.embed.embed_items_notebook(docs_json, render_items);\n",
       "    for (const render_item of render_items) {\n",
       "      for (const root_id of render_item.root_ids) {\n",
       "\tconst id_el = document.getElementById(root_id)\n",
       "\tif (id_el.children.length && (id_el.children[0].className === 'bk-root')) {\n",
       "\t  const root_el = id_el.children[0]\n",
       "\t  root_el.id = root_el.id + '-rendered'\n",
       "\t}\n",
       "      }\n",
       "    }\n",
       "  }\n",
       "  if (root.Bokeh !== undefined && root.Bokeh.Panel !== undefined) {\n",
       "    embed_document(root);\n",
       "  } else {\n",
       "    var attempts = 0;\n",
       "    var timer = setInterval(function(root) {\n",
       "      if (root.Bokeh !== undefined && root.Bokeh.Panel !== undefined) {\n",
       "        clearInterval(timer);\n",
       "        embed_document(root);\n",
       "      } else if (document.readyState == \"complete\") {\n",
       "        attempts++;\n",
       "        if (attempts > 200) {\n",
       "          clearInterval(timer);\n",
       "          console.log(\"Bokeh: ERROR: Unable to run BokehJS code because BokehJS library is missing\");\n",
       "        }\n",
       "      }\n",
       "    }, 25, root)\n",
       "  }\n",
       "})(window);</script>"
      ],
      "text/plain": [
       ":Scatter   [volume]   (classification)"
      ]
     },
     "execution_count": 31,
     "metadata": {
      "application/vnd.holoviews_exec.v0+json": {
       "id": "2411"
      }
     },
     "output_type": "execute_result"
    }
   ],
   "source": [
    "spread_df.hvplot(kind=\"scatter\", x=\"volume\", y=\"classification\")"
   ]
  },
  {
   "cell_type": "code",
   "execution_count": 43,
   "id": "49ee2070",
   "metadata": {},
   "outputs": [
    {
     "data": {
      "text/html": [
       "<div>\n",
       "<style scoped>\n",
       "    .dataframe tbody tr th:only-of-type {\n",
       "        vertical-align: middle;\n",
       "    }\n",
       "\n",
       "    .dataframe tbody tr th {\n",
       "        vertical-align: top;\n",
       "    }\n",
       "\n",
       "    .dataframe thead th {\n",
       "        text-align: right;\n",
       "    }\n",
       "</style>\n",
       "<table border=\"1\" class=\"dataframe\">\n",
       "  <thead>\n",
       "    <tr style=\"text-align: right;\">\n",
       "      <th></th>\n",
       "      <th>close</th>\n",
       "      <th>volume</th>\n",
       "      <th>open</th>\n",
       "      <th>high</th>\n",
       "      <th>low</th>\n",
       "      <th>returns</th>\n",
       "      <th>hi_low_spread</th>\n",
       "      <th>classification</th>\n",
       "    </tr>\n",
       "  </thead>\n",
       "  <tbody>\n",
       "    <tr>\n",
       "      <th>0</th>\n",
       "      <td>3.61</td>\n",
       "      <td>18193730</td>\n",
       "      <td>3.55</td>\n",
       "      <td>3.73</td>\n",
       "      <td>3.53</td>\n",
       "      <td>0.028490</td>\n",
       "      <td>0.20</td>\n",
       "      <td>0</td>\n",
       "    </tr>\n",
       "    <tr>\n",
       "      <th>1</th>\n",
       "      <td>3.82</td>\n",
       "      <td>16233940</td>\n",
       "      <td>3.55</td>\n",
       "      <td>3.90</td>\n",
       "      <td>3.55</td>\n",
       "      <td>0.058172</td>\n",
       "      <td>0.35</td>\n",
       "      <td>0</td>\n",
       "    </tr>\n",
       "    <tr>\n",
       "      <th>2</th>\n",
       "      <td>4.26</td>\n",
       "      <td>21236940</td>\n",
       "      <td>3.90</td>\n",
       "      <td>4.30</td>\n",
       "      <td>3.83</td>\n",
       "      <td>0.115183</td>\n",
       "      <td>0.47</td>\n",
       "      <td>0</td>\n",
       "    </tr>\n",
       "    <tr>\n",
       "      <th>3</th>\n",
       "      <td>4.32</td>\n",
       "      <td>16369170</td>\n",
       "      <td>4.36</td>\n",
       "      <td>4.39</td>\n",
       "      <td>4.11</td>\n",
       "      <td>0.014085</td>\n",
       "      <td>0.28</td>\n",
       "      <td>0</td>\n",
       "    </tr>\n",
       "    <tr>\n",
       "      <th>4</th>\n",
       "      <td>4.31</td>\n",
       "      <td>15075630</td>\n",
       "      <td>4.45</td>\n",
       "      <td>4.45</td>\n",
       "      <td>4.12</td>\n",
       "      <td>-0.002315</td>\n",
       "      <td>0.33</td>\n",
       "      <td>0</td>\n",
       "    </tr>\n",
       "    <tr>\n",
       "      <th>...</th>\n",
       "      <td>...</td>\n",
       "      <td>...</td>\n",
       "      <td>...</td>\n",
       "      <td>...</td>\n",
       "      <td>...</td>\n",
       "      <td>...</td>\n",
       "      <td>...</td>\n",
       "      <td>...</td>\n",
       "    </tr>\n",
       "    <tr>\n",
       "      <th>2486</th>\n",
       "      <td>23.25</td>\n",
       "      <td>34636110</td>\n",
       "      <td>23.30</td>\n",
       "      <td>23.62</td>\n",
       "      <td>23.04</td>\n",
       "      <td>-0.001717</td>\n",
       "      <td>0.58</td>\n",
       "      <td>0</td>\n",
       "    </tr>\n",
       "    <tr>\n",
       "      <th>2505</th>\n",
       "      <td>27.85</td>\n",
       "      <td>40957900</td>\n",
       "      <td>28.21</td>\n",
       "      <td>28.38</td>\n",
       "      <td>27.66</td>\n",
       "      <td>0.002159</td>\n",
       "      <td>0.72</td>\n",
       "      <td>0</td>\n",
       "    </tr>\n",
       "    <tr>\n",
       "      <th>2506</th>\n",
       "      <td>27.33</td>\n",
       "      <td>40739300</td>\n",
       "      <td>27.80</td>\n",
       "      <td>27.84</td>\n",
       "      <td>26.96</td>\n",
       "      <td>-0.018671</td>\n",
       "      <td>0.88</td>\n",
       "      <td>0</td>\n",
       "    </tr>\n",
       "    <tr>\n",
       "      <th>2509</th>\n",
       "      <td>27.68</td>\n",
       "      <td>39814790</td>\n",
       "      <td>27.60</td>\n",
       "      <td>27.88</td>\n",
       "      <td>27.34</td>\n",
       "      <td>0.006912</td>\n",
       "      <td>0.54</td>\n",
       "      <td>0</td>\n",
       "    </tr>\n",
       "    <tr>\n",
       "      <th>2510</th>\n",
       "      <td>28.18</td>\n",
       "      <td>36400850</td>\n",
       "      <td>27.62</td>\n",
       "      <td>28.23</td>\n",
       "      <td>27.39</td>\n",
       "      <td>0.018064</td>\n",
       "      <td>0.84</td>\n",
       "      <td>0</td>\n",
       "    </tr>\n",
       "  </tbody>\n",
       "</table>\n",
       "<p>1848 rows × 8 columns</p>\n",
       "</div>"
      ],
      "text/plain": [
       "      close    volume   open   high    low   returns  hi_low_spread  \\\n",
       "0      3.61  18193730   3.55   3.73   3.53  0.028490           0.20   \n",
       "1      3.82  16233940   3.55   3.90   3.55  0.058172           0.35   \n",
       "2      4.26  21236940   3.90   4.30   3.83  0.115183           0.47   \n",
       "3      4.32  16369170   4.36   4.39   4.11  0.014085           0.28   \n",
       "4      4.31  15075630   4.45   4.45   4.12 -0.002315           0.33   \n",
       "...     ...       ...    ...    ...    ...       ...            ...   \n",
       "2486  23.25  34636110  23.30  23.62  23.04 -0.001717           0.58   \n",
       "2505  27.85  40957900  28.21  28.38  27.66  0.002159           0.72   \n",
       "2506  27.33  40739300  27.80  27.84  26.96 -0.018671           0.88   \n",
       "2509  27.68  39814790  27.60  27.88  27.34  0.006912           0.54   \n",
       "2510  28.18  36400850  27.62  28.23  27.39  0.018064           0.84   \n",
       "\n",
       "      classification  \n",
       "0                  0  \n",
       "1                  0  \n",
       "2                  0  \n",
       "3                  0  \n",
       "4                  0  \n",
       "...              ...  \n",
       "2486               0  \n",
       "2505               0  \n",
       "2506               0  \n",
       "2509               0  \n",
       "2510               0  \n",
       "\n",
       "[1848 rows x 8 columns]"
      ]
     },
     "execution_count": 43,
     "metadata": {},
     "output_type": "execute_result"
    }
   ],
   "source": [
    "spread_df.loc[spread_df['classification']==0]"
   ]
  },
  {
   "cell_type": "code",
   "execution_count": 45,
   "id": "70b8141d",
   "metadata": {},
   "outputs": [
    {
     "name": "stdout",
     "output_type": "stream",
     "text": [
      "[0 0 0 ... 1 1 1]\n"
     ]
    }
   ],
   "source": [
    "print(predictions)"
   ]
  },
  {
   "cell_type": "code",
   "execution_count": null,
   "id": "2024c4b9",
   "metadata": {},
   "outputs": [],
   "source": []
  }
 ],
 "metadata": {
  "kernelspec": {
   "display_name": "Python 3 (ipykernel)",
   "language": "python",
   "name": "python3"
  },
  "language_info": {
   "codemirror_mode": {
    "name": "ipython",
    "version": 3
   },
   "file_extension": ".py",
   "mimetype": "text/x-python",
   "name": "python",
   "nbconvert_exporter": "python",
   "pygments_lexer": "ipython3",
   "version": "3.7.7"
  }
 },
 "nbformat": 4,
 "nbformat_minor": 5
}
