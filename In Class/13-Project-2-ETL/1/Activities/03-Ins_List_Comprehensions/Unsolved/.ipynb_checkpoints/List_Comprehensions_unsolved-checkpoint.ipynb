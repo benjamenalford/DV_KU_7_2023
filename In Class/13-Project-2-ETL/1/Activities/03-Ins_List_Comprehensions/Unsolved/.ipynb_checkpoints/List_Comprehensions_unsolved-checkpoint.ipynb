{
 "cells": [
  {
   "cell_type": "markdown",
   "metadata": {},
   "source": [
    "### List Comprehensions"
   ]
  },
  {
   "cell_type": "markdown",
   "metadata": {},
   "source": [
    "####  Basic Syntax\n",
    "----\n",
    "* `[<expression> for <element> in <iterable object>]`\n",
    "  * **expression:** A method or function call or any other valid expression that returns a value.\n",
    "  * **element:** The object or value in the list of an iterable object.\n",
    "  * **iterable object:**A list, set, sequence, generator, or any other object that can return its elements one at a time."
   ]
  },
  {
   "cell_type": "markdown",
   "metadata": {},
   "source": [
    "### Using conditional expresssion with list comprehensions"
   ]
  },
  {
   "cell_type": "code",
   "execution_count": 2,
   "metadata": {},
   "outputs": [
    {
     "name": "stdout",
     "output_type": "stream",
     "text": [
      "0\n",
      "2\n",
      "4\n",
      "6\n",
      "8\n",
      "10\n",
      "12\n",
      "14\n",
      "16\n",
      "18\n",
      "20\n",
      "22\n",
      "24\n",
      "26\n",
      "28\n",
      "30\n",
      "32\n",
      "34\n",
      "36\n",
      "38\n",
      "40\n",
      "42\n",
      "44\n",
      "46\n",
      "48\n"
     ]
    }
   ],
   "source": [
    "for x in range(50):\n",
    "    if x % 2== 0:\n",
    "        print(x)"
   ]
  },
  {
   "cell_type": "code",
   "execution_count": 4,
   "metadata": {},
   "outputs": [
    {
     "data": {
      "text/plain": [
       "[0,\n",
       " 2,\n",
       " 4,\n",
       " 6,\n",
       " 8,\n",
       " 10,\n",
       " 12,\n",
       " 14,\n",
       " 16,\n",
       " 18,\n",
       " 20,\n",
       " 22,\n",
       " 24,\n",
       " 26,\n",
       " 28,\n",
       " 30,\n",
       " 32,\n",
       " 34,\n",
       " 36,\n",
       " 38,\n",
       " 40,\n",
       " 42,\n",
       " 44,\n",
       " 46,\n",
       " 48]"
      ]
     },
     "execution_count": 4,
     "metadata": {},
     "output_type": "execute_result"
    }
   ],
   "source": [
    "# One way to create a list of even numbers is with a conditional list comprehension\n",
    "# the expression is just 'x'\n",
    "# the element is also 'x'\n",
    "# the iterable_object will be 'range(50)'\n",
    "# the filter_expression is 'x % 2 == 0'\n",
    "\n",
    "list_of_evens =[ x for x in range(50) if x % 2== 0]\n",
    "\n",
    "       \n"
   ]
  },
  {
   "cell_type": "code",
   "execution_count": 5,
   "metadata": {},
   "outputs": [
    {
     "name": "stdout",
     "output_type": "stream",
     "text": [
      "Even\n",
      "Odd\n",
      "Even\n",
      "Odd\n",
      "Even\n",
      "Odd\n",
      "Even\n",
      "Odd\n",
      "Even\n",
      "Odd\n",
      "Even\n",
      "Odd\n",
      "Even\n",
      "Odd\n",
      "Even\n",
      "Odd\n",
      "Even\n",
      "Odd\n",
      "Even\n",
      "Odd\n",
      "Even\n",
      "Odd\n",
      "Even\n",
      "Odd\n",
      "Even\n",
      "Odd\n",
      "Even\n",
      "Odd\n",
      "Even\n",
      "Odd\n",
      "Even\n",
      "Odd\n",
      "Even\n",
      "Odd\n",
      "Even\n",
      "Odd\n",
      "Even\n",
      "Odd\n",
      "Even\n",
      "Odd\n",
      "Even\n",
      "Odd\n",
      "Even\n",
      "Odd\n",
      "Even\n",
      "Odd\n",
      "Even\n",
      "Odd\n",
      "Even\n",
      "Odd\n"
     ]
    }
   ],
   "source": [
    "for x in range(50):\n",
    "    if x % 2== 0:\n",
    "        print('Even')\n",
    "    else: \n",
    "        print('Odd')"
   ]
  },
  {
   "cell_type": "code",
   "execution_count": 46,
   "metadata": {},
   "outputs": [
    {
     "data": {
      "text/plain": [
       "['even 0',\n",
       " 'Odd 1',\n",
       " 'even 2',\n",
       " 'even 3',\n",
       " 'even 4',\n",
       " 'Odd 5',\n",
       " 'even 6',\n",
       " 'Odd 7',\n",
       " 'even 8',\n",
       " 'even 9',\n",
       " 'even 10',\n",
       " 'Odd 11',\n",
       " 'even 12',\n",
       " 'Odd 13',\n",
       " 'even 14',\n",
       " 'even 15',\n",
       " 'even 16',\n",
       " 'Odd 17',\n",
       " 'even 18',\n",
       " 'Odd 19']"
      ]
     },
     "execution_count": 46,
     "metadata": {},
     "output_type": "execute_result"
    }
   ],
   "source": [
    "# We can use a condition for our expression with an inline if statement.\n",
    "[f\"even {x}\" if x %2==0 or x %3 ==0 else f'Odd {x}' for x in range(20) ]"
   ]
  },
  {
   "cell_type": "code",
   "execution_count": 13,
   "metadata": {},
   "outputs": [],
   "source": [
    "# Given a list of dictionaries, we can filter them with a list comprehension\n",
    "candies = [{'name':'snickers','has_chocolate':True, 'has_nuts':True, 'is_fruity':False, 'rating':9.5, 'cost':1.50},\n",
    "           {'name':'skittles','has_chocolate':False, 'has_nuts':False, 'is_fruity':True, 'rating':9.2, 'cost':0.99},\n",
    "           {'name':'caramello','has_chocolate':True, 'has_nuts':False, 'is_fruity':False, 'rating':8.3, 'cost':0.99},\n",
    "           {'name':'circus peanuts','has_chocolate':False, 'has_nuts':False, 'is_fruity':False, 'rating':2.2, 'cost':0.49},\n",
    "           {'name':'whatchamacallit','has_chocolate':True, 'has_nuts':True, 'is_fruity':False, 'rating':7.8, 'cost':1.49},\n",
    "           {'name':'starburst','has_chocolate':False, 'has_nuts':False, 'is_fruity':True, 'rating':8.5, 'cost':1.00},\n",
    "           {'name':'mars bar','has_chocolate':True, 'has_nuts':False, 'is_fruity':False, 'rating':7.2, 'cost':1.30},\n",
    "          ]\n"
   ]
  },
  {
   "cell_type": "code",
   "execution_count": 18,
   "metadata": {},
   "outputs": [
    {
     "data": {
      "text/plain": [
       "['skittles', 'caramello', 'circus peanuts', 'starburst', 'mars bar']"
      ]
     },
     "execution_count": 18,
     "metadata": {},
     "output_type": "execute_result"
    }
   ],
   "source": [
    "# Change the for loop to list comprehension based on a condition for our expression with an if statement.\n",
    "[candy['name'] for candy in candies if candy['has_nuts'] ==False]"
   ]
  },
  {
   "cell_type": "code",
   "execution_count": 7,
   "metadata": {},
   "outputs": [
    {
     "name": "stdout",
     "output_type": "stream",
     "text": [
      "['skittles', 'caramello', 'circus peanuts', 'starburst', 'mars bar']\n"
     ]
    }
   ],
   "source": [
    "# To make it easier to read, we can just select the name of the candies\n"
   ]
  },
  {
   "cell_type": "markdown",
   "metadata": {},
   "source": [
    "### Performing string manipulation using list comprehensions"
   ]
  },
  {
   "cell_type": "code",
   "execution_count": 22,
   "metadata": {},
   "outputs": [
    {
     "data": {
      "text/plain": [
       "[['orderId',\n",
       "  'productName',\n",
       "  'category',\n",
       "  'sellingPrice',\n",
       "  'shipping',\n",
       "  'totalPrice']]"
      ]
     },
     "execution_count": 22,
     "metadata": {},
     "output_type": "execute_result"
    }
   ],
   "source": [
    "# A list that holds the column name. \n",
    "columns = ['orderId,productName,category,sellingPrice,shipping,totalPrice']\n",
    "\n",
    "# Split the column on the comma and place in a list.\n",
    "[c.split(',') for c in columns]"
   ]
  },
  {
   "cell_type": "code",
   "execution_count": 28,
   "metadata": {},
   "outputs": [
    {
     "data": {
      "text/plain": [
       "['ORDERID',\n",
       " 'PRODUCTNAME',\n",
       " 'CATEGORY',\n",
       " 'SELLINGPRICE',\n",
       " 'SHIPPING',\n",
       " 'TOTALPRICE']"
      ]
     },
     "execution_count": 28,
     "metadata": {},
     "output_type": "execute_result"
    }
   ],
   "source": [
    "# Changing a letter’s case.\n",
    "x = [c.split(',') for c in columns]\n",
    "[i.upper() for i in x[0]]"
   ]
  },
  {
   "cell_type": "code",
   "execution_count": 44,
   "metadata": {},
   "outputs": [
    {
     "data": {
      "text/plain": [
       "['9', '8', '7', '8', '5', '7', '5', '3', '0', '9']"
      ]
     },
     "execution_count": 44,
     "metadata": {},
     "output_type": "execute_result"
    }
   ],
   "source": [
    "# Identify numbers in a string using the isdigit() method\n",
    "#  User data entered as name and phone number\n",
    "user_data = \"Elvis Presley 987-857-5309\"\n",
    "\n",
    "[x for x in user_data if x.isdigit()  ]\n",
    "\n"
   ]
  },
  {
   "cell_type": "code",
   "execution_count": 35,
   "metadata": {},
   "outputs": [
    {
     "data": {
      "text/plain": [
       "['9', '8', '7', '8', '5', '7', '5', '3', '9']"
      ]
     },
     "execution_count": 35,
     "metadata": {},
     "output_type": "execute_result"
    }
   ],
   "source": [
    "l = []\n",
    "for x in user_data:\n",
    "    try:\n",
    "        if int(x):\n",
    "            l.append(x)\n",
    "    except:\n",
    "        pass\n",
    "l"
   ]
  },
  {
   "cell_type": "code",
   "execution_count": 39,
   "metadata": {},
   "outputs": [
    {
     "data": {
      "text/plain": [
       "[94.0, 68.0, 122.95, 128.0, 96.0, 119.9, 93.9, 113.6, 89.75, 106.85]"
      ]
     },
     "execution_count": 39,
     "metadata": {},
     "output_type": "execute_result"
    }
   ],
   "source": [
    "# Using list comprehensions for data cleaning. \n",
    "# List of dollar amounts as string objects.\n",
    "totals = [\"$94.00\", \"$68.00\", \"$122.95\", \"$128.00\", \"$96.00\", \"$119.90\", \"$93.90\", \"$113.60\", \"$89.75\", \"$106.85\"]\n",
    "\n",
    "# Convert the dollar amounts to a float using list comprehensions\n",
    "[float(t.replace(\"$\",'')) for t in totals]"
   ]
  },
  {
   "cell_type": "code",
   "execution_count": 12,
   "metadata": {},
   "outputs": [
    {
     "name": "stdout",
     "output_type": "stream",
     "text": [
      "<class 'float'>\n",
      "<class 'float'>\n",
      "<class 'float'>\n",
      "<class 'float'>\n",
      "<class 'float'>\n",
      "<class 'float'>\n",
      "<class 'float'>\n",
      "<class 'float'>\n",
      "<class 'float'>\n",
      "<class 'float'>\n"
     ]
    },
    {
     "data": {
      "text/plain": [
       "[None, None, None, None, None, None, None, None, None, None]"
      ]
     },
     "execution_count": 12,
     "metadata": {},
     "output_type": "execute_result"
    }
   ],
   "source": [
    "# Check the data types in a list\n",
    "[print(type(value)) for value in new_totals]"
   ]
  },
  {
   "cell_type": "code",
   "execution_count": 60,
   "metadata": {},
   "outputs": [
    {
     "data": {
      "text/plain": [
       "'Dudish'"
      ]
     },
     "execution_count": 60,
     "metadata": {},
     "output_type": "execute_result"
    }
   ],
   "source": [
    "dude = \"steve Pine\"\n",
    "x = \"Dudish\" if \"steve\" in dude else \"phoney\"\n",
    "x"
   ]
  },
  {
   "cell_type": "code",
   "execution_count": null,
   "metadata": {},
   "outputs": [],
   "source": [
    "f\"even {x}\" if x %2==0 or x %3 ==0 else f'Odd {x}'"
   ]
  }
 ],
 "metadata": {
  "kernelspec": {
   "display_name": "PythonData",
   "language": "python",
   "name": "pythondata"
  },
  "language_info": {
   "codemirror_mode": {
    "name": "ipython",
    "version": 3
   },
   "file_extension": ".py",
   "mimetype": "text/x-python",
   "name": "python",
   "nbconvert_exporter": "python",
   "pygments_lexer": "ipython3",
   "version": "3.7.7"
  },
  "vscode": {
   "interpreter": {
    "hash": "aee8b7b246df8f9039afb4144a1f6fd8d2ca17a180786b69acc140d282b71a49"
   }
  }
 },
 "nbformat": 4,
 "nbformat_minor": 2
}
