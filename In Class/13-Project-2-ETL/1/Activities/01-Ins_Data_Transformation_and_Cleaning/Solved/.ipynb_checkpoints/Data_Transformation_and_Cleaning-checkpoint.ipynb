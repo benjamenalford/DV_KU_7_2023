{
 "cells": [
  {
   "cell_type": "code",
   "execution_count": 1,
   "metadata": {},
   "outputs": [],
   "source": [
    "import pandas as pd"
   ]
  },
  {
   "cell_type": "code",
   "execution_count": 5,
   "metadata": {},
   "outputs": [],
   "source": [
    "#!pip install xlrd # isntall xlrd\n",
    "#!pip install openpyxl #install XLSX"
   ]
  },
  {
   "cell_type": "code",
   "execution_count": 8,
   "metadata": {
    "scrolled": true
   },
   "outputs": [
    {
     "data": {
      "text/html": [
       "<div>\n",
       "<style scoped>\n",
       "    .dataframe tbody tr th:only-of-type {\n",
       "        vertical-align: middle;\n",
       "    }\n",
       "\n",
       "    .dataframe tbody tr th {\n",
       "        vertical-align: top;\n",
       "    }\n",
       "\n",
       "    .dataframe thead th {\n",
       "        text-align: right;\n",
       "    }\n",
       "</style>\n",
       "<table border=\"1\" class=\"dataframe\">\n",
       "  <thead>\n",
       "    <tr style=\"text-align: right;\">\n",
       "      <th></th>\n",
       "      <th>Product ID,Category,Product,Size,Last Visited</th>\n",
       "    </tr>\n",
       "  </thead>\n",
       "  <tbody>\n",
       "    <tr>\n",
       "      <th>0</th>\n",
       "      <td>AH2430,Women's,Blazing Trail Shoes,Size 9,2020-04-13T15:06:15</td>\n",
       "    </tr>\n",
       "    <tr>\n",
       "      <th>1</th>\n",
       "      <td>G27341,Men's,Forest Trail Shoes,Size 11,2020-04-13T15:06:18</td>\n",
       "    </tr>\n",
       "    <tr>\n",
       "      <th>2</th>\n",
       "      <td>CM0081,Women's,Swift Running Shoes,Size 7,2020-04-13T15:06:20</td>\n",
       "    </tr>\n",
       "    <tr>\n",
       "      <th>3</th>\n",
       "      <td>B44832,Women's,Running Hard Shoes,Size 6,2020-04-13T15:06:23</td>\n",
       "    </tr>\n",
       "    <tr>\n",
       "      <th>4</th>\n",
       "      <td>D98205,Men's,Lite Racing Shoes,Size 10,2020-04-13T15:06:26</td>\n",
       "    </tr>\n",
       "    <tr>\n",
       "      <th>5</th>\n",
       "      <td>B75586,Men's,Running Rebound Shoes,Size 12,2020-04-13T15:06:30</td>\n",
       "    </tr>\n",
       "    <tr>\n",
       "      <th>6</th>\n",
       "      <td>CG4051,Women's,Inspired Victory Shoes,Size 8,2020-04-13T15:06:33</td>\n",
       "    </tr>\n",
       "    <tr>\n",
       "      <th>7</th>\n",
       "      <td>CM0080,Women's,Responsive Trail Shoes,Size 9,2020-04-13T15:06:36</td>\n",
       "    </tr>\n",
       "    <tr>\n",
       "      <th>8</th>\n",
       "      <td>B75990,Men's,Energy Boost Running Shoes,Size 13,2020-04-13T15:06:40</td>\n",
       "    </tr>\n",
       "    <tr>\n",
       "      <th>9</th>\n",
       "      <td>EE5761,Men's,Pure Bouncer Running Shoes,Size 9,2020-04-13T15:06:45</td>\n",
       "    </tr>\n",
       "  </tbody>\n",
       "</table>\n",
       "</div>"
      ],
      "text/plain": [
       "                         Product ID,Category,Product,Size,Last Visited\n",
       "0        AH2430,Women's,Blazing Trail Shoes,Size 9,2020-04-13T15:06:15\n",
       "1          G27341,Men's,Forest Trail Shoes,Size 11,2020-04-13T15:06:18\n",
       "2        CM0081,Women's,Swift Running Shoes,Size 7,2020-04-13T15:06:20\n",
       "3         B44832,Women's,Running Hard Shoes,Size 6,2020-04-13T15:06:23\n",
       "4           D98205,Men's,Lite Racing Shoes,Size 10,2020-04-13T15:06:26\n",
       "5       B75586,Men's,Running Rebound Shoes,Size 12,2020-04-13T15:06:30\n",
       "6     CG4051,Women's,Inspired Victory Shoes,Size 8,2020-04-13T15:06:33\n",
       "7     CM0080,Women's,Responsive Trail Shoes,Size 9,2020-04-13T15:06:36\n",
       "8  B75990,Men's,Energy Boost Running Shoes,Size 13,2020-04-13T15:06:40\n",
       "9   EE5761,Men's,Pure Bouncer Running Shoes,Size 9,2020-04-13T15:06:45"
      ]
     },
     "execution_count": 8,
     "metadata": {},
     "output_type": "execute_result"
    }
   ],
   "source": [
    "pd.options.display.max_colwidth = 200\n",
    "orders_df = pd.read_excel(\"../Resources/running_shoes.xlsx\",engine=\"openpyxl\")\n",
    "orders_df"
   ]
  },
  {
   "cell_type": "code",
   "execution_count": null,
   "metadata": {},
   "outputs": [],
   "source": [
    "orders_df.info()"
   ]
  },
  {
   "cell_type": "code",
   "execution_count": null,
   "metadata": {},
   "outputs": [],
   "source": [
    "# Get the columns into a list.\n",
    "shoe_order_cols = orders_df.columns.tolist()\n",
    "shoe_order_cols"
   ]
  },
  {
   "cell_type": "code",
   "execution_count": null,
   "metadata": {},
   "outputs": [],
   "source": [
    "# Split the column name on the comma to create five elements. \n",
    "new_columns = []\n",
    "for col in shoe_order_cols:\n",
    "    new_columns.append(col.split(\",\"))\n",
    "print(new_columns[0])"
   ]
  },
  {
   "cell_type": "code",
   "execution_count": null,
   "metadata": {},
   "outputs": [],
   "source": [
    "# Get each row into a list.\n",
    "shoe_orders_values = orders_df.values.tolist()\n",
    "shoe_orders_values"
   ]
  },
  {
   "cell_type": "code",
   "execution_count": null,
   "metadata": {},
   "outputs": [],
   "source": [
    "# Split the values of each row in the list on the comma and add the items to a new list.\n",
    "shoe_orders_list = []\n",
    "for item in shoe_orders_values:\n",
    "    shoe_orders_list.append(item[0].split(\",\"))\n",
    "\n",
    "shoe_orders_list"
   ]
  },
  {
   "cell_type": "code",
   "execution_count": null,
   "metadata": {},
   "outputs": [],
   "source": [
    "# Create a new DataFrame with the new column names and list of shoe orders\n",
    "shoe_orders_df = pd.DataFrame(shoe_orders_list, columns=new_columns[0])\n",
    "shoe_orders_df"
   ]
  },
  {
   "cell_type": "code",
   "execution_count": null,
   "metadata": {},
   "outputs": [],
   "source": [
    "# Alternative method.\n",
    "shoe_orders_df = pd.DataFrame()\n",
    "shoe_orders_df[['Product ID', 'Category', 'Product', 'Size', 'Last Visited']] = orders_df['Product ID,Category,Product,Size,Last Visited'].str.split(',', n=5, expand=True)\n",
    "shoe_orders_df"
   ]
  },
  {
   "cell_type": "code",
   "execution_count": null,
   "metadata": {},
   "outputs": [],
   "source": [
    "shoe_orders_df.columns"
   ]
  },
  {
   "cell_type": "code",
   "execution_count": null,
   "metadata": {},
   "outputs": [],
   "source": [
    "# Rename the columns. \n",
    "shoe_orders_df.rename(columns={'Product ID': \"productID\",\n",
    "                            'Category': \"category\",\n",
    "                            'Product': \"product\",\n",
    "                            'Size': \"size\",\n",
    "                            'Last Visited': \"lastvisited\"}, inplace=True)\n",
    "shoe_orders_df"
   ]
  },
  {
   "cell_type": "code",
   "execution_count": null,
   "metadata": {},
   "outputs": [],
   "source": [
    "# Remove the word \"Size \" and trailing whitespace from the the \"size\" column.\n",
    "shoe_orders_df[\"size\"]  = shoe_orders_df[\"size\"].str.replace(\"Size \",\"\")\n",
    "# Convert the \"size\" column to an integer datatype\n",
    "shoe_orders_df[\"size\"]  = pd.to_numeric(shoe_orders_df[\"size\"])\n",
    "# shoe_orders[\"size\"]  = shoe_orders_df[\"size\"].astype(int)\n",
    "shoe_orders_df"
   ]
  },
  {
   "cell_type": "code",
   "execution_count": null,
   "metadata": {},
   "outputs": [],
   "source": [
    "shoe_orders_df.dtypes[\"size\"]"
   ]
  },
  {
   "cell_type": "code",
   "execution_count": null,
   "metadata": {},
   "outputs": [],
   "source": [
    "# Convert the \"lastvisited\" column to a datetime datatype.\n",
    "shoe_orders_df[\"lastvisited\"]  = pd.to_datetime(shoe_orders_df[\"lastvisited\"])\n",
    "shoe_orders_df.info()"
   ]
  },
  {
   "cell_type": "code",
   "execution_count": null,
   "metadata": {},
   "outputs": [],
   "source": [
    "shoe_orders_df"
   ]
  },
  {
   "cell_type": "code",
   "execution_count": null,
   "metadata": {},
   "outputs": [],
   "source": []
  }
 ],
 "metadata": {
  "kernelspec": {
   "display_name": "PythonData",
   "language": "python",
   "name": "pythondata"
  },
  "language_info": {
   "codemirror_mode": {
    "name": "ipython",
    "version": 3
   },
   "file_extension": ".py",
   "mimetype": "text/x-python",
   "name": "python",
   "nbconvert_exporter": "python",
   "pygments_lexer": "ipython3",
   "version": "3.7.7"
  },
  "vscode": {
   "interpreter": {
    "hash": "aee8b7b246df8f9039afb4144a1f6fd8d2ca17a180786b69acc140d282b71a49"
   }
  }
 },
 "nbformat": 4,
 "nbformat_minor": 4
}
