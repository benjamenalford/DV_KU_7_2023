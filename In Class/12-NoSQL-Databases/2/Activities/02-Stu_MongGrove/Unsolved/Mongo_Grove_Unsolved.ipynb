{
 "cells": [
  {
   "cell_type": "code",
   "execution_count": 1,
   "metadata": {},
   "outputs": [],
   "source": [
    "# Import dependencies\n",
    "from pymongo import MongoClient\n",
    "import datetime"
   ]
  },
  {
   "cell_type": "code",
   "execution_count": 4,
   "metadata": {},
   "outputs": [],
   "source": [
    "# The default port used by MongoDB is 27017\n",
    "# https://docs.mongodb.com/manual/reference/default-mongodb-port/\n",
    "mongo = MongoClient()\n",
    "\n",
    "# Declare the database\n",
    "db = mongo.fruits_db\n",
    "\n",
    "# Declare the collection\n",
    "fruits = db.fruits"
   ]
  },
  {
   "cell_type": "code",
   "execution_count": 7,
   "metadata": {},
   "outputs": [
    {
     "data": {
      "text/plain": [
       "<pymongo.results.InsertOneResult at 0x152a5eadb48>"
      ]
     },
     "execution_count": 7,
     "metadata": {},
     "output_type": "execute_result"
    }
   ],
   "source": [
    "# Create a dictionary that represents the document to be inserted.\n",
    "\n",
    "# Pass the dictionary into `insert_one` to insert the document into the database\n",
    "# The database and collection, if they don't already exist, will be created at this point.\n",
    "# fruits.insert_one()\n",
    "f = {\n",
    "    'vendor': 'hoobafruits',\n",
    "    'fruit':'raspberry',\n",
    "    'case_qty': 21,\n",
    "    'ripeness': 5,\n",
    "    'date': datetime.datetime.utcnow()\n",
    "}\n",
    "fruits.insert_one(f)"
   ]
  },
  {
   "cell_type": "code",
   "execution_count": 9,
   "metadata": {},
   "outputs": [
    {
     "name": "stdout",
     "output_type": "stream",
     "text": [
      "vendor nameMatt\n",
      "type of fruitpineapple\n",
      "how many per case2\n",
      "how ripe, 1-51\n"
     ]
    },
    {
     "data": {
      "text/plain": [
       "<pymongo.results.InsertOneResult at 0x152a5eb76c8>"
      ]
     },
     "execution_count": 9,
     "metadata": {},
     "output_type": "execute_result"
    }
   ],
   "source": [
    "# Ask the user for input. Store information into variables.\n",
    "vendor = input(\"vendor name\")\n",
    "fruit_type = input(\"type of fruit\")\n",
    "qty = input('how many per case')\n",
    "ripeness = input(\"how ripe, 1-5\")\n",
    "\n",
    "# Create a dictionary that will become a MongoDB document\n",
    "\n",
    "new_fruit = {\n",
    "    'vendor': vendor,\n",
    "    'fruit':fruit_type,\n",
    "    'case_qty': int(qty),\n",
    "    'ripeness': int(ripeness),\n",
    "    'date': datetime.datetime.utcnow()\n",
    "}\n",
    "\n",
    "# Insert document into collection\n",
    "fruits.insert_one(new_fruit)"
   ]
  },
  {
   "cell_type": "code",
   "execution_count": 13,
   "metadata": {},
   "outputs": [
    {
     "name": "stdout",
     "output_type": "stream",
     "text": [
      "raspberry\n",
      "pineapple\n"
     ]
    }
   ],
   "source": [
    "# Query the collection and check the data in the collection.\n",
    "for fruit in fruits.find():\n",
    "    print(fruit[\"fruit\"])"
   ]
  },
  {
   "cell_type": "code",
   "execution_count": 14,
   "metadata": {},
   "outputs": [
    {
     "name": "stdout",
     "output_type": "stream",
     "text": [
      "raspberry\n",
      "pineapple\n"
     ]
    }
   ],
   "source": []
  },
  {
   "cell_type": "code",
   "execution_count": 15,
   "metadata": {},
   "outputs": [
    {
     "data": {
      "text/plain": [
       "[{'_id': ObjectId('651f4d09278127838523ded7'),\n",
       "  'vendor': 'hoobafruits',\n",
       "  'fruit': 'raspberry',\n",
       "  'case_qty': 21,\n",
       "  'ripeness': 5,\n",
       "  'date': datetime.datetime(2023, 10, 5, 23, 55, 53, 313000)},\n",
       " {'_id': ObjectId('651f4e04278127838523ded8'),\n",
       "  'vendor': 'Matt',\n",
       "  'fruit': 'pineapple',\n",
       "  'case_qty': 2,\n",
       "  'ripeness': 1,\n",
       "  'date': datetime.datetime(2023, 10, 6, 0, 0, 4, 294000)}]"
      ]
     },
     "execution_count": 15,
     "metadata": {},
     "output_type": "execute_result"
    }
   ],
   "source": [
    "list(fruits.find())"
   ]
  },
  {
   "cell_type": "code",
   "execution_count": null,
   "metadata": {},
   "outputs": [],
   "source": []
  }
 ],
 "metadata": {
  "kernelspec": {
   "display_name": "PythonData",
   "language": "python",
   "name": "pythondata"
  },
  "language_info": {
   "codemirror_mode": {
    "name": "ipython",
    "version": 3
   },
   "file_extension": ".py",
   "mimetype": "text/x-python",
   "name": "python",
   "nbconvert_exporter": "python",
   "pygments_lexer": "ipython3",
   "version": "3.7.7"
  }
 },
 "nbformat": 4,
 "nbformat_minor": 2
}
