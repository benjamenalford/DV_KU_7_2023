{
 "cells": [
  {
   "cell_type": "code",
   "execution_count": 1,
   "id": "2a8fc969",
   "metadata": {},
   "outputs": [],
   "source": [
    "# Import dependencies\n",
    "from pymongo import MongoClient\n",
    "from pprint import pprint"
   ]
  },
  {
   "cell_type": "code",
   "execution_count": 2,
   "id": "7dad7d4b",
   "metadata": {},
   "outputs": [],
   "source": [
    "# Create an instance of MongoClient\n",
    "mongo = MongoClient(port=27017)"
   ]
  },
  {
   "cell_type": "code",
   "execution_count": 3,
   "id": "9a4e88bb",
   "metadata": {},
   "outputs": [
    {
     "name": "stdout",
     "output_type": "stream",
     "text": [
      "['admin', 'automobiles', 'classDB', 'config', 'fruits_db', 'local', 'marketing']\n"
     ]
    }
   ],
   "source": [
    "# confirm that the \"autosaurus\" database is in MongoDB\n",
    "print(mongo.list_database_names())"
   ]
  },
  {
   "cell_type": "code",
   "execution_count": 4,
   "id": "cb46b315",
   "metadata": {},
   "outputs": [],
   "source": [
    "# assign the database to a variable name\n",
    "db = mongo['automobiles']"
   ]
  },
  {
   "cell_type": "code",
   "execution_count": 5,
   "id": "c8734745",
   "metadata": {},
   "outputs": [
    {
     "name": "stdout",
     "output_type": "stream",
     "text": [
      "['customers', 'mechanics']\n"
     ]
    }
   ],
   "source": [
    "# review the collections in our new database\n",
    "print(db.list_collection_names())"
   ]
  },
  {
   "cell_type": "code",
   "execution_count": 6,
   "id": "96596996",
   "metadata": {},
   "outputs": [],
   "source": [
    "# assign each collection to a variable\n",
    "customers = db['customers']\n",
    "mechanics = db['mechanics']"
   ]
  },
  {
   "cell_type": "code",
   "execution_count": null,
   "id": "ca2e59ac",
   "metadata": {},
   "outputs": [],
   "source": [
    "customer.find('car_make':'Toyota')"
   ]
  },
  {
   "cell_type": "code",
   "execution_count": null,
   "id": "54f89c42",
   "metadata": {},
   "outputs": [],
   "source": [
    "# Create a query that finds the customers who have a Toyota\n",
    "\n",
    "# Print the number of results\n"
   ]
  },
  {
   "cell_type": "code",
   "execution_count": null,
   "id": "a9de7306",
   "metadata": {},
   "outputs": [],
   "source": [
    "# Display the number of documents in the customers collection\n"
   ]
  },
  {
   "cell_type": "code",
   "execution_count": null,
   "id": "cbfa9e52",
   "metadata": {},
   "outputs": [],
   "source": [
    "# Create a query that finds the mechanics who work 40 hours a week\n",
    "\n",
    "# Print the number of results\n"
   ]
  },
  {
   "cell_type": "code",
   "execution_count": null,
   "id": "8240828b",
   "metadata": {},
   "outputs": [],
   "source": [
    "# Print just the first result from the query\n"
   ]
  },
  {
   "cell_type": "code",
   "execution_count": null,
   "id": "8efaa4aa",
   "metadata": {},
   "outputs": [],
   "source": [
    "# Change the data type from String to Double for wages.hourly_rate\n"
   ]
  },
  {
   "cell_type": "code",
   "execution_count": null,
   "id": "226216b1",
   "metadata": {},
   "outputs": [],
   "source": [
    "# Select only the mechanic_name and wages.hourly_rate fields from the mechanics collection\n",
    "query = \n",
    "fields = \n",
    "\n",
    "# Capture the results to a variable\n",
    "\n",
    "\n",
    "# Pretty print the results\n"
   ]
  },
  {
   "cell_type": "code",
   "execution_count": null,
   "id": "51078946",
   "metadata": {},
   "outputs": [],
   "source": [
    "# Select every field from the mechanics collection except the car_specialties field\n",
    "query = \n",
    "fields = \n",
    "\n",
    "# Capture the results to a variable\n",
    "\n",
    "\n",
    "# Pretty print the first two results\n"
   ]
  }
 ],
 "metadata": {
  "kernelspec": {
   "display_name": "PythonData",
   "language": "python",
   "name": "pythondata"
  },
  "language_info": {
   "codemirror_mode": {
    "name": "ipython",
    "version": 3
   },
   "file_extension": ".py",
   "mimetype": "text/x-python",
   "name": "python",
   "nbconvert_exporter": "python",
   "pygments_lexer": "ipython3",
   "version": "3.7.7"
  }
 },
 "nbformat": 4,
 "nbformat_minor": 5
}
