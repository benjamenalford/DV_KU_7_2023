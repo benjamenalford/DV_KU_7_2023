{
 "cells": [
  {
   "cell_type": "code",
   "execution_count": 1,
   "id": "f785cc3a",
   "metadata": {},
   "outputs": [],
   "source": [
    "# Import dependencies\n",
    "from pymongo import MongoClient\n",
    "from pprint import pprint"
   ]
  },
  {
   "cell_type": "code",
   "execution_count": 2,
   "id": "eb6d20e6",
   "metadata": {},
   "outputs": [],
   "source": [
    "# Create an instance of MongoClient\n",
    "mongo = MongoClient(port=27017)"
   ]
  },
  {
   "cell_type": "code",
   "execution_count": 3,
   "id": "2b777778",
   "metadata": {},
   "outputs": [
    {
     "name": "stdout",
     "output_type": "stream",
     "text": [
      "['admin', 'automobiles', 'classDB', 'config', 'fruits_db', 'local', 'marketing']\n"
     ]
    }
   ],
   "source": [
    "# confirm that the \"autosaurus\" database is in MongoDB\n",
    "print(mongo.list_database_names())"
   ]
  },
  {
   "cell_type": "code",
   "execution_count": 4,
   "id": "0c21dcc2",
   "metadata": {},
   "outputs": [],
   "source": [
    "# assign the database to a variable name\n",
    "db = mongo['automobiles']"
   ]
  },
  {
   "cell_type": "code",
   "execution_count": 5,
   "id": "bafe70e2",
   "metadata": {},
   "outputs": [
    {
     "name": "stdout",
     "output_type": "stream",
     "text": [
      "['customers', 'mechanics']\n"
     ]
    }
   ],
   "source": [
    "# review the collections in our new database\n",
    "print(db.list_collection_names())"
   ]
  },
  {
   "cell_type": "code",
   "execution_count": 6,
   "id": "b2f55402",
   "metadata": {},
   "outputs": [],
   "source": [
    "# assign each collection to a variable\n",
    "customers = db['customers']\n",
    "mechanics = db['mechanics']"
   ]
  },
  {
   "cell_type": "code",
   "execution_count": 13,
   "id": "28160446",
   "metadata": {},
   "outputs": [
    {
     "name": "stdout",
     "output_type": "stream",
     "text": [
      "49\n"
     ]
    }
   ],
   "source": [
    "toys = customers.find({'car_make':'Toyota'})\n",
    "c= 0\n",
    "for t in toys:\n",
    "    c = c+1\n",
    "print(c)"
   ]
  },
  {
   "cell_type": "code",
   "execution_count": 16,
   "id": "40e7f3c5",
   "metadata": {},
   "outputs": [
    {
     "data": {
      "text/plain": [
       "49"
      ]
     },
     "execution_count": 16,
     "metadata": {},
     "output_type": "execute_result"
    }
   ],
   "source": [
    "# Create a query that finds the customers who have a Toyota\n",
    "q = {'car_make':'Toyota'}\n",
    "# Print the number of results\n",
    "customers.count_documents(q)"
   ]
  },
  {
   "cell_type": "code",
   "execution_count": 17,
   "id": "2992848d",
   "metadata": {},
   "outputs": [
    {
     "data": {
      "text/plain": [
       "1000"
      ]
     },
     "execution_count": 17,
     "metadata": {},
     "output_type": "execute_result"
    }
   ],
   "source": [
    "# Display the number of documents in the customers collection\n",
    "customers.count_documents({})"
   ]
  },
  {
   "cell_type": "code",
   "execution_count": 20,
   "id": "25e2878a",
   "metadata": {},
   "outputs": [
    {
     "data": {
      "text/plain": [
       "14"
      ]
     },
     "execution_count": 20,
     "metadata": {},
     "output_type": "execute_result"
    }
   ],
   "source": [
    "# Create a query that finds the mechanics who work 40 hours a week\n",
    "q = {'wages.weekly_hours':40}\n",
    "# Print the number of results\n",
    "mechanics.count_documents(q)"
   ]
  },
  {
   "cell_type": "code",
   "execution_count": 27,
   "id": "672f7ef9",
   "metadata": {},
   "outputs": [
    {
     "data": {
      "text/plain": [
       "{'_id': ObjectId('651cbecafd2e29e5e255f3e3'),\n",
       " 'mechanic_name': 'Spanner McGee',\n",
       " 'wages': {'hourly_rate': 40.0, 'weekly_hours': 40},\n",
       " 'contact': {'phone': '555-876-8754', 'email': 'spanner@autosaurus.com'},\n",
       " 'hours': {'Monday': '8am-4pm',\n",
       "  'Tuesday': '11am-7pm',\n",
       "  'Wednesday': '10am-6pm',\n",
       "  'Thursday': '8am-4pm',\n",
       "  'Sunday': '8am-4pm'},\n",
       " 'car_specialties': ['Ford',\n",
       "  'Volkswagen',\n",
       "  'Chrysler',\n",
       "  'Hyundai',\n",
       "  'Shelby',\n",
       "  'GMC',\n",
       "  'Mercedes-Benz',\n",
       "  'Saturn',\n",
       "  'Chevrolet']}"
      ]
     },
     "execution_count": 27,
     "metadata": {},
     "output_type": "execute_result"
    }
   ],
   "source": [
    "# Print just the first result from the query\n",
    "mechanics.find(q)[0]"
   ]
  },
  {
   "cell_type": "code",
   "execution_count": 26,
   "id": "a19b063b",
   "metadata": {},
   "outputs": [
    {
     "data": {
      "text/plain": [
       "<pymongo.results.UpdateResult at 0x1c9210f1208>"
      ]
     },
     "execution_count": 26,
     "metadata": {},
     "output_type": "execute_result"
    }
   ],
   "source": [
    "# Change the data type from String to Double for wages.hourly_rate\n",
    "mechanics.update_many({}, [{'$set': {'wages.hourly_rate' : {'$toDouble':\"$wages.hourly_rate\" }}}])"
   ]
  },
  {
   "cell_type": "code",
   "execution_count": null,
   "id": "5c46ad4c",
   "metadata": {},
   "outputs": [],
   "source": []
  },
  {
   "cell_type": "code",
   "execution_count": 37,
   "id": "6e2a528b",
   "metadata": {},
   "outputs": [
    {
     "name": "stdout",
     "output_type": "stream",
     "text": [
      "{'_id': ObjectId('651cbecafd2e29e5e255f3e3'),\n",
      " 'mechanic_name': 'Spanner McGee',\n",
      " 'wages': {'hourly_rate': 40.0}}\n",
      "{'_id': ObjectId('651cbecafd2e29e5e255f3e4'),\n",
      " 'mechanic_name': 'Ai Tanaka',\n",
      " 'wages': {'hourly_rate': 50.0}}\n",
      "{'_id': ObjectId('651cbecafd2e29e5e255f3e5'),\n",
      " 'mechanic_name': 'Parvati Khatri',\n",
      " 'wages': {'hourly_rate': 43.5}}\n",
      "{'_id': ObjectId('651cbecafd2e29e5e255f3e6'),\n",
      " 'mechanic_name': 'Gwan Jun-ho',\n",
      " 'wages': {'hourly_rate': 40.0}}\n",
      "{'_id': ObjectId('651cbecafd2e29e5e255f3e7'),\n",
      " 'mechanic_name': 'Dacey Cocom',\n",
      " 'wages': {'hourly_rate': 48.1}}\n",
      "{'_id': ObjectId('651cbecafd2e29e5e255f3e8'),\n",
      " 'mechanic_name': 'Quenti Yupanqui',\n",
      " 'wages': {'hourly_rate': 46.75}}\n",
      "{'_id': ObjectId('651cbecafd2e29e5e255f3e9'),\n",
      " 'mechanic_name': 'Taiwo Sani',\n",
      " 'wages': {'hourly_rate': 42.0}}\n",
      "{'_id': ObjectId('651f525d34893f041cde4ef5'),\n",
      " 'mechanic_name': 'Spanner McGee',\n",
      " 'wages': {'hourly_rate': 40.0}}\n",
      "{'_id': ObjectId('651f525d34893f041cde4ef6'),\n",
      " 'mechanic_name': 'Ai Tanaka',\n",
      " 'wages': {'hourly_rate': 50.0}}\n",
      "{'_id': ObjectId('651f525d34893f041cde4ef7'),\n",
      " 'mechanic_name': 'Parvati Khatri',\n",
      " 'wages': {'hourly_rate': 43.5}}\n",
      "{'_id': ObjectId('651f525d34893f041cde4ef8'),\n",
      " 'mechanic_name': 'Gwan Jun-ho',\n",
      " 'wages': {'hourly_rate': 40.0}}\n",
      "{'_id': ObjectId('651f525d34893f041cde4ef9'),\n",
      " 'mechanic_name': 'Dacey Cocom',\n",
      " 'wages': {'hourly_rate': 48.1}}\n",
      "{'_id': ObjectId('651f525d34893f041cde4efa'),\n",
      " 'mechanic_name': 'Quenti Yupanqui',\n",
      " 'wages': {'hourly_rate': 46.75}}\n",
      "{'_id': ObjectId('651f525d34893f041cde4efb'),\n",
      " 'mechanic_name': 'Taiwo Sani',\n",
      " 'wages': {'hourly_rate': 42.0}}\n"
     ]
    }
   ],
   "source": [
    "# Select only the mechanic_name and wages.hourly_rate fields from the mechanics collection\n",
    "query = {}\n",
    "fields = {'mechanic_name':1,'wages.hourly_rate':1}\n",
    "\n",
    "# Capture the results to a variable\n",
    "res = mechanics.find(query,fields)\n",
    "\n",
    "# Pretty print the results\n",
    "for r in res:\n",
    "    pprint(r)"
   ]
  },
  {
   "cell_type": "code",
   "execution_count": 41,
   "id": "067961ca",
   "metadata": {},
   "outputs": [
    {
     "name": "stdout",
     "output_type": "stream",
     "text": [
      "{'_id': ObjectId('651cbecafd2e29e5e255f3e3'),\n",
      " 'contact': {'email': 'spanner@autosaurus.com', 'phone': '555-876-8754'},\n",
      " 'hours': {'Monday': '8am-4pm',\n",
      "           'Sunday': '8am-4pm',\n",
      "           'Thursday': '8am-4pm',\n",
      "           'Tuesday': '11am-7pm',\n",
      "           'Wednesday': '10am-6pm'},\n",
      " 'mechanic_name': 'Spanner McGee'}\n",
      "{'_id': ObjectId('651cbecafd2e29e5e255f3e4'),\n",
      " 'contact': {'email': 'tanakaa@autosaurus.com', 'phone': '555-876-8755'},\n",
      " 'hours': {'Friday': '8am-4pm',\n",
      "           'Saturday': '8am-4pm',\n",
      "           'Thursday': '10am-6pm',\n",
      "           'Tuesday': '8am-4pm',\n",
      "           'Wednesday': '11am-7pm'},\n",
      " 'mechanic_name': 'Ai Tanaka'}\n",
      "{'_id': ObjectId('651cbecafd2e29e5e255f3e5'),\n",
      " 'contact': {'email': 'khatrip@autosaurus.com', 'phone': '555-876-8756'},\n",
      " 'hours': {'Friday': '10am-6pm',\n",
      "           'Monday': '11am-7pm',\n",
      "           'Saturday': '8am-4pm',\n",
      "           'Sunday': '8am-4pm',\n",
      "           'Tuesday': '10am-6pm'},\n",
      " 'mechanic_name': 'Parvati Khatri'}\n",
      "{'_id': ObjectId('651cbecafd2e29e5e255f3e6'),\n",
      " 'contact': {'email': 'gwanj@autosaurus.com', 'phone': '555-876-8757'},\n",
      " 'hours': {'Friday': '8am-4pm',\n",
      "           'Monday': '8am-4pm',\n",
      "           'Thursday': '8am-4pm',\n",
      "           'Tuesday': '11am-7pm',\n",
      "           'Wednesday': '10am-6pm'},\n",
      " 'mechanic_name': 'Gwan Jun-ho'}\n",
      "{'_id': ObjectId('651cbecafd2e29e5e255f3e7'),\n",
      " 'contact': {'email': 'cocomd@autosaurus.com', 'phone': '555-876-8758'},\n",
      " 'hours': {'Friday': '10am-6pm',\n",
      "           'Saturday': '11am-7pm',\n",
      "           'Sunday': '11am-7pm',\n",
      "           'Thursday': '11am-7pm',\n",
      "           'Wednesday': '8am-4pm'},\n",
      " 'mechanic_name': 'Dacey Cocom'}\n",
      "{'_id': ObjectId('651cbecafd2e29e5e255f3e8'),\n",
      " 'contact': {'email': 'yupanquiq@autosaurus.com', 'phone': '555-876-8759'},\n",
      " 'hours': {'Friday': '8am-4pm',\n",
      "           'Monday': '8am-4pm',\n",
      "           'Thursday': '8am-4pm',\n",
      "           'Tuesday': '11am-7pm',\n",
      "           'Wednesday': '10am-6pm'},\n",
      " 'mechanic_name': 'Quenti Yupanqui'}\n",
      "{'_id': ObjectId('651cbecafd2e29e5e255f3e9'),\n",
      " 'contact': {'email': 'sanit@autosaurus.com', 'phone': '555-876-8760'},\n",
      " 'hours': {'Friday': '9am-5pm',\n",
      "           'Saturday': '11am-7pm',\n",
      "           'Thursday': '8am-4pm',\n",
      "           'Tuesday': '9am-5pm',\n",
      "           'Wednesday': '9am-5pm'},\n",
      " 'mechanic_name': 'Taiwo Sani'}\n",
      "{'_id': ObjectId('651f525d34893f041cde4ef5'),\n",
      " 'contact': {'email': 'spanner@autosaurus.com', 'phone': '555-876-8754'},\n",
      " 'hours': {'Monday': '8am-4pm',\n",
      "           'Sunday': '8am-4pm',\n",
      "           'Thursday': '8am-4pm',\n",
      "           'Tuesday': '11am-7pm',\n",
      "           'Wednesday': '10am-6pm'},\n",
      " 'mechanic_name': 'Spanner McGee'}\n",
      "{'_id': ObjectId('651f525d34893f041cde4ef6'),\n",
      " 'contact': {'email': 'tanakaa@autosaurus.com', 'phone': '555-876-8755'},\n",
      " 'hours': {'Friday': '8am-4pm',\n",
      "           'Saturday': '8am-4pm',\n",
      "           'Thursday': '10am-6pm',\n",
      "           'Tuesday': '8am-4pm',\n",
      "           'Wednesday': '11am-7pm'},\n",
      " 'mechanic_name': 'Ai Tanaka'}\n",
      "{'_id': ObjectId('651f525d34893f041cde4ef7'),\n",
      " 'contact': {'email': 'khatrip@autosaurus.com', 'phone': '555-876-8756'},\n",
      " 'hours': {'Friday': '10am-6pm',\n",
      "           'Monday': '11am-7pm',\n",
      "           'Saturday': '8am-4pm',\n",
      "           'Sunday': '8am-4pm',\n",
      "           'Tuesday': '10am-6pm'},\n",
      " 'mechanic_name': 'Parvati Khatri'}\n",
      "{'_id': ObjectId('651f525d34893f041cde4ef8'),\n",
      " 'contact': {'email': 'gwanj@autosaurus.com', 'phone': '555-876-8757'},\n",
      " 'hours': {'Friday': '8am-4pm',\n",
      "           'Monday': '8am-4pm',\n",
      "           'Thursday': '8am-4pm',\n",
      "           'Tuesday': '11am-7pm',\n",
      "           'Wednesday': '10am-6pm'},\n",
      " 'mechanic_name': 'Gwan Jun-ho'}\n",
      "{'_id': ObjectId('651f525d34893f041cde4ef9'),\n",
      " 'contact': {'email': 'cocomd@autosaurus.com', 'phone': '555-876-8758'},\n",
      " 'hours': {'Friday': '10am-6pm',\n",
      "           'Saturday': '11am-7pm',\n",
      "           'Sunday': '11am-7pm',\n",
      "           'Thursday': '11am-7pm',\n",
      "           'Wednesday': '8am-4pm'},\n",
      " 'mechanic_name': 'Dacey Cocom'}\n",
      "{'_id': ObjectId('651f525d34893f041cde4efa'),\n",
      " 'contact': {'email': 'yupanquiq@autosaurus.com', 'phone': '555-876-8759'},\n",
      " 'hours': {'Friday': '8am-4pm',\n",
      "           'Monday': '8am-4pm',\n",
      "           'Thursday': '8am-4pm',\n",
      "           'Tuesday': '11am-7pm',\n",
      "           'Wednesday': '10am-6pm'},\n",
      " 'mechanic_name': 'Quenti Yupanqui'}\n",
      "{'_id': ObjectId('651f525d34893f041cde4efb'),\n",
      " 'contact': {'email': 'sanit@autosaurus.com', 'phone': '555-876-8760'},\n",
      " 'hours': {'Friday': '9am-5pm',\n",
      "           'Saturday': '11am-7pm',\n",
      "           'Thursday': '8am-4pm',\n",
      "           'Tuesday': '9am-5pm',\n",
      "           'Wednesday': '9am-5pm'},\n",
      " 'mechanic_name': 'Taiwo Sani'}\n"
     ]
    }
   ],
   "source": [
    "# Select every field from the mechanics collection except the car_specialties field\n",
    "query = {}\n",
    "fields = {'car_specialties':0,'wages':0}\n",
    "\n",
    "# Capture the results to a variable\n",
    "res = mechanics.find(query,fields)\n",
    "\n",
    "# Pretty print the results\n",
    "for r in res:\n",
    "    pprint(r)"
   ]
  },
  {
   "cell_type": "code",
   "execution_count": null,
   "id": "b31575f9",
   "metadata": {},
   "outputs": [],
   "source": []
  }
 ],
 "metadata": {
  "kernelspec": {
   "display_name": "PythonData",
   "language": "python",
   "name": "pythondata"
  },
  "language_info": {
   "codemirror_mode": {
    "name": "ipython",
    "version": 3
   },
   "file_extension": ".py",
   "mimetype": "text/x-python",
   "name": "python",
   "nbconvert_exporter": "python",
   "pygments_lexer": "ipython3",
   "version": "3.7.7"
  }
 },
 "nbformat": 4,
 "nbformat_minor": 5
}
