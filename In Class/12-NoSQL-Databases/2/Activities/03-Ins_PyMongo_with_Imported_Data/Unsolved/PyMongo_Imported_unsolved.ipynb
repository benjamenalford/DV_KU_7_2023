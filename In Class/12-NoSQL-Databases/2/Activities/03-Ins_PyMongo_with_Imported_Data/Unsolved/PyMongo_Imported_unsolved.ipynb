{
 "cells": [
  {
   "cell_type": "markdown",
   "id": "66bbbd47",
   "metadata": {},
   "source": [
    "# Introduction to Mongo"
   ]
  },
  {
   "cell_type": "code",
   "execution_count": 1,
   "id": "70a78ee3",
   "metadata": {},
   "outputs": [],
   "source": [
    "from pymongo import MongoClient"
   ]
  },
  {
   "cell_type": "code",
   "execution_count": 3,
   "id": "8691650c",
   "metadata": {},
   "outputs": [],
   "source": [
    "# Create an instance of MongoClient\n",
    "mongo = MongoClient()"
   ]
  },
  {
   "cell_type": "code",
   "execution_count": 4,
   "id": "66232456",
   "metadata": {},
   "outputs": [
    {
     "data": {
      "text/plain": [
       "['admin',\n",
       " 'automobiles',\n",
       " 'classDB',\n",
       " 'config',\n",
       " 'fruits_db',\n",
       " 'local',\n",
       " 'marketing']"
      ]
     },
     "execution_count": 4,
     "metadata": {},
     "output_type": "execute_result"
    }
   ],
   "source": [
    "# confirm that our new database was created\n",
    "mongo.list_database_names()"
   ]
  },
  {
   "cell_type": "code",
   "execution_count": 6,
   "id": "e4fa4c88",
   "metadata": {},
   "outputs": [],
   "source": [
    "# assign the database to a variable name\n",
    "market_db = mongo.marketing"
   ]
  },
  {
   "cell_type": "code",
   "execution_count": 7,
   "id": "8bf903ea",
   "metadata": {},
   "outputs": [
    {
     "data": {
      "text/plain": [
       "['customers']"
      ]
     },
     "execution_count": 7,
     "metadata": {},
     "output_type": "execute_result"
    }
   ],
   "source": [
    "# review the collections in our new database\n",
    "market_db.list_collection_names()"
   ]
  },
  {
   "cell_type": "code",
   "execution_count": 8,
   "id": "f691b0e5",
   "metadata": {},
   "outputs": [
    {
     "data": {
      "text/plain": [
       "{'_id': ObjectId('651f4f1e34893f041cde4df2'),\n",
       " 'Customer_First': 'Tyrese',\n",
       " 'Customer_Last': 'Buckridge',\n",
       " 'Address': '2533 Ford Views',\n",
       " 'Email': 'wcastro@yahoo.com',\n",
       " '2021_Visits': 27,\n",
       " '2021_Total_Spend': 465.75,\n",
       " 'Pet_Type': 'bird'}"
      ]
     },
     "execution_count": 8,
     "metadata": {},
     "output_type": "execute_result"
    }
   ],
   "source": [
    "# review a document in the customer_list collection\n",
    "market_db.customers.find_one()"
   ]
  },
  {
   "cell_type": "code",
   "execution_count": 9,
   "id": "9ae2660d",
   "metadata": {},
   "outputs": [],
   "source": [
    "# assign the collection to a variable\n",
    "custs = market_db.customers"
   ]
  },
  {
   "cell_type": "code",
   "execution_count": 10,
   "id": "d9f7c8c1",
   "metadata": {},
   "outputs": [
    {
     "data": {
      "text/plain": [
       "<pymongo.results.InsertOneResult at 0x14300c965c8>"
      ]
     },
     "execution_count": 10,
     "metadata": {},
     "output_type": "execute_result"
    }
   ],
   "source": [
    "# insert a new customer\n",
    "new_cust = {\n",
    "    'Customer_First': 'Taylor',\n",
    " 'Customer_Last': 'Kelcee',\n",
    " 'Address': '1 Arrowhead St',\n",
    " 'Email': 'luck_13@yahoo.com',\n",
    " '2021_Visits': 27,\n",
    " '2021_Total_Spend': 465000000.75,\n",
    " 'Pet_Type': 'bird'}\n",
    "custs.insert_one(new_cust)"
   ]
  },
  {
   "cell_type": "code",
   "execution_count": 21,
   "id": "ba4f2f53",
   "metadata": {},
   "outputs": [],
   "source": [
    "# Filter results by name\n",
    "cust_query = {'Pet_Type': 'bird'}\n",
    "for result in custs.find(cust_query):\n",
    "    print(result)"
   ]
  },
  {
   "cell_type": "code",
   "execution_count": null,
   "id": "9b21177a",
   "metadata": {},
   "outputs": [],
   "source": []
  },
  {
   "cell_type": "code",
   "execution_count": 20,
   "id": "902de760",
   "metadata": {},
   "outputs": [
    {
     "data": {
      "text/plain": [
       "<pymongo.results.DeleteResult at 0x14300bdea48>"
      ]
     },
     "execution_count": 20,
     "metadata": {},
     "output_type": "execute_result"
    }
   ],
   "source": [
    "# Delete all the customers who have hamsters\n",
    "custs.delete_many(cust_query)"
   ]
  },
  {
   "cell_type": "code",
   "execution_count": null,
   "id": "19bb7dd2",
   "metadata": {},
   "outputs": [],
   "source": [
    "# Delete a collection\n",
    "#db.drop_collection('customers')"
   ]
  },
  {
   "cell_type": "code",
   "execution_count": null,
   "id": "1a883e3d",
   "metadata": {},
   "outputs": [],
   "source": [
    "# Delete the database\n",
    "#db.drop_database('marketing')"
   ]
  }
 ],
 "metadata": {
  "kernelspec": {
   "display_name": "PythonData",
   "language": "python",
   "name": "pythondata"
  },
  "language_info": {
   "codemirror_mode": {
    "name": "ipython",
    "version": 3
   },
   "file_extension": ".py",
   "mimetype": "text/x-python",
   "name": "python",
   "nbconvert_exporter": "python",
   "pygments_lexer": "ipython3",
   "version": "3.7.7"
  }
 },
 "nbformat": 4,
 "nbformat_minor": 5
}
