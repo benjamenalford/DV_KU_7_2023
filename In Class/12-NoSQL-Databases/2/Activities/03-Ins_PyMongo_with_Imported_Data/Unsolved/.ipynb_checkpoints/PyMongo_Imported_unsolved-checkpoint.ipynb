{
 "cells": [
  {
   "cell_type": "markdown",
   "id": "2a5b6760",
   "metadata": {},
   "source": [
    "# Introduction to Mongo"
   ]
  },
  {
   "cell_type": "code",
   "execution_count": 1,
   "id": "5f10cd28",
   "metadata": {},
   "outputs": [],
   "source": [
    "from pymongo import MongoClient"
   ]
  },
  {
   "cell_type": "code",
   "execution_count": 3,
   "id": "625ce7f2",
   "metadata": {},
   "outputs": [],
   "source": [
    "# Create an instance of MongoClient\n",
    "mongo = MongoClient()"
   ]
  },
  {
   "cell_type": "code",
   "execution_count": 4,
   "id": "5d9494b9",
   "metadata": {},
   "outputs": [
    {
     "data": {
      "text/plain": [
       "['admin',\n",
       " 'automobiles',\n",
       " 'classDB',\n",
       " 'config',\n",
       " 'fruits_db',\n",
       " 'local',\n",
       " 'marketing']"
      ]
     },
     "execution_count": 4,
     "metadata": {},
     "output_type": "execute_result"
    }
   ],
   "source": [
    "# confirm that our new database was created\n",
    "mongo.list_database_names()"
   ]
  },
  {
   "cell_type": "code",
   "execution_count": 6,
   "id": "c62d2f80",
   "metadata": {},
   "outputs": [],
   "source": [
    "# assign the database to a variable name\n",
    "market_db = mongo.marketing"
   ]
  },
  {
   "cell_type": "code",
   "execution_count": null,
   "id": "7f6791e2",
   "metadata": {},
   "outputs": [],
   "source": [
    "# review the collections in our new database\n"
   ]
  },
  {
   "cell_type": "code",
   "execution_count": null,
   "id": "e3f21a07",
   "metadata": {},
   "outputs": [],
   "source": [
    "# review a document in the customer_list collection\n"
   ]
  },
  {
   "cell_type": "code",
   "execution_count": null,
   "id": "16ebb118",
   "metadata": {},
   "outputs": [],
   "source": [
    "# assign the collection to a variable\n"
   ]
  },
  {
   "cell_type": "code",
   "execution_count": null,
   "id": "e03d97bf",
   "metadata": {},
   "outputs": [],
   "source": [
    "# insert a new customer\n"
   ]
  },
  {
   "cell_type": "code",
   "execution_count": null,
   "id": "653e259c",
   "metadata": {},
   "outputs": [],
   "source": [
    "# Filter results by name\n"
   ]
  },
  {
   "cell_type": "code",
   "execution_count": null,
   "id": "16560537",
   "metadata": {},
   "outputs": [],
   "source": [
    "# Find the number of customers with hamsters\n"
   ]
  },
  {
   "cell_type": "code",
   "execution_count": null,
   "id": "3ba80843",
   "metadata": {},
   "outputs": [],
   "source": [
    "# Delete all the customers who have hamsters\n"
   ]
  },
  {
   "cell_type": "code",
   "execution_count": null,
   "id": "7e91a880",
   "metadata": {},
   "outputs": [],
   "source": [
    "# Delete a collection\n"
   ]
  },
  {
   "cell_type": "code",
   "execution_count": null,
   "id": "aa1fd2ad",
   "metadata": {},
   "outputs": [],
   "source": [
    "# Delete the database\n"
   ]
  }
 ],
 "metadata": {
  "kernelspec": {
   "display_name": "PythonData",
   "language": "python",
   "name": "pythondata"
  },
  "language_info": {
   "codemirror_mode": {
    "name": "ipython",
    "version": 3
   },
   "file_extension": ".py",
   "mimetype": "text/x-python",
   "name": "python",
   "nbconvert_exporter": "python",
   "pygments_lexer": "ipython3",
   "version": "3.7.7"
  }
 },
 "nbformat": 4,
 "nbformat_minor": 5
}
