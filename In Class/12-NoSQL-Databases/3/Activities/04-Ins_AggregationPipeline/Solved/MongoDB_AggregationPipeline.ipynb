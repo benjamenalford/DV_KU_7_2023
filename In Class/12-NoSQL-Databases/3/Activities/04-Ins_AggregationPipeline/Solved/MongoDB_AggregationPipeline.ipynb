{
 "cells": [
  {
   "cell_type": "code",
   "execution_count": 1,
   "id": "46f3c8c3",
   "metadata": {},
   "outputs": [],
   "source": [
    "# Import dependencies\n",
    "from pymongo import MongoClient\n",
    "from pprint import pprint\n",
    "import pandas as pd"
   ]
  },
  {
   "cell_type": "code",
   "execution_count": 2,
   "id": "fda45310",
   "metadata": {},
   "outputs": [],
   "source": [
    "# Create an instance of MongoClient\n",
    "mongo = MongoClient(port=27017)\n",
    "\n",
    "# assign the met database to a variable name\n",
    "db = mongo['met']\n",
    "\n",
    "# assign the collection to a variable\n",
    "artifacts = db['artifacts']"
   ]
  },
  {
   "cell_type": "code",
   "execution_count": 20,
   "id": "e0f06fcd",
   "metadata": {},
   "outputs": [
    {
     "name": "stdout",
     "output_type": "stream",
     "text": [
      "[{'$match': {'measurements.elementMeasurements.Width': {'$gte': 40}}}, {'$group': {'_id': '$country', 'count': {'$sum': 1}}}, {'$match': {'_id': {'$eq': 'Peru'}}}, {'$sort': {'count': -1}}]\n"
     ]
    }
   ],
   "source": [
    "# Build the aggregation pipeline\n",
    "# Write a match query to find only the documents about artifacts that have a width greater than or equal to 40cm.\n",
    "match_query = {'$match': {'measurements.elementMeasurements.Width': {'$gte': 40}}}\n",
    "\n",
    "# Write an aggregation query that counts the number of documents, grouped by \"country\"\n",
    "group_query = {'$group': {'_id': \"$country\", 'count': { '$sum': 1 }}}\n",
    "\n",
    "# Create a dictionary that will allow the pipeline to sort by count in descending order\n",
    "sort_values = {'$sort': { 'count': -1 }}\n",
    "\n",
    "match_query2 = {'$match': {'_id': {'$eq': 'Peru'}}}\n",
    "\n",
    "# Put the pipeline together\n",
    "pipeline = [match_query, group_query,match_query2, sort_values]\n",
    "print(pipeline)"
   ]
  },
  {
   "cell_type": "code",
   "execution_count": 16,
   "id": "ea348b77",
   "metadata": {},
   "outputs": [
    {
     "data": {
      "text/plain": [
       "[{'_id': 'Peru', 'count': 13}]"
      ]
     },
     "execution_count": 16,
     "metadata": {},
     "output_type": "execute_result"
    }
   ],
   "source": [
    "# Run the pipeline through the aggregate method and save the results to a variable\n",
    "results = list(artifacts.aggregate(pipeline))\n",
    "results"
   ]
  },
  {
   "cell_type": "code",
   "execution_count": 17,
   "id": "e66f968a",
   "metadata": {},
   "outputs": [
    {
     "name": "stdout",
     "output_type": "stream",
     "text": [
      "Number of countries in result:  1\n"
     ]
    }
   ],
   "source": [
    "# Print the number of countries in the result\n",
    "print(\"Number of countries in result: \", len(results))"
   ]
  },
  {
   "cell_type": "code",
   "execution_count": 18,
   "id": "974f7971",
   "metadata": {},
   "outputs": [
    {
     "name": "stdout",
     "output_type": "stream",
     "text": [
      "[{'_id': 'Peru', 'count': 13}]\n"
     ]
    }
   ],
   "source": [
    "# Print the first 10 results\n",
    "pprint(results[0:10])"
   ]
  },
  {
   "cell_type": "code",
   "execution_count": 19,
   "id": "77fc2afd",
   "metadata": {},
   "outputs": [
    {
     "name": "stdout",
     "output_type": "stream",
     "text": [
      "Rows in DataFrame:  1\n"
     ]
    },
    {
     "data": {
      "text/html": [
       "<div>\n",
       "<style scoped>\n",
       "    .dataframe tbody tr th:only-of-type {\n",
       "        vertical-align: middle;\n",
       "    }\n",
       "\n",
       "    .dataframe tbody tr th {\n",
       "        vertical-align: top;\n",
       "    }\n",
       "\n",
       "    .dataframe thead th {\n",
       "        text-align: right;\n",
       "    }\n",
       "</style>\n",
       "<table border=\"1\" class=\"dataframe\">\n",
       "  <thead>\n",
       "    <tr style=\"text-align: right;\">\n",
       "      <th></th>\n",
       "      <th>_id</th>\n",
       "      <th>count</th>\n",
       "    </tr>\n",
       "  </thead>\n",
       "  <tbody>\n",
       "    <tr>\n",
       "      <th>0</th>\n",
       "      <td>Peru</td>\n",
       "      <td>13</td>\n",
       "    </tr>\n",
       "  </tbody>\n",
       "</table>\n",
       "</div>"
      ],
      "text/plain": [
       "    _id  count\n",
       "0  Peru     13"
      ]
     },
     "execution_count": 19,
     "metadata": {},
     "output_type": "execute_result"
    }
   ],
   "source": [
    "# Convert mongo result to Pandas DataFrame\n",
    "result_df = pd.DataFrame(results)\n",
    "\n",
    "print(\"Rows in DataFrame: \", len(result_df))\n",
    "result_df.head(10)"
   ]
  },
  {
   "cell_type": "code",
   "execution_count": null,
   "id": "261d6719",
   "metadata": {},
   "outputs": [],
   "source": []
  },
  {
   "cell_type": "markdown",
   "id": "21ccf0fe",
   "metadata": {},
   "source": [
    "Data Source: [The Metropolitan Museum of Art](https://www.metmuseum.org/) (2022). The Metropolitan Museum of Art Collection API https://metmuseum.github.io/. Licenced under the [Creative Commons 0 Licence](https://creativecommons.org/publicdomain/zero/1.0/).<br />\n",
    "Accessed Oct 3, 2022. Data collected from departmentId=5 (\"Arts of Africa, Oceania, and the Americas\") and search string \"animal\"."
   ]
  }
 ],
 "metadata": {
  "kernelspec": {
   "display_name": "PythonData",
   "language": "python",
   "name": "pythondata"
  },
  "language_info": {
   "codemirror_mode": {
    "name": "ipython",
    "version": 3
   },
   "file_extension": ".py",
   "mimetype": "text/x-python",
   "name": "python",
   "nbconvert_exporter": "python",
   "pygments_lexer": "ipython3",
   "version": "3.7.7"
  }
 },
 "nbformat": 4,
 "nbformat_minor": 5
}
