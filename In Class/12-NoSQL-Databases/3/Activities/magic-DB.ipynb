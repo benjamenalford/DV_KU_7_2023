{
 "cells": [
  {
   "cell_type": "markdown",
   "metadata": {},
   "source": [
    "# Scrape Magic Links"
   ]
  },
  {
   "cell_type": "code",
   "execution_count": 1,
   "metadata": {},
   "outputs": [],
   "source": [
    "from splinter import Browser\n",
    "from bs4 import BeautifulSoup as soup\n",
    "from selenium.webdriver.chrome.service import Service\n",
    "import time\n",
    "from pymongo import MongoClient"
   ]
  },
  {
   "cell_type": "code",
   "execution_count": 2,
   "metadata": {},
   "outputs": [],
   "source": [
    "mongo = MongoClient()\n",
    "db = mongo['magic']\n",
    "card_decks = db['card_decks']"
   ]
  },
  {
   "cell_type": "code",
   "execution_count": 3,
   "metadata": {},
   "outputs": [],
   "source": [
    "my_service = Service(executable_path='c:/chrome_driver/chromedriver.exe')\n",
    "browser = Browser('chrome', service=my_service)"
   ]
  },
  {
   "cell_type": "code",
   "execution_count": 4,
   "metadata": {},
   "outputs": [],
   "source": [
    "def read_cards(url):\n",
    "    cards_col = db['cards']\n",
    "    my_service = Service(executable_path='c:/chrome_driver/chromedriver.exe')\n",
    "    card_browser = Browser('chrome', service=my_service)\n",
    "    card_browser.visit(url)\n",
    "    time.sleep(1)\n",
    "    card_page = soup(card_browser.html)\n",
    "    card_list = []\n",
    "    for card in card_page.find('div',class_='maindeck').find_all('li','list__item'):\n",
    "        the_card =card.find('span',class_='').text.strip()\n",
    "        card_list.append(the_card)\n",
    "        cards_col.update_one({\"card\":the_card}, {\"$set\":{\"card\":the_card,\"multiple\":True}}, upsert=True)\n",
    "    card_browser.quit()\n",
    "    return card_list"
   ]
  },
  {
   "cell_type": "code",
   "execution_count": 5,
   "metadata": {},
   "outputs": [],
   "source": [
    "# Visit the website\n",
    "url = 'https://infinite.tcgplayer.com/magic-the-gathering/decks/advanced-search?formats=standard&p=1'\n",
    "browser.visit(url)"
   ]
  },
  {
   "cell_type": "code",
   "execution_count": 6,
   "metadata": {},
   "outputs": [],
   "source": [
    "# Create a BeautifulSoup parser to parse the HTML codepage_s\n",
    "page_soup = soup(browser.html)"
   ]
  },
  {
   "cell_type": "code",
   "execution_count": 7,
   "metadata": {},
   "outputs": [
    {
     "name": "stdout",
     "output_type": "stream",
     "text": [
      "<h2 class=\"title martech-text-lg martech-text-bold martech-barlow martech-one-line\" data-testid=\"grid-card__card-grid-deck__title\" data-v-45c68ff8=\"\">Bear Minimum <!-- --></h2> <div class=\"market-price\" data-testid=\"RouterLink__market-price-template\" data-v-df6ff770=\"\"><div class=\"market-price__new-style\" data-v-df6ff770=\"\"><p class=\"martech-text-sm\" data-v-df6ff770=\"\">$4.65</p></div></div> /magic-the-gathering/deck/Bear-Minimum/478789\n"
     ]
    }
   ],
   "source": [
    "# find all of the rows\n",
    "title = page_soup.find('div', class_='grid').find('a', class_='martech-base-link').find('h2',class_='title')\n",
    "price = page_soup.find('div', class_='grid').find('a', class_='martech-base-link').find('div',class_='market-price')\n",
    "xurl = page_soup.find('div', class_='grid').find('a', class_='martech-base-link')['href']\n",
    "deck_base_url ='https://infinite.tcgplayer.com'\n",
    "print(title, price, xurl)"
   ]
  },
  {
   "cell_type": "code",
   "execution_count": 8,
   "metadata": {
    "scrolled": true
   },
   "outputs": [
    {
     "name": "stdout",
     "output_type": "stream",
     "text": [
      "getting page 1 of 1\n",
      "getting page 2 of 1\n",
      "getting page 3 of 1\n",
      "getting page 4 of 1\n",
      "getting page 5 of 1\n",
      "getting page 6 of 1\n",
      "getting page 7 of 1\n",
      "getting page 8 of 1\n",
      "getting page 9 of 1\n"
     ]
    }
   ],
   "source": [
    "# Extract and store the cards for each of the decks \n",
    "browser.visit(url)\n",
    "for i in range(1,10):\n",
    "    print(f\"getting page {i} of 10\")\n",
    "    time.sleep(2)\n",
    "    page_soup = soup(browser.html)\n",
    "   \n",
    "    result_grid = page_soup.find('div', class_='grid').find_all('a', class_='martech-base-link')\n",
    "    deck ={}\n",
    "    for item in result_grid:\n",
    "        try:\n",
    "            deck ={}\n",
    "            deck['title'] = item.find('h2',class_='title').text.strip()\n",
    "            deck['price'] = item.find('div',class_='market-price').text.strip()\n",
    "            deck['url'] = item['href']\n",
    "            card_url = deck_base_url + deck['url'] \n",
    "            deck['cards'] = read_cards(card_url)\n",
    "            card_decks.insert_one(deck)\n",
    "        except AttributeError as e:\n",
    "            pass\n",
    "    browser.find_by_css('.martech-pagination-next').click()"
   ]
  },
  {
   "cell_type": "markdown",
   "metadata": {},
   "source": [
    "## Scrape Book Links from Multiple Pages"
   ]
  },
  {
   "cell_type": "code",
   "execution_count": null,
   "metadata": {},
   "outputs": [],
   "source": [
    "# Automate clicking the next button\n",
    "import pandas as pd\n",
    "pd.DataFrame(decks)\n",
    "#martech-pagination-next\n"
   ]
  },
  {
   "cell_type": "code",
   "execution_count": null,
   "metadata": {},
   "outputs": [],
   "source": [
    "card_page = soup(browser.html)\n",
    "card_page.find('div',class_='maindeck').find('li','list__item').find('span',class_='').text"
   ]
  },
  {
   "cell_type": "code",
   "execution_count": null,
   "metadata": {},
   "outputs": [],
   "source": []
  },
  {
   "cell_type": "code",
   "execution_count": null,
   "metadata": {
    "scrolled": true
   },
   "outputs": [],
   "source": []
  },
  {
   "cell_type": "code",
   "execution_count": null,
   "metadata": {},
   "outputs": [],
   "source": [
    "browser.visit(deck_base_url)"
   ]
  },
  {
   "cell_type": "code",
   "execution_count": null,
   "metadata": {},
   "outputs": [],
   "source": [
    "browser.quit()"
   ]
  }
 ],
 "metadata": {
  "kernelspec": {
   "display_name": "Python 3 (ipykernel)",
   "language": "python",
   "name": "python3"
  },
  "language_info": {
   "codemirror_mode": {
    "name": "ipython",
    "version": 3
   },
   "file_extension": ".py",
   "mimetype": "text/x-python",
   "name": "python",
   "nbconvert_exporter": "python",
   "pygments_lexer": "ipython3",
   "version": "3.7.7"
  },
  "vscode": {
   "interpreter": {
    "hash": "31f2aee4e71d21fbe5cf8b01ff0e069b9275f58929596ceb00d14d90e3e16cd6"
   }
  }
 },
 "nbformat": 4,
 "nbformat_minor": 4
}
