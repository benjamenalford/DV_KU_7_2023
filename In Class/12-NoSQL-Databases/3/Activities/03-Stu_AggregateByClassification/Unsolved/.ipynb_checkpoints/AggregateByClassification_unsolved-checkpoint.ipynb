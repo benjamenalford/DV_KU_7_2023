{
 "cells": [
  {
   "cell_type": "code",
   "execution_count": 1,
   "id": "0a54430b",
   "metadata": {},
   "outputs": [],
   "source": [
    "# Import dependencies\n",
    "from pymongo import MongoClient\n",
    "from pprint import pprint\n",
    "import pandas as pd"
   ]
  },
  {
   "cell_type": "code",
   "execution_count": 2,
   "id": "20d23d1d",
   "metadata": {},
   "outputs": [],
   "source": [
    "# Create an instance of MongoClient\n",
    "mongo = MongoClient(port=27017)\n",
    "\n",
    "# assign the met database to a variable name\n",
    "db = mongo['met']\n",
    "\n",
    "# assign the collection to a variable\n",
    "artifacts = db['artifacts']"
   ]
  },
  {
   "cell_type": "code",
   "execution_count": 3,
   "id": "c87d01de",
   "metadata": {},
   "outputs": [],
   "source": [
    "# Write an aggregation query that counts the number of documents, grouped by \"classification\"\n",
    "query = [{'$group': {'_id': \"$classfication\", 'count': { '$sum': 1 }}}]"
   ]
  },
  {
   "cell_type": "code",
   "execution_count": null,
   "id": "d940d813",
   "metadata": {},
   "outputs": [],
   "source": [
    "# Run the query with the aggregate method and save the results to a variable\n"
   ]
  },
  {
   "cell_type": "code",
   "execution_count": null,
   "id": "17a2c3bf",
   "metadata": {},
   "outputs": [],
   "source": [
    "# Print the number of classifications in the result\n"
   ]
  },
  {
   "cell_type": "code",
   "execution_count": null,
   "id": "703e0c51",
   "metadata": {},
   "outputs": [],
   "source": [
    "# Print the first 10 results\n"
   ]
  },
  {
   "cell_type": "code",
   "execution_count": null,
   "id": "8fe39a56",
   "metadata": {},
   "outputs": [],
   "source": [
    "# Convert mongo result to Pandas DataFrame\n",
    "\n",
    "# Display the first 10 rows of the DataFrame\n"
   ]
  }
 ],
 "metadata": {
  "kernelspec": {
   "display_name": "PythonData",
   "language": "python",
   "name": "pythondata"
  },
  "language_info": {
   "codemirror_mode": {
    "name": "ipython",
    "version": 3
   },
   "file_extension": ".py",
   "mimetype": "text/x-python",
   "name": "python",
   "nbconvert_exporter": "python",
   "pygments_lexer": "ipython3",
   "version": "3.7.7"
  }
 },
 "nbformat": 4,
 "nbformat_minor": 5
}
