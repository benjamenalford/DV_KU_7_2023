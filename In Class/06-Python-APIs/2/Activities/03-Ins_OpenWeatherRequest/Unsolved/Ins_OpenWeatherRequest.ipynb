{
 "cells": [
  {
   "cell_type": "code",
   "execution_count": 1,
   "metadata": {},
   "outputs": [],
   "source": [
    "# Dependencies\n",
    "import json\n",
    "import requests\n",
    "from config import api_key\n",
    "from config import hello\n",
    "api_key = '8bbeec0c5f27738268b3d23f00127515'"
   ]
  },
  {
   "cell_type": "code",
   "execution_count": 2,
   "metadata": {},
   "outputs": [
    {
     "data": {
      "text/plain": [
       "'http://api.openweathermap.org/data/2.5/weather?q=Kansas City&appid=8bbeec0c5f27738268b3d23f00127515&units=imperial'"
      ]
     },
     "execution_count": 2,
     "metadata": {},
     "output_type": "execute_result"
    }
   ],
   "source": [
    "# Save config information\n",
    "city = \"Kansas City\"\n",
    "# Build query URL\n",
    "url = f\"http://api.openweathermap.org/data/2.5/weather?q={city}&appid={hello()}&units=imperial\"\n",
    "url"
   ]
  },
  {
   "cell_type": "code",
   "execution_count": 3,
   "metadata": {},
   "outputs": [],
   "source": [
    "# Get weather data\n",
    "response = requests.get(url).json()\n",
    "# Get the temperature from the response\n",
    "temp = response['main']['temp']"
   ]
  },
  {
   "cell_type": "code",
   "execution_count": 4,
   "metadata": {},
   "outputs": [
    {
     "data": {
      "text/plain": [
       "80.64"
      ]
     },
     "execution_count": 4,
     "metadata": {},
     "output_type": "execute_result"
    }
   ],
   "source": [
    "temp"
   ]
  },
  {
   "cell_type": "code",
   "execution_count": 6,
   "metadata": {},
   "outputs": [],
   "source": [
    "cities = [\"topeka\",\"kansas city\",\"new york\",\"fargo\"]"
   ]
  },
  {
   "cell_type": "code",
   "execution_count": 10,
   "metadata": {},
   "outputs": [
    {
     "name": "stdout",
     "output_type": "stream",
     "text": [
      "topeka 80.01\n",
      "kansas city 80.11\n",
      "new york 71.47\n",
      "fargo 80.31\n"
     ]
    }
   ],
   "source": [
    "temps = []\n",
    "for city in cities:\n",
    "    url = f\"http://api.openweathermap.org/data/2.5/weather?q={city}&appid={hello()}&units=imperial\"\n",
    "    response = requests.get(url).json()\n",
    "    temp = response['main']['temp']\n",
    "    temps.append({\"city\":city,\"temp\":temp})\n",
    "    print(city,temp)"
   ]
  },
  {
   "cell_type": "code",
   "execution_count": 11,
   "metadata": {},
   "outputs": [
    {
     "data": {
      "text/plain": [
       "[{'city': 'topeka', 'temp': 80.01},\n",
       " {'city': 'kansas city', 'temp': 80.11},\n",
       " {'city': 'new york', 'temp': 71.47},\n",
       " {'city': 'fargo', 'temp': 80.31}]"
      ]
     },
     "execution_count": 11,
     "metadata": {},
     "output_type": "execute_result"
    }
   ],
   "source": [
    "temps"
   ]
  },
  {
   "cell_type": "code",
   "execution_count": 12,
   "metadata": {},
   "outputs": [],
   "source": [
    "import pandas as pd"
   ]
  },
  {
   "cell_type": "code",
   "execution_count": 14,
   "metadata": {},
   "outputs": [
    {
     "data": {
      "text/html": [
       "<div>\n",
       "<style scoped>\n",
       "    .dataframe tbody tr th:only-of-type {\n",
       "        vertical-align: middle;\n",
       "    }\n",
       "\n",
       "    .dataframe tbody tr th {\n",
       "        vertical-align: top;\n",
       "    }\n",
       "\n",
       "    .dataframe thead th {\n",
       "        text-align: right;\n",
       "    }\n",
       "</style>\n",
       "<table border=\"1\" class=\"dataframe\">\n",
       "  <thead>\n",
       "    <tr style=\"text-align: right;\">\n",
       "      <th></th>\n",
       "      <th>city</th>\n",
       "      <th>temp</th>\n",
       "    </tr>\n",
       "  </thead>\n",
       "  <tbody>\n",
       "    <tr>\n",
       "      <th>0</th>\n",
       "      <td>topeka</td>\n",
       "      <td>80.01</td>\n",
       "    </tr>\n",
       "    <tr>\n",
       "      <th>1</th>\n",
       "      <td>kansas city</td>\n",
       "      <td>80.11</td>\n",
       "    </tr>\n",
       "    <tr>\n",
       "      <th>2</th>\n",
       "      <td>new york</td>\n",
       "      <td>71.47</td>\n",
       "    </tr>\n",
       "    <tr>\n",
       "      <th>3</th>\n",
       "      <td>fargo</td>\n",
       "      <td>80.31</td>\n",
       "    </tr>\n",
       "  </tbody>\n",
       "</table>\n",
       "</div>"
      ],
      "text/plain": [
       "          city   temp\n",
       "0       topeka  80.01\n",
       "1  kansas city  80.11\n",
       "2     new york  71.47\n",
       "3        fargo  80.31"
      ]
     },
     "execution_count": 14,
     "metadata": {},
     "output_type": "execute_result"
    }
   ],
   "source": [
    "df =pd.DataFrame(temps)\n",
    "df"
   ]
  },
  {
   "cell_type": "code",
   "execution_count": 16,
   "metadata": {},
   "outputs": [],
   "source": [
    "df = df.set_index('city')"
   ]
  },
  {
   "cell_type": "code",
   "execution_count": 28,
   "metadata": {},
   "outputs": [
    {
     "data": {
      "text/plain": [
       "<matplotlib.axes._subplots.AxesSubplot at 0x27122c088c8>"
      ]
     },
     "execution_count": 28,
     "metadata": {},
     "output_type": "execute_result"
    },
    {
     "data": {
      "image/png": "[encoded data removed]",
      "text/plain": [
       "<Figure size 432x288 with 1 Axes>"
      ]
     },
     "metadata": {
      "needs_background": "light"
     },
     "output_type": "display_data"
    }
   ],
   "source": [
    "df.plot(kind=\"bar\")"
   ]
  },
  {
   "cell_type": "code",
   "execution_count": 22,
   "metadata": {},
   "outputs": [],
   "source": [
    "responses = []\n",
    "for city in cities:\n",
    "    url = f\"http://api.openweathermap.org/data/2.5/weather?q={city}&appid={hello()}&units=imperial\"\n",
    "    response = requests.get(url).json()\n",
    "    responses.append(response)"
   ]
  },
  {
   "cell_type": "code",
   "execution_count": 23,
   "metadata": {},
   "outputs": [
    {
     "data": {
      "text/plain": [
       "[{'coord': {'lon': -95.678, 'lat': 39.0483},\n",
       "  'weather': [{'id': 800,\n",
       "    'main': 'Clear',\n",
       "    'description': 'clear sky',\n",
       "    'icon': '01d'}],\n",
       "  'base': 'stations',\n",
       "  'main': {'temp': 80.01,\n",
       "   'feels_like': 81.39,\n",
       "   'temp_min': 77.86,\n",
       "   'temp_max': 82.22,\n",
       "   'pressure': 1015,\n",
       "   'humidity': 56},\n",
       "  'visibility': 10000,\n",
       "  'wind': {'speed': 3.44, 'deg': 100},\n",
       "  'clouds': {'all': 0},\n",
       "  'dt': 1693268200,\n",
       "  'sys': {'type': 2,\n",
       "   'id': 2003274,\n",
       "   'country': 'US',\n",
       "   'sunrise': 1693223272,\n",
       "   'sunset': 1693270835},\n",
       "  'timezone': -18000,\n",
       "  'id': 4280539,\n",
       "  'name': 'Topeka',\n",
       "  'cod': 200},\n",
       " {'coord': {'lon': -94.5786, 'lat': 39.0997},\n",
       "  'weather': [{'id': 800,\n",
       "    'main': 'Clear',\n",
       "    'description': 'clear sky',\n",
       "    'icon': '01d'}],\n",
       "  'base': 'stations',\n",
       "  'main': {'temp': 80.11,\n",
       "   'feels_like': 81.73,\n",
       "   'temp_min': 76.42,\n",
       "   'temp_max': 83.25,\n",
       "   'pressure': 1015,\n",
       "   'humidity': 58},\n",
       "  'visibility': 10000,\n",
       "  'wind': {'speed': 3.44, 'deg': 330},\n",
       "  'clouds': {'all': 0},\n",
       "  'dt': 1693268197,\n",
       "  'sys': {'type': 1,\n",
       "   'id': 4903,\n",
       "   'country': 'US',\n",
       "   'sunrise': 1693223004,\n",
       "   'sunset': 1693270575},\n",
       "  'timezone': -18000,\n",
       "  'id': 4393217,\n",
       "  'name': 'Kansas City',\n",
       "  'cod': 200},\n",
       " {'coord': {'lon': -74.006, 'lat': 40.7143},\n",
       "  'weather': [{'id': 804,\n",
       "    'main': 'Clouds',\n",
       "    'description': 'overcast clouds',\n",
       "    'icon': '04n'}],\n",
       "  'base': 'stations',\n",
       "  'main': {'temp': 71.47,\n",
       "   'feels_like': 71.94,\n",
       "   'temp_min': 68.97,\n",
       "   'temp_max': 73.45,\n",
       "   'pressure': 1018,\n",
       "   'humidity': 77},\n",
       "  'visibility': 10000,\n",
       "  'wind': {'speed': 10.36, 'deg': 150},\n",
       "  'clouds': {'all': 100},\n",
       "  'dt': 1693268079,\n",
       "  'sys': {'type': 2,\n",
       "   'id': 2008101,\n",
       "   'country': 'US',\n",
       "   'sunrise': 1693217942,\n",
       "   'sunset': 1693265764},\n",
       "  'timezone': -14400,\n",
       "  'id': 5128581,\n",
       "  'name': 'New York',\n",
       "  'cod': 200},\n",
       " {'coord': {'lon': -96.7898, 'lat': 46.8772},\n",
       "  'weather': [{'id': 801,\n",
       "    'main': 'Clouds',\n",
       "    'description': 'few clouds',\n",
       "    'icon': '02d'}],\n",
       "  'base': 'stations',\n",
       "  'main': {'temp': 80.31,\n",
       "   'feels_like': 81.28,\n",
       "   'temp_min': 78.84,\n",
       "   'temp_max': 80.58,\n",
       "   'pressure': 1014,\n",
       "   'humidity': 52},\n",
       "  'visibility': 10000,\n",
       "  'wind': {'speed': 6.91, 'deg': 30},\n",
       "  'clouds': {'all': 20},\n",
       "  'dt': 1693268428,\n",
       "  'sys': {'type': 1,\n",
       "   'id': 4060,\n",
       "   'country': 'US',\n",
       "   'sunrise': 1693222887,\n",
       "   'sunset': 1693271752},\n",
       "  'timezone': -18000,\n",
       "  'id': 5059163,\n",
       "  'name': 'Fargo',\n",
       "  'cod': 200}]"
      ]
     },
     "execution_count": 23,
     "metadata": {},
     "output_type": "execute_result"
    }
   ],
   "source": [
    "responses"
   ]
  },
  {
   "cell_type": "code",
   "execution_count": 26,
   "metadata": {},
   "outputs": [
    {
     "data": {
      "text/html": [
       "<div>\n",
       "<style scoped>\n",
       "    .dataframe tbody tr th:only-of-type {\n",
       "        vertical-align: middle;\n",
       "    }\n",
       "\n",
       "    .dataframe tbody tr th {\n",
       "        vertical-align: top;\n",
       "    }\n",
       "\n",
       "    .dataframe thead th {\n",
       "        text-align: right;\n",
       "    }\n",
       "</style>\n",
       "<table border=\"1\" class=\"dataframe\">\n",
       "  <thead>\n",
       "    <tr style=\"text-align: right;\">\n",
       "      <th></th>\n",
       "      <th>coord</th>\n",
       "      <th>weather</th>\n",
       "      <th>base</th>\n",
       "      <th>main</th>\n",
       "      <th>visibility</th>\n",
       "      <th>wind</th>\n",
       "      <th>clouds</th>\n",
       "      <th>dt</th>\n",
       "      <th>sys</th>\n",
       "      <th>timezone</th>\n",
       "      <th>id</th>\n",
       "      <th>name</th>\n",
       "      <th>cod</th>\n",
       "    </tr>\n",
       "  </thead>\n",
       "  <tbody>\n",
       "    <tr>\n",
       "      <th>0</th>\n",
       "      <td>{'lon': -95.678, 'lat': 39.0483}</td>\n",
       "      <td>[{'id': 800, 'main': 'Clear', 'description': '...</td>\n",
       "      <td>stations</td>\n",
       "      <td>{'temp': 80.01, 'feels_like': 81.39, 'temp_min...</td>\n",
       "      <td>10000</td>\n",
       "      <td>{'speed': 3.44, 'deg': 100}</td>\n",
       "      <td>{'all': 0}</td>\n",
       "      <td>1693268200</td>\n",
       "      <td>{'type': 2, 'id': 2003274, 'country': 'US', 's...</td>\n",
       "      <td>-18000</td>\n",
       "      <td>4280539</td>\n",
       "      <td>Topeka</td>\n",
       "      <td>200</td>\n",
       "    </tr>\n",
       "    <tr>\n",
       "      <th>1</th>\n",
       "      <td>{'lon': -94.5786, 'lat': 39.0997}</td>\n",
       "      <td>[{'id': 800, 'main': 'Clear', 'description': '...</td>\n",
       "      <td>stations</td>\n",
       "      <td>{'temp': 80.11, 'feels_like': 81.73, 'temp_min...</td>\n",
       "      <td>10000</td>\n",
       "      <td>{'speed': 3.44, 'deg': 330}</td>\n",
       "      <td>{'all': 0}</td>\n",
       "      <td>1693268197</td>\n",
       "      <td>{'type': 1, 'id': 4903, 'country': 'US', 'sunr...</td>\n",
       "      <td>-18000</td>\n",
       "      <td>4393217</td>\n",
       "      <td>Kansas City</td>\n",
       "      <td>200</td>\n",
       "    </tr>\n",
       "    <tr>\n",
       "      <th>2</th>\n",
       "      <td>{'lon': -74.006, 'lat': 40.7143}</td>\n",
       "      <td>[{'id': 804, 'main': 'Clouds', 'description': ...</td>\n",
       "      <td>stations</td>\n",
       "      <td>{'temp': 71.47, 'feels_like': 71.94, 'temp_min...</td>\n",
       "      <td>10000</td>\n",
       "      <td>{'speed': 10.36, 'deg': 150}</td>\n",
       "      <td>{'all': 100}</td>\n",
       "      <td>1693268079</td>\n",
       "      <td>{'type': 2, 'id': 2008101, 'country': 'US', 's...</td>\n",
       "      <td>-14400</td>\n",
       "      <td>5128581</td>\n",
       "      <td>New York</td>\n",
       "      <td>200</td>\n",
       "    </tr>\n",
       "    <tr>\n",
       "      <th>3</th>\n",
       "      <td>{'lon': -96.7898, 'lat': 46.8772}</td>\n",
       "      <td>[{'id': 801, 'main': 'Clouds', 'description': ...</td>\n",
       "      <td>stations</td>\n",
       "      <td>{'temp': 80.31, 'feels_like': 81.28, 'temp_min...</td>\n",
       "      <td>10000</td>\n",
       "      <td>{'speed': 6.91, 'deg': 30}</td>\n",
       "      <td>{'all': 20}</td>\n",
       "      <td>1693268428</td>\n",
       "      <td>{'type': 1, 'id': 4060, 'country': 'US', 'sunr...</td>\n",
       "      <td>-18000</td>\n",
       "      <td>5059163</td>\n",
       "      <td>Fargo</td>\n",
       "      <td>200</td>\n",
       "    </tr>\n",
       "  </tbody>\n",
       "</table>\n",
       "</div>"
      ],
      "text/plain": [
       "                               coord  \\\n",
       "0   {'lon': -95.678, 'lat': 39.0483}   \n",
       "1  {'lon': -94.5786, 'lat': 39.0997}   \n",
       "2   {'lon': -74.006, 'lat': 40.7143}   \n",
       "3  {'lon': -96.7898, 'lat': 46.8772}   \n",
       "\n",
       "                                             weather      base  \\\n",
       "0  [{'id': 800, 'main': 'Clear', 'description': '...  stations   \n",
       "1  [{'id': 800, 'main': 'Clear', 'description': '...  stations   \n",
       "2  [{'id': 804, 'main': 'Clouds', 'description': ...  stations   \n",
       "3  [{'id': 801, 'main': 'Clouds', 'description': ...  stations   \n",
       "\n",
       "                                                main  visibility  \\\n",
       "0  {'temp': 80.01, 'feels_like': 81.39, 'temp_min...       10000   \n",
       "1  {'temp': 80.11, 'feels_like': 81.73, 'temp_min...       10000   \n",
       "2  {'temp': 71.47, 'feels_like': 71.94, 'temp_min...       10000   \n",
       "3  {'temp': 80.31, 'feels_like': 81.28, 'temp_min...       10000   \n",
       "\n",
       "                           wind        clouds          dt  \\\n",
       "0   {'speed': 3.44, 'deg': 100}    {'all': 0}  1693268200   \n",
       "1   {'speed': 3.44, 'deg': 330}    {'all': 0}  1693268197   \n",
       "2  {'speed': 10.36, 'deg': 150}  {'all': 100}  1693268079   \n",
       "3    {'speed': 6.91, 'deg': 30}   {'all': 20}  1693268428   \n",
       "\n",
       "                                                 sys  timezone       id  \\\n",
       "0  {'type': 2, 'id': 2003274, 'country': 'US', 's...    -18000  4280539   \n",
       "1  {'type': 1, 'id': 4903, 'country': 'US', 'sunr...    -18000  4393217   \n",
       "2  {'type': 2, 'id': 2008101, 'country': 'US', 's...    -14400  5128581   \n",
       "3  {'type': 1, 'id': 4060, 'country': 'US', 'sunr...    -18000  5059163   \n",
       "\n",
       "          name  cod  \n",
       "0       Topeka  200  \n",
       "1  Kansas City  200  \n",
       "2     New York  200  \n",
       "3        Fargo  200  "
      ]
     },
     "execution_count": 26,
     "metadata": {},
     "output_type": "execute_result"
    }
   ],
   "source": [
    "pd.DataFrame(responses)"
   ]
  },
  {
   "cell_type": "code",
   "execution_count": null,
   "metadata": {},
   "outputs": [],
   "source": []
  }
 ],
 "metadata": {
  "kernelspec": {
   "display_name": "Python 3 (ipykernel)",
   "language": "python",
   "name": "python3"
  },
  "language_info": {
   "codemirror_mode": {
    "name": "ipython",
    "version": 3
   },
   "file_extension": ".py",
   "mimetype": "text/x-python",
   "name": "python",
   "nbconvert_exporter": "python",
   "pygments_lexer": "ipython3",
   "version": "3.7.7"
  },
  "varInspector": {
   "cols": {
    "lenName": 16,
    "lenType": 16,
    "lenVar": 40
   },
   "kernels_config": {
    "python": {
     "delete_cmd_postfix": "",
     "delete_cmd_prefix": "del ",
     "library": "var_list.py",
     "varRefreshCmd": "print(var_dic_list())"
    },
    "r": {
     "delete_cmd_postfix": ") ",
     "delete_cmd_prefix": "rm(",
     "library": "var_list.r",
     "varRefreshCmd": "cat(var_dic_list()) "
    }
   },
   "types_to_exclude": [
    "module",
    "function",
    "builtin_function_or_method",
    "instance",
    "_Feature"
   ],
   "window_display": false
  }
 },
 "nbformat": 4,
 "nbformat_minor": 2
}
