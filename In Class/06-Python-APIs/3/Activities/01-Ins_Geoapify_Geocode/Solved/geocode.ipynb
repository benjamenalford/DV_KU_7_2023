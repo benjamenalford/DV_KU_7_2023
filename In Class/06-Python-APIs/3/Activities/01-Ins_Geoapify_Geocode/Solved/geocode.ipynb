{
 "cells": [
  {
   "cell_type": "markdown",
   "metadata": {},
   "source": [
    "# Geoapify Geocode Demo"
   ]
  },
  {
   "cell_type": "code",
   "execution_count": 1,
   "metadata": {},
   "outputs": [],
   "source": [
    "# Dependencies\n",
    "import requests\n",
    "import json\n",
    "\n",
    "# Import the API key\n",
    "from config import geoapify_key"
   ]
  },
  {
   "cell_type": "code",
   "execution_count": 7,
   "metadata": {},
   "outputs": [],
   "source": [
    "# Target city\n",
    "target_city = \"Topeka, KS\"\n",
    "\n",
    "# Build the endpoint URL\n",
    "target_url = f\"https://api.geoapify.com/v1/geocode/search?text={target_city}&format=json&apiKey={geoapify_key}\""
   ]
  },
  {
   "cell_type": "code",
   "execution_count": 8,
   "metadata": {},
   "outputs": [
    {
     "data": {
      "text/plain": [
       "'https://api.geoapify.com/v1/geocode/search?text=Topeka, KS&format=json&apiKey=7a82d4cd259a431aa407abcfbdefb62d'"
      ]
     },
     "execution_count": 8,
     "metadata": {},
     "output_type": "execute_result"
    }
   ],
   "source": [
    "target_url"
   ]
  },
  {
   "cell_type": "code",
   "execution_count": 9,
   "metadata": {},
   "outputs": [
    {
     "name": "stdout",
     "output_type": "stream",
     "text": [
      "{'results': [{'datasource': {'sourcename': 'openstreetmap', 'attribution': '© OpenStreetMap contributors', 'license': 'Open Database License', 'url': 'https://www.openstreetmap.org/copyright'}, 'country': 'United States', 'country_code': 'us', 'state': 'Kansas', 'county': 'Shawnee County', 'city': 'Topeka', 'lon': -95.677556, 'lat': 39.049011, 'state_code': 'KS', 'formatted': 'Topeka, KS, United States of America', 'address_line1': 'Topeka, KS', 'address_line2': 'United States of America', 'category': 'administrative', 'timezone': {'name': 'America/Chicago', 'offset_STD': '-06:00', 'offset_STD_seconds': -21600, 'offset_DST': '-05:00', 'offset_DST_seconds': -18000, 'abbreviation_STD': 'CST', 'abbreviation_DST': 'CDT'}, 'plus_code': '86F628XC+JX', 'plus_code_short': '+JX Topeka, Shawnee County, United States', 'result_type': 'city', 'rank': {'importance': 0.6541024841955382, 'popularity': 2.1665874712099247, 'confidence': 1, 'confidence_city_level': 1, 'match_type': 'full_match'}, 'place_id': '51594dd7135deb57c059771211fe45864340f00101f9015cfc010000000000c00208', 'bbox': {'lon1': -95.812263, 'lat1': 38.917193, 'lon2': -95.6019399, 'lat2': 39.1094}}], 'query': {'text': 'Topeka, KS', 'parsed': {'city': 'topeka', 'state': 'ks', 'expected_type': 'city'}}}\n"
     ]
    }
   ],
   "source": [
    "# Run a request to endpoint and convert result to json\n",
    "geo_data = requests.get(target_url).json()\n",
    "\n",
    "# Print the json\n",
    "print(geo_data)"
   ]
  },
  {
   "cell_type": "code",
   "execution_count": 10,
   "metadata": {},
   "outputs": [
    {
     "name": "stdout",
     "output_type": "stream",
     "text": [
      "{\n",
      "    \"query\": {\n",
      "        \"parsed\": {\n",
      "            \"city\": \"topeka\",\n",
      "            \"expected_type\": \"city\",\n",
      "            \"state\": \"ks\"\n",
      "        },\n",
      "        \"text\": \"Topeka, KS\"\n",
      "    },\n",
      "    \"results\": [\n",
      "        {\n",
      "            \"address_line1\": \"Topeka, KS\",\n",
      "            \"address_line2\": \"United States of America\",\n",
      "            \"bbox\": {\n",
      "                \"lat1\": 38.917193,\n",
      "                \"lat2\": 39.1094,\n",
      "                \"lon1\": -95.812263,\n",
      "                \"lon2\": -95.6019399\n",
      "            },\n",
      "            \"category\": \"administrative\",\n",
      "            \"city\": \"Topeka\",\n",
      "            \"country\": \"United States\",\n",
      "            \"country_code\": \"us\",\n",
      "            \"county\": \"Shawnee County\",\n",
      "            \"datasource\": {\n",
      "                \"attribution\": \"\\u00a9 OpenStreetMap contributors\",\n",
      "                \"license\": \"Open Database License\",\n",
      "                \"sourcename\": \"openstreetmap\",\n",
      "                \"url\": \"https://www.openstreetmap.org/copyright\"\n",
      "            },\n",
      "            \"formatted\": \"Topeka, KS, United States of America\",\n",
      "            \"lat\": 39.049011,\n",
      "            \"lon\": -95.677556,\n",
      "            \"place_id\": \"51594dd7135deb57c059771211fe45864340f00101f9015cfc010000000000c00208\",\n",
      "            \"plus_code\": \"86F628XC+JX\",\n",
      "            \"plus_code_short\": \"+JX Topeka, Shawnee County, United States\",\n",
      "            \"rank\": {\n",
      "                \"confidence\": 1,\n",
      "                \"confidence_city_level\": 1,\n",
      "                \"importance\": 0.6541024841955382,\n",
      "                \"match_type\": \"full_match\",\n",
      "                \"popularity\": 2.1665874712099247\n",
      "            },\n",
      "            \"result_type\": \"city\",\n",
      "            \"state\": \"Kansas\",\n",
      "            \"state_code\": \"KS\",\n",
      "            \"timezone\": {\n",
      "                \"abbreviation_DST\": \"CDT\",\n",
      "                \"abbreviation_STD\": \"CST\",\n",
      "                \"name\": \"America/Chicago\",\n",
      "                \"offset_DST\": \"-05:00\",\n",
      "                \"offset_DST_seconds\": -18000,\n",
      "                \"offset_STD\": \"-06:00\",\n",
      "                \"offset_STD_seconds\": -21600\n",
      "            }\n",
      "        }\n",
      "    ]\n",
      "}\n"
     ]
    }
   ],
   "source": [
    "# Print the json (pretty printed)\n",
    "print(json.dumps(geo_data, indent=4, sort_keys=True))"
   ]
  },
  {
   "cell_type": "code",
   "execution_count": 11,
   "metadata": {},
   "outputs": [
    {
     "name": "stdout",
     "output_type": "stream",
     "text": [
      "\n",
      "    City: Topeka, KS\n",
      "    Latitude: 39.049011\n",
      "    Longitude: -95.677556\n",
      "    \n"
     ]
    }
   ],
   "source": [
    "# Extract latitude and longitude\n",
    "lat = geo_data[\"results\"][0][\"lat\"]\n",
    "lon = geo_data[\"results\"][0][\"lon\"]\n",
    "\n",
    "# Print the latitude and longitude\n",
    "print('''\n",
    "    City: {0}\n",
    "    Latitude: {1}\n",
    "    Longitude: {2}\n",
    "    '''.format(target_city, lat, lon))"
   ]
  },
  {
   "cell_type": "code",
   "execution_count": null,
   "metadata": {},
   "outputs": [],
   "source": []
  }
 ],
 "metadata": {
  "anaconda-cloud": {},
  "kernelspec": {
   "display_name": "Python 3 (ipykernel)",
   "language": "python",
   "name": "python3"
  },
  "language_info": {
   "codemirror_mode": {
    "name": "ipython",
    "version": 3
   },
   "file_extension": ".py",
   "mimetype": "text/x-python",
   "name": "python",
   "nbconvert_exporter": "python",
   "pygments_lexer": "ipython3",
   "version": "3.7.7"
  }
 },
 "nbformat": 4,
 "nbformat_minor": 4
}
