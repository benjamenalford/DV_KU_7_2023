{
 "cells": [
  {
   "cell_type": "markdown",
   "metadata": {},
   "source": [
    "# Scrape Magic Links"
   ]
  },
  {
   "cell_type": "code",
   "execution_count": 2,
   "metadata": {},
   "outputs": [],
   "source": [
    "from splinter import Browser\n",
    "from bs4 import BeautifulSoup as soup\n",
    "from selenium.webdriver.chrome.service import Service\n",
    "import time"
   ]
  },
  {
   "cell_type": "code",
   "execution_count": 31,
   "metadata": {},
   "outputs": [],
   "source": [
    "my_service = Service(executable_path='c:/chrome_driver/chromedriver.exe')\n",
    "browser = Browser('chrome', service=my_service)"
   ]
  },
  {
   "cell_type": "markdown",
   "metadata": {},
   "source": [
    "## Scrape Book Links from One Page"
   ]
  },
  {
   "cell_type": "code",
   "execution_count": 32,
   "metadata": {},
   "outputs": [],
   "source": [
    "# Visit the website\n",
    "url = 'https://infinite.tcgplayer.com/magic-the-gathering/decks/advanced-search?formats=standard&p=1'\n",
    "browser.visit(url)"
   ]
  },
  {
   "cell_type": "code",
   "execution_count": 33,
   "metadata": {},
   "outputs": [],
   "source": [
    "# Create a BeautifulSoup parser to parse the HTML codepage_s\n",
    "page_soup = soup(browser.html)"
   ]
  },
  {
   "cell_type": "code",
   "execution_count": 34,
   "metadata": {},
   "outputs": [
    {
     "name": "stdout",
     "output_type": "stream",
     "text": [
      "<h2 class=\"title martech-text-lg martech-text-bold martech-barlow martech-one-line\" data-testid=\"grid-card__card-grid-deck__title\" data-v-45c68ff8=\"\">Samut Red <!-- --></h2> <div class=\"market-price\" data-testid=\"RouterLink__market-price-template\" data-v-df6ff770=\"\"><div class=\"market-price__new-style\" data-v-df6ff770=\"\"><p class=\"martech-text-sm\" data-v-df6ff770=\"\">$47.67</p></div></div> /magic-the-gathering/deck/Samut-Red/478422\n"
     ]
    }
   ],
   "source": [
    "# find all of the rows\n",
    "title = page_soup.find('div', class_='grid').find('a', class_='martech-base-link').find('h2',class_='title')\n",
    "price = page_soup.find('div', class_='grid').find('a', class_='martech-base-link').find('div',class_='market-price')\n",
    "xurl = page_soup.find('div', class_='grid').find('a', class_='martech-base-link')['href']\n",
    "deck_base_url ='https://infinite.tcgplayer.com/'\n",
    "print(title, price, xurl)"
   ]
  },
  {
   "cell_type": "code",
   "execution_count": 47,
   "metadata": {
    "scrolled": true
   },
   "outputs": [
    {
     "name": "stdout",
     "output_type": "stream",
     "text": [
      "getting page 1 of 5\n",
      "getting page 2 of 5\n",
      "getting page 3 of 5\n",
      "getting page 4 of 5\n"
     ]
    }
   ],
   "source": [
    "# Extract and store the links for each of the books \n",
    "decks = []\n",
    "browser.visit(url)\n",
    "for i in range(1,5):\n",
    "    print(f\"getting page {i} of 5\")\n",
    "    time.sleep(1)\n",
    "    page_soup = soup(browser.html)\n",
    "   \n",
    "    result_grid = page_soup.find('div', class_='grid').find_all('a', class_='martech-base-link')\n",
    "    deck ={}\n",
    "    for item in result_grid:\n",
    "        try:\n",
    "            deck ={}\n",
    "            deck['title'] = item.find('h2',class_='title').text.strip()\n",
    "            deck['price'] = item.find('div',class_='market-price').text.strip()\n",
    "            deck['url'] = item['href']\n",
    "            decks.append(deck)\n",
    "        except AttributeError as e:\n",
    "            pass\n",
    "    browser.find_by_css('.martech-pagination-next').click()"
   ]
  },
  {
   "cell_type": "markdown",
   "metadata": {},
   "source": [
    "## Scrape Book Links from Multiple Pages"
   ]
  },
  {
   "cell_type": "code",
   "execution_count": 45,
   "metadata": {},
   "outputs": [
    {
     "data": {
      "text/plain": [
       "192"
      ]
     },
     "execution_count": 45,
     "metadata": {},
     "output_type": "execute_result"
    }
   ],
   "source": [
    "# Automate clicking the next button\n",
    "import pandas as pd\n",
    "pd.DataFrame(decks)\n",
    "#martech-pagination-next\n"
   ]
  },
  {
   "cell_type": "code",
   "execution_count": 56,
   "metadata": {},
   "outputs": [
    {
     "data": {
      "text/plain": [
       "'Surge Engine'"
      ]
     },
     "execution_count": 56,
     "metadata": {},
     "output_type": "execute_result"
    }
   ],
   "source": [
    "card_page = soup(browser.html)\n",
    "card_page.find('div',class_='maindeck').find('li','list__item').find('span',class_='').text"
   ]
  },
  {
   "cell_type": "code",
   "execution_count": 58,
   "metadata": {},
   "outputs": [],
   "source": [
    "def read_cards(url):\n",
    "    card_list = []\n",
    "    for card in card_page.find('div',class_='maindeck').find_all('li','list__item'):\n",
    "        the_card =card.find('span',class_='').text.strip()\n",
    "        card_list.append(the_card)\n",
    "    return []"
   ]
  },
  {
   "cell_type": "code",
   "execution_count": 62,
   "metadata": {},
   "outputs": [],
   "source": [
    "deck_base_url ='https://infinite.tcgplayer.com' + decks[0]['url']"
   ]
  },
  {
   "cell_type": "code",
   "execution_count": 64,
   "metadata": {},
   "outputs": [],
   "source": [
    "browser.visit(deck_base_url)"
   ]
  },
  {
   "cell_type": "code",
   "execution_count": null,
   "metadata": {},
   "outputs": [],
   "source": [
    "browser.quit()"
   ]
  }
 ],
 "metadata": {
  "kernelspec": {
   "display_name": "Python 3 (ipykernel)",
   "language": "python",
   "name": "python3"
  },
  "language_info": {
   "codemirror_mode": {
    "name": "ipython",
    "version": 3
   },
   "file_extension": ".py",
   "mimetype": "text/x-python",
   "name": "python",
   "nbconvert_exporter": "python",
   "pygments_lexer": "ipython3",
   "version": "3.7.7"
  },
  "vscode": {
   "interpreter": {
    "hash": "31f2aee4e71d21fbe5cf8b01ff0e069b9275f58929596ceb00d14d90e3e16cd6"
   }
  }
 },
 "nbformat": 4,
 "nbformat_minor": 4
}
