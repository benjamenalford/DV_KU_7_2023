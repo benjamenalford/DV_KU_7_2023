{
 "cells": [
  {
   "cell_type": "code",
   "execution_count": 1,
   "metadata": {
    "slideshow": {
     "slide_type": "subslide"
    }
   },
   "outputs": [],
   "source": [
    "%matplotlib inline\n",
    "import matplotlib.pyplot as plt\n",
    "import pandas as pd\n",
    "from path import Path"
   ]
  },
  {
   "cell_type": "markdown",
   "metadata": {},
   "source": [
    "# SPECTF Heart Data Set\n",
    "\n",
    "## Data Set Information\n",
    "\n",
    "The dataset describes diagnosing of cardiac Single Proton Emission Computed Tomography (SPECT) images. Each of the patients is classified into two categories: normal and abnormal. The database of 267 SPECT image sets (patients) was processed to extract features that summarize the original SPECT images. As a result, 44 continuous feature pattern was created for each patient.\n",
    "\n",
    "## Attribute Information:\n",
    "\n",
    "1. OVERALL_DIAGNOSIS: 0,1 (class attribute, binary)\n",
    "2. F1R: continuous (count in ROI (region of interest) 1 in rest)\n",
    "3. F1S: continuous (count in ROI 1 in stress)\n",
    "4. F2R: continuous (count in ROI 2 in rest)\n",
    "5. F2S: continuous (count in ROI 2 in stress)\n",
    "6. F3R: continuous (count in ROI 3 in rest)\n",
    "7. F3S: continuous (count in ROI 3 in stress)\n",
    "8. F4R: continuous (count in ROI 4 in rest)\n",
    "9. F4S: continuous (count in ROI 4 in stress)\n",
    "10. F5R: continuous (count in ROI 5 in rest)\n",
    "11. F5S: continuous (count in ROI 5 in stress)\n",
    "12. F6R: continuous (count in ROI 6 in rest)\n",
    "13. F6S: continuous (count in ROI 6 in stress)\n",
    "14. F7R: continuous (count in ROI 7 in rest)\n",
    "15. F7S: continuous (count in ROI 7 in stress)\n",
    "16. F8R: continuous (count in ROI 8 in rest)\n",
    "17. F8S: continuous (count in ROI 8 in stress)\n",
    "18. F9R: continuous (count in ROI 9 in rest)\n",
    "19. F9S: continuous (count in ROI 9 in stress)\n",
    "20. F10R: continuous (count in ROI 10 in rest)\n",
    "21. F10S: continuous (count in ROI 10 in stress)\n",
    "22. F11R: continuous (count in ROI 11 in rest)\n",
    "23. F11S: continuous (count in ROI 11 in stress)\n",
    "24. F12R: continuous (count in ROI 12 in rest)\n",
    "25. F12S: continuous (count in ROI 12 in stress)\n",
    "26. F13R: continuous (count in ROI 13 in rest)\n",
    "27. F13S: continuous (count in ROI 13 in stress)\n",
    "28. F14R: continuous (count in ROI 14 in rest)\n",
    "29. F14S: continuous (count in ROI 14 in stress)\n",
    "30. F15R: continuous (count in ROI 15 in rest)\n",
    "31. F15S: continuous (count in ROI 15 in stress)\n",
    "32. F16R: continuous (count in ROI 16 in rest)\n",
    "33. F16S: continuous (count in ROI 16 in stress)\n",
    "34. F17R: continuous (count in ROI 17 in rest)\n",
    "35. F17S: continuous (count in ROI 17 in stress)\n",
    "36. F18R: continuous (count in ROI 18 in rest)\n",
    "37. F18S: continuous (count in ROI 18 in stress)\n",
    "38. F19R: continuous (count in ROI 19 in rest)\n",
    "39. F19S: continuous (count in ROI 19 in stress)\n",
    "40. F20R: continuous (count in ROI 20 in rest)\n",
    "41. F20S: continuous (count in ROI 20 in stress)\n",
    "42. F21R: continuous (count in ROI 21 in rest)\n",
    "43. F21S: continuous (count in ROI 21 in stress)\n",
    "44. F22R: continuous (count in ROI 22 in rest)\n",
    "45. F22S: continuous (count in ROI 22 in stress)\n",
    "\n",
    "**Data Source:** [SPECTF Heart Data Set](https://archive.ics.uci.edu/ml/datasets/SPECTF+Heart). Dua, D. and Graff, C. (2019). UCI Machine Learning Repository [http://archive.ics.uci.edu/ml]. Irvine, CA: University of California, School of Information and Computer Science."
   ]
  },
  {
   "cell_type": "code",
   "execution_count": 2,
   "metadata": {},
   "outputs": [
    {
     "data": {
      "text/html": [
       "<div>\n",
       "<style scoped>\n",
       "    .dataframe tbody tr th:only-of-type {\n",
       "        vertical-align: middle;\n",
       "    }\n",
       "\n",
       "    .dataframe tbody tr th {\n",
       "        vertical-align: top;\n",
       "    }\n",
       "\n",
       "    .dataframe thead th {\n",
       "        text-align: right;\n",
       "    }\n",
       "</style>\n",
       "<table border=\"1\" class=\"dataframe\">\n",
       "  <thead>\n",
       "    <tr style=\"text-align: right;\">\n",
       "      <th></th>\n",
       "      <th>OVERALL_DIAGNOSIS</th>\n",
       "      <th>F1R</th>\n",
       "      <th>F1S</th>\n",
       "      <th>F2R</th>\n",
       "      <th>F2S</th>\n",
       "      <th>F3R</th>\n",
       "      <th>F3S</th>\n",
       "      <th>F4R</th>\n",
       "      <th>F4S</th>\n",
       "      <th>F5R</th>\n",
       "      <th>...</th>\n",
       "      <th>F18R</th>\n",
       "      <th>F18S</th>\n",
       "      <th>F19R</th>\n",
       "      <th>F19S</th>\n",
       "      <th>F20R</th>\n",
       "      <th>F20S</th>\n",
       "      <th>F21R</th>\n",
       "      <th>F21S</th>\n",
       "      <th>F22R</th>\n",
       "      <th>F22S</th>\n",
       "    </tr>\n",
       "  </thead>\n",
       "  <tbody>\n",
       "    <tr>\n",
       "      <th>0</th>\n",
       "      <td>1</td>\n",
       "      <td>63</td>\n",
       "      <td>70</td>\n",
       "      <td>64</td>\n",
       "      <td>72</td>\n",
       "      <td>56</td>\n",
       "      <td>64</td>\n",
       "      <td>58</td>\n",
       "      <td>69</td>\n",
       "      <td>68</td>\n",
       "      <td>...</td>\n",
       "      <td>66</td>\n",
       "      <td>69</td>\n",
       "      <td>59</td>\n",
       "      <td>58</td>\n",
       "      <td>53</td>\n",
       "      <td>64</td>\n",
       "      <td>59</td>\n",
       "      <td>54</td>\n",
       "      <td>43</td>\n",
       "      <td>49</td>\n",
       "    </tr>\n",
       "    <tr>\n",
       "      <th>1</th>\n",
       "      <td>1</td>\n",
       "      <td>69</td>\n",
       "      <td>71</td>\n",
       "      <td>70</td>\n",
       "      <td>78</td>\n",
       "      <td>61</td>\n",
       "      <td>63</td>\n",
       "      <td>67</td>\n",
       "      <td>65</td>\n",
       "      <td>59</td>\n",
       "      <td>...</td>\n",
       "      <td>61</td>\n",
       "      <td>61</td>\n",
       "      <td>66</td>\n",
       "      <td>65</td>\n",
       "      <td>72</td>\n",
       "      <td>73</td>\n",
       "      <td>68</td>\n",
       "      <td>68</td>\n",
       "      <td>59</td>\n",
       "      <td>63</td>\n",
       "    </tr>\n",
       "    <tr>\n",
       "      <th>2</th>\n",
       "      <td>1</td>\n",
       "      <td>65</td>\n",
       "      <td>62</td>\n",
       "      <td>67</td>\n",
       "      <td>68</td>\n",
       "      <td>65</td>\n",
       "      <td>67</td>\n",
       "      <td>71</td>\n",
       "      <td>71</td>\n",
       "      <td>64</td>\n",
       "      <td>...</td>\n",
       "      <td>67</td>\n",
       "      <td>63</td>\n",
       "      <td>74</td>\n",
       "      <td>63</td>\n",
       "      <td>77</td>\n",
       "      <td>79</td>\n",
       "      <td>68</td>\n",
       "      <td>70</td>\n",
       "      <td>59</td>\n",
       "      <td>56</td>\n",
       "    </tr>\n",
       "    <tr>\n",
       "      <th>3</th>\n",
       "      <td>0</td>\n",
       "      <td>75</td>\n",
       "      <td>75</td>\n",
       "      <td>70</td>\n",
       "      <td>77</td>\n",
       "      <td>67</td>\n",
       "      <td>75</td>\n",
       "      <td>75</td>\n",
       "      <td>75</td>\n",
       "      <td>67</td>\n",
       "      <td>...</td>\n",
       "      <td>71</td>\n",
       "      <td>69</td>\n",
       "      <td>66</td>\n",
       "      <td>63</td>\n",
       "      <td>70</td>\n",
       "      <td>73</td>\n",
       "      <td>66</td>\n",
       "      <td>68</td>\n",
       "      <td>58</td>\n",
       "      <td>59</td>\n",
       "    </tr>\n",
       "    <tr>\n",
       "      <th>4</th>\n",
       "      <td>1</td>\n",
       "      <td>65</td>\n",
       "      <td>56</td>\n",
       "      <td>67</td>\n",
       "      <td>58</td>\n",
       "      <td>76</td>\n",
       "      <td>79</td>\n",
       "      <td>70</td>\n",
       "      <td>71</td>\n",
       "      <td>59</td>\n",
       "      <td>...</td>\n",
       "      <td>68</td>\n",
       "      <td>63</td>\n",
       "      <td>54</td>\n",
       "      <td>38</td>\n",
       "      <td>57</td>\n",
       "      <td>52</td>\n",
       "      <td>71</td>\n",
       "      <td>74</td>\n",
       "      <td>59</td>\n",
       "      <td>65</td>\n",
       "    </tr>\n",
       "  </tbody>\n",
       "</table>\n",
       "<p>5 rows × 45 columns</p>\n",
       "</div>"
      ],
      "text/plain": [
       "   OVERALL_DIAGNOSIS  F1R  F1S  F2R  F2S  F3R  F3S  F4R  F4S  F5R  ...  F18R  \\\n",
       "0                  1   63   70   64   72   56   64   58   69   68  ...    66   \n",
       "1                  1   69   71   70   78   61   63   67   65   59  ...    61   \n",
       "2                  1   65   62   67   68   65   67   71   71   64  ...    67   \n",
       "3                  0   75   75   70   77   67   75   75   75   67  ...    71   \n",
       "4                  1   65   56   67   58   76   79   70   71   59  ...    68   \n",
       "\n",
       "   F18S  F19R  F19S  F20R  F20S  F21R  F21S  F22R  F22S  \n",
       "0    69    59    58    53    64    59    54    43    49  \n",
       "1    61    66    65    72    73    68    68    59    63  \n",
       "2    63    74    63    77    79    68    70    59    56  \n",
       "3    69    66    63    70    73    66    68    58    59  \n",
       "4    63    54    38    57    52    71    74    59    65  \n",
       "\n",
       "[5 rows x 45 columns]"
      ]
     },
     "execution_count": 2,
     "metadata": {},
     "output_type": "execute_result"
    }
   ],
   "source": [
    "# Load dataset\n",
    "file_path = Path(\"../Resources/heart_data.csv\")\n",
    "df = pd.read_csv(file_path)\n",
    "df.head()"
   ]
  },
  {
   "cell_type": "code",
   "execution_count": 3,
   "metadata": {},
   "outputs": [],
   "source": [
    "# Define the X (features) and y (target) sets\n",
    "y = df[\"OVERALL_DIAGNOSIS\"].values\n",
    "X = df.drop(\"OVERALL_DIAGNOSIS\", axis=1)"
   ]
  },
  {
   "cell_type": "markdown",
   "metadata": {
    "slideshow": {
     "slide_type": "subslide"
    }
   },
   "source": [
    "Split our data into training and testing data"
   ]
  },
  {
   "cell_type": "code",
   "execution_count": 4,
   "metadata": {
    "nbgrader": {
     "grade": false,
     "grade_id": "cell-711a82d9b32c83ff",
     "locked": false,
     "schema_version": 1,
     "solution": true
    },
    "slideshow": {
     "slide_type": "fragment"
    }
   },
   "outputs": [],
   "source": [
    "from sklearn.model_selection import train_test_split\n",
    "\n",
    "X_train, X_test, y_train, y_test = train_test_split(X, y, random_state=1)"
   ]
  },
  {
   "cell_type": "markdown",
   "metadata": {
    "slideshow": {
     "slide_type": "subslide"
    }
   },
   "source": [
    "Create a logistic regression model"
   ]
  },
  {
   "cell_type": "code",
   "execution_count": 5,
   "metadata": {
    "nbgrader": {
     "grade": false,
     "grade_id": "cell-b83ce1d2dcf17fbd",
     "locked": false,
     "schema_version": 1,
     "solution": true
    },
    "slideshow": {
     "slide_type": "fragment"
    }
   },
   "outputs": [
    {
     "data": {
      "text/plain": [
       "LogisticRegression(max_iter=10000)"
      ]
     },
     "execution_count": 5,
     "metadata": {},
     "output_type": "execute_result"
    }
   ],
   "source": [
    "from sklearn.linear_model import LogisticRegression\n",
    "classifier = LogisticRegression(max_iter=10000)\n",
    "classifier"
   ]
  },
  {
   "cell_type": "markdown",
   "metadata": {
    "slideshow": {
     "slide_type": "subslide"
    }
   },
   "source": [
    "Fit (train) our model by using the training data"
   ]
  },
  {
   "cell_type": "code",
   "execution_count": 6,
   "metadata": {
    "nbgrader": {
     "grade": false,
     "grade_id": "cell-fa6356c0ca7e4ead",
     "locked": false,
     "schema_version": 1,
     "solution": true
    },
    "slideshow": {
     "slide_type": "fragment"
    }
   },
   "outputs": [
    {
     "data": {
      "text/plain": [
       "LogisticRegression(max_iter=10000)"
      ]
     },
     "execution_count": 6,
     "metadata": {},
     "output_type": "execute_result"
    }
   ],
   "source": [
    "classifier.fit(X_train, y_train)"
   ]
  },
  {
   "cell_type": "markdown",
   "metadata": {
    "slideshow": {
     "slide_type": "subslide"
    }
   },
   "source": [
    "Validate the model by using the test data"
   ]
  },
  {
   "cell_type": "code",
   "execution_count": 7,
   "metadata": {
    "nbgrader": {
     "grade": false,
     "grade_id": "cell-b00f331fda900e0a",
     "locked": false,
     "schema_version": 1,
     "solution": true
    },
    "slideshow": {
     "slide_type": "fragment"
    }
   },
   "outputs": [
    {
     "name": "stdout",
     "output_type": "stream",
     "text": [
      "Training Data Score: 0.925\n",
      "Testing Data Score: 0.835820895522388\n"
     ]
    }
   ],
   "source": [
    "print(f\"Training Data Score: {classifier.score(X_train, y_train)}\")\n",
    "print(f\"Testing Data Score: {classifier.score(X_test, y_test)}\")"
   ]
  },
  {
   "cell_type": "code",
   "execution_count": 8,
   "metadata": {},
   "outputs": [
    {
     "data": {
      "text/plain": [
       "array([[ 9,  6],\n",
       "       [ 5, 47]], dtype=int64)"
      ]
     },
     "execution_count": 8,
     "metadata": {},
     "output_type": "execute_result"
    }
   ],
   "source": [
    "from sklearn.metrics import confusion_matrix\n",
    "\n",
    "y_true = y_test\n",
    "y_pred = classifier.predict(X_test)\n",
    "confusion_matrix(y_true, y_pred)"
   ]
  },
  {
   "cell_type": "code",
   "execution_count": 9,
   "metadata": {},
   "outputs": [
    {
     "data": {
      "text/plain": [
       "array([[ 40,  15],\n",
       "       [ 11, 201]], dtype=int64)"
      ]
     },
     "execution_count": 9,
     "metadata": {},
     "output_type": "execute_result"
    }
   ],
   "source": [
    "confusion_matrix(y, classifier.predict(X))"
   ]
  },
  {
   "cell_type": "code",
   "execution_count": null,
   "metadata": {},
   "outputs": [],
   "source": []
  }
 ],
 "metadata": {
  "kernelspec": {
   "display_name": "PythonData",
   "language": "python",
   "name": "pythondata"
  },
  "language_info": {
   "codemirror_mode": {
    "name": "ipython",
    "version": 3
   },
   "file_extension": ".py",
   "mimetype": "text/x-python",
   "name": "python",
   "nbconvert_exporter": "python",
   "pygments_lexer": "ipython3",
   "version": "3.7.7"
  },
  "varInspector": {
   "cols": {
    "lenName": 16,
    "lenType": 16,
    "lenVar": 40
   },
   "kernels_config": {
    "python": {
     "delete_cmd_postfix": "",
     "delete_cmd_prefix": "del ",
     "library": "var_list.py",
     "varRefreshCmd": "print(var_dic_list())"
    },
    "r": {
     "delete_cmd_postfix": ") ",
     "delete_cmd_prefix": "rm(",
     "library": "var_list.r",
     "varRefreshCmd": "cat(var_dic_list()) "
    }
   },
   "types_to_exclude": [
    "module",
    "function",
    "builtin_function_or_method",
    "instance",
    "_Feature"
   ],
   "window_display": false
  }
 },
 "nbformat": 4,
 "nbformat_minor": 4
}
