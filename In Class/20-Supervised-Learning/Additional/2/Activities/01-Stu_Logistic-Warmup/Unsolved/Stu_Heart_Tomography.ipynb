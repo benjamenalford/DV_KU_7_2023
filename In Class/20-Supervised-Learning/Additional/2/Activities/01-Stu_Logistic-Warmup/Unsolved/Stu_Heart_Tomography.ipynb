{
 "cells": [
  {
   "cell_type": "code",
   "execution_count": null,
   "metadata": {
    "slideshow": {
     "slide_type": "subslide"
    }
   },
   "outputs": [],
   "source": [
    "%matplotlib inline\n",
    "import matplotlib.pyplot as plt\n",
    "import pandas as pd\n",
    "from path import Path"
   ]
  },
  {
   "cell_type": "markdown",
   "metadata": {},
   "source": [
    "# SPECTF Heart Data Set\n",
    "\n",
    "## Data Set Information\n",
    "\n",
    "The dataset describes diagnosing of cardiac Single Proton Emission Computed Tomography (SPECT) images. Each of the patients is classified into two categories: normal and abnormal. The database of 267 SPECT image sets (patients) was processed to extract features that summarize the original SPECT images. As a result, 44 continuous feature pattern was created for each patient.\n",
    "\n",
    "## Attribute Information:\n",
    "\n",
    "1. OVERALL_DIAGNOSIS: 0,1 (class attribute, binary)\n",
    "2. F1R: continuous (count in ROI (region of interest) 1 in rest)\n",
    "3. F1S: continuous (count in ROI 1 in stress)\n",
    "4. F2R: continuous (count in ROI 2 in rest)\n",
    "5. F2S: continuous (count in ROI 2 in stress)\n",
    "6. F3R: continuous (count in ROI 3 in rest)\n",
    "7. F3S: continuous (count in ROI 3 in stress)\n",
    "8. F4R: continuous (count in ROI 4 in rest)\n",
    "9. F4S: continuous (count in ROI 4 in stress)\n",
    "10. F5R: continuous (count in ROI 5 in rest)\n",
    "11. F5S: continuous (count in ROI 5 in stress)\n",
    "12. F6R: continuous (count in ROI 6 in rest)\n",
    "13. F6S: continuous (count in ROI 6 in stress)\n",
    "14. F7R: continuous (count in ROI 7 in rest)\n",
    "15. F7S: continuous (count in ROI 7 in stress)\n",
    "16. F8R: continuous (count in ROI 8 in rest)\n",
    "17. F8S: continuous (count in ROI 8 in stress)\n",
    "18. F9R: continuous (count in ROI 9 in rest)\n",
    "19. F9S: continuous (count in ROI 9 in stress)\n",
    "20. F10R: continuous (count in ROI 10 in rest)\n",
    "21. F10S: continuous (count in ROI 10 in stress)\n",
    "22. F11R: continuous (count in ROI 11 in rest)\n",
    "23. F11S: continuous (count in ROI 11 in stress)\n",
    "24. F12R: continuous (count in ROI 12 in rest)\n",
    "25. F12S: continuous (count in ROI 12 in stress)\n",
    "26. F13R: continuous (count in ROI 13 in rest)\n",
    "27. F13S: continuous (count in ROI 13 in stress)\n",
    "28. F14R: continuous (count in ROI 14 in rest)\n",
    "29. F14S: continuous (count in ROI 14 in stress)\n",
    "30. F15R: continuous (count in ROI 15 in rest)\n",
    "31. F15S: continuous (count in ROI 15 in stress)\n",
    "32. F16R: continuous (count in ROI 16 in rest)\n",
    "33. F16S: continuous (count in ROI 16 in stress)\n",
    "34. F17R: continuous (count in ROI 17 in rest)\n",
    "35. F17S: continuous (count in ROI 17 in stress)\n",
    "36. F18R: continuous (count in ROI 18 in rest)\n",
    "37. F18S: continuous (count in ROI 18 in stress)\n",
    "38. F19R: continuous (count in ROI 19 in rest)\n",
    "39. F19S: continuous (count in ROI 19 in stress)\n",
    "40. F20R: continuous (count in ROI 20 in rest)\n",
    "41. F20S: continuous (count in ROI 20 in stress)\n",
    "42. F21R: continuous (count in ROI 21 in rest)\n",
    "43. F21S: continuous (count in ROI 21 in stress)\n",
    "44. F22R: continuous (count in ROI 22 in rest)\n",
    "45. F22S: continuous (count in ROI 22 in stress)\n",
    "\n",
    "**Data Source:** [SPECTF Heart Data Set](https://archive.ics.uci.edu/ml/datasets/SPECTF+Heart). Dua, D. and Graff, C. (2019). UCI Machine Learning Repository [http://archive.ics.uci.edu/ml]. Irvine, CA: University of California, School of Information and Computer Science."
   ]
  },
  {
   "cell_type": "code",
   "execution_count": null,
   "metadata": {},
   "outputs": [],
   "source": [
    "# Load dataset\n",
    "file_path = Path(\"../Resources/heart_data.csv\")\n",
    "df = pd.read_csv(file_path)\n",
    "df.head()"
   ]
  },
  {
   "cell_type": "code",
   "execution_count": null,
   "metadata": {},
   "outputs": [],
   "source": [
    "# Define the X (features) and y (target) sets\n",
    "y = # YOUR CODE HERE\n",
    "X = # YOUR CODE HERE"
   ]
  },
  {
   "cell_type": "markdown",
   "metadata": {
    "slideshow": {
     "slide_type": "subslide"
    }
   },
   "source": [
    "Split our data into training and testing data"
   ]
  },
  {
   "cell_type": "code",
   "execution_count": null,
   "metadata": {
    "nbgrader": {
     "grade": false,
     "grade_id": "cell-711a82d9b32c83ff",
     "locked": false,
     "schema_version": 1,
     "solution": true
    },
    "slideshow": {
     "slide_type": "fragment"
    }
   },
   "outputs": [],
   "source": [
    "# Split the data by using train_test_split()\n",
    "# YOUR CODE HERE"
   ]
  },
  {
   "cell_type": "markdown",
   "metadata": {
    "slideshow": {
     "slide_type": "subslide"
    }
   },
   "source": [
    "Create a logistic regression model"
   ]
  },
  {
   "cell_type": "code",
   "execution_count": null,
   "metadata": {
    "nbgrader": {
     "grade": false,
     "grade_id": "cell-b83ce1d2dcf17fbd",
     "locked": false,
     "schema_version": 1,
     "solution": true
    },
    "slideshow": {
     "slide_type": "fragment"
    }
   },
   "outputs": [],
   "source": [
    "# Create a logistic regression model\n",
    "# YOUR CODE HERE"
   ]
  },
  {
   "cell_type": "markdown",
   "metadata": {
    "slideshow": {
     "slide_type": "subslide"
    }
   },
   "source": [
    "Fit (train) our model by using the training data"
   ]
  },
  {
   "cell_type": "code",
   "execution_count": null,
   "metadata": {
    "nbgrader": {
     "grade": false,
     "grade_id": "cell-fa6356c0ca7e4ead",
     "locked": false,
     "schema_version": 1,
     "solution": true
    },
    "slideshow": {
     "slide_type": "fragment"
    }
   },
   "outputs": [],
   "source": [
    "# Fit the model to the data\n",
    "# Note: You might receive a warning that the model failed to converge. You can ignore that warning for now.\n",
    "# YOUR CODE HERE"
   ]
  },
  {
   "cell_type": "markdown",
   "metadata": {
    "slideshow": {
     "slide_type": "subslide"
    }
   },
   "source": [
    "Validate the model by using the test data"
   ]
  },
  {
   "cell_type": "code",
   "execution_count": null,
   "metadata": {
    "nbgrader": {
     "grade": false,
     "grade_id": "cell-b00f331fda900e0a",
     "locked": false,
     "schema_version": 1,
     "solution": true
    },
    "slideshow": {
     "slide_type": "fragment"
    }
   },
   "outputs": [],
   "source": [
    "# Print the accuracy score for the test data\n",
    "# YOUR CODE HERE"
   ]
  },
  {
   "cell_type": "markdown",
   "metadata": {
    "slideshow": {
     "slide_type": "subslide"
    }
   },
   "source": [
    "Make predictions"
   ]
  },
  {
   "cell_type": "code",
   "execution_count": null,
   "metadata": {
    "nbgrader": {
     "grade": false,
     "grade_id": "cell-f97eb3e97245187b",
     "locked": false,
     "schema_version": 1,
     "solution": true
    },
    "slideshow": {
     "slide_type": "fragment"
    }
   },
   "outputs": [],
   "source": [
    "# Make predictions by using the X_test and y_test data\n",
    "# Print at least 10 predictions vs. their actual labels\n",
    "# YOUR CODE HERE"
   ]
  },
  {
   "cell_type": "code",
   "execution_count": null,
   "metadata": {},
   "outputs": [],
   "source": [
    "from sklearn.metrics import confusion_matrix\n",
    "\n",
    "y_true = y_test\n",
    "y_pred = classifier.predict(X_test)\n",
    "confusion_matrix(y_true, y_pred)"
   ]
  }
 ],
 "metadata": {
  "kernelspec": {
   "display_name": "Python 3",
   "language": "python",
   "name": "python3"
  },
  "language_info": {
   "codemirror_mode": {
    "name": "ipython",
    "version": 3
   },
   "file_extension": ".py",
   "mimetype": "text/x-python",
   "name": "python",
   "nbconvert_exporter": "python",
   "pygments_lexer": "ipython3",
   "version": "3.7.7"
  },
  "varInspector": {
   "cols": {
    "lenName": 16,
    "lenType": 16,
    "lenVar": 40
   },
   "kernels_config": {
    "python": {
     "delete_cmd_postfix": "",
     "delete_cmd_prefix": "del ",
     "library": "var_list.py",
     "varRefreshCmd": "print(var_dic_list())"
    },
    "r": {
     "delete_cmd_postfix": ") ",
     "delete_cmd_prefix": "rm(",
     "library": "var_list.r",
     "varRefreshCmd": "cat(var_dic_list()) "
    }
   },
   "types_to_exclude": [
    "module",
    "function",
    "builtin_function_or_method",
    "instance",
    "_Feature"
   ],
   "window_display": false
  }
 },
 "nbformat": 4,
 "nbformat_minor": 4
}
