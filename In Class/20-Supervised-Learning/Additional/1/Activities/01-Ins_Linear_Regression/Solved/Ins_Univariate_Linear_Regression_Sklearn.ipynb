{
 "cells": [
  {
   "cell_type": "code",
   "execution_count": 1,
   "metadata": {
    "nbpresent": {
     "id": "828c2e12-b1c6-4994-8f55-ce86373b6c97"
    },
    "slideshow": {
     "slide_type": "fragment"
    }
   },
   "outputs": [],
   "source": [
    "%matplotlib inline\n",
    "import matplotlib.pyplot as plt\n",
    "import numpy as np\n",
    "import pandas as pd"
   ]
  },
  {
   "cell_type": "markdown",
   "metadata": {
    "nbpresent": {
     "id": "0dc0cdcb-d8df-4a29-a0d2-a3cf6cc889ce"
    },
    "slideshow": {
     "slide_type": "slide"
    }
   },
   "source": [
    "# Linear Regression"
   ]
  },
  {
   "cell_type": "markdown",
   "metadata": {
    "nbpresent": {
     "id": "91401f60-44eb-42b2-86ea-c82b5e955ace"
    },
    "slideshow": {
     "slide_type": "subslide"
    }
   },
   "source": [
    "Linear regression is a fundamental algorithm in machine learning."
   ]
  },
  {
   "cell_type": "markdown",
   "metadata": {
    "nbpresent": {
     "id": "966e050d-5739-4ef9-a2ae-9a4957e14f3e"
    },
    "slideshow": {
     "slide_type": "fragment"
    }
   },
   "source": [
    "It is used as a building block for other machine learning models."
   ]
  },
  {
   "cell_type": "markdown",
   "metadata": {
    "nbpresent": {
     "id": "7068c96d-f8f0-42bb-bdfd-dcbf9335323c"
    },
    "slideshow": {
     "slide_type": "fragment"
    }
   },
   "source": [
    "Linear regression is easy to understand, calculate, and interpret."
   ]
  },
  {
   "cell_type": "markdown",
   "metadata": {
    "nbpresent": {
     "id": "6de4dae8-c949-4927-89a3-9741aba83e8d"
    },
    "slideshow": {
     "slide_type": "fragment"
    }
   },
   "source": [
    "Linear regression is fast!"
   ]
  },
  {
   "cell_type": "markdown",
   "metadata": {
    "nbpresent": {
     "id": "7c23961d-86fe-4d07-bc58-6d61f03c3731"
    },
    "slideshow": {
     "slide_type": "subslide"
    }
   },
   "source": [
    "Often good enough. Don't over-engineer your solution. If your data is linear, use a linear model."
   ]
  },
  {
   "cell_type": "markdown",
   "metadata": {
    "nbpresent": {
     "id": "6d53481c-69ff-41a0-937e-4e8a39e2b2b5"
    },
    "slideshow": {
     "slide_type": "subslide"
    }
   },
   "source": [
    "What is linear data?"
   ]
  },
  {
   "cell_type": "code",
   "execution_count": 41,
   "metadata": {
    "nbpresent": {
     "id": "b0f8400f-71e1-4892-9012-88e54c053a36"
    },
    "slideshow": {
     "slide_type": "fragment"
    }
   },
   "outputs": [],
   "source": [
    "from sklearn.datasets import make_regression\n",
    "\n",
    "X, y = make_regression(n_samples=1000, n_features=1, random_state=0, noise=5, bias=100.0)"
   ]
  },
  {
   "cell_type": "code",
   "execution_count": 42,
   "metadata": {
    "nbpresent": {
     "id": "fb58a52c-71e9-402d-af86-eab194cf8050"
    },
    "scrolled": true,
    "slideshow": {
     "slide_type": "subslide"
    }
   },
   "outputs": [
    {
     "data": {
      "text/plain": [
       "<matplotlib.collections.PathCollection at 0x1c5e0c83f08>"
      ]
     },
     "execution_count": 42,
     "metadata": {},
     "output_type": "execute_result"
    },
    {
     "data": {
      "image/png": "[encoded data removed]",
      "text/plain": [
       "<Figure size 432x288 with 1 Axes>"
      ]
     },
     "metadata": {
      "needs_background": "light"
     },
     "output_type": "display_data"
    }
   ],
   "source": [
    "plt.scatter(X, y)"
   ]
  },
  {
   "cell_type": "markdown",
   "metadata": {
    "nbpresent": {
     "id": "fa78fa75-54cf-40d3-b52c-4b51c5070d9a"
    },
    "slideshow": {
     "slide_type": "fragment"
    }
   },
   "source": [
    "We can observe from the data that we have a linear trend in our model: the response or output is directly proportional to the input."
   ]
  },
  {
   "cell_type": "markdown",
   "metadata": {
    "nbpresent": {
     "id": "335f050d-99af-43b3-a5ec-69fe896e48e2"
    },
    "slideshow": {
     "slide_type": "subslide"
    }
   },
   "source": [
    "We can use linear regression to fit a line through the data."
   ]
  },
  {
   "cell_type": "markdown",
   "metadata": {
    "nbpresent": {
     "id": "19ca6a7e-4b5d-4b0f-88c5-e68634abb65d"
    },
    "slideshow": {
     "slide_type": "fragment"
    }
   },
   "source": [
    "![lr](../Images/linear_regression.jpg)"
   ]
  },
  {
   "cell_type": "markdown",
   "metadata": {
    "nbpresent": {
     "id": "7317e4f2-150e-4336-ac48-d82641441aa8"
    },
    "slideshow": {
     "slide_type": "subslide"
    }
   },
   "source": [
    "Using a trained model allows us to make predictions for the output value (home selling price) given a new input (square feet)."
   ]
  },
  {
   "cell_type": "markdown",
   "metadata": {
    "nbpresent": {
     "id": "69b638ed-ed32-4824-bb81-df958c215a33"
    },
    "slideshow": {
     "slide_type": "fragment"
    }
   },
   "source": [
    "![pre-prices1](../Images/predict_prices_1.png)"
   ]
  },
  {
   "cell_type": "markdown",
   "metadata": {
    "nbpresent": {
     "id": "664c64ef-5517-4725-95cb-874bbc7711c7"
    },
    "slideshow": {
     "slide_type": "subslide"
    }
   },
   "source": [
    "New House on the Market\n",
    "![pre-prices2](../Images/predict_prices_2.png)"
   ]
  },
  {
   "cell_type": "markdown",
   "metadata": {
    "nbpresent": {
     "id": "348e164e-a000-4def-92c0-db93f9a617a1"
    },
    "slideshow": {
     "slide_type": "subslide"
    }
   },
   "source": [
    "We can use our linear model to predict the price of that house\n",
    "![pre-prices3](../Images/predict_prices_3.png)"
   ]
  },
  {
   "cell_type": "markdown",
   "metadata": {
    "nbpresent": {
     "id": "a3b6e99c-2c85-47da-b29b-3b53c3c309b8"
    },
    "slideshow": {
     "slide_type": "subslide"
    }
   },
   "source": [
    "What about nonlinear data?"
   ]
  },
  {
   "cell_type": "code",
   "execution_count": 4,
   "metadata": {
    "nbpresent": {
     "id": "4d6b8af6-438e-4034-bda1-1f977cf12441"
    },
    "slideshow": {
     "slide_type": "fragment"
    }
   },
   "outputs": [
    {
     "data": {
      "text/plain": [
       "<matplotlib.collections.PathCollection at 0x1c5e06606c8>"
      ]
     },
     "execution_count": 4,
     "metadata": {},
     "output_type": "execute_result"
    },
    {
     "data": {
      "image/png": "[encoded data removed]",
      "text/plain": [
       "<Figure size 432x288 with 1 Axes>"
      ]
     },
     "metadata": {
      "needs_background": "light"
     },
     "output_type": "display_data"
    }
   ],
   "source": [
    "from sklearn.datasets import make_s_curve\n",
    "\n",
    "data, color = make_s_curve(100, random_state=0)\n",
    "plt.scatter(data[:,0], color)"
   ]
  },
  {
   "cell_type": "markdown",
   "metadata": {
    "nbpresent": {
     "id": "e61ba538-5828-4a5a-a2c5-4fcceac35889"
    },
    "slideshow": {
     "slide_type": "subslide"
    }
   },
   "source": [
    "![happy](../Images/happy.gif)"
   ]
  },
  {
   "cell_type": "markdown",
   "metadata": {
    "nbpresent": {
     "id": "f1c699bc-6717-4eb9-8e6d-66d433ba4618"
    },
    "slideshow": {
     "slide_type": "slide"
    }
   },
   "source": [
    "## Linear Regression \n",
    "\n",
    "A regression line is simply calculating a line that best fits the data. This is typically done through the least squares method, where the line is chosen to have the smallest overall distance to the points.\n",
    "\n",
    "$y = \\beta_0 + \\beta_1 x$\n",
    "\n",
    "* $y$ is the output response\n",
    "* $x$ is the input feature\n",
    "* $\\beta_0$ is the y-axis intercept\n",
    "* $\\beta_1$ is weight coefficient (slope)\n",
    "\n",
    "Source: [Linear regression](https://en.wikipedia.org/wiki/Simple_linear_regression)"
   ]
  },
  {
   "cell_type": "markdown",
   "metadata": {
    "nbpresent": {
     "id": "7d5d2002-5cae-4d5f-8e2e-d5eaf5cd17da"
    },
    "slideshow": {
     "slide_type": "slide"
    }
   },
   "source": [
    "## Sklearn\n",
    "\n",
    "The Sklearn library provides us with a linear regression model that will fit a line to our data. Sklearn follows a consistent API, where you define a model object, fit the model to the data, and then make predictions with the model.\n",
    "![sklearn](../Images/sklearn_api.png)"
   ]
  },
  {
   "cell_type": "markdown",
   "metadata": {
    "nbpresent": {
     "id": "69fab88f-0864-47cc-933b-eaffb638cbf3"
    },
    "slideshow": {
     "slide_type": "subslide"
    }
   },
   "source": [
    "First, we create the model by using the Sklearn LinearRegression model."
   ]
  },
  {
   "cell_type": "code",
   "execution_count": 59,
   "metadata": {
    "nbpresent": {
     "id": "3810c2af-fdbe-4f01-bc9f-2bb1a8ae70c6"
    },
    "slideshow": {
     "slide_type": "fragment"
    }
   },
   "outputs": [
    {
     "data": {
      "text/plain": [
       "LinearRegression()"
      ]
     },
     "execution_count": 59,
     "metadata": {},
     "output_type": "execute_result"
    }
   ],
   "source": [
    "from sklearn.linear_model import LinearRegression\n",
    "model = LinearRegression()\n",
    "model"
   ]
  },
  {
   "cell_type": "code",
   "execution_count": 60,
   "metadata": {},
   "outputs": [
    {
     "data": {
      "text/plain": [
       "array([-1.12690263e+02,  2.48365059e+02, -4.11147161e+01,  2.95242459e+00,\n",
       "       -1.99293750e+01,  1.14771278e+02,  2.26270729e+02,  1.14555867e+02,\n",
       "        4.17479150e+01,  1.53018293e+02,  6.45170372e+01,  4.29064299e+01,\n",
       "        1.68593531e+02,  6.52565075e+00,  2.09972136e+02,  1.26311391e+02,\n",
       "        1.71085888e+02,  2.11422195e+02,  1.09821552e+02, -2.65721910e+01,\n",
       "        6.48152148e+01,  3.83341505e+01,  1.31578566e+02,  5.96248106e+01,\n",
       "        1.85362583e+02,  1.87144640e+02,  5.22448517e+01,  4.78019762e+01,\n",
       "        9.00719393e+01,  1.14097905e+02,  1.61435543e+01,  1.80573217e+02,\n",
       "        3.47349856e+01,  1.03630871e+02,  1.24264319e+02,  1.23276876e+02,\n",
       "        8.55173368e+01,  4.54706857e+01,  1.79459744e+02,  6.29012590e+01,\n",
       "        2.57330223e+01,  9.00185074e+01,  5.71142114e+01, -5.58115027e+01,\n",
       "        2.64567615e+02,  7.11822682e+01, -1.16246793e+01,  2.27251387e+02,\n",
       "        7.22187161e+01,  8.89211082e+01,  2.04882496e+02,  2.54310700e+02,\n",
       "        6.46984940e+00,  3.04296149e+01,  7.57918854e+01, -1.40035330e+01,\n",
       "        2.42074834e+02,  1.39333746e+02,  1.38739379e+02,  1.42339726e+01,\n",
       "        1.60116138e+02,  8.79126153e+01,  1.63049085e+02,  1.59537530e+02,\n",
       "        2.34191696e+02,  2.06868919e+02,  1.29323788e+02, -1.64260869e+01,\n",
       "       -4.39152879e+00,  9.20558539e+01, -6.75717572e+01,  1.14146888e+02,\n",
       "        4.43286322e+01,  1.53305392e+02,  1.23329906e+02,  1.79766317e+02,\n",
       "        1.11661141e+02,  1.87181769e+01,  1.05014870e+02,  7.77795813e+01,\n",
       "        2.37425971e+02,  3.66864902e+01,  8.65889068e+01,  1.75433346e+02,\n",
       "        1.83994181e+02, -3.55224163e+01,  3.33920368e+01,  3.53804523e+01,\n",
       "        1.68867182e+02,  1.79165286e+02,  1.45506397e+01,  9.70946053e+01,\n",
       "        1.07000847e+02,  1.32669349e+02,  9.43549420e+01,  1.15724041e+02,\n",
       "        1.42404417e+02,  2.53601443e+01,  2.00396770e+01,  2.21275327e+02,\n",
       "        7.42708753e+01,  2.86936720e+01,  1.52388805e+02, -1.68060065e+01,\n",
       "        5.04030378e+01,  2.59971755e+02,  1.37085601e+02,  1.41511514e+02,\n",
       "        2.13422675e+02,  2.33457297e+01,  6.31195372e+01,  7.58350839e+01,\n",
       "        2.26496012e+02,  7.76512691e+01,  9.22652116e+01,  7.19927628e+01,\n",
       "        7.73423645e+01,  6.74366112e+01,  7.80832235e+01,  2.16935701e+02,\n",
       "        9.90026416e+01,  1.09236391e+02,  4.55878056e+01,  1.67502864e+02,\n",
       "        1.18254866e+02,  4.94314964e+01, -5.51171610e+00, -4.15214159e+01,\n",
       "        9.78630995e+01,  1.12999282e+02,  1.00447515e+02,  1.56499478e+02,\n",
       "        2.16606856e+02,  1.34189914e+02, -1.11624047e+01, -1.49782024e+01,\n",
       "        9.52873719e+01,  1.50136990e+01,  1.84293241e+02,  1.92316163e+02,\n",
       "        1.43201771e+02,  3.12909511e+01,  9.31447766e+01,  1.39131494e+02,\n",
       "        1.41081334e+02,  2.10603539e+02,  2.33918484e+02,  6.52639517e+00,\n",
       "        6.40017110e+00,  9.60785879e+01,  2.38559252e+01,  2.26061146e+02,\n",
       "        3.72746552e+01, -4.45527243e+01,  1.99693381e+02,  4.51821831e+01,\n",
       "        2.03878637e+02,  2.76562882e+02,  1.73822186e+02,  9.26504770e+01,\n",
       "        6.63774807e+01,  1.60726801e+02, -6.07697957e+01,  2.78149820e+01,\n",
       "        1.36441281e+02,  3.71561125e+01, -9.65007153e+01,  9.95944481e+01,\n",
       "        7.13259564e+01,  1.21215154e+02,  1.41553581e+02,  1.19562404e+01,\n",
       "        1.00296813e+02,  1.00368893e+02,  1.06311964e+02,  2.54668751e+02,\n",
       "        2.21851139e+02,  1.78157617e+02,  2.20614624e+02,  6.46366692e+01,\n",
       "       -1.21645931e+02,  5.89174740e+01,  2.15932180e+01,  7.93023598e+01,\n",
       "        2.43700144e+02,  1.32940451e+02,  8.67896221e+01,  8.83343875e+01,\n",
       "        9.47422274e+01,  8.02686202e+01,  6.17091669e+01,  3.63677567e+01,\n",
       "       -2.11457142e+00,  8.55819108e+00, -1.06623809e+01,  1.49788759e+02,\n",
       "        1.06375032e+02,  2.05370924e+02,  5.83306285e+01,  1.59852011e+02,\n",
       "        2.19974009e+00,  2.61124652e+02,  3.29047110e+02,  2.03870769e+02,\n",
       "        7.09442402e+01, -3.20085694e+01,  2.32171457e+02,  1.39480480e+02,\n",
       "       -2.72381072e+01,  1.64968530e+02,  1.38063280e+02,  6.95884677e+01,\n",
       "        1.60761375e+02,  1.03284991e+02,  9.93292207e+01,  1.95217696e+02,\n",
       "        7.53782838e+01,  1.56644688e+02,  2.05302632e+02,  3.55101454e+01,\n",
       "        1.47889753e+02,  1.56149446e+02,  9.98717115e+01,  8.71550478e+01,\n",
       "        1.08881069e+02,  8.29304622e+01,  1.68984061e+02,  1.04562613e+02,\n",
       "        1.82921176e+02,  1.88589467e+02,  6.50526481e+01,  2.80917116e+01,\n",
       "        1.63645591e+02,  4.54517398e+01,  1.64859354e+02,  5.96732834e+01,\n",
       "        8.33036868e+01, -1.17395631e+01,  6.44312306e+01, -1.46229033e+01,\n",
       "        1.09643832e+02,  9.96483953e+01,  4.72133563e+01,  6.45193632e+01,\n",
       "        2.32076326e+02,  1.23312311e+02,  1.03003766e+02,  1.20745698e+02,\n",
       "        1.27771677e+02,  2.29425353e+01,  1.84846097e+02,  8.46182656e+01,\n",
       "        2.10362253e+02,  9.61352805e+01,  1.27748876e+02,  9.73407270e+01,\n",
       "        1.37145004e+02,  1.85278835e+02,  1.24346810e+02,  1.09546623e+02,\n",
       "        7.68511723e+01, -4.26844158e+01,  1.21293264e+02,  1.59700541e+02,\n",
       "        1.97212214e+02,  1.18914319e+02,  2.22488304e+01,  2.94602845e+01,\n",
       "        3.01495440e+01,  4.01668761e+01,  1.41210818e+02,  1.34507630e+02,\n",
       "        1.66415739e+02,  5.53784214e+01, -4.03484596e+01,  2.01945034e+02,\n",
       "        2.89155950e+01, -9.79074195e+01, -2.64308745e+00,  4.62674368e+01,\n",
       "        2.06388005e+02,  6.69237576e+01,  2.81121325e+01,  9.32851611e+01,\n",
       "        1.46680172e+02,  1.76241366e+02,  1.50198701e+02,  2.91019766e+01,\n",
       "        2.42220488e+02,  3.58300434e+00,  4.21654960e+01,  6.11910631e+01,\n",
       "       -7.01827406e+01,  2.43321362e+01,  2.19285409e+02,  5.39262603e+01,\n",
       "        1.89148282e+02,  5.22439001e+01, -2.43854321e+01,  2.93152326e+02,\n",
       "        4.50253534e+01,  2.52215294e+02,  6.77065416e+01,  2.57576557e+02,\n",
       "       -2.59409075e+00,  1.52942397e+02,  5.27388695e+01,  1.31846747e+02,\n",
       "        8.00498072e+01,  9.89612024e+01,  1.19022756e+02,  1.44192085e+02,\n",
       "       -4.10308200e+01,  4.55057306e+01,  9.05217336e+01,  1.71747321e+02,\n",
       "       -2.07711704e+01,  2.71664451e+02,  2.49358387e+01,  1.18845556e+02,\n",
       "        4.99298233e+01,  1.73381530e+02,  1.04324546e+02,  1.75771689e+02,\n",
       "       -2.52660158e+01,  1.84996661e+02,  1.16190213e+02,  5.37554774e+01,\n",
       "        4.09418978e+01,  1.77340792e+01, -1.24240115e+00,  1.07678248e+01,\n",
       "        1.07802159e+02,  7.85026692e+01,  1.97567564e+02,  3.11670294e+01,\n",
       "        5.56950792e+01,  1.18862144e+02, -3.47957719e+01, -1.26574127e+02,\n",
       "        1.51848473e+02,  8.36914982e+01,  7.17514875e+01,  8.55508216e+01,\n",
       "        3.69527525e+01,  1.67452022e+02,  1.61079562e+02,  2.81087786e+01,\n",
       "        1.81476304e+02,  9.27754477e+01,  1.85594569e+02,  1.15539297e+02,\n",
       "        1.42771790e+02,  1.76130124e+02,  6.45280492e+01,  1.43618930e+02,\n",
       "       -1.26184112e+01,  3.43497343e+01,  6.77342494e+01,  8.92731822e+01,\n",
       "       -1.19461931e+02,  1.13155857e+02,  1.71168087e+02,  1.26100734e+02,\n",
       "        1.65567666e+02,  1.06629300e+02,  1.31243167e+02,  1.23221669e+02,\n",
       "        1.51479248e+02,  9.98116275e+01, -4.94210518e+00,  4.28567564e-01,\n",
       "        2.23722060e+02,  2.55460340e+02,  8.17262158e+01,  7.49578765e+01,\n",
       "        1.19241253e+02,  1.85037605e+02,  5.91293333e+00,  9.15790852e+01,\n",
       "        5.88499107e+01,  4.79879429e+01,  5.61056599e+01,  7.65356407e+01,\n",
       "        3.19454255e+01,  1.42965135e+02,  9.74335729e+01,  3.45598114e+01,\n",
       "        4.21982593e+01,  1.36657707e+02,  2.22269276e+02,  2.12276683e+02,\n",
       "        7.65287068e+01,  3.49024234e+01,  7.57480006e+01,  1.24125427e+00,\n",
       "        2.32105204e+02, -9.03094287e+00,  5.67636936e+01,  2.54595689e+02,\n",
       "        2.30959391e+02,  1.92451289e+02,  1.96398390e+01,  1.71377934e+02,\n",
       "        8.57106578e+01,  1.27985346e+02,  2.88260894e+02,  1.58912325e+02,\n",
       "        5.68196903e+01, -8.55187375e+01,  1.18494625e+02,  1.22736239e+02,\n",
       "        5.46661553e+01,  3.59637341e+01,  1.39081876e+02,  2.23497559e+02,\n",
       "        7.14680663e+01,  5.15776229e+01,  8.52240194e+01,  8.16741856e+01,\n",
       "        4.34357876e+01, -5.39700551e+01,  1.61502718e+02,  2.79358788e+02,\n",
       "       -8.00658543e-01,  7.30714273e+01,  1.25503173e+02,  1.59102961e+01,\n",
       "        8.01136000e+01,  1.19472065e+02,  3.31374687e+01,  7.13885196e+01,\n",
       "       -2.61764353e+01,  9.12291233e+00,  1.58623106e+02,  2.26681698e+01,\n",
       "        1.18851226e+02,  1.36253286e+02,  5.22395155e+01,  2.62784786e+02,\n",
       "        1.68503227e+02,  1.21261029e+02,  1.54254633e+02, -6.11333729e+00,\n",
       "        1.52192001e+02, -3.71269529e+01,  1.00362301e+02,  1.35819225e+02,\n",
       "        6.45958518e+01,  3.14292431e+02,  3.31373703e+01,  2.96526291e+02,\n",
       "        1.31540315e+02,  9.70892849e+01,  1.76070782e+02,  1.96824378e+02,\n",
       "       -2.63987661e+00,  5.51665739e+01,  8.26597495e+01,  7.33553300e+01,\n",
       "        5.05245451e+01,  1.27756375e+02,  1.22053413e+02, -2.55911315e-01,\n",
       "        2.20161926e+02,  1.44616750e+02,  1.96975293e+02,  2.01762251e+02,\n",
       "        6.12374927e+01,  1.01205143e+02,  1.11430838e+02,  8.54477385e+01,\n",
       "        8.82356412e+01,  1.48735599e+02,  4.62455274e+01, -8.94899774e+01,\n",
       "        3.52195494e+01,  1.05913389e+02,  7.32474008e+01,  1.90617241e+02,\n",
       "        1.42427317e+02,  6.67899628e+01,  1.65946099e+02, -3.89820043e+01,\n",
       "        1.26670630e+02,  1.65841423e+02,  1.34814740e+02,  6.54314493e+01,\n",
       "        1.17704319e+02,  1.28732624e+02,  2.53682153e+02,  2.71722779e+01,\n",
       "        5.86293933e+01,  5.60345866e+01,  4.67219681e+01,  1.51066008e+02,\n",
       "        1.50962362e+02,  1.72655412e+02,  9.74429598e+00,  1.27541595e+02,\n",
       "        1.23013984e+02,  1.28915129e+02,  5.31445657e+01, -1.56320691e+02,\n",
       "        1.11858717e+02,  1.11129638e+02,  1.01548405e+02,  5.07830542e+01,\n",
       "        5.96691600e+01,  3.89460628e+01,  5.37429518e+01,  1.52952493e+02,\n",
       "       -2.48489481e+01,  1.00672093e+02, -2.33111167e+01,  1.64894568e+02,\n",
       "        1.86681767e+02, -9.09575440e+01, -8.23568044e+01,  1.81862177e+02,\n",
       "        1.15964551e+02,  1.47865906e+02, -5.23187703e+01,  3.31500223e+01,\n",
       "        6.43001990e+01,  3.42674336e+01,  2.91764578e+02,  1.87020831e+02,\n",
       "       -1.10185875e+02,  6.69412521e+01,  1.34553537e+02,  1.92843693e+02,\n",
       "       -2.98007162e+00,  1.46755387e+02,  1.14839454e+02,  1.77737094e+02,\n",
       "        1.03122372e+02,  9.87529859e+01,  1.90197138e+02, -5.79085464e+00,\n",
       "        9.83188051e+01, -3.29795504e+01,  1.21676159e+02, -1.43433321e+01,\n",
       "        6.65233879e+01,  1.05629515e+02,  9.40553405e+01,  2.81172269e+02,\n",
       "        6.07851499e+01,  8.20899040e+01,  6.02721138e+01,  1.43711991e+02,\n",
       "        1.19805704e+02,  1.30192841e+00,  4.01361280e+01, -3.40328423e-01,\n",
       "        1.06932504e+02,  6.62274422e+01,  9.99757131e+01,  1.66989660e+02,\n",
       "        1.99239500e+02,  7.26286282e+01,  9.52111270e+01,  2.29912636e+01,\n",
       "        8.86140664e+01,  2.21884214e+02,  2.37925779e+02, -2.42765024e+01,\n",
       "       -4.31660517e+01, -1.88098426e+01, -2.06035943e+01,  1.14327746e+02,\n",
       "        2.27682541e+02,  2.72377073e+01,  1.38014611e+02,  6.01124251e+01,\n",
       "        2.79414429e+01,  8.44176803e+01,  7.07185000e+00, -5.76989967e+01,\n",
       "        3.26579718e+01,  1.20149241e+02,  1.17201310e+01,  8.77616003e+01,\n",
       "        1.71907772e+02,  1.50374357e+02,  3.61054088e-01,  1.35277833e+02,\n",
       "        1.39341346e+02,  6.52074748e+01,  6.00055869e+01,  2.02975549e+01,\n",
       "        2.99148171e+02,  2.13590958e+02,  3.23324940e+02,  8.61698852e+01,\n",
       "        1.24053558e+02,  7.89522441e+01,  1.01225896e+02,  3.41121434e+01,\n",
       "        9.09979748e+01,  1.89481958e+02,  1.77767863e+02,  1.10839840e+02,\n",
       "        4.78007385e+01,  2.17487707e+02,  1.54601046e+02,  1.28885534e+02,\n",
       "        8.62451365e+01,  8.60346512e+01, -1.09982660e+01, -3.60796402e+01,\n",
       "        5.46638659e-01,  2.18067775e+02,  1.27346125e+02,  1.84622906e+02,\n",
       "        1.25856351e+02,  1.50895211e+02,  1.73824458e+02,  2.16466790e+02,\n",
       "       -1.79946488e+01,  4.26344687e+00, -4.24643155e+00,  1.79488967e+02,\n",
       "        9.91479079e+01,  5.03618109e+01,  1.38021843e+02,  1.34656778e+02,\n",
       "        1.75284372e+02,  2.67042044e+02,  9.42891663e+01,  3.85663486e+01,\n",
       "        1.33408110e+02,  2.08458651e+02,  1.29677543e+02,  3.88771306e+01,\n",
       "        5.61466498e+01,  2.09974787e+02,  1.36766994e+02,  1.58143734e+02,\n",
       "        1.77463859e+02,  1.30805458e+02,  5.15025627e+01,  1.19069610e+02,\n",
       "        1.12788749e+02,  7.05002772e+01,  3.49871227e+01,  1.80007886e+02,\n",
       "        7.86574298e+01,  9.47889655e+00,  1.24547817e+02,  1.02594818e+02,\n",
       "        1.00938526e+02,  8.47127611e+01,  9.30477939e+01,  9.43747560e+00,\n",
       "        1.64228184e+02,  1.27933622e+02,  8.40660625e+01, -5.09941083e+01,\n",
       "        1.86348571e+02,  1.39279884e+02,  1.63656264e+01,  1.26661639e+02,\n",
       "        8.31244017e+01,  6.24379246e+01,  9.40245317e+01, -5.13723809e+01,\n",
       "        1.55655112e+01, -4.54494024e+01,  2.23906913e+01,  1.46848890e+02,\n",
       "       -3.54400617e+01,  9.43433437e+01,  1.33148819e+02,  1.45175646e+02,\n",
       "        1.79305631e+02,  1.69033942e+02, -2.71758958e+01,  1.28647261e+02,\n",
       "        3.52817495e+01,  9.76989101e+01,  8.47389305e+01,  1.69221353e+02,\n",
       "       -2.46604883e+01, -1.17158319e+02,  1.81448182e+01,  3.14428961e+01,\n",
       "        1.34200407e+02,  2.11949963e+02,  1.13078350e+02,  4.08547277e+01,\n",
       "        1.75322549e+00,  1.67115667e+02,  9.60329995e+01,  5.82189867e+01,\n",
       "        9.86262004e+01,  4.71727008e+01,  1.11789799e+02, -6.71229449e+01,\n",
       "        1.51632994e+02,  8.71871361e+01,  5.79569616e+01,  1.91839412e+02,\n",
       "        4.74470708e+01,  1.73447242e+02, -1.59670884e+01,  8.73786815e+01,\n",
       "        8.86605465e+01,  8.19840913e+01,  1.37585574e+02,  9.92964394e+01,\n",
       "        6.43689865e+01,  4.97206269e+01,  1.18798701e+02,  7.07797336e+01,\n",
       "        6.95703843e+01,  1.10550018e+02,  2.81665185e+02,  2.34751251e+02,\n",
       "        1.01723303e+00,  2.99832024e+02, -5.73489433e+01,  2.09454756e+02,\n",
       "        1.74443347e+02,  1.36395351e+02,  1.26321744e+02,  1.17677814e+02,\n",
       "        6.57548491e+01,  5.05382052e+01,  7.29408739e+01,  1.49353875e+02,\n",
       "        1.48063439e+02, -1.42551517e+01,  5.24417206e+01,  5.11580705e+01,\n",
       "       -7.75415051e+01,  2.77177882e+02,  8.29921298e+01,  1.16581873e+02,\n",
       "       -4.10623059e+01, -3.85204983e+00,  8.09265690e+01,  1.28551933e+02,\n",
       "        1.31770201e+02,  2.06146446e+01,  7.26918686e+01,  1.23861856e+02,\n",
       "        1.59800449e+02,  6.24799145e+01,  8.12340932e+01,  3.64518632e+01,\n",
       "        1.23044031e+02,  1.90179838e+02,  1.28050560e+02,  1.76346496e+02,\n",
       "        8.85318868e+01,  2.90872275e+01,  2.04979608e+02,  1.53405720e+00,\n",
       "       -5.03674739e+01,  1.63258703e+01,  1.67901550e+02,  6.71894152e+01,\n",
       "        3.84060533e+01,  1.31579012e+02,  6.61588171e+01,  1.16857452e+02,\n",
       "       -1.09216359e+01,  2.18990689e+02,  1.08312713e+02,  1.65986966e+01,\n",
       "        3.91372026e+01,  1.34703018e+02,  6.04390626e+00,  1.19180286e+02,\n",
       "        1.81662062e+02,  1.29861370e+02,  1.17776332e+02,  1.99566822e+01,\n",
       "       -2.11436595e+01,  1.78735906e+02, -3.57310411e+01,  6.70593343e+01,\n",
       "        1.73837971e+02,  1.42106773e+02,  1.38909584e+02,  2.49969606e+02,\n",
       "        1.01059775e+01,  9.67365749e+01,  8.76612076e+01,  1.31561916e+02,\n",
       "        4.00704841e+01,  5.98036426e+01, -3.63530356e+01,  2.08280718e+02,\n",
       "        3.37421833e+01,  1.77299186e+02,  3.11446829e+01,  9.46144956e+01,\n",
       "       -1.87542512e+01,  2.51319683e+02,  7.31352486e+00,  3.70597273e+01,\n",
       "        2.31405145e+02,  3.96384131e+01, -6.06609846e+01,  1.54653839e+02,\n",
       "        1.87087963e+02,  9.69505674e+01,  3.96294530e+01,  6.85898782e+01,\n",
       "        9.13003960e+01,  1.68124700e+01,  9.28938229e+01,  8.47437491e+01,\n",
       "       -3.28078173e+01,  8.15227958e+01,  9.24489036e+01,  1.02560784e+02,\n",
       "        7.78582534e+01,  1.22954676e+02,  1.22263739e+02,  8.19326621e+01,\n",
       "        3.02845794e+02,  1.31418527e+02, -7.78810703e+00,  1.93679685e+02,\n",
       "        5.05235999e+01,  7.12581437e+01,  4.65680778e+01, -1.25023497e+02,\n",
       "        7.81428413e+01,  1.59904761e+02,  1.72791053e+02,  1.22081800e+02,\n",
       "        6.73913531e+01,  6.79164862e+01,  1.15426831e+02, -6.59914530e+00,\n",
       "        4.35425482e+01,  3.09326978e+01,  1.74482701e+02,  1.92336883e+02,\n",
       "        1.04773445e+02,  1.67148939e+02,  6.99995979e+01,  1.20234500e+02,\n",
       "        1.58099814e+02, -4.49593670e+01,  5.89818721e+01,  5.25135043e+01,\n",
       "        8.90983958e+01, -1.24732344e+02,  3.70672824e+00,  1.63227961e+02,\n",
       "        6.29106985e+01,  7.82677063e+01,  2.54740341e+01,  1.04532728e+02,\n",
       "        2.25872937e+02,  1.77929542e+02, -8.02456905e+01,  2.66374051e+02,\n",
       "        1.16507556e+02,  1.22158616e+02, -4.39650398e+01,  1.06137341e+02,\n",
       "       -5.06114549e+01,  9.31253843e+01,  5.43417657e+01,  5.47146643e+01,\n",
       "        1.28417156e+02,  6.89368158e+01,  1.52755720e+02,  1.88549822e+02,\n",
       "        1.36496288e+02,  1.62091130e+02,  1.68225791e+02,  1.39997224e+01,\n",
       "        1.51693714e+02,  1.15967127e+02,  2.13355467e+02,  5.91556048e+01,\n",
       "        1.25324811e+02,  1.50858937e+02,  3.11263740e+01,  2.80004878e+02,\n",
       "        3.81541777e+01,  3.71028971e+01,  4.34886933e+01,  3.00126143e+01,\n",
       "        1.13854943e+01,  1.42997389e+02,  1.96578300e+02,  1.52070865e+02,\n",
       "        6.78366589e+01,  1.58337631e+02,  1.48960664e+02,  9.77298456e+01,\n",
       "        4.61655955e+01, -8.18820437e+01,  1.08165699e+02,  1.19416975e+02,\n",
       "       -7.65151519e+00,  1.24096225e+02, -4.40182799e+01,  9.18464132e+01,\n",
       "        2.10668504e+02,  1.71671779e+02,  1.65174104e+02,  2.27601081e+02,\n",
       "        9.31636320e+01,  5.56028526e+01, -3.08693372e+00,  9.64568335e+01,\n",
       "        1.09937517e+02,  9.85645771e+01,  7.25830163e+01,  1.54141645e+02,\n",
       "        1.42456774e+02,  2.09080719e+02,  5.45807512e+01,  1.86172392e+02,\n",
       "        1.37958967e+01,  7.06028439e+01, -8.09015397e+01,  5.82271156e+01,\n",
       "        6.40426907e+00,  1.24394557e+02,  6.75596545e+01,  2.80866667e+02,\n",
       "        1.32754785e+02,  2.23050398e+02,  7.48140473e+01,  1.11130794e+02,\n",
       "        3.38099828e+00,  7.35083293e+01,  1.19254727e+02,  1.38137333e+02,\n",
       "        2.50450781e+01,  3.45545562e+01,  5.88568602e+01,  1.53108228e+02,\n",
       "        6.76654533e+01,  7.04790839e+01,  9.30509830e+01,  1.33857199e+02,\n",
       "        2.56506275e+02,  2.60151997e+01,  2.85684208e+01,  1.17783526e+02,\n",
       "       -1.71876216e+01,  1.95144287e+02,  1.68845642e+02,  2.56265874e+02,\n",
       "        2.30387847e+02,  1.83044427e+01,  1.12927717e+02,  2.10253815e+02,\n",
       "        7.43236960e+01,  1.38950403e+02,  8.74676682e+01,  1.51547787e+02,\n",
       "       -4.00990502e+01,  1.48132769e+02,  1.04600613e+02, -2.18454619e+01,\n",
       "       -2.71497375e+01,  2.31090532e+02,  1.87405362e+02,  1.00539706e+02,\n",
       "        2.48442078e+02,  6.03512980e+01, -5.93940595e+01,  2.50494828e+01,\n",
       "        1.18274260e+02,  1.48143737e+02,  1.39755449e+01,  1.20348859e+02,\n",
       "        8.64458405e+01,  1.29239600e+02,  4.71497752e+01,  2.72896890e+02,\n",
       "        1.21570652e+02, -4.42683003e+01,  4.82499164e+01,  1.01248660e+02,\n",
       "        7.04882103e+01,  8.78503384e+01,  6.45849926e+01,  1.39503706e+02,\n",
       "        1.83634854e+01,  8.19424272e+01,  2.71329905e+02,  2.90982658e+02,\n",
       "        7.18095896e+01,  1.45053468e+02,  6.44161869e+01,  1.34758046e+02])"
      ]
     },
     "execution_count": 60,
     "metadata": {},
     "output_type": "execute_result"
    }
   ],
   "source": [
    "y"
   ]
  },
  {
   "cell_type": "markdown",
   "metadata": {
    "nbpresent": {
     "id": "c3820b22-bf55-4dca-ba8b-f08060567b6e"
    },
    "slideshow": {
     "slide_type": "subslide"
    }
   },
   "source": [
    "Next, we fit the model to our data by using the fit method. "
   ]
  },
  {
   "cell_type": "code",
   "execution_count": 61,
   "metadata": {
    "nbpresent": {
     "id": "aeeeb44d-7825-4050-b7ba-70813bd3396b"
    },
    "slideshow": {
     "slide_type": "fragment"
    }
   },
   "outputs": [
    {
     "data": {
      "text/plain": [
       "{'fit_intercept': True,\n",
       " 'normalize': 'deprecated',\n",
       " 'copy_X': True,\n",
       " 'n_jobs': None,\n",
       " 'positive': False,\n",
       " 'n_features_in_': 1,\n",
       " 'coef_': array([82.16086462]),\n",
       " '_residues': 24610.377337239923,\n",
       " 'rank_': 1,\n",
       " 'singular_': array([31.21272908]),\n",
       " 'intercept_': 100.12938791888158}"
      ]
     },
     "execution_count": 61,
     "metadata": {},
     "output_type": "execute_result"
    }
   ],
   "source": [
    "model.fit(X, y)\n",
    "model.__dict__"
   ]
  },
  {
   "cell_type": "markdown",
   "metadata": {
    "nbpresent": {
     "id": "2e255efc-6ae1-4554-b32f-9400b47007c9"
    },
    "slideshow": {
     "slide_type": "subslide"
    }
   },
   "source": [
    "We can view the coefficients and intercept of the line from the `coef_` and `intercept_` attributes. Note that the underscore (`_`) suffix indicates that the attribute is available after the model is fit to the data (trained)."
   ]
  },
  {
   "cell_type": "code",
   "execution_count": 62,
   "metadata": {
    "nbpresent": {
     "id": "9bfbb27b-cae0-4feb-809a-77718bb2e6a3"
    },
    "slideshow": {
     "slide_type": "fragment"
    }
   },
   "outputs": [
    {
     "name": "stdout",
     "output_type": "stream",
     "text": [
      "Weight coefficients:  [82.16086462]\n",
      "y-axis intercept:  100.12938791888158\n"
     ]
    }
   ],
   "source": [
    "print('Weight coefficients: ', model.coef_)\n",
    "print('y-axis intercept: ', model.intercept_) "
   ]
  },
  {
   "cell_type": "markdown",
   "metadata": {
    "nbpresent": {
     "id": "711a40c8-c479-448b-a3bc-5c7ff8369838"
    },
    "slideshow": {
     "slide_type": "fragment"
    }
   },
   "source": [
    "Our linear model now looks like this: \n",
    "\n",
    "$y = 101.896225057 + 12.44002424 x$\n"
   ]
  },
  {
   "cell_type": "markdown",
   "metadata": {
    "nbpresent": {
     "id": "e54b79a1-316d-4fd1-ad5f-6cd580b51f99"
    },
    "slideshow": {
     "slide_type": "subslide"
    }
   },
   "source": [
    "We can use our model to make predictions."
   ]
  },
  {
   "cell_type": "code",
   "execution_count": 64,
   "metadata": {
    "nbpresent": {
     "id": "3d860568-b048-40f2-a64d-f585211d6c1c"
    },
    "slideshow": {
     "slide_type": "fragment"
    }
   },
   "outputs": [
    {
     "name": "stdout",
     "output_type": "stream",
     "text": [
      "x: [-2.55298982]\n",
      "True output: -112.69026310363523\n",
      "Predicted output: -109.62646271844122\n",
      "Prediction Error: 3.063800385194014\n"
     ]
    }
   ],
   "source": [
    "predictions = model.predict(X)\n",
    "print(f\"x: {X[0]}\")\n",
    "print(f\"True output: {y[0]}\")\n",
    "print(f\"Predicted output: {predictions[0]}\")\n",
    "print(f\"Prediction Error: {predictions[0]-y[0]}\")"
   ]
  },
  {
   "cell_type": "code",
   "execution_count": 65,
   "metadata": {
    "nbpresent": {
     "id": "a6d0bdff-9bba-472e-b354-da47b8761dbe"
    },
    "slideshow": {
     "slide_type": "subslide"
    }
   },
   "outputs": [
    {
     "data": {
      "text/html": [
       "<div>\n",
       "<style scoped>\n",
       "    .dataframe tbody tr th:only-of-type {\n",
       "        vertical-align: middle;\n",
       "    }\n",
       "\n",
       "    .dataframe tbody tr th {\n",
       "        vertical-align: top;\n",
       "    }\n",
       "\n",
       "    .dataframe thead th {\n",
       "        text-align: right;\n",
       "    }\n",
       "</style>\n",
       "<table border=\"1\" class=\"dataframe\">\n",
       "  <thead>\n",
       "    <tr style=\"text-align: right;\">\n",
       "      <th></th>\n",
       "      <th>Predicted</th>\n",
       "      <th>Actual</th>\n",
       "      <th>Error</th>\n",
       "    </tr>\n",
       "  </thead>\n",
       "  <tbody>\n",
       "    <tr>\n",
       "      <th>0</th>\n",
       "      <td>-109.626463</td>\n",
       "      <td>-112.690263</td>\n",
       "      <td>3.063800</td>\n",
       "    </tr>\n",
       "    <tr>\n",
       "      <th>1</th>\n",
       "      <td>245.065454</td>\n",
       "      <td>248.365059</td>\n",
       "      <td>-3.299605</td>\n",
       "    </tr>\n",
       "    <tr>\n",
       "      <th>2</th>\n",
       "      <td>-47.047632</td>\n",
       "      <td>-41.114716</td>\n",
       "      <td>-5.932916</td>\n",
       "    </tr>\n",
       "    <tr>\n",
       "      <th>3</th>\n",
       "      <td>0.379739</td>\n",
       "      <td>2.952425</td>\n",
       "      <td>-2.572686</td>\n",
       "    </tr>\n",
       "    <tr>\n",
       "      <th>4</th>\n",
       "      <td>-18.588148</td>\n",
       "      <td>-19.929375</td>\n",
       "      <td>1.341227</td>\n",
       "    </tr>\n",
       "    <tr>\n",
       "      <th>...</th>\n",
       "      <td>...</td>\n",
       "      <td>...</td>\n",
       "      <td>...</td>\n",
       "    </tr>\n",
       "    <tr>\n",
       "      <th>995</th>\n",
       "      <td>292.354985</td>\n",
       "      <td>290.982658</td>\n",
       "      <td>1.372327</td>\n",
       "    </tr>\n",
       "    <tr>\n",
       "      <th>996</th>\n",
       "      <td>75.291933</td>\n",
       "      <td>71.809590</td>\n",
       "      <td>3.482343</td>\n",
       "    </tr>\n",
       "    <tr>\n",
       "      <th>997</th>\n",
       "      <td>147.502588</td>\n",
       "      <td>145.053468</td>\n",
       "      <td>2.449120</td>\n",
       "    </tr>\n",
       "    <tr>\n",
       "      <th>998</th>\n",
       "      <td>64.376796</td>\n",
       "      <td>64.416187</td>\n",
       "      <td>-0.039391</td>\n",
       "    </tr>\n",
       "    <tr>\n",
       "      <th>999</th>\n",
       "      <td>134.852921</td>\n",
       "      <td>134.758046</td>\n",
       "      <td>0.094875</td>\n",
       "    </tr>\n",
       "  </tbody>\n",
       "</table>\n",
       "<p>1000 rows × 3 columns</p>\n",
       "</div>"
      ],
      "text/plain": [
       "      Predicted      Actual     Error\n",
       "0   -109.626463 -112.690263  3.063800\n",
       "1    245.065454  248.365059 -3.299605\n",
       "2    -47.047632  -41.114716 -5.932916\n",
       "3      0.379739    2.952425 -2.572686\n",
       "4    -18.588148  -19.929375  1.341227\n",
       "..          ...         ...       ...\n",
       "995  292.354985  290.982658  1.372327\n",
       "996   75.291933   71.809590  3.482343\n",
       "997  147.502588  145.053468  2.449120\n",
       "998   64.376796   64.416187 -0.039391\n",
       "999  134.852921  134.758046  0.094875\n",
       "\n",
       "[1000 rows x 3 columns]"
      ]
     },
     "execution_count": 65,
     "metadata": {},
     "output_type": "execute_result"
    }
   ],
   "source": [
    "pd.DataFrame({\"Predicted\": predictions, \"Actual\": y, \"Error\": predictions - y})[[\"Predicted\", \"Actual\", \"Error\"]]"
   ]
  },
  {
   "cell_type": "markdown",
   "metadata": {
    "nbpresent": {
     "id": "d7df6fa0-ce96-4073-b95d-ce78b3f4fdf1"
    },
    "slideshow": {
     "slide_type": "subslide"
    }
   },
   "source": [
    "We can calculate the output response for the minimum and maximum input values. Note: This will be useful later when we want to plot the fit line."
   ]
  },
  {
   "cell_type": "code",
   "execution_count": 66,
   "metadata": {
    "nbpresent": {
     "id": "28aaab45-1e14-4db5-9d2c-63b239cafe13"
    },
    "slideshow": {
     "slide_type": "fragment"
    }
   },
   "outputs": [],
   "source": [
    "x_min = X.min()\n",
    "x_max = X.max()"
   ]
  },
  {
   "cell_type": "code",
   "execution_count": 67,
   "metadata": {
    "nbpresent": {
     "id": "5e425283-82de-4c48-b2ae-31a1d6983849"
    },
    "slideshow": {
     "slide_type": "fragment"
    }
   },
   "outputs": [],
   "source": [
    "y_min_actual = y.min()\n",
    "y_max_actual = y.max()"
   ]
  },
  {
   "cell_type": "code",
   "execution_count": 68,
   "metadata": {
    "nbpresent": {
     "id": "4a5226b5-d431-4cbe-86a6-291952a45a37"
    },
    "slideshow": {
     "slide_type": "fragment"
    }
   },
   "outputs": [
    {
     "name": "stdout",
     "output_type": "stream",
     "text": [
      "Actual Min Value: -156.32069142756947\n",
      "Calculated Min Value: 64.00213161678127\n",
      "Actual Max Value: 329.04710950390484\n",
      "Calculated Max Value: 136.22266956219644\n"
     ]
    }
   ],
   "source": [
    "y_min = 101.896225057 + (12.44002424 * x_min)\n",
    "y_max = 101.896225057 + (12.44002424 * x_max)\n",
    "print(f\"Actual Min Value: {y_min_actual}\")\n",
    "print(f\"Calculated Min Value: {y_min}\")\n",
    "print(f\"Actual Max Value: {y_max_actual}\")\n",
    "print(f\"Calculated Max Value: {y_max}\")"
   ]
  },
  {
   "cell_type": "markdown",
   "metadata": {
    "nbpresent": {
     "id": "46550b81-7dd8-4efc-b710-0f10002c9f2b"
    },
    "slideshow": {
     "slide_type": "subslide"
    }
   },
   "source": [
    "We can also use the predict function to calculate the predicted values. Note: The format for passing values to `model.predict()` is a list of lists."
   ]
  },
  {
   "cell_type": "code",
   "execution_count": 69,
   "metadata": {
    "nbpresent": {
     "id": "2b83c32a-d7e2-4db6-b45f-afbbf028fe90"
    },
    "slideshow": {
     "slide_type": "fragment"
    }
   },
   "outputs": [
    {
     "name": "stdout",
     "output_type": "stream",
     "text": [
      "Actual Min Value: -156.32069142756947\n",
      "Predicted Min Value: [-150.14435922]\n",
      "Actual Max Value: 329.04710950390484\n",
      "Predicted Max Value: [326.84038988]\n"
     ]
    }
   ],
   "source": [
    "y_min_predicted = model.predict([[x_min]])\n",
    "y_max_predicted = model.predict([[x_max]])\n",
    "print(f\"Actual Min Value: {y_min_actual}\")\n",
    "print(f\"Predicted Min Value: {y_min_predicted}\")\n",
    "print(f\"Actual Max Value: {y_max_actual}\")\n",
    "print(f\"Predicted Max Value: {y_max_predicted}\")"
   ]
  },
  {
   "cell_type": "markdown",
   "metadata": {
    "nbpresent": {
     "id": "318099ba-93dd-4c2c-a3ee-fc6622c472c8"
    },
    "slideshow": {
     "slide_type": "subslide"
    }
   },
   "source": [
    "We can show the model fit by plotting the predicted values against the original data."
   ]
  },
  {
   "cell_type": "code",
   "execution_count": 70,
   "metadata": {
    "nbpresent": {
     "id": "8bb35ef7-00cc-4ad9-9dd4-6fac480df38e"
    },
    "slideshow": {
     "slide_type": "fragment"
    }
   },
   "outputs": [
    {
     "data": {
      "text/plain": [
       "[<matplotlib.lines.Line2D at 0x1c5e0d922c8>]"
      ]
     },
     "execution_count": 70,
     "metadata": {},
     "output_type": "execute_result"
    },
    {
     "data": {
      "image/png": "[encoded data removed]",
      "text/plain": [
       "<Figure size 432x288 with 1 Axes>"
      ]
     },
     "metadata": {
      "needs_background": "light"
     },
     "output_type": "display_data"
    }
   ],
   "source": [
    "plt.scatter(X, y, c='blue')\n",
    "plt.plot([x_min, x_max], [y_min, y_max], c='red')"
   ]
  },
  {
   "cell_type": "code",
   "execution_count": 71,
   "metadata": {},
   "outputs": [
    {
     "name": "stdout",
     "output_type": "stream",
     "text": [
      "R2 Score: 0.9962717707443287\n"
     ]
    }
   ],
   "source": [
    "score = model.score(X, y)\n",
    "print(f\"R2 Score: {score}\")"
   ]
  },
  {
   "cell_type": "markdown",
   "metadata": {
    "nbpresent": {
     "id": "67aab8fa-45cd-4ede-8285-e3dad22d8b16"
    },
    "slideshow": {
     "slide_type": "slide"
    }
   },
   "source": [
    "## Your turn!"
   ]
  }
 ],
 "metadata": {
  "anaconda-cloud": {},
  "kernelspec": {
   "display_name": "PythonData",
   "language": "python",
   "name": "pythondata"
  },
  "language_info": {
   "codemirror_mode": {
    "name": "ipython",
    "version": 3
   },
   "file_extension": ".py",
   "mimetype": "text/x-python",
   "name": "python",
   "nbconvert_exporter": "python",
   "pygments_lexer": "ipython3",
   "version": "3.7.7"
  },
  "nbpresent": {
   "slides": {
    "03210a56-863e-4749-b7ba-ed75bfceceee": {
     "id": "03210a56-863e-4749-b7ba-ed75bfceceee",
     "prev": "86b3b05f-6e9a-49dc-8a83-97f72c348c5f",
     "regions": {
      "2be9481c-cff7-4f32-b835-90f2a2cb989a": {
       "attrs": {
        "height": 0.8,
        "width": 0.8,
        "x": 0.1,
        "y": 0.1
       },
       "content": {
        "cell": "46550b81-7dd8-4efc-b710-0f10002c9f2b",
        "part": "whole"
       },
       "id": "2be9481c-cff7-4f32-b835-90f2a2cb989a"
      },
      "3f484569-30ec-4529-8d3c-ac88b8c6dbfb": {
       "attrs": {
        "height": 0.4,
        "width": 0.8,
        "x": 0.1,
        "y": 0.5
       },
       "content": {
        "cell": "2b83c32a-d7e2-4db6-b45f-afbbf028fe90",
        "part": "whole"
       },
       "id": "3f484569-30ec-4529-8d3c-ac88b8c6dbfb"
      }
     }
    },
    "22531930-3fc8-45ff-a4f1-32e94c1d1455": {
     "id": "22531930-3fc8-45ff-a4f1-32e94c1d1455",
     "prev": "8eb735f6-11af-4f77-a4ed-b637fb18ac08",
     "regions": {
      "1407c818-c9fd-470e-8260-6b6904d888de": {
       "attrs": {
        "height": 0.8,
        "width": 0.8,
        "x": 0.1,
        "y": 0.1
       },
       "content": {
        "cell": "664c64ef-5517-4725-95cb-874bbc7711c7",
        "part": "whole"
       },
       "id": "1407c818-c9fd-470e-8260-6b6904d888de"
      }
     }
    },
    "29c55765-6994-4dbf-b82f-117b4f1e0cee": {
     "id": "29c55765-6994-4dbf-b82f-117b4f1e0cee",
     "prev": "b7c25bc1-4dd7-421b-9951-0c0c403c176d",
     "regions": {
      "44583f15-ec4f-4aec-8e7c-f01652e954fc": {
       "attrs": {
        "height": 0.8,
        "width": 0.8,
        "x": 0.1,
        "y": 0.1
       },
       "content": {
        "cell": "7c23961d-86fe-4d07-bc58-6d61f03c3731",
        "part": "whole"
       },
       "id": "44583f15-ec4f-4aec-8e7c-f01652e954fc"
      }
     }
    },
    "39c5764b-ab2c-4aae-8500-dc39319e4d38": {
     "id": "39c5764b-ab2c-4aae-8500-dc39319e4d38",
     "prev": "22531930-3fc8-45ff-a4f1-32e94c1d1455",
     "regions": {
      "d0237596-8095-44dc-81c6-6d9c6b204684": {
       "attrs": {
        "height": 0.8,
        "width": 0.8,
        "x": 0.1,
        "y": 0.1
       },
       "content": {
        "cell": "348e164e-a000-4def-92c0-db93f9a617a1",
        "part": "whole"
       },
       "id": "d0237596-8095-44dc-81c6-6d9c6b204684"
      }
     }
    },
    "39e950f1-f2c4-422a-8f45-835c5c61e7e0": {
     "id": "39e950f1-f2c4-422a-8f45-835c5c61e7e0",
     "prev": "4b5f1824-db4a-4ef3-9515-a88d3f2276c1",
     "regions": {
      "0a72cc48-c38f-4e8c-94d3-3198eccde68a": {
       "attrs": {
        "height": 0.8,
        "width": 0.8,
        "x": 0.1,
        "y": 0.1
       },
       "content": {
        "cell": "c3820b22-bf55-4dca-ba8b-f08060567b6e",
        "part": "whole"
       },
       "id": "0a72cc48-c38f-4e8c-94d3-3198eccde68a"
      },
      "b49c6eca-318f-41b8-a7a5-a620d18f639c": {
       "attrs": {
        "height": 0.4,
        "width": 0.8,
        "x": 0.1,
        "y": 0.5
       },
       "content": {
        "cell": "aeeeb44d-7825-4050-b7ba-70813bd3396b",
        "part": "whole"
       },
       "id": "b49c6eca-318f-41b8-a7a5-a620d18f639c"
      }
     }
    },
    "4792c0cc-ccd4-48bf-9b0e-a3c1f0f3008d": {
     "id": "4792c0cc-ccd4-48bf-9b0e-a3c1f0f3008d",
     "prev": "39c5764b-ab2c-4aae-8500-dc39319e4d38",
     "regions": {
      "d4adae26-ff2f-4a81-ad91-fd3a9bfd965c": {
       "attrs": {
        "height": 0.4,
        "width": 0.8,
        "x": 0.1,
        "y": 0.5
       },
       "content": {
        "cell": "4d6b8af6-438e-4034-bda1-1f977cf12441",
        "part": "whole"
       },
       "id": "d4adae26-ff2f-4a81-ad91-fd3a9bfd965c"
      },
      "d75a8261-ee89-4f4d-b388-2f429e112f44": {
       "attrs": {
        "height": 0.8,
        "width": 0.8,
        "x": 0.1,
        "y": 0.1
       },
       "content": {
        "cell": "a3b6e99c-2c85-47da-b29b-3b53c3c309b8",
        "part": "whole"
       },
       "id": "d75a8261-ee89-4f4d-b388-2f429e112f44"
      }
     }
    },
    "4b5f1824-db4a-4ef3-9515-a88d3f2276c1": {
     "id": "4b5f1824-db4a-4ef3-9515-a88d3f2276c1",
     "prev": "e92a9020-6631-400a-aa50-46c1fa0a5f0c",
     "regions": {
      "2bd81133-11e3-48df-bf12-2d0a57949bca": {
       "attrs": {
        "height": 0.8,
        "width": 0.8,
        "x": 0.1,
        "y": 0.1
       },
       "content": {
        "cell": "69fab88f-0864-47cc-933b-eaffb638cbf3",
        "part": "whole"
       },
       "id": "2bd81133-11e3-48df-bf12-2d0a57949bca"
      },
      "d3322861-28ab-4f1e-8a1f-3a7f4d3da8c1": {
       "attrs": {
        "height": 0.4,
        "width": 0.8,
        "x": 0.1,
        "y": 0.5
       },
       "content": {
        "cell": "3810c2af-fdbe-4f01-bc9f-2bb1a8ae70c6",
        "part": "whole"
       },
       "id": "d3322861-28ab-4f1e-8a1f-3a7f4d3da8c1"
      }
     }
    },
    "57992fb9-2f74-4e8e-8772-7b9f04606a56": {
     "id": "57992fb9-2f74-4e8e-8772-7b9f04606a56",
     "prev": "595093b4-3f86-406c-abb5-aea78e1241b3",
     "regions": {
      "3b3c8191-9f7e-4ab2-afac-b2b47008484a": {
       "attrs": {
        "height": 0.8,
        "width": 0.8,
        "x": 0.1,
        "y": 0.1
       },
       "content": {
        "cell": "a6d0bdff-9bba-472e-b354-da47b8761dbe",
        "part": "whole"
       },
       "id": "3b3c8191-9f7e-4ab2-afac-b2b47008484a"
      }
     }
    },
    "5907f515-df93-4e86-82c6-b8721b6e6346": {
     "id": "5907f515-df93-4e86-82c6-b8721b6e6346",
     "prev": "39e950f1-f2c4-422a-8f45-835c5c61e7e0",
     "regions": {
      "22f9005a-ed7a-4399-b501-497565ada2da": {
       "attrs": {
        "height": 0.8,
        "width": 0.8,
        "x": 0.1,
        "y": 0.1
       },
       "content": {
        "cell": "2e255efc-6ae1-4554-b32f-9400b47007c9",
        "part": "whole"
       },
       "id": "22f9005a-ed7a-4399-b501-497565ada2da"
      },
      "82d64cef-48f7-413c-ad01-e7fa2921f7c0": {
       "attrs": {
        "height": 0.4,
        "width": 0.8,
        "x": 0.1,
        "y": 0.5
       },
       "content": {
        "cell": "711a40c8-c479-448b-a3bc-5c7ff8369838",
        "part": "whole"
       },
       "id": "82d64cef-48f7-413c-ad01-e7fa2921f7c0"
      },
      "d943d3ea-6cd3-4d4a-8914-7fea0231efda": {
       "attrs": {
        "height": 0.4,
        "width": 0.8,
        "x": 0.1,
        "y": 0.5
       },
       "content": {
        "cell": "9bfbb27b-cae0-4feb-809a-77718bb2e6a3",
        "part": "whole"
       },
       "id": "d943d3ea-6cd3-4d4a-8914-7fea0231efda"
      }
     }
    },
    "595093b4-3f86-406c-abb5-aea78e1241b3": {
     "id": "595093b4-3f86-406c-abb5-aea78e1241b3",
     "prev": "5907f515-df93-4e86-82c6-b8721b6e6346",
     "regions": {
      "3366a1dc-6c33-45f0-a97f-a2744ed0587f": {
       "attrs": {
        "height": 0.8,
        "width": 0.8,
        "x": 0.1,
        "y": 0.1
       },
       "content": {
        "cell": "e54b79a1-316d-4fd1-ad5f-6cd580b51f99",
        "part": "whole"
       },
       "id": "3366a1dc-6c33-45f0-a97f-a2744ed0587f"
      },
      "40b6dba8-5994-4fd0-9ce5-9d36f3bb9f93": {
       "attrs": {
        "height": 0.4,
        "width": 0.8,
        "x": 0.1,
        "y": 0.5
       },
       "content": {
        "cell": "3d860568-b048-40f2-a64d-f585211d6c1c",
        "part": "whole"
       },
       "id": "40b6dba8-5994-4fd0-9ce5-9d36f3bb9f93"
      }
     }
    },
    "76838eab-c2c3-4ff3-b09f-854a7c74c6d4": {
     "id": "76838eab-c2c3-4ff3-b09f-854a7c74c6d4",
     "prev": null,
     "regions": {
      "b0032c00-1d89-4c94-a7a0-488f243c381e": {
       "attrs": {
        "height": 0.8,
        "width": 0.8,
        "x": 0.1,
        "y": 0.1
       },
       "content": {
        "cell": "0dc0cdcb-d8df-4a29-a0d2-a3cf6cc889ce",
        "part": "whole"
       },
       "id": "b0032c00-1d89-4c94-a7a0-488f243c381e"
      }
     }
    },
    "7a25817a-e5bc-4021-9c6b-61bc74dbdb92": {
     "id": "7a25817a-e5bc-4021-9c6b-61bc74dbdb92",
     "prev": "b04719fc-934a-404b-a642-dc732a3d1589",
     "regions": {
      "38d56409-500a-45cf-8e79-722d68d8fc38": {
       "attrs": {
        "height": 0.8,
        "width": 0.8,
        "x": 0.1,
        "y": 0.1
       },
       "content": {
        "cell": "335f050d-99af-43b3-a5ec-69fe896e48e2",
        "part": "whole"
       },
       "id": "38d56409-500a-45cf-8e79-722d68d8fc38"
      },
      "c838cb6d-409c-4c17-a1eb-3d7dc6aab32b": {
       "attrs": {
        "height": 0.4,
        "width": 0.8,
        "x": 0.1,
        "y": 0.5
       },
       "content": {
        "cell": "19ca6a7e-4b5d-4b0f-88c5-e68634abb65d",
        "part": "whole"
       },
       "id": "c838cb6d-409c-4c17-a1eb-3d7dc6aab32b"
      }
     }
    },
    "86b3b05f-6e9a-49dc-8a83-97f72c348c5f": {
     "id": "86b3b05f-6e9a-49dc-8a83-97f72c348c5f",
     "prev": "57992fb9-2f74-4e8e-8772-7b9f04606a56",
     "regions": {
      "49a41ef6-224d-46c1-bb81-254b8a4cee88": {
       "attrs": {
        "height": 0.8,
        "width": 0.8,
        "x": 0.1,
        "y": 0.1
       },
       "content": {
        "cell": "d7df6fa0-ce96-4073-b95d-ce78b3f4fdf1",
        "part": "whole"
       },
       "id": "49a41ef6-224d-46c1-bb81-254b8a4cee88"
      },
      "7ce316ab-4799-4e15-b095-374da21bc1aa": {
       "attrs": {
        "height": 0.4,
        "width": 0.8,
        "x": 0.1,
        "y": 0.5
       },
       "content": {
        "cell": "4a5226b5-d431-4cbe-86a6-291952a45a37",
        "part": "whole"
       },
       "id": "7ce316ab-4799-4e15-b095-374da21bc1aa"
      },
      "a7d701c6-61e3-48e3-8e0d-a4b318aef7d8": {
       "attrs": {
        "height": 0.4,
        "width": 0.8,
        "x": 0.1,
        "y": 0.5
       },
       "content": {
        "cell": "5e425283-82de-4c48-b2ae-31a1d6983849",
        "part": "whole"
       },
       "id": "a7d701c6-61e3-48e3-8e0d-a4b318aef7d8"
      },
      "e180cf23-71a7-46a8-8598-86a079bd7d78": {
       "attrs": {
        "height": 0.4,
        "width": 0.8,
        "x": 0.1,
        "y": 0.5
       },
       "content": {
        "cell": "28aaab45-1e14-4db5-9d2c-63b239cafe13",
        "part": "whole"
       },
       "id": "e180cf23-71a7-46a8-8598-86a079bd7d78"
      }
     }
    },
    "8eb735f6-11af-4f77-a4ed-b637fb18ac08": {
     "id": "8eb735f6-11af-4f77-a4ed-b637fb18ac08",
     "prev": "7a25817a-e5bc-4021-9c6b-61bc74dbdb92",
     "regions": {
      "ca38ef02-01f9-42cb-9e35-d67f8d665597": {
       "attrs": {
        "height": 0.4,
        "width": 0.8,
        "x": 0.1,
        "y": 0.5
       },
       "content": {
        "cell": "69b638ed-ed32-4824-bb81-df958c215a33",
        "part": "whole"
       },
       "id": "ca38ef02-01f9-42cb-9e35-d67f8d665597"
      },
      "fc52547b-a8f8-40e2-9397-5b18ca2b71b3": {
       "attrs": {
        "height": 0.8,
        "width": 0.8,
        "x": 0.1,
        "y": 0.1
       },
       "content": {
        "cell": "7317e4f2-150e-4336-ac48-d82641441aa8",
        "part": "whole"
       },
       "id": "fc52547b-a8f8-40e2-9397-5b18ca2b71b3"
      }
     }
    },
    "af2f5933-b31d-4d30-b08a-e4c09432b9bb": {
     "id": "af2f5933-b31d-4d30-b08a-e4c09432b9bb",
     "prev": "29c55765-6994-4dbf-b82f-117b4f1e0cee",
     "regions": {
      "479b436f-50bb-4c3a-9a4e-748e85eacde6": {
       "attrs": {
        "height": 0.8,
        "width": 0.8,
        "x": 0.1,
        "y": 0.1
       },
       "content": {
        "cell": "6d53481c-69ff-41a0-937e-4e8a39e2b2b5",
        "part": "whole"
       },
       "id": "479b436f-50bb-4c3a-9a4e-748e85eacde6"
      },
      "a02a5bdc-cab5-4ddc-aa9d-8ee5e0db6bd4": {
       "attrs": {
        "height": 0.4,
        "width": 0.8,
        "x": 0.1,
        "y": 0.5
       },
       "content": {
        "cell": "b0f8400f-71e1-4892-9012-88e54c053a36",
        "part": "whole"
       },
       "id": "a02a5bdc-cab5-4ddc-aa9d-8ee5e0db6bd4"
      }
     }
    },
    "b04719fc-934a-404b-a642-dc732a3d1589": {
     "id": "b04719fc-934a-404b-a642-dc732a3d1589",
     "prev": "af2f5933-b31d-4d30-b08a-e4c09432b9bb",
     "regions": {
      "701cdc94-3399-40dc-8e45-10d6edbf0959": {
       "attrs": {
        "height": 0.4,
        "width": 0.8,
        "x": 0.1,
        "y": 0.5
       },
       "content": {
        "cell": "fa78fa75-54cf-40d3-b52c-4b51c5070d9a",
        "part": "whole"
       },
       "id": "701cdc94-3399-40dc-8e45-10d6edbf0959"
      },
      "81f01069-a0c6-4ab1-98d1-d465e96aac6d": {
       "attrs": {
        "height": 0.8,
        "width": 0.8,
        "x": 0.1,
        "y": 0.1
       },
       "content": {
        "cell": "fb58a52c-71e9-402d-af86-eab194cf8050",
        "part": "whole"
       },
       "id": "81f01069-a0c6-4ab1-98d1-d465e96aac6d"
      },
      "ae73fc9b-89cf-4405-ab54-34e6c8b73a19": {
       "attrs": {
        "height": 0.4,
        "width": 0.8,
        "x": 0.1,
        "y": 0.5
       },
       "content": {
        "cell": "241f356d-567a-421d-b27c-7ce2d146d1bb",
        "part": "whole"
       },
       "id": "ae73fc9b-89cf-4405-ab54-34e6c8b73a19"
      }
     }
    },
    "b7c25bc1-4dd7-421b-9951-0c0c403c176d": {
     "id": "b7c25bc1-4dd7-421b-9951-0c0c403c176d",
     "prev": "76838eab-c2c3-4ff3-b09f-854a7c74c6d4",
     "regions": {
      "47f524f5-68f8-49df-9a61-61eab6cab03c": {
       "attrs": {
        "height": 0.4,
        "width": 0.8,
        "x": 0.1,
        "y": 0.5
       },
       "content": {
        "cell": "966e050d-5739-4ef9-a2ae-9a4957e14f3e",
        "part": "whole"
       },
       "id": "47f524f5-68f8-49df-9a61-61eab6cab03c"
      },
      "4b3ba01a-29e7-4e67-ac78-988162f7dde9": {
       "attrs": {
        "height": 0.8,
        "width": 0.8,
        "x": 0.1,
        "y": 0.1
       },
       "content": {
        "cell": "91401f60-44eb-42b2-86ea-c82b5e955ace",
        "part": "whole"
       },
       "id": "4b3ba01a-29e7-4e67-ac78-988162f7dde9"
      },
      "a47d9662-0a49-4b84-aae0-908067552ebd": {
       "attrs": {
        "height": 0.4,
        "width": 0.8,
        "x": 0.1,
        "y": 0.5
       },
       "content": {
        "cell": "6de4dae8-c949-4927-89a3-9741aba83e8d",
        "part": "whole"
       },
       "id": "a47d9662-0a49-4b84-aae0-908067552ebd"
      },
      "e64668fe-aafe-4e24-a46d-6a6266eeee77": {
       "attrs": {
        "height": 0.4,
        "width": 0.8,
        "x": 0.1,
        "y": 0.5
       },
       "content": {
        "cell": "7068c96d-f8f0-42bb-bdfd-dcbf9335323c",
        "part": "whole"
       },
       "id": "e64668fe-aafe-4e24-a46d-6a6266eeee77"
      }
     }
    },
    "d3ecec0a-67fe-4558-a268-50695fd7fe1c": {
     "id": "d3ecec0a-67fe-4558-a268-50695fd7fe1c",
     "prev": "fcda7de6-cb93-4b63-9dea-d5f23fecd968",
     "regions": {
      "b268bb57-2543-4b91-b9c0-84aa3cf09d5c": {
       "attrs": {
        "height": 0.8,
        "width": 0.8,
        "x": 0.1,
        "y": 0.1
       },
       "content": {
        "cell": "67aab8fa-45cd-4ede-8285-e3dad22d8b16",
        "part": "whole"
       },
       "id": "b268bb57-2543-4b91-b9c0-84aa3cf09d5c"
      }
     }
    },
    "e92a9020-6631-400a-aa50-46c1fa0a5f0c": {
     "id": "e92a9020-6631-400a-aa50-46c1fa0a5f0c",
     "prev": "ee94ae9b-9e13-414c-a017-db1d8913aaa8",
     "regions": {
      "bb15b4ea-132f-4146-ab77-93a4969c2904": {
       "attrs": {
        "height": 0.8,
        "width": 0.8,
        "x": 0.1,
        "y": 0.1
       },
       "content": {
        "cell": "7d5d2002-5cae-4d5f-8e2e-d5eaf5cd17da",
        "part": "whole"
       },
       "id": "bb15b4ea-132f-4146-ab77-93a4969c2904"
      }
     }
    },
    "ee94ae9b-9e13-414c-a017-db1d8913aaa8": {
     "id": "ee94ae9b-9e13-414c-a017-db1d8913aaa8",
     "prev": "f8fce519-927e-4fd0-88d8-23ece4403794",
     "regions": {
      "0b578bb1-2cd1-480b-8d65-dde0861851cb": {
       "attrs": {
        "height": 0.8,
        "width": 0.8,
        "x": 0.1,
        "y": 0.1
       },
       "content": {
        "cell": "f1c699bc-6717-4eb9-8e6d-66d433ba4618",
        "part": "whole"
       },
       "id": "0b578bb1-2cd1-480b-8d65-dde0861851cb"
      }
     }
    },
    "f8fce519-927e-4fd0-88d8-23ece4403794": {
     "id": "f8fce519-927e-4fd0-88d8-23ece4403794",
     "prev": "4792c0cc-ccd4-48bf-9b0e-a3c1f0f3008d",
     "regions": {
      "7510ae01-fe22-48b0-92cb-29b880cc85fc": {
       "attrs": {
        "height": 0.8,
        "width": 0.8,
        "x": 0.1,
        "y": 0.1
       },
       "content": {
        "cell": "e61ba538-5828-4a5a-a2c5-4fcceac35889",
        "part": "whole"
       },
       "id": "7510ae01-fe22-48b0-92cb-29b880cc85fc"
      }
     }
    },
    "fcda7de6-cb93-4b63-9dea-d5f23fecd968": {
     "id": "fcda7de6-cb93-4b63-9dea-d5f23fecd968",
     "prev": "03210a56-863e-4749-b7ba-ed75bfceceee",
     "regions": {
      "43f5b3bd-9e0c-4a98-a18c-1b9f7beaa3b8": {
       "attrs": {
        "height": 0.8,
        "width": 0.8,
        "x": 0.1,
        "y": 0.1
       },
       "content": {
        "cell": "318099ba-93dd-4c2c-a3ee-fc6622c472c8",
        "part": "whole"
       },
       "id": "43f5b3bd-9e0c-4a98-a18c-1b9f7beaa3b8"
      },
      "dbab9920-f08a-457a-949d-2c8289707798": {
       "attrs": {
        "height": 0.4,
        "width": 0.8,
        "x": 0.1,
        "y": 0.5
       },
       "content": {
        "cell": "8bb35ef7-00cc-4ad9-9dd4-6fac480df38e",
        "part": "whole"
       },
       "id": "dbab9920-f08a-457a-949d-2c8289707798"
      }
     }
    }
   },
   "themes": {}
  },
  "varInspector": {
   "cols": {
    "lenName": 16,
    "lenType": 16,
    "lenVar": 40
   },
   "kernels_config": {
    "python": {
     "delete_cmd_postfix": "",
     "delete_cmd_prefix": "del ",
     "library": "var_list.py",
     "varRefreshCmd": "print(var_dic_list())"
    },
    "r": {
     "delete_cmd_postfix": ") ",
     "delete_cmd_prefix": "rm(",
     "library": "var_list.r",
     "varRefreshCmd": "cat(var_dic_list()) "
    }
   },
   "types_to_exclude": [
    "module",
    "function",
    "builtin_function_or_method",
    "instance",
    "_Feature"
   ],
   "window_display": false
  }
 },
 "nbformat": 4,
 "nbformat_minor": 2
}
