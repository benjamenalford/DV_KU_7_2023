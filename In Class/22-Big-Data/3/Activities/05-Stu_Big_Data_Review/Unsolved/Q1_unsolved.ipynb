{
 "cells": [
  {
   "cell_type": "code",
   "execution_count": null,
   "metadata": {
    "id": "gw6aOs69e4Wj"
   },
   "outputs": [],
   "source": [
    "import os\n",
    "# Find the latest version of spark 3.2  from http://www.apache.org/dist/spark/ and enter as the spark version\n",
    "# For example:\n",
    "# spark_version = 'spark-3.2.2'\n",
    "spark_version = 'spark-3.<enter version>'\n",
    " \n",
    "os.environ['SPARK_VERSION']=spark_version\n",
    "\n",
    "# Install Spark and Java\n",
    "!apt-get update\n",
    "!apt-get install openjdk-8-jdk-headless -qq > /dev/null\n",
    "!wget -q http://www.apache.org/dist/spark/$SPARK_VERSION/$SPARK_VERSION-bin-hadoop2.7.tgz\n",
    "!tar xf $SPARK_VERSION-bin-hadoop2.7.tgz\n",
    "!pip install -q findspark\n",
    "\n",
    "# Set Environment Variables\n",
    "import os\n",
    "os.environ[\"JAVA_HOME\"] = \"/usr/lib/jvm/java-8-openjdk-amd64\"\n",
    "os.environ[\"SPARK_HOME\"] = f\"/content/{spark_version}-bin-hadoop2.7\"\n",
    "\n",
    "# Start a SparkSession\n",
    "import findspark\n",
    "findspark.init()"
   ]
  },
  {
   "cell_type": "code",
   "execution_count": 2,
   "metadata": {
    "id": "jdsAgpQGnMwc"
   },
   "outputs": [],
   "source": [
    "from pyspark.sql import SparkSession\n",
    "spark = SparkSession.builder.appName(\"Q1\").getOrCreate()"
   ]
  },
  {
   "cell_type": "code",
   "execution_count": 4,
   "metadata": {
    "colab": {
     "base_uri": "https://localhost:8080/"
    },
    "id": "RpkJ0Q9onSgL",
    "outputId": "e5475d76-25f7-4c8d-b88c-e29f33dd7eee"
   },
   "outputs": [
    {
     "name": "stdout",
     "output_type": "stream",
     "text": [
      "+----------+--------------------+------------------+--------------------+--------------------+\n",
      "|      asin|            sentence|           helpful|      main_image_url|       product_title|\n",
      "+----------+--------------------+------------------+--------------------+--------------------+\n",
      "|B000AO3L84|this flash is a s...|1.7000000000000002|http://ecx.images...|Canon 430EX Speed...|\n",
      "|B001SEQPGK|The pictures were...|               1.3|http://ecx.images...|Sony Cyber-shot D...|\n",
      "|0553386697|A very good resou...|               1.9|http://ecx.images...|The Whole-Brain C...|\n",
      "|B006SUWZH2|We have it in a c...|              0.25|http://ecx.images...|Memorex Portable ...|\n",
      "|B000W7F5SS|Again the makers ...|               0.9|http://ecx.images...|Harry Potter and ...|\n",
      "|B000AO3L84|This flash is a g...|               2.0|http://ecx.images...|Canon 430EX Speed...|\n",
      "|B00081NX5U|So I've had these...|              0.73|http://ecx.images...|iPod Detachable R...|\n",
      "|B00000F1D3|\"they're cd's or ...|               0.9|http://ecx.images...|             Believe|\n",
      "|B00000FCBH|he proved that ev...|               1.3|http://ecx.images...|  2Pac Greatest Hits|\n",
      "|B00013M6NU|I realize these t...|               0.4|http://ecx.images...|Nikon MH-61 Batte...|\n",
      "+----------+--------------------+------------------+--------------------+--------------------+\n",
      "only showing top 10 rows\n",
      "\n"
     ]
    }
   ],
   "source": [
    "from pyspark import SparkFiles\n",
    "# Load in helpful_sentences.csv from S3 into a DataFrame\n",
    "url = \"https://2u-data-curriculum-team.s3.amazonaws.com/dataviz-classroom/v1.1/22-big-data/day_3/helpful_sentences.csv\"\n",
    "spark.sparkContext.addFile(url)\n",
    "\n",
    "df = spark.read.option('header', 'true').csv(SparkFiles.get(\"helpful_sentences.csv\"), inferSchema=True, sep=',', timestampFormat=\"mm/dd/yy\")\n",
    "df.show(10)"
   ]
  },
  {
   "cell_type": "markdown",
   "metadata": {
    "id": "APXL1XIPnfHW"
   },
   "source": [
    " # What is the average rating for \"asin\" (Amazon Standard Identification Number -ASIN- is a ten-digit alphanumeric code that identifies products on Amazon) with the most reviews?"
   ]
  },
  {
   "cell_type": "code",
   "execution_count": null,
   "metadata": {
    "id": "JV_7gPzqqCHK"
   },
   "outputs": [],
   "source": []
  }
 ],
 "metadata": {
  "colab": {
   "name": "Q1_unsolved.ipynb",
   "provenance": []
  },
  "kernelspec": {
   "display_name": "Python 3",
   "language": "python",
   "name": "python3"
  },
  "language_info": {
   "codemirror_mode": {
    "name": "ipython",
    "version": 3
   },
   "file_extension": ".py",
   "mimetype": "text/x-python",
   "name": "python",
   "nbconvert_exporter": "python",
   "pygments_lexer": "ipython3",
   "version": "3.8.8"
  }
 },
 "nbformat": 4,
 "nbformat_minor": 1
}
