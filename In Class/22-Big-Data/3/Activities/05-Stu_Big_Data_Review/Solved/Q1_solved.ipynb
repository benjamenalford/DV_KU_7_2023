{
 "cells": [
  {
   "cell_type": "code",
   "execution_count": null,
   "metadata": {
    "id": "gw6aOs69e4Wj"
   },
   "outputs": [],
   "source": [
    "import os\n",
    "# Find the latest version of spark 3.2  from http://www.apache.org/dist/spark/ and enter as the spark version\n",
    "# For example:\n",
    "# spark_version = 'spark-3.2.2'\n",
    "spark_version = 'spark-3.<enter version>'\n",
    "\n",
    "os.environ['SPARK_VERSION']=spark_version\n",
    "\n",
    "# Install Spark and Java\n",
    "!apt-get update\n",
    "!apt-get install openjdk-8-jdk-headless -qq > /dev/null\n",
    "!wget -q http://www.apache.org/dist/spark/$SPARK_VERSION/$SPARK_VERSION-bin-hadoop2.7.tgz\n",
    "!tar xf $SPARK_VERSION-bin-hadoop2.7.tgz\n",
    "!pip install -q findspark\n",
    "\n",
    "# Set Environment Variables\n",
    "os.environ[\"JAVA_HOME\"] = \"/usr/lib/jvm/java-8-openjdk-amd64\"\n",
    "os.environ[\"SPARK_HOME\"] = f\"/content/{spark_version}-bin-hadoop2.7\"\n",
    "\n",
    "# Start a SparkSession\n",
    "import findspark\n",
    "findspark.init()"
   ]
  },
  {
   "cell_type": "code",
   "execution_count": 2,
   "metadata": {
    "id": "jdsAgpQGnMwc"
   },
   "outputs": [],
   "source": [
    "from pyspark.sql import SparkSession\n",
    "spark = SparkSession.builder.appName(\"Q1\").getOrCreate()"
   ]
  },
  {
   "cell_type": "code",
   "execution_count": 4,
   "metadata": {
    "colab": {
     "base_uri": "https://localhost:8080/"
    },
    "id": "RpkJ0Q9onSgL",
    "outputId": "795d7064-b8a9-493d-c368-cb85e7c732fc"
   },
   "outputs": [
    {
     "name": "stdout",
     "output_type": "stream",
     "text": [
      "+----------+--------------------+------------------+--------------------+--------------------+\n",
      "|      asin|            sentence|           helpful|      main_image_url|       product_title|\n",
      "+----------+--------------------+------------------+--------------------+--------------------+\n",
      "|B000AO3L84|this flash is a s...|1.7000000000000002|http://ecx.images...|Canon 430EX Speed...|\n",
      "|B001SEQPGK|The pictures were...|               1.3|http://ecx.images...|Sony Cyber-shot D...|\n",
      "|0553386697|A very good resou...|               1.9|http://ecx.images...|The Whole-Brain C...|\n",
      "|B006SUWZH2|We have it in a c...|              0.25|http://ecx.images...|Memorex Portable ...|\n",
      "|B000W7F5SS|Again the makers ...|               0.9|http://ecx.images...|Harry Potter and ...|\n",
      "|B000AO3L84|This flash is a g...|               2.0|http://ecx.images...|Canon 430EX Speed...|\n",
      "|B00081NX5U|So I've had these...|              0.73|http://ecx.images...|iPod Detachable R...|\n",
      "|B00000F1D3|\"they're cd's or ...|               0.9|http://ecx.images...|             Believe|\n",
      "|B00000FCBH|he proved that ev...|               1.3|http://ecx.images...|  2Pac Greatest Hits|\n",
      "|B00013M6NU|I realize these t...|               0.4|http://ecx.images...|Nikon MH-61 Batte...|\n",
      "+----------+--------------------+------------------+--------------------+--------------------+\n",
      "only showing top 10 rows\n",
      "\n"
     ]
    }
   ],
   "source": [
    "from pyspark import SparkFiles\n",
    "# Load in helpful_sentences.csv from S3 into a DataFrame\n",
    "\n",
    "url = \"https://2u-data-curriculum-team.s3.amazonaws.com/dataviz-classroom/v1.1/22-big-data/day_3/helpful_sentences.csv\"\n",
    "spark.sparkContext.addFile(url)\n",
    "\n",
    "df = spark.read.option('header', 'true').csv(SparkFiles.get(\"helpful_sentences.csv\"), inferSchema=True, sep=',', timestampFormat=\"mm/dd/yy\")\n",
    "df.show(10)"
   ]
  },
  {
   "cell_type": "markdown",
   "metadata": {
    "id": "APXL1XIPnfHW"
   },
   "source": [
    " # What is the average rating for \"asin\" (Amazon Standard Identification Number -ASIN- is a ten-digit alphanumeric code that identifies products on Amazon) with the most reviews?"
   ]
  },
  {
   "cell_type": "code",
   "execution_count": 6,
   "metadata": {
    "colab": {
     "base_uri": "https://localhost:8080/"
    },
    "id": "gu-oYHUvnVZh",
    "outputId": "f0a24986-6e62-42c8-fb4c-18f45dd92711"
   },
   "outputs": [
    {
     "name": "stdout",
     "output_type": "stream",
     "text": [
      "+----------+-----------+------------------+\n",
      "|asin      |count(asin)|avg(helpful)      |\n",
      "+----------+-----------+------------------+\n",
      "|B001K5UQX0|57         |1.2210526315789478|\n",
      "|B00004UFOO|215        |1.3140654205607474|\n",
      "|B0006ZOV5E|106        |1.1395833333333334|\n",
      "|B00VG90446|148        |1.356081081081081 |\n",
      "|B003T90WY8|189        |1.3260962566844918|\n",
      "|0064430170|58         |1.1074999999999997|\n",
      "|0375703764|951        |1.0754918918918923|\n",
      "|B00B0DWB62|360        |1.1378333333333328|\n",
      "|B003G9ZQQA|190        |1.1575661375661372|\n",
      "|0553391135|89         |1.0204545454545453|\n",
      "|B00ITOAYOQ|171        |1.0711176470588244|\n",
      "|B00000JZC7|103        |1.0443298969072166|\n",
      "|B00007E7K9|154        |1.3640131578947365|\n",
      "|B001SEQPGK|99         |1.302323232323232 |\n",
      "|B0018QROM2|305        |1.2875247524752478|\n",
      "|0670012335|125        |1.2020161290322575|\n",
      "|B000002KB8|349        |1.0742342342342341|\n",
      "|B000P0J09C|148        |1.0914383561643843|\n",
      "|B004BFVKSQ|50         |1.0499999999999998|\n",
      "|B00KU9LQUO|101        |1.2303000000000002|\n",
      "+----------+-----------+------------------+\n",
      "only showing top 20 rows\n",
      "\n"
     ]
    }
   ],
   "source": [
    "from pyspark.sql.functions import desc\n",
    "asin_ratings_df =df.select([\"asin\",\"helpful\"])\\\n",
    "  .groupby(\"asin\")\\\n",
    "  .agg({\"helpful\": \"avg\", \"asin\":\"count\"})\n",
    "asin_ratings_df.show(truncate=False)"
   ]
  },
  {
   "cell_type": "code",
   "execution_count": 8,
   "metadata": {
    "colab": {
     "base_uri": "https://localhost:8080/"
    },
    "id": "sXb-e3M9ncEf",
    "outputId": "573cacd8-bf7e-491d-e1ec-310f936a3b4e"
   },
   "outputs": [
    {
     "name": "stdout",
     "output_type": "stream",
     "text": [
      "+----------+-----------+------------------+\n",
      "|asin      |count(asin)|avg(helpful)      |\n",
      "+----------+-----------+------------------+\n",
      "|B00C30FCUI|952        |1.3146575342465765|\n",
      "|0375703764|951        |1.0754918918918923|\n",
      "|B00000J0JF|744        |1.2193396226415092|\n",
      "|0671015206|518        |1.0766081871345023|\n",
      "|B00000FCBH|481        |0.9858547008547006|\n",
      "|B00081NX5U|419        |1.2174820143884884|\n",
      "|B00B0DWB62|360        |1.1378333333333328|\n",
      "|B0000658L4|352        |1.156914285714285 |\n",
      "|B000002KB8|349        |1.0742342342342341|\n",
      "|B0018QROM2|305        |1.2875247524752478|\n",
      "|B003IHUHGE|305        |1.278708609271524 |\n",
      "|1402241372|304        |1.1392642140468225|\n",
      "|B00NAPJ8DM|266        |1.2249429657794673|\n",
      "|B00L5LDWP8|257        |1.0062890624999998|\n",
      "|B002ZG99CC|243        |1.0348936170212766|\n",
      "|B00000F1D3|242        |1.0215859030837005|\n",
      "|B00IUAAJY4|235        |1.0041276595744681|\n",
      "|B0007U00XK|232        |1.360344827586207 |\n",
      "|0451232852|231        |1.152610619469026 |\n",
      "|B0015450T6|220        |1.2146788990825692|\n",
      "+----------+-----------+------------------+\n",
      "only showing top 20 rows\n",
      "\n"
     ]
    }
   ],
   "source": [
    "asin_ratings_df.orderBy(desc(\"count(asin)\")).show(truncate=False)"
   ]
  },
  {
   "cell_type": "code",
   "execution_count": null,
   "metadata": {
    "id": "JV_7gPzqqCHK"
   },
   "outputs": [],
   "source": []
  }
 ],
 "metadata": {
  "colab": {
   "name": "Q1_solved.ipynb",
   "provenance": []
  },
  "kernelspec": {
   "display_name": "Python 3",
   "language": "python",
   "name": "python3"
  },
  "language_info": {
   "codemirror_mode": {
    "name": "ipython",
    "version": 3
   },
   "file_extension": ".py",
   "mimetype": "text/x-python",
   "name": "python",
   "nbconvert_exporter": "python",
   "pygments_lexer": "ipython3",
   "version": "3.8.8"
  }
 },
 "nbformat": 4,
 "nbformat_minor": 1
}
