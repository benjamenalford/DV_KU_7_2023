{
 "cells": [
  {
   "cell_type": "code",
   "execution_count": null,
   "metadata": {
    "id": "5WosHdRWdmpw"
   },
   "outputs": [],
   "source": [
    "import os\n",
    "# Find the latest version of spark 3.2  from http://www.apache.org/dist/spark/ and enter as the spark version\n",
    "# For example:\n",
    "# spark_version = 'spark-3.2.2'\n",
    "spark_version = 'spark-3.<version number>'\n",
    "os.environ['SPARK_VERSION']=spark_version\n",
    "\n",
    "# Install Spark and Java\n",
    "!apt-get update\n",
    "!apt-get install openjdk-8-jdk-headless -qq > /dev/null\n",
    "!wget -q http://www.apache.org/dist/spark/$SPARK_VERSION/$SPARK_VERSION-bin-hadoop2.7.tgz\n",
    "!tar xf $SPARK_VERSION-bin-hadoop2.7.tgz\n",
    "!pip install -q findspark\n",
    "\n",
    "# Set Environment Variables\n",
    "os.environ[\"JAVA_HOME\"] = \"/usr/lib/jvm/java-8-openjdk-amd64\"\n",
    "os.environ[\"SPARK_HOME\"] = f\"/content/{spark_version}-bin-hadoop2.7\"\n",
    "\n",
    "# Start a SparkSession\n",
    "import findspark\n",
    "findspark.init()"
   ]
  },
  {
   "cell_type": "code",
   "execution_count": 2,
   "metadata": {
    "colab": {
     "base_uri": "https://localhost:8080/"
    },
    "id": "xISV-9eR6Yah",
    "outputId": "f3741ed5-e627-42a6-826a-0d47155fb7c4"
   },
   "outputs": [
    {
     "name": "stdout",
     "output_type": "stream",
     "text": [
      "--2022-03-21 13:17:31--  https://jdbc.postgresql.org/download/postgresql-42.2.9.jar\n",
      "Resolving jdbc.postgresql.org (jdbc.postgresql.org)... 72.32.157.228, 2001:4800:3e1:1::228\n",
      "Connecting to jdbc.postgresql.org (jdbc.postgresql.org)|72.32.157.228|:443... connected.\n",
      "HTTP request sent, awaiting response... 200 OK\n",
      "Length: 914037 (893K) [application/java-archive]\n",
      "Saving to: ‘postgresql-42.2.9.jar’\n",
      "\n",
      "postgresql-42.2.9.j 100%[===================>] 892.61K  --.-KB/s    in 0.1s    \n",
      "\n",
      "2022-03-21 13:17:32 (6.02 MB/s) - ‘postgresql-42.2.9.jar’ saved [914037/914037]\n",
      "\n"
     ]
    }
   ],
   "source": [
    "!wget https://jdbc.postgresql.org/download/postgresql-42.2.9.jar"
   ]
  },
  {
   "cell_type": "code",
   "execution_count": 4,
   "metadata": {
    "id": "aEQFTWiV6g2h"
   },
   "outputs": [],
   "source": [
    "from pyspark.sql import SparkSession\n",
    "spark = SparkSession.builder.appName(\"CloudETL\").config(\"spark.driver.extraClassPath\",\"/content/postgresql-42.2.9.jar\").getOrCreate()"
   ]
  },
  {
   "cell_type": "code",
   "execution_count": 31,
   "metadata": {
    "colab": {
     "base_uri": "https://localhost:8080/"
    },
    "id": "qik6uGSV9BWa",
    "outputId": "11aaac8d-e070-4955-e1dc-57bd4cbf2002"
   },
   "outputs": [
    {
     "name": "stdout",
     "output_type": "stream",
     "text": [
      "+---+----------+---------+-----------+--------------------+--------------------+----------+\n",
      "| id|first_name|last_name|active_user|      street_address|               state|  username|\n",
      "+---+----------+---------+-----------+--------------------+--------------------+----------+\n",
      "|  1|      Andy|    Tuvey|      false| 12376 Darwin Circle|            New York|   atuvey0|\n",
      "|  2|   Bastian|  Francke|       true|14034 Summerview ...|          Washington| bfrancke1|\n",
      "|  3|    Dallis|    Duffy|      false| 8 Autumn Leaf Court|                Ohio|   dduffy2|\n",
      "|  4|      Zena|    Saker|       true|      3605 Gina Park|          California|   zsaker3|\n",
      "|  5|      Jere|    Argue|       true|        8 Hauk Court|          New Jersey|   jargue4|\n",
      "|  6|    Jethro| Creeghan|       true|29047 Internation...|               Texas|jcreeghan5|\n",
      "|  7|  Meridith|   Rapley|      false|95258 Stuart Terrace|             Indiana|  mrapley6|\n",
      "|  8| Anastasie|     Gant|       true|   4193 Dexter Drive|            Michigan|    agant7|\n",
      "|  9|    Berkly|   Gummow|      false|7581 Northfield P...|          New Mexico|  bgummow8|\n",
      "| 10| Nicolette|  Haughin|      false|      6 Hooker Court|             Florida| nhaughin9|\n",
      "| 11|   Sheelah|  Jurczik|      false|   6 Porter Crossing|          New Mexico| sjurczika|\n",
      "| 12|     Klaus|   Nuscha|      false|    37206 Dwight Way|              Kansas|  knuschab|\n",
      "| 13|      Roth|    Anton|       true|  143 Garrison Drive|District of Columbia|   rantonc|\n",
      "| 14|     Jareb|      Tod|       true|      468 Vidon Lane|           Tennessee|     jtodd|\n",
      "| 15|      Dill|  Swinney|      false|    28 Pearson Point|              Oregon| dswinneye|\n",
      "| 16|      Ulla|   Fernan|      false|   13 Fairview Alley|            Michigan|  ufernanf|\n",
      "| 17|     Aksel|   Josham|      false| 08040 Scoville Hill|            Virginia|  ajoshamg|\n",
      "| 18|    Carney| Stiddard|       true|93776 Twin Pines ...|               Texas|cstiddardh|\n",
      "| 19|    Milzie|  Blizard|       true|      4 Corscot Park|            Kentucky| mblizardi|\n",
      "| 20|     Giffy|  Absolon|      false|   335 Clemons Drive|             Georgia| gabsolonj|\n",
      "+---+----------+---------+-----------+--------------------+--------------------+----------+\n",
      "only showing top 20 rows\n",
      "\n"
     ]
    }
   ],
   "source": [
    "# Read in data from S3 Buckets\n",
    "from pyspark import SparkFiles\n",
    "url=\"https://<bucket name>.s3.amazonaws.com/user_data.csv\" \n",
    "#url = \"https://2u-data-curriculum-team.s3.amazonaws.com/dataviz-classroom/v1.1/22-big-data/day_3/user_data.csv\"\n",
    "spark.sparkContext.addFile(url)\n",
    "user_data_df = spark.read.csv(SparkFiles.get(\"user_data.csv\"), sep=\",\", header=True, inferSchema=True)\n",
    "\n",
    "# Show DataFrame\n",
    "user_data_df.show()"
   ]
  },
  {
   "cell_type": "code",
   "execution_count": 35,
   "metadata": {
    "colab": {
     "base_uri": "https://localhost:8080/"
    },
    "id": "RzqGVnoNd-d8",
    "outputId": "9013334b-6d9c-4db0-e56d-d2008a904490"
   },
   "outputs": [
    {
     "name": "stdout",
     "output_type": "stream",
     "text": [
      "+----------+----------+--------------------+\n",
      "|billing_id|  username|        cc_encrypted|\n",
      "+----------+----------+--------------------+\n",
      "|         1|   atuvey0|e1a4f985f7607bbae...|\n",
      "|         2| bfrancke1|e1a4f985f7607bbae...|\n",
      "|         3|   dduffy2|e1a4f985f7607bbae...|\n",
      "|         4|   zsaker3|e1a4f985f7607bbae...|\n",
      "|         5|   jargue4|e1a4f985f7607bbae...|\n",
      "|         6|jcreeghan5|e1a4f985f7607bbae...|\n",
      "|         7|  mrapley6|e1a4f985f7607bbae...|\n",
      "|         8|    agant7|e1a4f985f7607bbae...|\n",
      "|         9|  bgummow8|e1a4f985f7607bbae...|\n",
      "|        10| nhaughin9|e1a4f985f7607bbae...|\n",
      "|        11| sjurczika|e1a4f985f7607bbae...|\n",
      "|        12|  knuschab|e1a4f985f7607bbae...|\n",
      "|        13|   rantonc|e1a4f985f7607bbae...|\n",
      "|        14|     jtodd|e1a4f985f7607bbae...|\n",
      "|        15| dswinneye|e1a4f985f7607bbae...|\n",
      "|        16|  ufernanf|e1a4f985f7607bbae...|\n",
      "|        17|  ajoshamg|e1a4f985f7607bbae...|\n",
      "|        18|cstiddardh|e1a4f985f7607bbae...|\n",
      "|        19| mblizardi|e1a4f985f7607bbae...|\n",
      "|        20| gabsolonj|e1a4f985f7607bbae...|\n",
      "+----------+----------+--------------------+\n",
      "only showing top 20 rows\n",
      "\n"
     ]
    }
   ],
   "source": [
    "url=\"https://<bucket name>.s3.amazonaws.com/user_payment.csv\"\n",
    "#url = 'https://2u-data-curriculum-team.s3.amazonaws.com/dataviz-classroom/v1.1/22-big-data/day_3/user_payment.csv'\n",
    "spark.sparkContext.addFile(url)\n",
    "user_payment_df = spark.read.csv(SparkFiles.get(\"user_payment.csv\"), sep=\",\", header=True, inferSchema=True)\n",
    "\n",
    "#Rename the id column to \"billing_id\" to match our schema.\n",
    "\n",
    "user_payment_df = user_payment_df.withColumnRenamed(\"id\",\"billing_id\")\n",
    "\n",
    "# Show DataFrame\n",
    "user_payment_df.show()"
   ]
  },
  {
   "cell_type": "code",
   "execution_count": 36,
   "metadata": {
    "colab": {
     "base_uri": "https://localhost:8080/"
    },
    "id": "GoN3Gyb4fkhC",
    "outputId": "c9824bec-21b4-4457-a57e-288987c287d8"
   },
   "outputs": [
    {
     "name": "stdout",
     "output_type": "stream",
     "text": [
      "+----------+---+----------+---------+-----------+--------------------+--------------------+----------+--------------------+\n",
      "|  username| id|first_name|last_name|active_user|      street_address|               state|billing_id|        cc_encrypted|\n",
      "+----------+---+----------+---------+-----------+--------------------+--------------------+----------+--------------------+\n",
      "|   atuvey0|  1|      Andy|    Tuvey|      false| 12376 Darwin Circle|            New York|         1|e1a4f985f7607bbae...|\n",
      "| bfrancke1|  2|   Bastian|  Francke|       true|14034 Summerview ...|          Washington|         2|e1a4f985f7607bbae...|\n",
      "|   dduffy2|  3|    Dallis|    Duffy|      false| 8 Autumn Leaf Court|                Ohio|         3|e1a4f985f7607bbae...|\n",
      "|   zsaker3|  4|      Zena|    Saker|       true|      3605 Gina Park|          California|         4|e1a4f985f7607bbae...|\n",
      "|   jargue4|  5|      Jere|    Argue|       true|        8 Hauk Court|          New Jersey|         5|e1a4f985f7607bbae...|\n",
      "|jcreeghan5|  6|    Jethro| Creeghan|       true|29047 Internation...|               Texas|         6|e1a4f985f7607bbae...|\n",
      "|  mrapley6|  7|  Meridith|   Rapley|      false|95258 Stuart Terrace|             Indiana|         7|e1a4f985f7607bbae...|\n",
      "|    agant7|  8| Anastasie|     Gant|       true|   4193 Dexter Drive|            Michigan|         8|e1a4f985f7607bbae...|\n",
      "|  bgummow8|  9|    Berkly|   Gummow|      false|7581 Northfield P...|          New Mexico|         9|e1a4f985f7607bbae...|\n",
      "| nhaughin9| 10| Nicolette|  Haughin|      false|      6 Hooker Court|             Florida|        10|e1a4f985f7607bbae...|\n",
      "| sjurczika| 11|   Sheelah|  Jurczik|      false|   6 Porter Crossing|          New Mexico|        11|e1a4f985f7607bbae...|\n",
      "|  knuschab| 12|     Klaus|   Nuscha|      false|    37206 Dwight Way|              Kansas|        12|e1a4f985f7607bbae...|\n",
      "|   rantonc| 13|      Roth|    Anton|       true|  143 Garrison Drive|District of Columbia|        13|e1a4f985f7607bbae...|\n",
      "|     jtodd| 14|     Jareb|      Tod|       true|      468 Vidon Lane|           Tennessee|        14|e1a4f985f7607bbae...|\n",
      "| dswinneye| 15|      Dill|  Swinney|      false|    28 Pearson Point|              Oregon|        15|e1a4f985f7607bbae...|\n",
      "|  ufernanf| 16|      Ulla|   Fernan|      false|   13 Fairview Alley|            Michigan|        16|e1a4f985f7607bbae...|\n",
      "|  ajoshamg| 17|     Aksel|   Josham|      false| 08040 Scoville Hill|            Virginia|        17|e1a4f985f7607bbae...|\n",
      "|cstiddardh| 18|    Carney| Stiddard|       true|93776 Twin Pines ...|               Texas|        18|e1a4f985f7607bbae...|\n",
      "| mblizardi| 19|    Milzie|  Blizard|       true|      4 Corscot Park|            Kentucky|        19|e1a4f985f7607bbae...|\n",
      "| gabsolonj| 20|     Giffy|  Absolon|      false|   335 Clemons Drive|             Georgia|        20|e1a4f985f7607bbae...|\n",
      "+----------+---+----------+---------+-----------+--------------------+--------------------+----------+--------------------+\n",
      "only showing top 20 rows\n",
      "\n"
     ]
    }
   ],
   "source": [
    "# Join the two DataFrame, \n",
    "joined_df= user_data_df.join(user_payment_df, on=\"username\", how=\"inner\")\n",
    "joined_df.show()"
   ]
  },
  {
   "cell_type": "code",
   "execution_count": 37,
   "metadata": {
    "colab": {
     "base_uri": "https://localhost:8080/"
    },
    "id": "rtDndjrdlh83",
    "outputId": "400bfe07-1fa3-480a-d65f-c702420f2a11"
   },
   "outputs": [
    {
     "name": "stdout",
     "output_type": "stream",
     "text": [
      "+----------+---+----------+---------+-----------+--------------------+--------------------+----------+--------------------+\n",
      "|  username| id|first_name|last_name|active_user|      street_address|               state|billing_id|        cc_encrypted|\n",
      "+----------+---+----------+---------+-----------+--------------------+--------------------+----------+--------------------+\n",
      "|   atuvey0|  1|      Andy|    Tuvey|      false| 12376 Darwin Circle|            New York|         1|e1a4f985f7607bbae...|\n",
      "| bfrancke1|  2|   Bastian|  Francke|       true|14034 Summerview ...|          Washington|         2|e1a4f985f7607bbae...|\n",
      "|   dduffy2|  3|    Dallis|    Duffy|      false| 8 Autumn Leaf Court|                Ohio|         3|e1a4f985f7607bbae...|\n",
      "|   zsaker3|  4|      Zena|    Saker|       true|      3605 Gina Park|          California|         4|e1a4f985f7607bbae...|\n",
      "|   jargue4|  5|      Jere|    Argue|       true|        8 Hauk Court|          New Jersey|         5|e1a4f985f7607bbae...|\n",
      "|jcreeghan5|  6|    Jethro| Creeghan|       true|29047 Internation...|               Texas|         6|e1a4f985f7607bbae...|\n",
      "|  mrapley6|  7|  Meridith|   Rapley|      false|95258 Stuart Terrace|             Indiana|         7|e1a4f985f7607bbae...|\n",
      "|    agant7|  8| Anastasie|     Gant|       true|   4193 Dexter Drive|            Michigan|         8|e1a4f985f7607bbae...|\n",
      "|  bgummow8|  9|    Berkly|   Gummow|      false|7581 Northfield P...|          New Mexico|         9|e1a4f985f7607bbae...|\n",
      "| nhaughin9| 10| Nicolette|  Haughin|      false|      6 Hooker Court|             Florida|        10|e1a4f985f7607bbae...|\n",
      "| sjurczika| 11|   Sheelah|  Jurczik|      false|   6 Porter Crossing|          New Mexico|        11|e1a4f985f7607bbae...|\n",
      "|  knuschab| 12|     Klaus|   Nuscha|      false|    37206 Dwight Way|              Kansas|        12|e1a4f985f7607bbae...|\n",
      "|   rantonc| 13|      Roth|    Anton|       true|  143 Garrison Drive|District of Columbia|        13|e1a4f985f7607bbae...|\n",
      "|     jtodd| 14|     Jareb|      Tod|       true|      468 Vidon Lane|           Tennessee|        14|e1a4f985f7607bbae...|\n",
      "| dswinneye| 15|      Dill|  Swinney|      false|    28 Pearson Point|              Oregon|        15|e1a4f985f7607bbae...|\n",
      "|  ufernanf| 16|      Ulla|   Fernan|      false|   13 Fairview Alley|            Michigan|        16|e1a4f985f7607bbae...|\n",
      "|  ajoshamg| 17|     Aksel|   Josham|      false| 08040 Scoville Hill|            Virginia|        17|e1a4f985f7607bbae...|\n",
      "|cstiddardh| 18|    Carney| Stiddard|       true|93776 Twin Pines ...|               Texas|        18|e1a4f985f7607bbae...|\n",
      "| mblizardi| 19|    Milzie|  Blizard|       true|      4 Corscot Park|            Kentucky|        19|e1a4f985f7607bbae...|\n",
      "| gabsolonj| 20|     Giffy|  Absolon|      false|   335 Clemons Drive|             Georgia|        20|e1a4f985f7607bbae...|\n",
      "+----------+---+----------+---------+-----------+--------------------+--------------------+----------+--------------------+\n",
      "only showing top 20 rows\n",
      "\n"
     ]
    }
   ],
   "source": [
    "# Drop null values, by default is any which means will drop any rows which has a NA\n",
    "dropna_df = joined_df.dropna(how='any')\n",
    "dropna_df.show()"
   ]
  },
  {
   "cell_type": "code",
   "execution_count": 38,
   "metadata": {
    "colab": {
     "base_uri": "https://localhost:8080/"
    },
    "id": "bjEBAydllvCg",
    "outputId": "33950e33-7db3-499d-d874-84b35e0ced2a"
   },
   "outputs": [
    {
     "name": "stdout",
     "output_type": "stream",
     "text": [
      "+------------+---+----------+----------+-----------+--------------------+--------------------+----------+--------------------+\n",
      "|    username| id|first_name| last_name|active_user|      street_address|               state|billing_id|        cc_encrypted|\n",
      "+------------+---+----------+----------+-----------+--------------------+--------------------+----------+--------------------+\n",
      "|   bfrancke1|  2|   Bastian|   Francke|       true|14034 Summerview ...|          Washington|         2|e1a4f985f7607bbae...|\n",
      "|     zsaker3|  4|      Zena|     Saker|       true|      3605 Gina Park|          California|         4|e1a4f985f7607bbae...|\n",
      "|     jargue4|  5|      Jere|     Argue|       true|        8 Hauk Court|          New Jersey|         5|e1a4f985f7607bbae...|\n",
      "|  jcreeghan5|  6|    Jethro|  Creeghan|       true|29047 Internation...|               Texas|         6|e1a4f985f7607bbae...|\n",
      "|      agant7|  8| Anastasie|      Gant|       true|   4193 Dexter Drive|            Michigan|         8|e1a4f985f7607bbae...|\n",
      "|     rantonc| 13|      Roth|     Anton|       true|  143 Garrison Drive|District of Columbia|        13|e1a4f985f7607bbae...|\n",
      "|       jtodd| 14|     Jareb|       Tod|       true|      468 Vidon Lane|           Tennessee|        14|e1a4f985f7607bbae...|\n",
      "|  cstiddardh| 18|    Carney|  Stiddard|       true|93776 Twin Pines ...|               Texas|        18|e1a4f985f7607bbae...|\n",
      "|   mblizardi| 19|    Milzie|   Blizard|       true|      4 Corscot Park|            Kentucky|        19|e1a4f985f7607bbae...|\n",
      "|     cdaviol| 22|     Chuck|     Davio|       true|       33 Elka Trail|              Nevada|        22|e1a4f985f7607bbae...|\n",
      "|      mpacko| 25|    Maisie|      Pack|       true|0407 Northfield P...|           Minnesota|        25|e1a4f985f7607bbae...|\n",
      "|   tsperingq| 27|   Trueman|   Spering|       true|98 Rockefeller Pa...|             Florida|        27|e1a4f985f7607bbae...|\n",
      "|  rgascoyenr| 28|   Rosalyn|  Gascoyen|       true|27211 Trailsway D...|            Delaware|        28|e1a4f985f7607bbae...|\n",
      "|     lbaseys| 29|       Lev|     Basey|       true|  6300 Dunning Trail|          California|        29|e1a4f985f7607bbae...|\n",
      "|   jmcphailv| 32|      Jean|   McPhail|       true|  397 Anderson Plaza|             Florida|        32|e1a4f985f7607bbae...|\n",
      "|   rmacvainw| 33|    Robbyn|   Macvain|       true|   630 Texas Parkway|          Washington|        33|e1a4f985f7607bbae...|\n",
      "|    bdegreyy| 35|    Binnie|   de Grey|       true|     8 Lien Crossing|            Oklahoma|        35|e1a4f985f7607bbae...|\n",
      "|phindenburgz| 36|   Phineas|Hindenburg|       true|  5865 Fulton Circle|            Kentucky|        36|e1a4f985f7607bbae...|\n",
      "|  ptugwell10| 37|   Pandora|   Tugwell|       true|   85 Killdeer Place|            Missouri|        37|e1a4f985f7607bbae...|\n",
      "|   djeduch11| 38|    Dugald|    Jeduch|       true|9037 Cherokee Street|        Pennsylvania|        38|e1a4f985f7607bbae...|\n",
      "+------------+---+----------+----------+-----------+--------------------+--------------------+----------+--------------------+\n",
      "only showing top 20 rows\n",
      "\n"
     ]
    }
   ],
   "source": [
    "# Load in a sql function to use columns\n",
    "from pyspark.sql.functions import col\n",
    "\n",
    "# Filter for only columns with active users\n",
    "cleaned_df = dropna_df.filter(col(\"active_user\")  == True)\n",
    "cleaned_df.show()"
   ]
  },
  {
   "cell_type": "code",
   "execution_count": 39,
   "metadata": {
    "colab": {
     "base_uri": "https://localhost:8080/"
    },
    "id": "qVzKY3EjmUoj",
    "outputId": "17831803-1db2-4285-f24a-752ff57cbc47"
   },
   "outputs": [
    {
     "name": "stdout",
     "output_type": "stream",
     "text": [
      "+----------+----------+----------+------------+\n",
      "|billing_id|first_name| last_name|    username|\n",
      "+----------+----------+----------+------------+\n",
      "|         2|   Bastian|   Francke|   bfrancke1|\n",
      "|         4|      Zena|     Saker|     zsaker3|\n",
      "|         5|      Jere|     Argue|     jargue4|\n",
      "|         6|    Jethro|  Creeghan|  jcreeghan5|\n",
      "|         8| Anastasie|      Gant|      agant7|\n",
      "|        13|      Roth|     Anton|     rantonc|\n",
      "|        14|     Jareb|       Tod|       jtodd|\n",
      "|        18|    Carney|  Stiddard|  cstiddardh|\n",
      "|        19|    Milzie|   Blizard|   mblizardi|\n",
      "|        22|     Chuck|     Davio|     cdaviol|\n",
      "|        25|    Maisie|      Pack|      mpacko|\n",
      "|        27|   Trueman|   Spering|   tsperingq|\n",
      "|        28|   Rosalyn|  Gascoyen|  rgascoyenr|\n",
      "|        29|       Lev|     Basey|     lbaseys|\n",
      "|        32|      Jean|   McPhail|   jmcphailv|\n",
      "|        33|    Robbyn|   Macvain|   rmacvainw|\n",
      "|        35|    Binnie|   de Grey|    bdegreyy|\n",
      "|        36|   Phineas|Hindenburg|phindenburgz|\n",
      "|        37|   Pandora|   Tugwell|  ptugwell10|\n",
      "|        38|    Dugald|    Jeduch|   djeduch11|\n",
      "+----------+----------+----------+------------+\n",
      "only showing top 20 rows\n",
      "\n"
     ]
    }
   ],
   "source": [
    "# Create user dataframe to match active_user table\n",
    "clean_user_df = cleaned_df.select([\"billing_id\", \"first_name\", \"last_name\", \"username\"])\n",
    "clean_user_df.show()"
   ]
  },
  {
   "cell_type": "code",
   "execution_count": 40,
   "metadata": {
    "colab": {
     "base_uri": "https://localhost:8080/"
    },
    "id": "K6mUzCILmj9X",
    "outputId": "254c71dc-1f85-4c06-fece-6aa0b1560558"
   },
   "outputs": [
    {
     "name": "stdout",
     "output_type": "stream",
     "text": [
      "+----------+--------------------+--------------------+------------+\n",
      "|billing_id|      street_address|               state|    username|\n",
      "+----------+--------------------+--------------------+------------+\n",
      "|         2|14034 Summerview ...|          Washington|   bfrancke1|\n",
      "|         4|      3605 Gina Park|          California|     zsaker3|\n",
      "|         5|        8 Hauk Court|          New Jersey|     jargue4|\n",
      "|         6|29047 Internation...|               Texas|  jcreeghan5|\n",
      "|         8|   4193 Dexter Drive|            Michigan|      agant7|\n",
      "|        13|  143 Garrison Drive|District of Columbia|     rantonc|\n",
      "|        14|      468 Vidon Lane|           Tennessee|       jtodd|\n",
      "|        18|93776 Twin Pines ...|               Texas|  cstiddardh|\n",
      "|        19|      4 Corscot Park|            Kentucky|   mblizardi|\n",
      "|        22|       33 Elka Trail|              Nevada|     cdaviol|\n",
      "|        25|0407 Northfield P...|           Minnesota|      mpacko|\n",
      "|        27|98 Rockefeller Pa...|             Florida|   tsperingq|\n",
      "|        28|27211 Trailsway D...|            Delaware|  rgascoyenr|\n",
      "|        29|  6300 Dunning Trail|          California|     lbaseys|\n",
      "|        32|  397 Anderson Plaza|             Florida|   jmcphailv|\n",
      "|        33|   630 Texas Parkway|          Washington|   rmacvainw|\n",
      "|        35|     8 Lien Crossing|            Oklahoma|    bdegreyy|\n",
      "|        36|  5865 Fulton Circle|            Kentucky|phindenburgz|\n",
      "|        37|   85 Killdeer Place|            Missouri|  ptugwell10|\n",
      "|        38|9037 Cherokee Street|        Pennsylvania|   djeduch11|\n",
      "+----------+--------------------+--------------------+------------+\n",
      "only showing top 20 rows\n",
      "\n"
     ]
    }
   ],
   "source": [
    "# Create user dataframe to match billing_info table.  \n",
    "clean_billing_df = cleaned_df.select([\"billing_id\", \"street_address\", \"state\", \"username\"])\n",
    "clean_billing_df.show()"
   ]
  },
  {
   "cell_type": "code",
   "execution_count": 41,
   "metadata": {
    "colab": {
     "base_uri": "https://localhost:8080/"
    },
    "id": "wVcL8Ub7mmaY",
    "outputId": "0bebedce-fec8-4269-c00e-298ab37e0c0f"
   },
   "outputs": [
    {
     "name": "stdout",
     "output_type": "stream",
     "text": [
      "+----------+--------------------+\n",
      "|billing_id|        cc_encrypted|\n",
      "+----------+--------------------+\n",
      "|         2|e1a4f985f7607bbae...|\n",
      "|         4|e1a4f985f7607bbae...|\n",
      "|         5|e1a4f985f7607bbae...|\n",
      "|         6|e1a4f985f7607bbae...|\n",
      "|         8|e1a4f985f7607bbae...|\n",
      "|        13|e1a4f985f7607bbae...|\n",
      "|        14|e1a4f985f7607bbae...|\n",
      "|        18|e1a4f985f7607bbae...|\n",
      "|        19|e1a4f985f7607bbae...|\n",
      "|        22|e1a4f985f7607bbae...|\n",
      "|        25|e1a4f985f7607bbae...|\n",
      "|        27|e1a4f985f7607bbae...|\n",
      "|        28|e1a4f985f7607bbae...|\n",
      "|        29|e1a4f985f7607bbae...|\n",
      "|        32|e1a4f985f7607bbae...|\n",
      "|        33|e1a4f985f7607bbae...|\n",
      "|        35|e1a4f985f7607bbae...|\n",
      "|        36|e1a4f985f7607bbae...|\n",
      "|        37|e1a4f985f7607bbae...|\n",
      "|        38|e1a4f985f7607bbae...|\n",
      "+----------+--------------------+\n",
      "only showing top 20 rows\n",
      "\n"
     ]
    }
   ],
   "source": [
    "# Create user dataframe to match payment_info table\n",
    "clean_payment_df = cleaned_df.select([\"billing_id\", \"cc_encrypted\"])\n",
    "clean_payment_df.show()"
   ]
  },
  {
   "cell_type": "markdown",
   "metadata": {
    "id": "kQgPpNnVnRwh"
   },
   "source": [
    "Postgres Setup"
   ]
  },
  {
   "cell_type": "code",
   "execution_count": null,
   "metadata": {
    "id": "985Vl1dtmpVU"
   },
   "outputs": [],
   "source": [
    "# Configure settings for RDS\n",
    "mode = \"append\"\n",
    "jdbc_url=\"jdbc:postgresql://<connection string>:5432/<database-name>\"\n",
    "config = {\"user\":\"postgres\", \n",
    "          \"password\": \"<password>\", \n",
    "          \"driver\":\"org.postgresql.Driver\"}\n"
   ]
  },
  {
   "cell_type": "code",
   "execution_count": null,
   "metadata": {
    "id": "9yyZgvcUnaNN"
   },
   "outputs": [],
   "source": [
    "# Write DataFrame to active_user table in RDS\n",
    "\n",
    "clean_user_df.write.jdbc(url=jdbc_url, table='active_user', mode=mode, properties=config)"
   ]
  },
  {
   "cell_type": "code",
   "execution_count": null,
   "metadata": {
    "id": "8rsTf2kmna3V"
   },
   "outputs": [],
   "source": [
    "# Write dataframe to billing_info table in RDS\n",
    "\n",
    "clean_billing_df.write.jdbc(url=jdbc_url, table='billing_info', mode=mode, properties=config)"
   ]
  },
  {
   "cell_type": "code",
   "execution_count": null,
   "metadata": {
    "id": "9q6Bm3kAncqx"
   },
   "outputs": [],
   "source": [
    "# Write dataframe to payment_info table in RDS\n",
    "\n",
    "clean_payment_df.write.jdbc(url=jdbc_url, table='payment_info', mode=mode, properties=config)"
   ]
  },
  {
   "cell_type": "code",
   "execution_count": null,
   "metadata": {
    "id": "Kx3hMnlAD5FA"
   },
   "outputs": [],
   "source": []
  }
 ],
 "metadata": {
  "colab": {
   "collapsed_sections": [],
   "name": "ins_etl_s3_rds.ipynb",
   "provenance": []
  },
  "kernelspec": {
   "display_name": "Python 3",
   "language": "python",
   "name": "python3"
  },
  "language_info": {
   "codemirror_mode": {
    "name": "ipython",
    "version": 3
   },
   "file_extension": ".py",
   "mimetype": "text/x-python",
   "name": "python",
   "nbconvert_exporter": "python",
   "pygments_lexer": "ipython3",
   "version": "3.8.8"
  },
  "latex_envs": {
   "LaTeX_envs_menu_present": true,
   "autoclose": false,
   "autocomplete": true,
   "bibliofile": "biblio.bib",
   "cite_by": "apalike",
   "current_citInitial": 1,
   "eqLabelWithNumbers": true,
   "eqNumInitial": 1,
   "hotkeys": {
    "equation": "Ctrl-E",
    "itemize": "Ctrl-I"
   },
   "labels_anchors": false,
   "latex_user_defs": false,
   "report_style_numbering": false,
   "user_envs_cfg": false
  }
 },
 "nbformat": 4,
 "nbformat_minor": 1
}
