{
 "cells": [
  {
   "cell_type": "code",
   "execution_count": 2,
   "metadata": {
    "colab": {
     "base_uri": "https://localhost:8080/"
    },
    "id": "9BtCOyQ3kChJ",
    "outputId": "c5733a8c-5890-4d02-b8f2-1ed972fe4302"
   },
   "outputs": [
    {
     "name": "stdout",
     "output_type": "stream",
     "text": [
      "\r",
      "0% [Working]\r",
      "            \r",
      "Ign:1 https://developer.download.nvidia.com/compute/cuda/repos/ubuntu1804/x86_64  InRelease\n",
      "\r",
      "0% [Connecting to archive.ubuntu.com] [Connecting to security.ubuntu.com] [Conn\r",
      "                                                                               \r",
      "Hit:2 https://cloud.r-project.org/bin/linux/ubuntu bionic-cran40/ InRelease\n",
      "\r",
      "0% [Connecting to archive.ubuntu.com] [Connecting to security.ubuntu.com] [Conn\r",
      "                                                                               \r",
      "Ign:3 https://developer.download.nvidia.com/compute/machine-learning/repos/ubuntu1804/x86_64  InRelease\n",
      "\r",
      "0% [Connecting to archive.ubuntu.com] [Connecting to security.ubuntu.com] [Conn\r",
      "0% [2 InRelease gpgv 3,626 B] [Connecting to archive.ubuntu.com] [Connecting to\r",
      "                                                                               \r",
      "Hit:4 https://developer.download.nvidia.com/compute/cuda/repos/ubuntu1804/x86_64  Release\n",
      "Hit:5 https://developer.download.nvidia.com/compute/machine-learning/repos/ubuntu1804/x86_64  Release\n",
      "Hit:6 http://ppa.launchpad.net/c2d4u.team/c2d4u4.0+/ubuntu bionic InRelease\n",
      "Get:7 http://security.ubuntu.com/ubuntu bionic-security InRelease [88.7 kB]\n",
      "Hit:8 http://archive.ubuntu.com/ubuntu bionic InRelease\n",
      "Get:10 http://archive.ubuntu.com/ubuntu bionic-updates InRelease [88.7 kB]\n",
      "Hit:11 http://ppa.launchpad.net/cran/libgit2/ubuntu bionic InRelease\n",
      "Get:13 http://archive.ubuntu.com/ubuntu bionic-backports InRelease [74.6 kB]\n",
      "Hit:14 http://ppa.launchpad.net/deadsnakes/ppa/ubuntu bionic InRelease\n",
      "Hit:15 http://ppa.launchpad.net/graphics-drivers/ppa/ubuntu bionic InRelease\n",
      "Fetched 252 kB in 2s (119 kB/s)\n",
      "Reading package lists... Done\n"
     ]
    }
   ],
   "source": [
    "import os\n",
    "# Find the latest version of spark 3.2  from http://www.apache.org/dist/spark/ and enter as the spark version\n",
    "# For example:\n",
    "# spark_version = 'spark-3.2.2'\n",
    "spark_version = 'spark-<enter version>'\n",
    "os.environ['SPARK_VERSION']=spark_version\n",
    "\n",
    "# Install Spark and Java\n",
    "!apt-get update\n",
    "!apt-get install openjdk-8-jdk-headless -qq > /dev/null\n",
    "!wget -q http://www.apache.org/dist/spark/$SPARK_VERSION/$SPARK_VERSION-bin-hadoop2.7.tgz\n",
    "!tar xf $SPARK_VERSION-bin-hadoop2.7.tgz\n",
    "!pip install -q findspark\n",
    "\n",
    "# Set Environment Variables\n",
    "os.environ[\"JAVA_HOME\"] = \"/usr/lib/jvm/java-8-openjdk-amd64\"\n",
    "os.environ[\"SPARK_HOME\"] = f\"/content/{spark_version}-bin-hadoop2.7\"\n",
    "\n",
    "# Start a SparkSession\n",
    "import findspark\n",
    "findspark.init()"
   ]
  },
  {
   "cell_type": "code",
   "execution_count": 3,
   "metadata": {
    "id": "3FP8HaLokHui"
   },
   "outputs": [],
   "source": [
    "from pyspark.sql import SparkSession\n",
    "spark = SparkSession.builder.appName(\"CloudETLProjectAnalysis\").getOrCreate()"
   ]
  },
  {
   "cell_type": "code",
   "execution_count": 9,
   "metadata": {
    "colab": {
     "base_uri": "https://localhost:8080/"
    },
    "id": "9LSw6QzzkMkY",
    "outputId": "be63b7eb-cfde-4c01-d81b-61c5ef658f99"
   },
   "outputs": [
    {
     "name": "stdout",
     "output_type": "stream",
     "text": [
      "+--------------------+--------------------+--------------------+--------------------+------+-----------------+-----------+\n",
      "|                 _c0|            drugName|           condition|              review|rating|             date|usefulCount|\n",
      "+--------------------+--------------------+--------------------+--------------------+------+-----------------+-----------+\n",
      "|              206461|           Valsartan|Left Ventricular ...|\"\"\"It has no side...|   9.0|     May 20, 2012|         27|\n",
      "|               95260|          Guanfacine|                ADHD|\"\"\"My son is half...|  null|             null|       null|\n",
      "|We have tried man...|                 8.0|      April 27, 2010|                 192|  null|             null|       null|\n",
      "|               92703|              Lybrel|       Birth Control|\"\"\"I used to take...|  null|             null|       null|\n",
      "|The positive side...|                 5.0|   December 14, 2009|                  17|  null|             null|       null|\n",
      "|              138000|          Ortho Evra|       Birth Control|\"\"\"This is my fir...|   8.0| November 3, 2015|         10|\n",
      "|               35696|Buprenorphine / n...|   Opiate Dependence|\"\"\"Suboxone has c...|   9.0|November 27, 2016|         37|\n",
      "|              155963|              Cialis|Benign Prostatic ...|\"\"\"2nd day on 5mg...|   2.0|November 28, 2015|         43|\n",
      "|              165907|      Levonorgestrel|Emergency Contrac...|\"\"\"He pulled out,...|   1.0|    March 7, 2017|          5|\n",
      "|              102654|        Aripiprazole|     Bipolar Disorde|\"\"\"Abilify change...|  10.0|   March 14, 2015|         32|\n",
      "+--------------------+--------------------+--------------------+--------------------+------+-----------------+-----------+\n",
      "only showing top 10 rows\n",
      "\n"
     ]
    }
   ],
   "source": [
    "from pyspark import SparkFiles\n",
    "# Load file\n",
    "\n",
    "url = \"/content/drive/MyDrive/Colab Notebooks/2U/etl/06-Stu_Cloud_ETL_Project/Solved/drugsComTrain_raw.tsv\" #enter correct address here\n",
    "\n",
    "#spark.sparkContext.addFile(url) - No need to use sparkcontext because we are reading it from a local folder\n",
    "\n",
    "df = spark.read.csv(url, header=True, inferSchema=True, sep='\\t', timestampFormat=\"mm/dd/yy\")\n",
    "\n",
    "df.show(10)"
   ]
  },
  {
   "cell_type": "markdown",
   "metadata": {
    "id": "IifpzN6zkN5Q"
   },
   "source": [
    "## Transform DataFrame to fit a schema with data types \"text\" and \"integer\""
   ]
  },
  {
   "cell_type": "code",
   "execution_count": 10,
   "metadata": {
    "colab": {
     "base_uri": "https://localhost:8080/"
    },
    "id": "E72hLCa7kT_D",
    "outputId": "bdc11072-3ac1-4005-912d-03739b19d92c"
   },
   "outputs": [
    {
     "name": "stdout",
     "output_type": "stream",
     "text": [
      "+--------------------+------+\n",
      "|            drugName|rating|\n",
      "+--------------------+------+\n",
      "|           Valsartan|   9.0|\n",
      "|          Guanfacine|  null|\n",
      "|                 8.0|  null|\n",
      "|              Lybrel|  null|\n",
      "|                 5.0|  null|\n",
      "|          Ortho Evra|   8.0|\n",
      "|Buprenorphine / n...|   9.0|\n",
      "|              Cialis|   2.0|\n",
      "|      Levonorgestrel|   1.0|\n",
      "|        Aripiprazole|  10.0|\n",
      "|              Keppra|   1.0|\n",
      "|Ethinyl estradiol...|   8.0|\n",
      "|          Topiramate|   9.0|\n",
      "|      L-methylfolate|  null|\n",
      "|                null|  null|\n",
      "|                10.0|  null|\n",
      "|             Pentasa|   4.0|\n",
      "|    Dextromethorphan|   4.0|\n",
      "|           Nexplanon|  null|\n",
      "|                 3.0|  null|\n",
      "+--------------------+------+\n",
      "only showing top 20 rows\n",
      "\n"
     ]
    }
   ],
   "source": [
    "shop_df = df.select([\"drugName\",\"rating\"])\n",
    "shop_df.show()"
   ]
  },
  {
   "cell_type": "code",
   "execution_count": 12,
   "metadata": {
    "colab": {
     "base_uri": "https://localhost:8080/"
    },
    "id": "kRvAVaeWkXXn",
    "outputId": "47db3632-98c0-42ae-df9e-69b0db8ea473"
   },
   "outputs": [
    {
     "name": "stdout",
     "output_type": "stream",
     "text": [
      "+--------------------+-----------------+---------------+\n",
      "|            drugName|      avg(rating)|count(drugName)|\n",
      "+--------------------+-----------------+---------------+\n",
      "|              Dulera|5.285714285714286|             24|\n",
      "|              Prozac|7.482843137254902|            472|\n",
      "|               Arava|6.357142857142857|             14|\n",
      "|              Maxalt|         8.890625|             70|\n",
      "|          Tazarotene|7.416666666666667|             14|\n",
      "|           Primidone|6.193548387096774|             41|\n",
      "|Acetaminophen / d...|6.565217391304348|             23|\n",
      "|            Treximet|              9.0|             58|\n",
      "|              Avapro|4.956521739130435|             23|\n",
      "|             Prograf|8.411764705882353|             18|\n",
      "|           Auranofin|             10.0|              2|\n",
      "|    Spiriva Respimat|              7.0|              4|\n",
      "|   Parafon Forte DSC|              6.0|              2|\n",
      "|                 1.0|             null|           2278|\n",
      "|            Dupixent|7.833333333333333|             16|\n",
      "|           Nebivolol|6.962616822429907|            117|\n",
      "|              Nexium|8.064102564102564|             80|\n",
      "|              Ceftin|8.391304347826088|             25|\n",
      "|             Enjuvia|             10.0|              2|\n",
      "|         Benicar HCT|7.133333333333334|             18|\n",
      "+--------------------+-----------------+---------------+\n",
      "only showing top 20 rows\n",
      "\n"
     ]
    }
   ],
   "source": [
    "drug_ratings_df = shop_df.groupby(\"drugName\").agg({\"rating\": \"avg\", \"drugName\":\"count\"})\n",
    "drug_ratings_df.show()"
   ]
  },
  {
   "cell_type": "code",
   "execution_count": 13,
   "metadata": {
    "colab": {
     "base_uri": "https://localhost:8080/"
    },
    "id": "OJgQqozHkYhz",
    "outputId": "2761e2c7-136a-4a6f-ce2f-6fb8c0262eed"
   },
   "outputs": [
    {
     "name": "stdout",
     "output_type": "stream",
     "text": [
      "+--------------------+----------+-------------+\n",
      "|            drugName|avg_rating|total_ratings|\n",
      "+--------------------+----------+-------------+\n",
      "|Do not stop the m...|     148.0|            1|\n",
      "|                   \"|      62.0|            1|\n",
      "|         Ecallantide|      10.0|            1|\n",
      "|       Sertaconazole|      10.0|            1|\n",
      "|         Ferumoxytol|      10.0|            2|\n",
      "|          Ovace Plus|      10.0|            1|\n",
      "|         Pilocarpine|      10.0|            1|\n",
      "|             Plendil|      10.0|            2|\n",
      "|             Privine|      10.0|            9|\n",
      "|             R-Tanna|      10.0|            2|\n",
      "|          Filgrastim|      10.0|            2|\n",
      "|Flanax Pain Reliever|      10.0|            1|\n",
      "|Salicylic acid / ...|      10.0|            1|\n",
      "|          Capmist DM|      10.0|            1|\n",
      "|          Phosphasal|      10.0|            1|\n",
      "|Chlorpheniramine ...|      10.0|            6|\n",
      "|           ProCentra|      10.0|            1|\n",
      "|         Royal jelly|      10.0|            1|\n",
      "|             Lazanda|      10.0|            1|\n",
      "|              Sulfur|      10.0|            1|\n",
      "+--------------------+----------+-------------+\n",
      "only showing top 20 rows\n",
      "\n"
     ]
    }
   ],
   "source": [
    "from pyspark.sql.functions import desc\n",
    "drug_ratings_df = drug_ratings_df.withColumnRenamed(\"count(drugName)\", \"total_ratings\")\\\n",
    "                                     .withColumnRenamed(\"avg(rating)\", \"avg_rating\")\n",
    "drug_ratings_df.orderBy(desc(\"avg_rating\")).show()"
   ]
  },
  {
   "cell_type": "markdown",
   "metadata": {
    "id": "qnF65nZ1kZAi"
   },
   "source": [
    "## Transform DataFrame to fit a schema with data types of \"date\" and \"text\""
   ]
  },
  {
   "cell_type": "code",
   "execution_count": 17,
   "metadata": {
    "id": "W8gR8zpukhqW"
   },
   "outputs": [],
   "source": [
    "review_df = df.select([\"review\", \"date\"])"
   ]
  },
  {
   "cell_type": "code",
   "execution_count": 18,
   "metadata": {
    "colab": {
     "base_uri": "https://localhost:8080/"
    },
    "id": "ntGlHckdHU1Y",
    "outputId": "cffaec2c-ba34-47e6-a1f8-fdc220df2ede"
   },
   "outputs": [
    {
     "name": "stdout",
     "output_type": "stream",
     "text": [
      "+--------------------+-----------------+\n",
      "|              review|             date|\n",
      "+--------------------+-----------------+\n",
      "|\"\"\"It has no side...|     May 20, 2012|\n",
      "|\"\"\"My son is half...|             null|\n",
      "|                 192|             null|\n",
      "|\"\"\"I used to take...|             null|\n",
      "|                  17|             null|\n",
      "|\"\"\"This is my fir...| November 3, 2015|\n",
      "|\"\"\"Suboxone has c...|November 27, 2016|\n",
      "|\"\"\"2nd day on 5mg...|November 28, 2015|\n",
      "|\"\"\"He pulled out,...|    March 7, 2017|\n",
      "|\"\"\"Abilify change...|   March 14, 2015|\n",
      "|\"\"\" I Ve had  not...|   August 9, 2016|\n",
      "|\"\"\"I had been on ...| December 8, 2016|\n",
      "|\"\"\"I have been on...|  January 1, 2015|\n",
      "|\"\"\"I have taken a...|             null|\n",
      "|                null|             null|\n",
      "|                  54|             null|\n",
      "|\"\"\"I had Crohn&#0...|     July 6, 2013|\n",
      "|\"\"\"Have a little ...|September 7, 2017|\n",
      "|\"\"\"Started Nexpla...|             null|\n",
      "|                  10|             null|\n",
      "+--------------------+-----------------+\n",
      "only showing top 20 rows\n",
      "\n"
     ]
    }
   ],
   "source": [
    "review_df.show()"
   ]
  },
  {
   "cell_type": "code",
   "execution_count": 21,
   "metadata": {
    "id": "Trx6n0mFSOnx"
   },
   "outputs": [],
   "source": [
    "#Drop columns with NA\n",
    "review_df = review_df.dropna()"
   ]
  },
  {
   "cell_type": "code",
   "execution_count": 22,
   "metadata": {
    "colab": {
     "base_uri": "https://localhost:8080/"
    },
    "id": "nVPFb0PzkkTH",
    "outputId": "552b0625-bd06-45a6-fa5e-c7b82886a8b4"
   },
   "outputs": [
    {
     "name": "stdout",
     "output_type": "stream",
     "text": [
      "+-----------------+------------+\n",
      "|             date|review_count|\n",
      "+-----------------+------------+\n",
      "|      May 7, 2011|          17|\n",
      "|    March 2, 2017|          79|\n",
      "|   March 21, 2013|          25|\n",
      "|   April 29, 2016|         111|\n",
      "|     May 30, 2017|          68|\n",
      "|February 10, 2013|          30|\n",
      "| October 31, 2015|          79|\n",
      "| October 27, 2015|         108|\n",
      "|   April 18, 2015|          43|\n",
      "|    March 4, 2010|          10|\n",
      "|   March 25, 2016|          53|\n",
      "| November 4, 2010|          20|\n",
      "| January 17, 2009|          12|\n",
      "|  August 15, 2012|          33|\n",
      "|February 21, 2009|          21|\n",
      "|   April 26, 2008|          13|\n",
      "|September 8, 2010|          19|\n",
      "| October 29, 2012|          13|\n",
      "|December 25, 2013|          11|\n",
      "|      May 5, 2014|          27|\n",
      "+-----------------+------------+\n",
      "only showing top 20 rows\n",
      "\n"
     ]
    }
   ],
   "source": [
    "date_df = review_df.groupBy('date').agg({\"date\": \"count\"})\n",
    "date_df = date_df.withColumnRenamed(\"count(date)\", \"review_count\")\n",
    "date_df.show()"
   ]
  },
  {
   "cell_type": "code",
   "execution_count": null,
   "metadata": {
    "colab": {
     "base_uri": "https://localhost:8080/",
     "height": 469
    },
    "id": "E6P2i7rCkjte",
    "outputId": "e0235c48-5dd4-4771-e204-5ed56bbd807a"
   },
   "outputs": [
    {
     "name": "stdout",
     "output_type": "stream",
     "text": [
      "+----------+------------+\n",
      "|      date|review_count|\n",
      "+----------+------------+\n",
      "| 10/9/2016|          31|\n",
      "| 9/18/2016|          30|\n",
      "|11/20/2016|          27|\n",
      "| 11/2/2016|          27|\n",
      "| 12/2/2016|          26|\n",
      "| 12/4/2016|          26|\n",
      "| 9/15/2016|          25|\n",
      "| 10/7/2016|          24|\n",
      "| 11/6/2016|          24|\n",
      "| 7/24/2016|          24|\n",
      "| 4/17/2016|          23|\n",
      "|10/25/2016|          23|\n",
      "| 12/3/2016|          23|\n",
      "| 12/1/2016|          23|\n",
      "|  8/7/2016|          22|\n",
      "| 6/27/2016|          22|\n",
      "|  1/4/2016|          21|\n",
      "| 1/17/2016|          21|\n",
      "|11/21/2016|          21|\n",
      "| 8/13/2016|          20|\n",
      "+----------+------------+\n",
      "only showing top 20 rows\n",
      "\n"
     ]
    }
   ],
   "source": [
    "date_df.orderBy(desc(\"review_count\")).show()"
   ]
  },
  {
   "cell_type": "code",
   "execution_count": null,
   "metadata": {
    "id": "uXQe3s_ElN2U"
   },
   "outputs": [],
   "source": []
  }
 ],
 "metadata": {
  "colab": {
   "collapsed_sections": [],
   "name": "cloud_etl_analysis.ipynb",
   "provenance": []
  },
  "kernelspec": {
   "display_name": "Python 3",
   "language": "python",
   "name": "python3"
  },
  "language_info": {
   "codemirror_mode": {
    "name": "ipython",
    "version": 3
   },
   "file_extension": ".py",
   "mimetype": "text/x-python",
   "name": "python",
   "nbconvert_exporter": "python",
   "pygments_lexer": "ipython3",
   "version": "3.8.8"
  }
 },
 "nbformat": 4,
 "nbformat_minor": 1
}
