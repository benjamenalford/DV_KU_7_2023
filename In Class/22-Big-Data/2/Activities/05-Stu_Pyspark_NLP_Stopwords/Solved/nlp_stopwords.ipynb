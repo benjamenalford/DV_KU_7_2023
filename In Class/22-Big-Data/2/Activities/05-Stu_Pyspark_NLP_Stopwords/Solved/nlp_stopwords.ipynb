{
 "cells": [
  {
   "cell_type": "code",
   "execution_count": null,
   "metadata": {
    "id": "8J_UV-nFpkAX"
   },
   "outputs": [],
   "source": [
    "import os\n",
    "# Find the latest version of spark 3.2  from http://www.apache.org/dist/spark/ and enter as the spark version\n",
    "# For example:\n",
    "# spark_version = 'spark-3.2.2'\n",
    "spark_version = 'spark-3.<enter version>'\n",
    "\n",
    "os.environ['SPARK_VERSION']=spark_version\n",
    "\n",
    "# Install Spark and Java\n",
    "!apt-get update\n",
    "!apt-get install openjdk-8-jdk-headless -qq > /dev/null\n",
    "!wget -q http://www.apache.org/dist/spark/$SPARK_VERSION/$SPARK_VERSION-bin-hadoop2.7.tgz\n",
    "!tar xf $SPARK_VERSION-bin-hadoop2.7.tgz\n",
    "!pip install -q findspark\n",
    "\n",
    "# Set Environment Variables\n",
    "os.environ[\"JAVA_HOME\"] = \"/usr/lib/jvm/java-8-openjdk-amd64\"\n",
    "os.environ[\"SPARK_HOME\"] = f\"/content/{spark_version}-bin-hadoop2.7\"\n",
    "\n",
    "# Start a SparkSession\n",
    "import findspark\n",
    "findspark.init()"
   ]
  },
  {
   "cell_type": "code",
   "execution_count": 24,
   "metadata": {
    "id": "MhK9dXEbq2Ld"
   },
   "outputs": [],
   "source": [
    "# Start Spark session\n",
    "from pyspark.sql import SparkSession\n",
    "spark = SparkSession.builder.appName(\"StopWords\").getOrCreate()"
   ]
  },
  {
   "cell_type": "code",
   "execution_count": 25,
   "metadata": {
    "id": "VGZTJr7LphF-"
   },
   "outputs": [],
   "source": [
    "from pyspark.ml.feature import Tokenizer, StopWordsRemover"
   ]
  },
  {
   "cell_type": "code",
   "execution_count": 26,
   "metadata": {
    "colab": {
     "base_uri": "https://localhost:8080/"
    },
    "id": "Ye-TwiaEphGF",
    "outputId": "f2a5e94a-fda6-42d6-bc6c-18eeb8f7886f"
   },
   "outputs": [
    {
     "name": "stdout",
     "output_type": "stream",
     "text": [
      "+---+--------------------+---------+\n",
      "| id|                text|sentiment|\n",
      "+---+--------------------+---------+\n",
      "|  0|to water, cloudli...|        0|\n",
      "|  1|shall yet be glad...|        1|\n",
      "|  2|on its windy site...|        0|\n",
      "|  3|(if haply the dar...|       -1|\n",
      "|  4|jehovah, jove, or...|        0|\n",
      "|  5|when the brow is ...|       -1|\n",
      "|  6|taking and giving...|        1|\n",
      "|  7|press hard the ho...|       -1|\n",
      "|  8|his head is bowed...|        0|\n",
      "|  9|with england if t...|        0|\n",
      "| 10|turn in the door ...|        0|\n",
      "| 11|and ever the rock...|       -1|\n",
      "| 12|that to the next ...|        0|\n",
      "| 13|and all the honor...|        0|\n",
      "| 14|a level space of ...|        0|\n",
      "| 15|from his lady's w...|        0|\n",
      "| 16|in three distingu...|        0|\n",
      "| 17|a orn'ment o' sac...|        0|\n",
      "| 18|ef 'twarn't for s...|        0|\n",
      "| 19|for ever, if that...|        0|\n",
      "+---+--------------------+---------+\n",
      "only showing top 20 rows\n",
      "\n"
     ]
    }
   ],
   "source": [
    "# Read in data from S3 Buckets\n",
    "from pyspark import SparkFiles\n",
    "url =\"https://2u-data-curriculum-team.s3.amazonaws.com/dataviz-classroom/v1.1/22-big-data/day_2/poem_sentiment.csv\"\n",
    "spark.sparkContext.addFile(url)\n",
    "df = spark.read.csv(SparkFiles.get(\"poem_sentiment.csv\"), sep=\",\", header=True)\n",
    "\n",
    "# Show DataFrame\n",
    "df.show()"
   ]
  },
  {
   "cell_type": "code",
   "execution_count": 27,
   "metadata": {
    "id": "EAzerS4nphGJ"
   },
   "outputs": [],
   "source": [
    "# Tokenize DataFrame\n",
    "sentiment_data = Tokenizer(inputCol=\"text\", outputCol=\"Words\")"
   ]
  },
  {
   "cell_type": "code",
   "execution_count": 28,
   "metadata": {
    "colab": {
     "base_uri": "https://localhost:8080/"
    },
    "id": "r8VQQnWuphGN",
    "outputId": "1cce08fe-f413-4415-e947-4e291d9573f3"
   },
   "outputs": [
    {
     "name": "stdout",
     "output_type": "stream",
     "text": [
      "+---+--------------------+---------+--------------------+\n",
      "| id|                text|sentiment|               Words|\n",
      "+---+--------------------+---------+--------------------+\n",
      "|  0|to water, cloudli...|        0|[to, water,, clou...|\n",
      "|  1|shall yet be glad...|        1|[shall, yet, be, ...|\n",
      "|  2|on its windy site...|        0|[on, its, windy, ...|\n",
      "|  3|(if haply the dar...|       -1|[(if, haply, the,...|\n",
      "|  4|jehovah, jove, or...|        0|[jehovah,, jove,,...|\n",
      "|  5|when the brow is ...|       -1|[when, the, brow,...|\n",
      "|  6|taking and giving...|        1|[taking, and, giv...|\n",
      "|  7|press hard the ho...|       -1|[press, hard, the...|\n",
      "|  8|his head is bowed...|        0|[his, head, is, b...|\n",
      "|  9|with england if t...|        0|[with, england, i...|\n",
      "| 10|turn in the door ...|        0|[turn, in, the, d...|\n",
      "| 11|and ever the rock...|       -1|[and, ever, the, ...|\n",
      "| 12|that to the next ...|        0|[that, to, the, n...|\n",
      "| 13|and all the honor...|        0|[and, all, the, h...|\n",
      "| 14|a level space of ...|        0|[a, level, space,...|\n",
      "| 15|from his lady's w...|        0|[from, his, lady'...|\n",
      "| 16|in three distingu...|        0|[in, three, disti...|\n",
      "| 17|a orn'ment o' sac...|        0|[a, orn'ment, o',...|\n",
      "| 18|ef 'twarn't for s...|        0|[ef, 'twarn't, fo...|\n",
      "| 19|for ever, if that...|        0|[for, ever,, if, ...|\n",
      "+---+--------------------+---------+--------------------+\n",
      "only showing top 20 rows\n",
      "\n"
     ]
    }
   ],
   "source": [
    "# Transform DataFrame\n",
    "sentiment = sentiment_data.transform(df)\n",
    "sentiment.show()"
   ]
  },
  {
   "cell_type": "code",
   "execution_count": 29,
   "metadata": {
    "id": "s6MR_uVFphGR"
   },
   "outputs": [],
   "source": [
    "# Remove stop words\n",
    "remover = StopWordsRemover(inputCol=\"Words\", outputCol=\"filtered\")"
   ]
  },
  {
   "cell_type": "code",
   "execution_count": 30,
   "metadata": {
    "colab": {
     "base_uri": "https://localhost:8080/"
    },
    "id": "S9zS5q8WphGX",
    "outputId": "06e0b873-4ea7-48b7-8f81-9752a1e4049c"
   },
   "outputs": [
    {
     "name": "stdout",
     "output_type": "stream",
     "text": [
      "+---+--------------------+---------+--------------------+--------------------+\n",
      "| id|                text|sentiment|               Words|            filtered|\n",
      "+---+--------------------+---------+--------------------+--------------------+\n",
      "|  0|to water, cloudli...|        0|[to, water,, clou...|[water,, cloudlik...|\n",
      "|  1|shall yet be glad...|        1|[shall, yet, be, ...|[shall, yet, glad...|\n",
      "|  2|on its windy site...|        0|[on, its, windy, ...|[windy, site, upl...|\n",
      "|  3|(if haply the dar...|       -1|[(if, haply, the,...|[(if, haply, dark...|\n",
      "|  4|jehovah, jove, or...|        0|[jehovah,, jove,,...|[jehovah,, jove,,...|\n",
      "|  5|when the brow is ...|       -1|[when, the, brow,...|[brow, cold, marb...|\n",
      "|  6|taking and giving...|        1|[taking, and, giv...|[taking, giving, ...|\n",
      "|  7|press hard the ho...|       -1|[press, hard, the...|[press, hard, hos...|\n",
      "|  8|his head is bowed...|        0|[his, head, is, b...|[head, bowed., th...|\n",
      "|  9|with england if t...|        0|[with, england, i...|[england, day, go...|\n",
      "| 10|turn in the door ...|        0|[turn, in, the, d...|  [turn, door, turn]|\n",
      "| 11|and ever the rock...|       -1|[and, ever, the, ...|[ever, rocks', di...|\n",
      "| 12|that to the next ...|        0|[that, to, the, n...|[next, may, resig...|\n",
      "| 13|and all the honor...|        0|[and, all, the, h...|[honors, sought, ...|\n",
      "| 14|a level space of ...|        0|[a, level, space,...|[level, space, na...|\n",
      "| 15|from his lady's w...|        0|[from, his, lady'...|[lady's, white, h...|\n",
      "| 16|in three distingu...|        0|[in, three, disti...|[three, distingui...|\n",
      "| 17|a orn'ment o' sac...|        0|[a, orn'ment, o',...|[orn'ment, o', sa...|\n",
      "| 18|ef 'twarn't for s...|        0|[ef, 'twarn't, fo...|[ef, 'twarn't, st...|\n",
      "| 19|for ever, if that...|        0|[for, ever,, if, ...|[ever,, maiden, s...|\n",
      "+---+--------------------+---------+--------------------+--------------------+\n",
      "only showing top 20 rows\n",
      "\n"
     ]
    }
   ],
   "source": [
    "# Transform new DataFrame\n",
    "newFrame = remover.transform(sentiment)\n",
    "newFrame.show()"
   ]
  },
  {
   "cell_type": "code",
   "execution_count": 31,
   "metadata": {
    "colab": {
     "base_uri": "https://localhost:8080/"
    },
    "id": "1UxSpRtiphGb",
    "outputId": "c5aefbc0-6d84-4be2-ee74-086081ebcf7a"
   },
   "outputs": [
    {
     "name": "stdout",
     "output_type": "stream",
     "text": [
      "+-------------------------------------------------------------+\n",
      "|filtered                                                     |\n",
      "+-------------------------------------------------------------+\n",
      "|[water,, cloudlike, bush, afar,]                             |\n",
      "|[shall, yet, glad, him,, shall, bless]                       |\n",
      "|[windy, site, uplifting, gabled, roof, palisade,]            |\n",
      "|[(if, haply, dark, fate]                                     |\n",
      "|[jehovah,, jove,, lord!]                                     |\n",
      "|[brow, cold, marble, stone,]                                 |\n",
      "|[taking, giving, radiance,, slopes]                          |\n",
      "|[press, hard, hostile, towers!]                              |\n",
      "|[head, bowed., thinks, men, kings.]                          |\n",
      "|[england, day, go, hard,]                                    |\n",
      "|[turn, door, turn]                                           |\n",
      "|[ever, rocks', disdain;]                                     |\n",
      "|[next, may, resign, roome]                                   |\n",
      "|[honors, sought, leave]                                      |\n",
      "|[level, space, nameless, graves,--]                          |\n",
      "|[lady's, white, hand, caught;]                               |\n",
      "|[three, distinguish’d, parts,, three, distinguish’d, guides] |\n",
      "|[orn'ment, o', saciety,, approprut, spear:]                  |\n",
      "|[ef, 'twarn't, studyin', evenins,, why,, never, 'd, ha', ben]|\n",
      "|[ever,, maiden, sits, enshrined]                             |\n",
      "+-------------------------------------------------------------+\n",
      "only showing top 20 rows\n",
      "\n"
     ]
    }
   ],
   "source": [
    "# Show simplified review\n",
    "newFrame.select(\"filtered\").show(truncate=False)"
   ]
  },
  {
   "cell_type": "code",
   "execution_count": null,
   "metadata": {
    "id": "--hEhQLtppPf"
   },
   "outputs": [],
   "source": []
  }
 ],
 "metadata": {
  "colab": {
   "name": "nlp_stopwords.ipynb",
   "provenance": []
  },
  "kernelspec": {
   "display_name": "Python 3",
   "language": "python",
   "name": "python3"
  },
  "language_info": {
   "codemirror_mode": {
    "name": "ipython",
    "version": 3
   },
   "file_extension": ".py",
   "mimetype": "text/x-python",
   "name": "python",
   "nbconvert_exporter": "python",
   "pygments_lexer": "ipython3",
   "version": "3.8.8"
  },
  "latex_envs": {
   "LaTeX_envs_menu_present": true,
   "autoclose": false,
   "autocomplete": true,
   "bibliofile": "biblio.bib",
   "cite_by": "apalike",
   "current_citInitial": 1,
   "eqLabelWithNumbers": true,
   "eqNumInitial": 1,
   "hotkeys": {
    "equation": "Ctrl-E",
    "itemize": "Ctrl-I"
   },
   "labels_anchors": false,
   "latex_user_defs": false,
   "report_style_numbering": false,
   "user_envs_cfg": false
  }
 },
 "nbformat": 4,
 "nbformat_minor": 1
}
