{
 "cells": [
  {
   "cell_type": "code",
   "execution_count": null,
   "metadata": {
    "id": "IqKSiOcIr7nD"
   },
   "outputs": [],
   "source": [
    "import os\n",
    "# Find the latest version of spark 3.2  from http://www.apache.org/dist/spark/ and enter as the spark version\n",
    "# For example:\n",
    "# spark_version = 'spark-3.2.2'\n",
    "spark_version = 'spark-3.<enter version>'\n",
    "\n",
    "os.environ['SPARK_VERSION']=spark_version\n",
    "\n",
    "# Install Spark and Java\n",
    "!apt-get update\n",
    "!apt-get install openjdk-8-jdk-headless -qq > /dev/null\n",
    "!wget -q http://www.apache.org/dist/spark/$SPARK_VERSION/$SPARK_VERSION-bin-hadoop2.7.tgz\n",
    "!tar xf $SPARK_VERSION-bin-hadoop2.7.tgz\n",
    "!pip install -q findspark\n",
    "\n",
    "# Set Environment Variables\n",
    "os.environ[\"JAVA_HOME\"] = \"/usr/lib/jvm/java-8-openjdk-amd64\"\n",
    "os.environ[\"SPARK_HOME\"] = f\"/content/{spark_version}-bin-hadoop2.7\"\n",
    "\n",
    "# Start a SparkSession\n",
    "import findspark\n",
    "findspark.init()"
   ]
  },
  {
   "cell_type": "code",
   "execution_count": 4,
   "metadata": {
    "id": "GkrVQfDk3b6x"
   },
   "outputs": [],
   "source": [
    "# Start Spark session\n",
    "from pyspark.sql import SparkSession\n",
    "spark = SparkSession.builder.appName(\"Hashing\").getOrCreate()"
   ]
  },
  {
   "cell_type": "code",
   "execution_count": 5,
   "metadata": {
    "id": "k5Ks5qY4r6Fw"
   },
   "outputs": [],
   "source": [
    "from pyspark.ml.feature import HashingTF, IDF, Tokenizer, StopWordsRemover"
   ]
  },
  {
   "cell_type": "code",
   "execution_count": 6,
   "metadata": {
    "colab": {
     "base_uri": "https://localhost:8080/"
    },
    "id": "VEEbWa0Or6F1",
    "outputId": "18389ce9-e9d4-45a3-a349-78ef4d1ad769"
   },
   "outputs": [
    {
     "name": "stdout",
     "output_type": "stream",
     "text": [
      "+--------------------+\n",
      "|   Restaurant Tweets|\n",
      "+--------------------+\n",
      "|@UnrealRestaurant...|\n",
      "|@UnrealRestaurant...|\n",
      "|@UnrealRestaurant...|\n",
      "|@UnrealRestaurant...|\n",
      "|\"@UnrealRestauran...|\n",
      "+--------------------+\n",
      "\n"
     ]
    }
   ],
   "source": [
    "# Read in data from S3 Buckets\n",
    "from pyspark import SparkFiles\n",
    "url =\"https://2u-data-curriculum-team.s3.amazonaws.com/dataviz-classroom/v1.1/22-big-data/day_2/unreal_restaurant_tweets.csv\"\n",
    "spark.sparkContext.addFile(url)\n",
    "df = spark.read.csv(SparkFiles.get(\"unreal_restaurant_tweets.csv\"), sep=\",\", header=True)\n",
    "\n",
    "# Show DataFrame\n",
    "df.show()"
   ]
  },
  {
   "cell_type": "code",
   "execution_count": 7,
   "metadata": {
    "colab": {
     "base_uri": "https://localhost:8080/"
    },
    "id": "qrKELmPJr6F5",
    "outputId": "89e56de9-85a8-4dcc-c706-b509e02d7b2d"
   },
   "outputs": [
    {
     "name": "stdout",
     "output_type": "stream",
     "text": [
      "+--------------------+--------------------+\n",
      "|   Restaurant Tweets|               words|\n",
      "+--------------------+--------------------+\n",
      "|@UnrealRestaurant...|[@unrealrestauran...|\n",
      "|@UnrealRestaurant...|[@unrealrestauran...|\n",
      "|@UnrealRestaurant...|[@unrealrestauran...|\n",
      "|@UnrealRestaurant...|[@unrealrestauran...|\n",
      "|\"@UnrealRestauran...|[\"@unrealrestaura...|\n",
      "+--------------------+--------------------+\n",
      "\n"
     ]
    }
   ],
   "source": [
    "# Tokenize DataFrame\n",
    "tokened = Tokenizer(inputCol=\"Restaurant Tweets\", outputCol=\"words\")\n",
    "tokened_transformed = tokened.transform(df)\n",
    "tokened_transformed.show()"
   ]
  },
  {
   "cell_type": "code",
   "execution_count": 8,
   "metadata": {
    "colab": {
     "base_uri": "https://localhost:8080/"
    },
    "id": "oevmHSd4r6F9",
    "outputId": "cec4952c-9aad-4b2c-8bf7-a7edd9c31963"
   },
   "outputs": [
    {
     "name": "stdout",
     "output_type": "stream",
     "text": [
      "+----------------------------------------------------------------------------------------------------------------------+---------------------------------------------------------------------------------------------------------------------------------------+---------------------------------------------------------------------------------------------------------------------------------------+\n",
      "|Restaurant Tweets                                                                                                     |words                                                                                                                                  |filtered                                                                                                                               |\n",
      "+----------------------------------------------------------------------------------------------------------------------+---------------------------------------------------------------------------------------------------------------------------------------+---------------------------------------------------------------------------------------------------------------------------------------+\n",
      "|@UnrealRestaurant service was super slow today. Pick up your game, or I'm not going back.                             |[@unrealrestaurant, service, was, super, slow, today., pick, up, your, game,, or, i'm, not, going, back.]                              |[service, was, super, slow, today., pick, up, your, game,, or, i'm, not, going, back.]                                                 |\n",
      "|@UnrealRestaurant Not so sure about the underwater restaurant experience. Kinda felt like I was drowning.             |[@unrealrestaurant, not, so, sure, about, the, underwater, restaurant, experience., kinda, felt, like, i, was, drowning.]              |[not, so, sure, about, the, underwater, restaurant, experience., kinda, felt, like, i, was, drowning.]                                 |\n",
      "|@UnrealRestaurant when I'm away, you're all I think about. You make me feel like a natural mermaid.                   |[@unrealrestaurant, when, i'm, away,, you're, all, i, think, about., you, make, me, feel, like, a, natural, mermaid.]                  |[when, i'm, away,, you're, all, i, think, about., you, make, me, feel, like, a, natural, mermaid.]                                     |\n",
      "|@UnrealRestaurant Are your opening hours listed online accurate? You were closed at 4pm Monday.                       |[@unrealrestaurant, are, your, opening, hours, listed, online, accurate?, you, were, closed, at, 4pm, monday.]                         |[are, your, opening, hours, listed, online, accurate?, you, were, closed, at, 4pm, monday.]                                            |\n",
      "|\"@UnrealRestaurant The \"\"pineapple-under-the-sea\"\" menu item makes me feel bad for Spongebob. Don't eat his house. :(\"|[\"@unrealrestaurant, the, \"\"pineapple-under-the-sea\"\", menu, item, makes, me, feel, bad, for, spongebob., don't, eat, his, house., :(\"]|[\"@unrealrestaurant, the, \"\"pineapple-under-the-sea\"\", menu, item, makes, me, feel, bad, for, spongebob., don't, eat, his, house., :(\"]|\n",
      "+----------------------------------------------------------------------------------------------------------------------+---------------------------------------------------------------------------------------------------------------------------------------+---------------------------------------------------------------------------------------------------------------------------------------+\n",
      "\n"
     ]
    }
   ],
   "source": [
    "# Remove stop words\n",
    "stop_list = [\"@UnrealRestaurant\", \"$30\", \"@unrealrestaurant\"]\n",
    "remover = StopWordsRemover(inputCol=\"words\", outputCol=\"filtered\", stopWords=stop_list)\n",
    "removed_frame = remover.transform(tokened_transformed)\n",
    "removed_frame.show(truncate=False)"
   ]
  },
  {
   "cell_type": "code",
   "execution_count": 9,
   "metadata": {
    "colab": {
     "base_uri": "https://localhost:8080/"
    },
    "id": "FKuOluTCr6GB",
    "outputId": "e1f1b4f2-4f08-4964-db45-45b0a35f263b"
   },
   "outputs": [
    {
     "name": "stdout",
     "output_type": "stream",
     "text": [
      "+----------------------------------------------------------------------------------------------------------------------+---------------------------------------------------------------------------------------------------------------------------------------+---------------------------------------------------------------------------------------------------------------------------------------+------------------------------------------------------------------------+\n",
      "|Restaurant Tweets                                                                                                     |words                                                                                                                                  |filtered                                                                                                                               |hashedValues                                                            |\n",
      "+----------------------------------------------------------------------------------------------------------------------+---------------------------------------------------------------------------------------------------------------------------------------+---------------------------------------------------------------------------------------------------------------------------------------+------------------------------------------------------------------------+\n",
      "|@UnrealRestaurant service was super slow today. Pick up your game, or I'm not going back.                             |[@unrealrestaurant, service, was, super, slow, today., pick, up, your, game,, or, i'm, not, going, back.]                              |[service, was, super, slow, today., pick, up, your, game,, or, i'm, not, going, back.]                                                 |(16,[1,3,7,10,11,12,13,14,15],[1.0,1.0,1.0,1.0,2.0,2.0,2.0,3.0,1.0])    |\n",
      "|@UnrealRestaurant Not so sure about the underwater restaurant experience. Kinda felt like I was drowning.             |[@unrealrestaurant, not, so, sure, about, the, underwater, restaurant, experience., kinda, felt, like, i, was, drowning.]              |[not, so, sure, about, the, underwater, restaurant, experience., kinda, felt, like, i, was, drowning.]                                 |(16,[1,2,3,8,9,11,12,13,15],[2.0,1.0,1.0,1.0,2.0,1.0,3.0,2.0,1.0])      |\n",
      "|@UnrealRestaurant when I'm away, you're all I think about. You make me feel like a natural mermaid.                   |[@unrealrestaurant, when, i'm, away,, you're, all, i, think, about., you, make, me, feel, like, a, natural, mermaid.]                  |[when, i'm, away,, you're, all, i, think, about., you, make, me, feel, like, a, natural, mermaid.]                                     |(16,[0,1,2,3,4,5,11,12,14,15],[2.0,1.0,2.0,1.0,2.0,1.0,2.0,3.0,1.0,1.0])|\n",
      "|@UnrealRestaurant Are your opening hours listed online accurate? You were closed at 4pm Monday.                       |[@unrealrestaurant, are, your, opening, hours, listed, online, accurate?, you, were, closed, at, 4pm, monday.]                         |[are, your, opening, hours, listed, online, accurate?, you, were, closed, at, 4pm, monday.]                                            |(16,[0,2,6,7,8,10,11,15],[1.0,2.0,1.0,3.0,1.0,2.0,1.0,2.0])             |\n",
      "|\"@UnrealRestaurant The \"\"pineapple-under-the-sea\"\" menu item makes me feel bad for Spongebob. Don't eat his house. :(\"|[\"@unrealrestaurant, the, \"\"pineapple-under-the-sea\"\", menu, item, makes, me, feel, bad, for, spongebob., don't, eat, his, house., :(\"]|[\"@unrealrestaurant, the, \"\"pineapple-under-the-sea\"\", menu, item, makes, me, feel, bad, for, spongebob., don't, eat, his, house., :(\"]|(16,[0,1,3,4,5,7,8,11,12,13],[1.0,2.0,2.0,1.0,1.0,1.0,1.0,1.0,3.0,3.0]) |\n",
      "+----------------------------------------------------------------------------------------------------------------------+---------------------------------------------------------------------------------------------------------------------------------------+---------------------------------------------------------------------------------------------------------------------------------------+------------------------------------------------------------------------+\n",
      "\n"
     ]
    }
   ],
   "source": [
    "# Run the hashing term frequency\n",
    "hashing = HashingTF(inputCol=\"filtered\", outputCol=\"hashedValues\", numFeatures=pow(2,4))\n",
    "\n",
    "# Transform into a DF\n",
    "hashed_df = hashing.transform(removed_frame)\n",
    "hashed_df.show(truncate=False)"
   ]
  },
  {
   "cell_type": "code",
   "execution_count": 10,
   "metadata": {
    "id": "96VoUCe8r6GF"
   },
   "outputs": [],
   "source": [
    "# Fit the IDF on the data set \n",
    "idf = IDF(inputCol=\"hashedValues\", outputCol=\"features\")\n",
    "idfModel = idf.fit(hashed_df)\n",
    "rescaledData = idfModel.transform(hashed_df)"
   ]
  },
  {
   "cell_type": "code",
   "execution_count": 11,
   "metadata": {
    "colab": {
     "base_uri": "https://localhost:8080/"
    },
    "id": "dlKEIMkrr6GK",
    "outputId": "a1256e52-386b-41a1-e4b0-1700e08c733e"
   },
   "outputs": [
    {
     "name": "stdout",
     "output_type": "stream",
     "text": [
      "+---------------------------------------------------------------------------------------------------------------------------------------+---------------------------------------------------------------------------------------------------------------------------------------------------------------------------------------------------------------+\n",
      "|words                                                                                                                                  |features                                                                                                                                                                                                       |\n",
      "+---------------------------------------------------------------------------------------------------------------------------------------+---------------------------------------------------------------------------------------------------------------------------------------------------------------------------------------------------------------+\n",
      "|[@unrealrestaurant, service, was, super, slow, today., pick, up, your, game,, or, i'm, not, going, back.]                              |(16,[1,3,7,10,11,12,13,14,15],[0.1823215567939546,0.1823215567939546,0.4054651081081644,0.6931471805599453,0.0,0.3646431135879092,0.8109302162163288,2.0794415416798357,0.1823215567939546])                   |\n",
      "|[@unrealrestaurant, not, so, sure, about, the, underwater, restaurant, experience., kinda, felt, like, i, was, drowning.]              |(16,[1,2,3,8,9,11,12,13,15],[0.3646431135879092,0.4054651081081644,0.1823215567939546,0.4054651081081644,2.1972245773362196,0.0,0.5469646703818638,0.8109302162163288,0.1823215567939546])                     |\n",
      "|[@unrealrestaurant, when, i'm, away,, you're, all, i, think, about., you, make, me, feel, like, a, natural, mermaid.]                  |(16,[0,1,2,3,4,5,11,12,14,15],[0.8109302162163288,0.1823215567939546,0.8109302162163288,0.1823215567939546,1.3862943611198906,0.6931471805599453,0.0,0.5469646703818638,0.6931471805599453,0.1823215567939546])|\n",
      "|[@unrealrestaurant, are, your, opening, hours, listed, online, accurate?, you, were, closed, at, 4pm, monday.]                         |(16,[0,2,6,7,8,10,11,15],[0.4054651081081644,0.8109302162163288,1.0986122886681098,1.2163953243244932,0.4054651081081644,1.3862943611198906,0.0,0.3646431135879092])                                           |\n",
      "|[\"@unrealrestaurant, the, \"\"pineapple-under-the-sea\"\", menu, item, makes, me, feel, bad, for, spongebob., don't, eat, his, house., :(\"]|(16,[0,1,3,4,5,7,8,11,12,13],[0.4054651081081644,0.3646431135879092,0.3646431135879092,0.6931471805599453,0.6931471805599453,0.4054651081081644,0.4054651081081644,0.0,0.5469646703818638,1.2163953243244932]) |\n",
      "+---------------------------------------------------------------------------------------------------------------------------------------+---------------------------------------------------------------------------------------------------------------------------------------------------------------------------------------------------------------+\n",
      "\n"
     ]
    }
   ],
   "source": [
    "# Display the DataFrame\n",
    "rescaledData.select(\"words\", \"features\").show(truncate=False)"
   ]
  },
  {
   "cell_type": "code",
   "execution_count": 11,
   "metadata": {
    "id": "ikWvE9xhr_hD"
   },
   "outputs": [],
   "source": []
  }
 ],
 "metadata": {
  "colab": {
   "name": "unreal_restaurant_tweets.ipynb",
   "provenance": []
  },
  "kernelspec": {
   "display_name": "Python 3",
   "language": "python",
   "name": "python3"
  },
  "language_info": {
   "codemirror_mode": {
    "name": "ipython",
    "version": 3
   },
   "file_extension": ".py",
   "mimetype": "text/x-python",
   "name": "python",
   "nbconvert_exporter": "python",
   "pygments_lexer": "ipython3",
   "version": "3.8.8"
  },
  "latex_envs": {
   "LaTeX_envs_menu_present": true,
   "autoclose": false,
   "autocomplete": true,
   "bibliofile": "biblio.bib",
   "cite_by": "apalike",
   "current_citInitial": 1,
   "eqLabelWithNumbers": true,
   "eqNumInitial": 1,
   "hotkeys": {
    "equation": "Ctrl-E",
    "itemize": "Ctrl-I"
   },
   "labels_anchors": false,
   "latex_user_defs": false,
   "report_style_numbering": false,
   "user_envs_cfg": false
  }
 },
 "nbformat": 4,
 "nbformat_minor": 1
}
