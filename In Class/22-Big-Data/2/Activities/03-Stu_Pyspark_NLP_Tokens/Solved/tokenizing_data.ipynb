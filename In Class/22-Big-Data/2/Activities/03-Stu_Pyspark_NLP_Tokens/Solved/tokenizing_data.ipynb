{
 "cells": [
  {
   "cell_type": "code",
   "execution_count": null,
   "metadata": {
    "id": "sIQx9WNCX2uu"
   },
   "outputs": [],
   "source": [
    "import os\n",
    "# Find the latest version of spark 3.2  from http://www.apache.org/dist/spark/ and enter as the spark version\n",
    "# For example:\n",
    "# spark_version = 'spark-3.2.2'\n",
    "\n",
    "spark_version = 'spark-3.<enter version>'\n",
    "\n",
    "os.environ['SPARK_VERSION']=spark_version\n",
    "\n",
    "# Install Spark and Java\n",
    "!apt-get update\n",
    "!apt-get install openjdk-8-jdk-headless -qq > /dev/null\n",
    "!wget -q http://www.apache.org/dist/spark/$SPARK_VERSION/$SPARK_VERSION-bin-hadoop2.7.tgz\n",
    "!tar xf $SPARK_VERSION-bin-hadoop2.7.tgz\n",
    "!pip install -q findspark\n",
    "\n",
    "# Set Environment Variables\n",
    "import os\n",
    "os.environ[\"JAVA_HOME\"] = \"/usr/lib/jvm/java-8-openjdk-amd64\"\n",
    "os.environ[\"SPARK_HOME\"] = f\"/content/{spark_version}-bin-hadoop2.7\"\n",
    "\n",
    "# Start a SparkSession\n",
    "import findspark\n",
    "findspark.init()"
   ]
  },
  {
   "cell_type": "code",
   "execution_count": 16,
   "metadata": {
    "id": "5ZDEtnSDX40y"
   },
   "outputs": [],
   "source": [
    "# Start Spark session\n",
    "from pyspark.sql import SparkSession\n",
    "spark = SparkSession.builder.appName(\"tokenizing\").getOrCreate()"
   ]
  },
  {
   "cell_type": "code",
   "execution_count": 17,
   "metadata": {
    "id": "S69zYZBOX4tY"
   },
   "outputs": [],
   "source": [
    "from pyspark.ml.feature import RegexTokenizer, Tokenizer\n",
    "from pyspark.sql.functions import col, udf\n",
    "from pyspark.sql.types import IntegerType"
   ]
  },
  {
   "cell_type": "code",
   "execution_count": 18,
   "metadata": {
    "colab": {
     "base_uri": "https://localhost:8080/"
    },
    "id": "gLervTVLX4NN",
    "outputId": "387ddde9-1063-44c0-dbc3-20d0a07b7511"
   },
   "outputs": [
    {
     "name": "stdout",
     "output_type": "stream",
     "text": [
      "+--------------------+\n",
      "|         Sonnet CXLV|\n",
      "+--------------------+\n",
      "|Those lips that L...|\n",
      "|Breathed forth th...|\n",
      "|To me that langui...|\n",
      "|But when she saw ...|\n",
      "|Straight in her h...|\n",
      "|Chiding that tong...|\n",
      "|Was used in givin...|\n",
      "|And taught it thu...|\n",
      "|I hate' she alter...|\n",
      "|That follow'd it ...|\n",
      "|Doth follow night...|\n",
      "|From heaven to he...|\n",
      "|I hate' from hate...|\n",
      "|And saved my life...|\n",
      "+--------------------+\n",
      "\n"
     ]
    }
   ],
   "source": [
    "# Read in data from S3 Buckets\n",
    "from pyspark import SparkFiles\n",
    "url =\"https://2u-data-curriculum-team.s3.amazonaws.com/dataviz-classroom/v1.1/22-big-data/day_2/shakespeare.csv\"\n",
    "spark.sparkContext.addFile(url)\n",
    "df = spark.read.csv(SparkFiles.get(\"shakespeare.csv\"), sep=\",\", header=True, ignoreLeadingWhiteSpace=True)\n",
    "\n",
    "# Show DataFrame\n",
    "df.show()"
   ]
  },
  {
   "cell_type": "code",
   "execution_count": 19,
   "metadata": {
    "id": "2HyFAR7MX4Gt"
   },
   "outputs": [],
   "source": [
    "# Tokenize DataFrame\n",
    "tokened = Tokenizer(inputCol=\"Sonnet CXLV\", outputCol=\"words\")"
   ]
  },
  {
   "cell_type": "code",
   "execution_count": 20,
   "metadata": {
    "colab": {
     "base_uri": "https://localhost:8080/"
    },
    "id": "gkfj1Or3X4BP",
    "outputId": "b5e8c22a-6f68-436e-90c1-48516b6483f7"
   },
   "outputs": [
    {
     "name": "stdout",
     "output_type": "stream",
     "text": [
      "+--------------------+--------------------+\n",
      "|         Sonnet CXLV|               words|\n",
      "+--------------------+--------------------+\n",
      "|Those lips that L...|[those, lips, tha...|\n",
      "|Breathed forth th...|[breathed, forth,...|\n",
      "|To me that langui...|[to, me, that, la...|\n",
      "|But when she saw ...|[but, when, she, ...|\n",
      "|Straight in her h...|[straight, in, he...|\n",
      "|Chiding that tong...|[chiding, that, t...|\n",
      "|Was used in givin...|[was, used, in, g...|\n",
      "|And taught it thu...|[and, taught, it,...|\n",
      "|I hate' she alter...|[i, hate', she, a...|\n",
      "|That follow'd it ...|[that, follow'd, ...|\n",
      "|Doth follow night...|[doth, follow, ni...|\n",
      "|From heaven to he...|[from, heaven, to...|\n",
      "|I hate' from hate...|[i, hate', from, ...|\n",
      "|And saved my life...|[and, saved, my, ...|\n",
      "+--------------------+--------------------+\n",
      "\n"
     ]
    }
   ],
   "source": [
    "# Transform DataFrame\n",
    "tokenized = tokened.transform(df)\n",
    "tokenized.show()"
   ]
  },
  {
   "cell_type": "code",
   "execution_count": 21,
   "metadata": {
    "id": "pSAxlypmX36z"
   },
   "outputs": [],
   "source": [
    "# Create a Function to count vowels\n",
    "def vowel_counter(words):\n",
    "    vowel_count = 0\n",
    "\n",
    "    for word in words:\n",
    "        for letter in word:\n",
    "            if letter in ('a', 'e', 'i', 'o', 'u'):\n",
    "                vowel_count += 1\n",
    "\n",
    "    return vowel_count"
   ]
  },
  {
   "cell_type": "code",
   "execution_count": 22,
   "metadata": {
    "colab": {
     "base_uri": "https://localhost:8080/"
    },
    "id": "sKttbJoRX3zx",
    "outputId": "75dbdae3-8df4-4dfd-a5a0-f287698482e9"
   },
   "outputs": [
    {
     "data": {
      "text/plain": [
       "<function __main__.vowel_counter>"
      ]
     },
     "execution_count": 22,
     "metadata": {},
     "output_type": "execute_result"
    }
   ],
   "source": [
    "# Store a user defined function\n",
    "count_vowels = udf(vowel_counter, IntegerType())\n",
    "count_vowels"
   ]
  },
  {
   "cell_type": "code",
   "execution_count": 31,
   "metadata": {
    "colab": {
     "base_uri": "https://localhost:8080/"
    },
    "id": "VB0UEk_KX3mw",
    "outputId": "a7d8f3e8-d2fb-4485-93fe-61c9e92c2177"
   },
   "outputs": [
    {
     "name": "stdout",
     "output_type": "stream",
     "text": [
      "+-------------------------------------------+----------------------------------------------------+------+\n",
      "|Sonnet CXLV                                |words                                               |vowels|\n",
      "+-------------------------------------------+----------------------------------------------------+------+\n",
      "|Those lips that Love's own hand did make   |[those, lips, that, love's, own, hand, did, make]   |11    |\n",
      "|Breathed forth the sound that said 'I hate'|[breathed, forth, the, sound, that, said, 'i, hate']|13    |\n",
      "|To me that languish'd for her sake;        |[to, me, that, languish'd, for, her, sake;]         |10    |\n",
      "|But when she saw my woeful state,          |[but, when, she, saw, my, woeful, state,]           |9     |\n",
      "|Straight in her heart did mercy come,      |[straight, in, her, heart, did, mercy, come,]       |10    |\n",
      "|Chiding that tongue that ever sweet        |[chiding, that, tongue, that, ever, sweet]          |11    |\n",
      "|Was used in giving gentle doom,            |[was, used, in, giving, gentle, doom,]              |10    |\n",
      "|And taught it thus anew to greet:          |[and, taught, it, thus, anew, to, greet:]           |10    |\n",
      "|I hate' she alter'd with an end,           |[i, hate', she, alter'd, with, an, end,]            |9     |\n",
      "|That follow'd it as gentle day             |[that, follow'd, it, as, gentle, day]               |8     |\n",
      "|Doth follow night, who like a fiend        |[doth, follow, night,, who, like, a, fiend]         |10    |\n",
      "|From heaven to hell is flown away;         |[from, heaven, to, hell, is, flown, away;]          |10    |\n",
      "|I hate' from hate away she threw,          |[i, hate', from, hate, away, she, threw,]           |10    |\n",
      "|And saved my life, saying 'not you.'       |[and, saved, my, life,, saying, 'not, you.']        |10    |\n",
      "+-------------------------------------------+----------------------------------------------------+------+\n",
      "\n"
     ]
    }
   ],
   "source": [
    "# Create new DataFrame with the udf\n",
    "tokenized.select(\"Sonnet CXLV\", \"words\")\\\n",
    "    .withColumn(\"vowels\", count_vowels(col(\"words\"))).show(truncate=False)"
   ]
  }
 ],
 "metadata": {
  "colab": {
   "collapsed_sections": [],
   "name": "tokenizing_data.ipynb",
   "provenance": []
  },
  "kernelspec": {
   "display_name": "Python 3",
   "language": "python",
   "name": "python3"
  },
  "language_info": {
   "codemirror_mode": {
    "name": "ipython",
    "version": 3
   },
   "file_extension": ".py",
   "mimetype": "text/x-python",
   "name": "python",
   "nbconvert_exporter": "python",
   "pygments_lexer": "ipython3",
   "version": "3.8.8"
  }
 },
 "nbformat": 4,
 "nbformat_minor": 1
}
