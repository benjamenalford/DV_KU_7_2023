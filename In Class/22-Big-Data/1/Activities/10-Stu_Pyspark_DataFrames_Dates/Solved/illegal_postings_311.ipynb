{
 "cells": [
  {
   "cell_type": "code",
   "execution_count": null,
   "metadata": {
    "id": "odBn6F_lGN_8"
   },
   "outputs": [],
   "source": [
    "import os\n",
    "# Find the latest version of spark 3.2  from http://www.apache.org/dist/spark/ and enter as the spark version\n",
    "# For example:\n",
    "# spark_version = 'spark-3.2.2'\n",
    "spark_version = 'spark-3.<enter version>'\n",
    "\n",
    "os.environ['SPARK_VERSION']=spark_version\n",
    "\n",
    "# Install Spark and Java\n",
    "!apt-get update\n",
    "!apt-get install openjdk-8-jdk-headless -qq > /dev/null\n",
    "!wget -q http://www.apache.org/dist/spark/$SPARK_VERSION/$SPARK_VERSION-bin-hadoop2.7.tgz\n",
    "!tar xf $SPARK_VERSION-bin-hadoop2.7.tgz\n",
    "!pip install -q findspark\n",
    "\n",
    "# Set Environment Variables\n",
    "os.environ[\"JAVA_HOME\"] = \"/usr/lib/jvm/java-8-openjdk-amd64\"\n",
    "os.environ[\"SPARK_HOME\"] = f\"/content/{spark_version}-bin-hadoop2.7\"\n",
    "\n",
    "# Start a SparkSession\n",
    "import findspark\n",
    "findspark.init()"
   ]
  },
  {
   "cell_type": "code",
   "execution_count": 3,
   "metadata": {
    "id": "1GIpxtoMXUDC"
   },
   "outputs": [],
   "source": [
    "# Start Spark session\n",
    "from pyspark.sql import SparkSession\n",
    "spark = SparkSession.builder.appName(\"illegal_postings_311\").getOrCreate()"
   ]
  },
  {
   "cell_type": "code",
   "execution_count": 4,
   "metadata": {
    "colab": {
     "base_uri": "https://localhost:8080/"
    },
    "id": "5yT4wANyFtR6",
    "outputId": "ad6e1fa2-395e-459c-a4e0-4aea4d384c91"
   },
   "outputs": [
    {
     "name": "stdout",
     "output_type": "stream",
     "text": [
      "+------+-------------------+--------------------+--------------------+------+--------------------+------------------+----------------+--------------------+--------------------+--------------------+-------------+-------------------+--------------------+---------------+---------------+-----------------+--------------------+-------+---------+---------------------+------------------------+----------------------------+----------------------+--------------------------------------------+-----------------------------------+--------------------------------------+----------------------------------+----------------------------------------------------+---------------------------+------------------+---------------------------------+-------------+\n",
      "|CaseID|             Opened|              Closed|             Updated|Status|        Status Notes|Responsible Agency|        Category|        Request Type|     Request Details|             Address|       Street|Supervisor District|        Neighborhood|Police District|       Latitude|        Longitude|               Point| Source|Media URL|SF Find Neighborhoods|Current Police Districts|Current Supervisor Districts|Analysis Neighborhoods|Civic Center Harm Reduction Project Boundary|Invest In Neighborhoods (IIN) Areas|CBD, BID and GBD Boundaries as of 2017|Central Market/Tenderloin Boundary|Central Market/Tenderloin Boundary Polygon - Updated|HSOC Zones as of 2018-06-05|OWED Public Spaces|Parks Alliance CPSI (27+TL sites)|Neighborhoods|\n",
      "+------+-------------------+--------------------+--------------------+------+--------------------+------------------+----------------+--------------------+--------------------+--------------------+-------------+-------------------+--------------------+---------------+---------------+-----------------+--------------------+-------+---------+---------------------+------------------------+----------------------------+----------------------+--------------------------------------------+-----------------------------------+--------------------------------------+----------------------------------+----------------------------------------------------+---------------------------+------------------+---------------------------------+-------------+\n",
      "|368909|2009-02-09 11:28:43|02/09/2009 01:09:...|02/09/2009 01:09:...|Closed|See Notes tab for...|     DPW Ops Queue|Illegal Postings|Illegal Postings ...|Multiple_Postings...|Not associated wi...|         null|               null|                null|           null|            0.0|              0.0|          (0.0, 0.0)|  Phone|     null|                 null|                    null|                        null|                  null|                                        null|                               null|                                  null|                              null|                                                null|                       null|              null|                             null|         null|\n",
      "|780000|2010-11-29 14:18:15|11/30/2010 06:09:...|11/30/2010 06:09:...|Closed|See Notes tab for...|     DPW Ops Queue|Illegal Postings|Illegal Postings ...|Affixed_Improperl...|Intersection of B...|       BAY ST|                2.0|              Marina|       NORTHERN|37.803268432617|-122.431678771973|(37.80326843, -12...|  Phone|     null|                 98.0|                     4.0|                         6.0|                  13.0|                                        null|                               null|                                  null|                              null|                                                null|                       null|              null|                             null|         98.0|\n",
      "|781915|2010-12-02 09:40:30|12/12/2010 12:09:...|12/12/2010 12:09:...|Closed|See Notes tab for...|     DPW Ops Queue|Illegal Postings|Illegal Postings ...|Affixed_Improperl...|Intersection of 1...|      11TH ST|                6.0|     South of Market|       SOUTHERN|37.771862030029|-122.414024353027|(37.77186203, -12...|  Phone|     null|                 32.0|                     1.0|                        10.0|                  34.0|                                         1.0|                               null|                                  null|                              null|                                                null|                        1.0|              null|                             null|         32.0|\n",
      "|777517|2010-11-23 15:47:13|11/24/2010 01:09:...|11/24/2010 01:09:...|Closed|See Notes tab for...|     DPW Ops Queue|Illegal Postings|Illegal Postings ...|Multiple_Postings...|2293 MISSION ST, ...|   MISSION ST|                9.0|             Mission|        MISSION|37.760456085205|-122.419044494629|(37.76045609, -12...|Twitter|     null|                 53.0|                     3.0|                         2.0|                  20.0|                                        null|                               null|                                  null|                              null|                                                null|                        3.0|              null|                             null|         53.0|\n",
      "|788055|2010-12-13 11:59:44|12/29/2010 07:09:...|12/29/2010 07:09:...|Closed|See Notes tab for...|     DPW Ops Queue|Illegal Postings|Illegal Posting -...|  Affixed_Improperly|Intersection of 1...|     14TH AVE|                1.0|      Inner Richmond|       RICHMOND|37.780632019043|-122.472846984863|(37.78063202, -12...|    Web|     null|                  5.0|                     8.0|                         4.0|                  29.0|                                        null|                               null|                                  null|                              null|                                                null|                       null|              null|                             null|          5.0|\n",
      "|777028|2010-11-22 22:20:17|12/02/2010 10:09:...|12/02/2010 10:09:...|Closed|See Notes tab for...|     DPW Ops Queue|Illegal Postings|Illegal Posting -...|Posted_on_Traffic...|Intersection of G...|   GEARY BLVD|                5.0|           Japantown|       NORTHERN|37.784568786621|-122.431205749512|(37.78456879, -12...|    Web|     null|                101.0|                     4.0|                        11.0|                  15.0|                                        null|                               null|                                  null|                              null|                                                null|                       null|              null|                             null|        101.0|\n",
      "|783901|2010-12-06 10:11:17|12/07/2010 08:09:...|12/07/2010 08:09:...|Closed|See Notes tab for...|     DPW Ops Queue|Illegal Postings|Illegal Postings ...|Multiple_Postings...|741 VALENCIA ST, ...|  VALENCIA ST|                9.0|             Mission|        MISSION|37.760982513428|-122.421287536621|(37.76098251, -12...|Twitter|     null|                 53.0|                     3.0|                         2.0|                  20.0|                                        null|                               null|                                  null|                              null|                                                null|                        3.0|              null|                             null|         53.0|\n",
      "|786375|2010-12-09 18:00:59|12/12/2010 05:09:...|12/12/2010 05:09:...|Closed|See Notes tab for...|     DPW Ops Queue|Illegal Postings|Illegal Posting -...|  Affixed_Improperly|Intersection of F...|    FULTON ST|                1.0|       Lone Mountain|           PARK|37.774971008301|-122.453002929688|(37.77497101, -12...|    Web|     null|                 12.0|                     7.0|                         4.0|                  18.0|                                        null|                               null|                                  null|                              null|                                                null|                       null|              null|                             null|         12.0|\n",
      "|779722|2010-11-29 10:08:02|12/12/2010 12:09:...|12/12/2010 12:09:...|Closed|See Notes tab for...|     DPW Ops Queue|Illegal Postings|Illegal Postings ...|Multiple_Postings...|Intersection of 9...|       9TH ST|                6.0|     South of Market|       SOUTHERN|37.773769378662|-122.411613464355|(37.77376938, -12...|  Phone|     null|                 32.0|                     1.0|                        10.0|                  34.0|                                         1.0|                               null|                                  null|                              null|                                                null|                        1.0|              null|                             null|         32.0|\n",
      "|789539|2010-12-15 15:34:28|12/16/2010 01:09:...|12/16/2010 01:09:...|Closed|See Notes tab for...|     DPW Ops Queue|Illegal Postings|Illegal Posting -...| Posted_Over_70_Days|Intersection of P...|    PIERCE ST|                8.0|     Duboce Triangle|           PARK|37.770755767822|-122.433547973633|(37.77075577, -12...|    Web|     null|                 28.0|                     7.0|                        11.0|                   3.0|                                        null|                               null|                                  null|                              null|                                                null|                       null|              null|                             null|         28.0|\n",
      "|773522|2010-11-17 07:30:28|11/20/2010 08:04:...|11/20/2010 08:04:...|Closed|See Notes tab for...|     DPW Ops Queue|Illegal Postings|Illegal Posting -...|Posted_on_Traffic...|Intersection of 3...|       3RD ST|                6.0|            Dogpatch|        BAYVIEW|37.764320373535|-122.388854980469|(37.76432037, -12...|    Web|     null|                 55.0|                     2.0|                         9.0|                  26.0|                                        null|                               null|                                  14.0|                              null|                                                null|                       null|              null|                             null|         55.0|\n",
      "|780182|2010-11-29 17:27:44|12/16/2010 04:34:...|12/16/2010 04:34:...|Closed|See Notes tab for...|     DPW BSM Queue|Illegal Postings|Illegal Posting -...|Posting_Too_Large...|Not associated wi...|         null|               null|                null|           null|            0.0|              0.0|          (0.0, 0.0)|    Web|     null|                 null|                    null|                        null|                  null|                                        null|                               null|                                  null|                              null|                                                null|                       null|              null|                             null|         null|\n",
      "|787340|2010-12-11 23:47:28|12/21/2010 02:09:...|12/21/2010 02:09:...|Closed|See Notes tab for...|     DPW Ops Queue|Illegal Postings|Illegal Posting -...|  Affixed_Improperly|Intersection of O...|       OAK ST|                5.0|        Hayes Valley|       NORTHERN|37.774826049805|-122.424133300781|(37.77482605, -12...|    Web|     null|                 22.0|                     4.0|                        11.0|                   9.0|                                        null|                               null|                                  null|                              null|                                                null|                       null|              null|                             null|         22.0|\n",
      "|792585|2010-12-21 10:44:16|12/31/2010 06:09:...|12/31/2010 06:09:...|Closed|See Notes tab for...|     DPW Ops Queue|Illegal Postings|Illegal Postings ...|Multiple_Postings...|2345 MISSION ST, ...|   MISSION ST|                9.0|             Mission|        MISSION|37.759510040283|-122.418952941895|(37.75951004, -12...|Twitter|     null|                 53.0|                     3.0|                         2.0|                  20.0|                                        null|                               null|                                  null|                              null|                                                null|                        3.0|              null|                             null|         53.0|\n",
      "|780949|2010-11-30 20:24:03|12/07/2010 10:09:...|12/07/2010 10:09:...|Closed|See Notes tab for...|     DPW Ops Queue|Illegal Postings|Illegal Postings ...|Multiple_Postings...|Intersection of D...|      DORE ST|                6.0|     South of Market|       SOUTHERN|37.774517059326|-122.413772583008|(37.77451706, -12...|  Phone|     null|                 32.0|                     1.0|                        10.0|                  34.0|                                         1.0|                               null|                                  null|                               1.0|                                                 1.0|                        1.0|              null|                             null|         32.0|\n",
      "|778730|2010-11-26 15:54:29|11/26/2010 05:09:...|11/26/2010 05:09:...|Closed|See Notes tab for...|     DPW Ops Queue|Illegal Postings|Illegal Postings ...|Multiple_Postings...|2293 MISSION ST, ...|   MISSION ST|                9.0|             Mission|        MISSION|37.760456085205|-122.419044494629|(37.76045609, -12...|Twitter|     null|                 53.0|                     3.0|                         2.0|                  20.0|                                        null|                               null|                                  null|                              null|                                                null|                        3.0|              null|                             null|         53.0|\n",
      "|774065|2010-11-17 16:56:25|11/18/2010 02:09:...|11/18/2010 02:09:...|Closed|See Notes tab for...|     DPW Ops Queue|Illegal Postings|Illegal Posting -...|  Affixed_Improperly|Intersection of D...|DIVISADERO ST|                5.0|Lower Pacific Hei...|       NORTHERN|37.785247802734|-122.439872741699|(37.7852478, -122...|    Web|     null|                103.0|                     4.0|                        11.0|                  15.0|                                        null|                               null|                                  null|                              null|                                                null|                       null|              null|                             null|        103.0|\n",
      "|790595|2010-12-17 11:20:35|12/22/2010 06:09:...|12/22/2010 06:09:...|Closed|See Notes tab for...|     DPW Ops Queue|Illegal Postings|Illegal Postings ...|Multiple_Postings...|2146 MISSION ST, ...|   MISSION ST|                9.0|             Mission|        MISSION|37.762607574463|-122.419631958008|(37.76260757, -12...|Twitter|     null|                 53.0|                     3.0|                         2.0|                  20.0|                                        null|                               null|                                  null|                              null|                                                null|                        3.0|              null|                             null|         53.0|\n",
      "|785871|2010-12-09 08:43:54|12/28/2010 05:04:...|12/28/2010 05:04:...|Closed|See Notes tab for...|     DPW BSM Queue|Illegal Postings|Illegal Postings ...|Multiple_Postings...|2293 MISSION ST, ...|   MISSION ST|                9.0|             Mission|        MISSION|37.760456085205|-122.419044494629|(37.76045609, -12...|Twitter|     null|                 53.0|                     3.0|                         2.0|                  20.0|                                        null|                               null|                                  null|                              null|                                                null|                        3.0|              null|                             null|         53.0|\n",
      "|786909|2010-12-10 17:46:39|12/11/2010 06:09:...|12/11/2010 06:09:...|Closed|See Notes tab for...|     DPW Ops Queue|Illegal Postings|Illegal Posting -...|Posted_on_Traffic...|Intersection of H...|    HAIGHT ST|                5.0|      Haight Ashbury|           PARK|37.770210266113|-122.445343017578|(37.77021027, -12...|    Web|     null|                 25.0|                     7.0|                        11.0|                   3.0|                                        null|                               null|                                  null|                              null|                                                null|                       null|              null|                             null|         25.0|\n",
      "+------+-------------------+--------------------+--------------------+------+--------------------+------------------+----------------+--------------------+--------------------+--------------------+-------------+-------------------+--------------------+---------------+---------------+-----------------+--------------------+-------+---------+---------------------+------------------------+----------------------------+----------------------+--------------------------------------------+-----------------------------------+--------------------------------------+----------------------------------+----------------------------------------------------+---------------------------+------------------+---------------------------------+-------------+\n",
      "only showing top 20 rows\n",
      "\n"
     ]
    }
   ],
   "source": [
    "# Read in data from S3 Buckets\n",
    "from pyspark import SparkFiles\n",
    "url = \"https://2u-data-curriculum-team.s3.amazonaws.com/dataviz-classroom/v1.1/22-big-data/day_1/illegal_postings_311.csv\"\n",
    "spark.sparkContext.addFile(url)\n",
    "df = spark.read.csv(SparkFiles.get(\"illegal_postings_311.csv\"), header=True, inferSchema=True, timestampFormat=\"yyyy/MM/dd HH:mm:ss\")\n",
    "\n",
    "# Show DataFrame\n",
    "df.show()"
   ]
  },
  {
   "cell_type": "code",
   "execution_count": 5,
   "metadata": {
    "id": "zP-O7x64FtSC"
   },
   "outputs": [],
   "source": [
    "# Import date time functions\n",
    "from pyspark.sql.functions import month, year"
   ]
  },
  {
   "cell_type": "code",
   "execution_count": 6,
   "metadata": {
    "colab": {
     "base_uri": "https://localhost:8080/"
    },
    "id": "76lFAjMQFtSH",
    "outputId": "7870412b-6cb1-418c-a3d1-b8219e0237d1",
    "scrolled": true
   },
   "outputs": [
    {
     "name": "stdout",
     "output_type": "stream",
     "text": [
      "+------------+\n",
      "|year(Opened)|\n",
      "+------------+\n",
      "|        2009|\n",
      "|        2010|\n",
      "|        2010|\n",
      "|        2010|\n",
      "|        2010|\n",
      "|        2010|\n",
      "|        2010|\n",
      "|        2010|\n",
      "|        2010|\n",
      "|        2010|\n",
      "|        2010|\n",
      "|        2010|\n",
      "|        2010|\n",
      "|        2010|\n",
      "|        2010|\n",
      "|        2010|\n",
      "|        2010|\n",
      "|        2010|\n",
      "|        2010|\n",
      "|        2010|\n",
      "+------------+\n",
      "only showing top 20 rows\n",
      "\n"
     ]
    }
   ],
   "source": [
    "# Create a new DataFrame with the column Year, use Opened column\n",
    "df.select(year(df[\"Opened\"])).show()"
   ]
  },
  {
   "cell_type": "code",
   "execution_count": 7,
   "metadata": {
    "colab": {
     "base_uri": "https://localhost:8080/"
    },
    "id": "wpJF31VGFtSL",
    "outputId": "b56d457c-ca7f-48c2-e1cc-112cf42260de"
   },
   "outputs": [
    {
     "name": "stdout",
     "output_type": "stream",
     "text": [
      "+------+-------------------+--------------------+--------------------+------+--------------------+------------------+----------------+--------------------+--------------------+--------------------+-------------+-------------------+--------------------+---------------+---------------+-----------------+--------------------+-------+---------+---------------------+------------------------+----------------------------+----------------------+--------------------------------------------+-----------------------------------+--------------------------------------+----------------------------------+----------------------------------------------------+---------------------------+------------------+---------------------------------+-------------+----+\n",
      "|CaseID|             Opened|              Closed|             Updated|Status|        Status Notes|Responsible Agency|        Category|        Request Type|     Request Details|             Address|       Street|Supervisor District|        Neighborhood|Police District|       Latitude|        Longitude|               Point| Source|Media URL|SF Find Neighborhoods|Current Police Districts|Current Supervisor Districts|Analysis Neighborhoods|Civic Center Harm Reduction Project Boundary|Invest In Neighborhoods (IIN) Areas|CBD, BID and GBD Boundaries as of 2017|Central Market/Tenderloin Boundary|Central Market/Tenderloin Boundary Polygon - Updated|HSOC Zones as of 2018-06-05|OWED Public Spaces|Parks Alliance CPSI (27+TL sites)|Neighborhoods|year|\n",
      "+------+-------------------+--------------------+--------------------+------+--------------------+------------------+----------------+--------------------+--------------------+--------------------+-------------+-------------------+--------------------+---------------+---------------+-----------------+--------------------+-------+---------+---------------------+------------------------+----------------------------+----------------------+--------------------------------------------+-----------------------------------+--------------------------------------+----------------------------------+----------------------------------------------------+---------------------------+------------------+---------------------------------+-------------+----+\n",
      "|368909|2009-02-09 11:28:43|02/09/2009 01:09:...|02/09/2009 01:09:...|Closed|See Notes tab for...|     DPW Ops Queue|Illegal Postings|Illegal Postings ...|Multiple_Postings...|Not associated wi...|         null|               null|                null|           null|            0.0|              0.0|          (0.0, 0.0)|  Phone|     null|                 null|                    null|                        null|                  null|                                        null|                               null|                                  null|                              null|                                                null|                       null|              null|                             null|         null|2009|\n",
      "|780000|2010-11-29 14:18:15|11/30/2010 06:09:...|11/30/2010 06:09:...|Closed|See Notes tab for...|     DPW Ops Queue|Illegal Postings|Illegal Postings ...|Affixed_Improperl...|Intersection of B...|       BAY ST|                2.0|              Marina|       NORTHERN|37.803268432617|-122.431678771973|(37.80326843, -12...|  Phone|     null|                 98.0|                     4.0|                         6.0|                  13.0|                                        null|                               null|                                  null|                              null|                                                null|                       null|              null|                             null|         98.0|2010|\n",
      "|781915|2010-12-02 09:40:30|12/12/2010 12:09:...|12/12/2010 12:09:...|Closed|See Notes tab for...|     DPW Ops Queue|Illegal Postings|Illegal Postings ...|Affixed_Improperl...|Intersection of 1...|      11TH ST|                6.0|     South of Market|       SOUTHERN|37.771862030029|-122.414024353027|(37.77186203, -12...|  Phone|     null|                 32.0|                     1.0|                        10.0|                  34.0|                                         1.0|                               null|                                  null|                              null|                                                null|                        1.0|              null|                             null|         32.0|2010|\n",
      "|777517|2010-11-23 15:47:13|11/24/2010 01:09:...|11/24/2010 01:09:...|Closed|See Notes tab for...|     DPW Ops Queue|Illegal Postings|Illegal Postings ...|Multiple_Postings...|2293 MISSION ST, ...|   MISSION ST|                9.0|             Mission|        MISSION|37.760456085205|-122.419044494629|(37.76045609, -12...|Twitter|     null|                 53.0|                     3.0|                         2.0|                  20.0|                                        null|                               null|                                  null|                              null|                                                null|                        3.0|              null|                             null|         53.0|2010|\n",
      "|788055|2010-12-13 11:59:44|12/29/2010 07:09:...|12/29/2010 07:09:...|Closed|See Notes tab for...|     DPW Ops Queue|Illegal Postings|Illegal Posting -...|  Affixed_Improperly|Intersection of 1...|     14TH AVE|                1.0|      Inner Richmond|       RICHMOND|37.780632019043|-122.472846984863|(37.78063202, -12...|    Web|     null|                  5.0|                     8.0|                         4.0|                  29.0|                                        null|                               null|                                  null|                              null|                                                null|                       null|              null|                             null|          5.0|2010|\n",
      "|777028|2010-11-22 22:20:17|12/02/2010 10:09:...|12/02/2010 10:09:...|Closed|See Notes tab for...|     DPW Ops Queue|Illegal Postings|Illegal Posting -...|Posted_on_Traffic...|Intersection of G...|   GEARY BLVD|                5.0|           Japantown|       NORTHERN|37.784568786621|-122.431205749512|(37.78456879, -12...|    Web|     null|                101.0|                     4.0|                        11.0|                  15.0|                                        null|                               null|                                  null|                              null|                                                null|                       null|              null|                             null|        101.0|2010|\n",
      "|783901|2010-12-06 10:11:17|12/07/2010 08:09:...|12/07/2010 08:09:...|Closed|See Notes tab for...|     DPW Ops Queue|Illegal Postings|Illegal Postings ...|Multiple_Postings...|741 VALENCIA ST, ...|  VALENCIA ST|                9.0|             Mission|        MISSION|37.760982513428|-122.421287536621|(37.76098251, -12...|Twitter|     null|                 53.0|                     3.0|                         2.0|                  20.0|                                        null|                               null|                                  null|                              null|                                                null|                        3.0|              null|                             null|         53.0|2010|\n",
      "|786375|2010-12-09 18:00:59|12/12/2010 05:09:...|12/12/2010 05:09:...|Closed|See Notes tab for...|     DPW Ops Queue|Illegal Postings|Illegal Posting -...|  Affixed_Improperly|Intersection of F...|    FULTON ST|                1.0|       Lone Mountain|           PARK|37.774971008301|-122.453002929688|(37.77497101, -12...|    Web|     null|                 12.0|                     7.0|                         4.0|                  18.0|                                        null|                               null|                                  null|                              null|                                                null|                       null|              null|                             null|         12.0|2010|\n",
      "|779722|2010-11-29 10:08:02|12/12/2010 12:09:...|12/12/2010 12:09:...|Closed|See Notes tab for...|     DPW Ops Queue|Illegal Postings|Illegal Postings ...|Multiple_Postings...|Intersection of 9...|       9TH ST|                6.0|     South of Market|       SOUTHERN|37.773769378662|-122.411613464355|(37.77376938, -12...|  Phone|     null|                 32.0|                     1.0|                        10.0|                  34.0|                                         1.0|                               null|                                  null|                              null|                                                null|                        1.0|              null|                             null|         32.0|2010|\n",
      "|789539|2010-12-15 15:34:28|12/16/2010 01:09:...|12/16/2010 01:09:...|Closed|See Notes tab for...|     DPW Ops Queue|Illegal Postings|Illegal Posting -...| Posted_Over_70_Days|Intersection of P...|    PIERCE ST|                8.0|     Duboce Triangle|           PARK|37.770755767822|-122.433547973633|(37.77075577, -12...|    Web|     null|                 28.0|                     7.0|                        11.0|                   3.0|                                        null|                               null|                                  null|                              null|                                                null|                       null|              null|                             null|         28.0|2010|\n",
      "|773522|2010-11-17 07:30:28|11/20/2010 08:04:...|11/20/2010 08:04:...|Closed|See Notes tab for...|     DPW Ops Queue|Illegal Postings|Illegal Posting -...|Posted_on_Traffic...|Intersection of 3...|       3RD ST|                6.0|            Dogpatch|        BAYVIEW|37.764320373535|-122.388854980469|(37.76432037, -12...|    Web|     null|                 55.0|                     2.0|                         9.0|                  26.0|                                        null|                               null|                                  14.0|                              null|                                                null|                       null|              null|                             null|         55.0|2010|\n",
      "|780182|2010-11-29 17:27:44|12/16/2010 04:34:...|12/16/2010 04:34:...|Closed|See Notes tab for...|     DPW BSM Queue|Illegal Postings|Illegal Posting -...|Posting_Too_Large...|Not associated wi...|         null|               null|                null|           null|            0.0|              0.0|          (0.0, 0.0)|    Web|     null|                 null|                    null|                        null|                  null|                                        null|                               null|                                  null|                              null|                                                null|                       null|              null|                             null|         null|2010|\n",
      "|787340|2010-12-11 23:47:28|12/21/2010 02:09:...|12/21/2010 02:09:...|Closed|See Notes tab for...|     DPW Ops Queue|Illegal Postings|Illegal Posting -...|  Affixed_Improperly|Intersection of O...|       OAK ST|                5.0|        Hayes Valley|       NORTHERN|37.774826049805|-122.424133300781|(37.77482605, -12...|    Web|     null|                 22.0|                     4.0|                        11.0|                   9.0|                                        null|                               null|                                  null|                              null|                                                null|                       null|              null|                             null|         22.0|2010|\n",
      "|792585|2010-12-21 10:44:16|12/31/2010 06:09:...|12/31/2010 06:09:...|Closed|See Notes tab for...|     DPW Ops Queue|Illegal Postings|Illegal Postings ...|Multiple_Postings...|2345 MISSION ST, ...|   MISSION ST|                9.0|             Mission|        MISSION|37.759510040283|-122.418952941895|(37.75951004, -12...|Twitter|     null|                 53.0|                     3.0|                         2.0|                  20.0|                                        null|                               null|                                  null|                              null|                                                null|                        3.0|              null|                             null|         53.0|2010|\n",
      "|780949|2010-11-30 20:24:03|12/07/2010 10:09:...|12/07/2010 10:09:...|Closed|See Notes tab for...|     DPW Ops Queue|Illegal Postings|Illegal Postings ...|Multiple_Postings...|Intersection of D...|      DORE ST|                6.0|     South of Market|       SOUTHERN|37.774517059326|-122.413772583008|(37.77451706, -12...|  Phone|     null|                 32.0|                     1.0|                        10.0|                  34.0|                                         1.0|                               null|                                  null|                               1.0|                                                 1.0|                        1.0|              null|                             null|         32.0|2010|\n",
      "|778730|2010-11-26 15:54:29|11/26/2010 05:09:...|11/26/2010 05:09:...|Closed|See Notes tab for...|     DPW Ops Queue|Illegal Postings|Illegal Postings ...|Multiple_Postings...|2293 MISSION ST, ...|   MISSION ST|                9.0|             Mission|        MISSION|37.760456085205|-122.419044494629|(37.76045609, -12...|Twitter|     null|                 53.0|                     3.0|                         2.0|                  20.0|                                        null|                               null|                                  null|                              null|                                                null|                        3.0|              null|                             null|         53.0|2010|\n",
      "|774065|2010-11-17 16:56:25|11/18/2010 02:09:...|11/18/2010 02:09:...|Closed|See Notes tab for...|     DPW Ops Queue|Illegal Postings|Illegal Posting -...|  Affixed_Improperly|Intersection of D...|DIVISADERO ST|                5.0|Lower Pacific Hei...|       NORTHERN|37.785247802734|-122.439872741699|(37.7852478, -122...|    Web|     null|                103.0|                     4.0|                        11.0|                  15.0|                                        null|                               null|                                  null|                              null|                                                null|                       null|              null|                             null|        103.0|2010|\n",
      "|790595|2010-12-17 11:20:35|12/22/2010 06:09:...|12/22/2010 06:09:...|Closed|See Notes tab for...|     DPW Ops Queue|Illegal Postings|Illegal Postings ...|Multiple_Postings...|2146 MISSION ST, ...|   MISSION ST|                9.0|             Mission|        MISSION|37.762607574463|-122.419631958008|(37.76260757, -12...|Twitter|     null|                 53.0|                     3.0|                         2.0|                  20.0|                                        null|                               null|                                  null|                              null|                                                null|                        3.0|              null|                             null|         53.0|2010|\n",
      "|785871|2010-12-09 08:43:54|12/28/2010 05:04:...|12/28/2010 05:04:...|Closed|See Notes tab for...|     DPW BSM Queue|Illegal Postings|Illegal Postings ...|Multiple_Postings...|2293 MISSION ST, ...|   MISSION ST|                9.0|             Mission|        MISSION|37.760456085205|-122.419044494629|(37.76045609, -12...|Twitter|     null|                 53.0|                     3.0|                         2.0|                  20.0|                                        null|                               null|                                  null|                              null|                                                null|                        3.0|              null|                             null|         53.0|2010|\n",
      "|786909|2010-12-10 17:46:39|12/11/2010 06:09:...|12/11/2010 06:09:...|Closed|See Notes tab for...|     DPW Ops Queue|Illegal Postings|Illegal Posting -...|Posted_on_Traffic...|Intersection of H...|    HAIGHT ST|                5.0|      Haight Ashbury|           PARK|37.770210266113|-122.445343017578|(37.77021027, -12...|    Web|     null|                 25.0|                     7.0|                        11.0|                   3.0|                                        null|                               null|                                  null|                              null|                                                null|                       null|              null|                             null|         25.0|2010|\n",
      "+------+-------------------+--------------------+--------------------+------+--------------------+------------------+----------------+--------------------+--------------------+--------------------+-------------+-------------------+--------------------+---------------+---------------+-----------------+--------------------+-------+---------+---------------------+------------------------+----------------------------+----------------------+--------------------------------------------+-----------------------------------+--------------------------------------+----------------------------------+----------------------------------------------------+---------------------------+------------------+---------------------------------+-------------+----+\n",
      "only showing top 20 rows\n",
      "\n"
     ]
    }
   ],
   "source": [
    "# Save the year as a new column\n",
    "df = df.withColumn(\"year\", year(df['Opened']))\n",
    "df.show()"
   ]
  },
  {
   "cell_type": "code",
   "execution_count": 8,
   "metadata": {
    "colab": {
     "base_uri": "https://localhost:8080/"
    },
    "id": "sBpcHcZcFtSQ",
    "outputId": "a3c68f90-90b5-4ee4-b3f2-2e33f6c405fb"
   },
   "outputs": [
    {
     "name": "stdout",
     "output_type": "stream",
     "text": [
      "+----+-----+\n",
      "|year|count|\n",
      "+----+-----+\n",
      "|null|  591|\n",
      "|2008|  301|\n",
      "|2009|  522|\n",
      "|2010|  984|\n",
      "|2011| 1499|\n",
      "|2012| 2908|\n",
      "|2013| 7913|\n",
      "|2014| 6469|\n",
      "|2015|10087|\n",
      "|2016| 7621|\n",
      "|2017| 5522|\n",
      "|2018| 4920|\n",
      "|2019| 8235|\n",
      "|2020|14087|\n",
      "|2021|12038|\n",
      "|2022|  648|\n",
      "+----+-----+\n",
      "\n"
     ]
    }
   ],
   "source": [
    "# Find the total Opened cases per year\n",
    "averages = df.groupBy(\"year\").count()\n",
    "averages.orderBy(\"year\").select(\"year\", \"count\").show()"
   ]
  },
  {
   "cell_type": "code",
   "execution_count": 9,
   "metadata": {
    "colab": {
     "base_uri": "https://localhost:8080/",
     "height": 204
    },
    "id": "vGvRXR0dFtSU",
    "outputId": "e5cac1d7-5d0a-486e-f3a0-a6c4b9931c46"
   },
   "outputs": [
    {
     "data": {
      "text/html": [
       "\n",
       "  <div id=\"df-6a0dbaca-1d9d-4214-a7d2-d7ffdd7306d2\">\n",
       "    <div class=\"colab-df-container\">\n",
       "      <div>\n",
       "<style scoped>\n",
       "    .dataframe tbody tr th:only-of-type {\n",
       "        vertical-align: middle;\n",
       "    }\n",
       "\n",
       "    .dataframe tbody tr th {\n",
       "        vertical-align: top;\n",
       "    }\n",
       "\n",
       "    .dataframe thead th {\n",
       "        text-align: right;\n",
       "    }\n",
       "</style>\n",
       "<table border=\"1\" class=\"dataframe\">\n",
       "  <thead>\n",
       "    <tr style=\"text-align: right;\">\n",
       "      <th></th>\n",
       "      <th>year</th>\n",
       "      <th>count</th>\n",
       "    </tr>\n",
       "  </thead>\n",
       "  <tbody>\n",
       "    <tr>\n",
       "      <th>0</th>\n",
       "      <td>NaN</td>\n",
       "      <td>591</td>\n",
       "    </tr>\n",
       "    <tr>\n",
       "      <th>1</th>\n",
       "      <td>2008.0</td>\n",
       "      <td>301</td>\n",
       "    </tr>\n",
       "    <tr>\n",
       "      <th>2</th>\n",
       "      <td>2009.0</td>\n",
       "      <td>522</td>\n",
       "    </tr>\n",
       "    <tr>\n",
       "      <th>3</th>\n",
       "      <td>2010.0</td>\n",
       "      <td>984</td>\n",
       "    </tr>\n",
       "    <tr>\n",
       "      <th>4</th>\n",
       "      <td>2011.0</td>\n",
       "      <td>1499</td>\n",
       "    </tr>\n",
       "  </tbody>\n",
       "</table>\n",
       "</div>\n",
       "      <button class=\"colab-df-convert\" onclick=\"convertToInteractive('df-6a0dbaca-1d9d-4214-a7d2-d7ffdd7306d2')\"\n",
       "              title=\"Convert this dataframe to an interactive table.\"\n",
       "              style=\"display:none;\">\n",
       "        \n",
       "  <svg xmlns=\"http://www.w3.org/2000/svg\" height=\"24px\"viewBox=\"0 0 24 24\"\n",
       "       width=\"24px\">\n",
       "    <path d=\"M0 0h24v24H0V0z\" fill=\"none\"/>\n",
       "    <path d=\"M18.56 5.44l.94 2.06.94-2.06 2.06-.94-2.06-.94-.94-2.06-.94 2.06-2.06.94zm-11 1L8.5 8.5l.94-2.06 2.06-.94-2.06-.94L8.5 2.5l-.94 2.06-2.06.94zm10 10l.94 2.06.94-2.06 2.06-.94-2.06-.94-.94-2.06-.94 2.06-2.06.94z\"/><path d=\"M17.41 7.96l-1.37-1.37c-.4-.4-.92-.59-1.43-.59-.52 0-1.04.2-1.43.59L10.3 9.45l-7.72 7.72c-.78.78-.78 2.05 0 2.83L4 21.41c.39.39.9.59 1.41.59.51 0 1.02-.2 1.41-.59l7.78-7.78 2.81-2.81c.8-.78.8-2.07 0-2.86zM5.41 20L4 18.59l7.72-7.72 1.47 1.35L5.41 20z\"/>\n",
       "  </svg>\n",
       "      </button>\n",
       "      \n",
       "  <style>\n",
       "    .colab-df-container {\n",
       "      display:flex;\n",
       "      flex-wrap:wrap;\n",
       "      gap: 12px;\n",
       "    }\n",
       "\n",
       "    .colab-df-convert {\n",
       "      background-color: #E8F0FE;\n",
       "      border: none;\n",
       "      border-radius: 50%;\n",
       "      cursor: pointer;\n",
       "      display: none;\n",
       "      fill: #1967D2;\n",
       "      height: 32px;\n",
       "      padding: 0 0 0 0;\n",
       "      width: 32px;\n",
       "    }\n",
       "\n",
       "    .colab-df-convert:hover {\n",
       "      background-color: #E2EBFA;\n",
       "      box-shadow: 0px 1px 2px rgba(60, 64, 67, 0.3), 0px 1px 3px 1px rgba(60, 64, 67, 0.15);\n",
       "      fill: #174EA6;\n",
       "    }\n",
       "\n",
       "    [theme=dark] .colab-df-convert {\n",
       "      background-color: #3B4455;\n",
       "      fill: #D2E3FC;\n",
       "    }\n",
       "\n",
       "    [theme=dark] .colab-df-convert:hover {\n",
       "      background-color: #434B5C;\n",
       "      box-shadow: 0px 1px 3px 1px rgba(0, 0, 0, 0.15);\n",
       "      filter: drop-shadow(0px 1px 2px rgba(0, 0, 0, 0.3));\n",
       "      fill: #FFFFFF;\n",
       "    }\n",
       "  </style>\n",
       "\n",
       "      <script>\n",
       "        const buttonEl =\n",
       "          document.querySelector('#df-6a0dbaca-1d9d-4214-a7d2-d7ffdd7306d2 button.colab-df-convert');\n",
       "        buttonEl.style.display =\n",
       "          google.colab.kernel.accessAllowed ? 'block' : 'none';\n",
       "\n",
       "        async function convertToInteractive(key) {\n",
       "          const element = document.querySelector('#df-6a0dbaca-1d9d-4214-a7d2-d7ffdd7306d2');\n",
       "          const dataTable =\n",
       "            await google.colab.kernel.invokeFunction('convertToInteractive',\n",
       "                                                     [key], {});\n",
       "          if (!dataTable) return;\n",
       "\n",
       "          const docLinkHtml = 'Like what you see? Visit the ' +\n",
       "            '<a target=\"_blank\" href=https://colab.research.google.com/notebooks/data_table.ipynb>data table notebook</a>'\n",
       "            + ' to learn more about interactive tables.';\n",
       "          element.innerHTML = '';\n",
       "          dataTable['output_type'] = 'display_data';\n",
       "          await google.colab.output.renderOutput(dataTable, element);\n",
       "          const docLink = document.createElement('div');\n",
       "          docLink.innerHTML = docLinkHtml;\n",
       "          element.appendChild(docLink);\n",
       "        }\n",
       "      </script>\n",
       "    </div>\n",
       "  </div>\n",
       "  "
      ],
      "text/plain": [
       "     year  count\n",
       "0     NaN    591\n",
       "1  2008.0    301\n",
       "2  2009.0    522\n",
       "3  2010.0    984\n",
       "4  2011.0   1499"
      ]
     },
     "execution_count": 9,
     "metadata": {},
     "output_type": "execute_result"
    }
   ],
   "source": [
    "# Import the summarized data to a pandas DataFrame for plotting\n",
    "# Note: If your summarized data is still too big for your local memory then your notebook may crash\n",
    "import pandas as pd\n",
    "pandas_df = averages.orderBy(\"year\").select(\"year\", \"count\").toPandas()\n",
    "pandas_df.head()"
   ]
  },
  {
   "cell_type": "code",
   "execution_count": 11,
   "metadata": {
    "colab": {
     "base_uri": "https://localhost:8080/",
     "height": 204
    },
    "id": "KZ9HqmjoFtSY",
    "outputId": "debb863f-ef1c-488a-b5e2-bbbf25d22bd6"
   },
   "outputs": [
    {
     "data": {
      "text/html": [
       "\n",
       "  <div id=\"df-77ca8781-7db8-4b01-a0f0-85aefabd108e\">\n",
       "    <div class=\"colab-df-container\">\n",
       "      <div>\n",
       "<style scoped>\n",
       "    .dataframe tbody tr th:only-of-type {\n",
       "        vertical-align: middle;\n",
       "    }\n",
       "\n",
       "    .dataframe tbody tr th {\n",
       "        vertical-align: top;\n",
       "    }\n",
       "\n",
       "    .dataframe thead th {\n",
       "        text-align: right;\n",
       "    }\n",
       "</style>\n",
       "<table border=\"1\" class=\"dataframe\">\n",
       "  <thead>\n",
       "    <tr style=\"text-align: right;\">\n",
       "      <th></th>\n",
       "      <th>year</th>\n",
       "      <th>Cases</th>\n",
       "    </tr>\n",
       "  </thead>\n",
       "  <tbody>\n",
       "    <tr>\n",
       "      <th>1</th>\n",
       "      <td>2008.0</td>\n",
       "      <td>301</td>\n",
       "    </tr>\n",
       "    <tr>\n",
       "      <th>2</th>\n",
       "      <td>2009.0</td>\n",
       "      <td>522</td>\n",
       "    </tr>\n",
       "    <tr>\n",
       "      <th>3</th>\n",
       "      <td>2010.0</td>\n",
       "      <td>984</td>\n",
       "    </tr>\n",
       "    <tr>\n",
       "      <th>4</th>\n",
       "      <td>2011.0</td>\n",
       "      <td>1499</td>\n",
       "    </tr>\n",
       "    <tr>\n",
       "      <th>5</th>\n",
       "      <td>2012.0</td>\n",
       "      <td>2908</td>\n",
       "    </tr>\n",
       "  </tbody>\n",
       "</table>\n",
       "</div>\n",
       "      <button class=\"colab-df-convert\" onclick=\"convertToInteractive('df-77ca8781-7db8-4b01-a0f0-85aefabd108e')\"\n",
       "              title=\"Convert this dataframe to an interactive table.\"\n",
       "              style=\"display:none;\">\n",
       "        \n",
       "  <svg xmlns=\"http://www.w3.org/2000/svg\" height=\"24px\"viewBox=\"0 0 24 24\"\n",
       "       width=\"24px\">\n",
       "    <path d=\"M0 0h24v24H0V0z\" fill=\"none\"/>\n",
       "    <path d=\"M18.56 5.44l.94 2.06.94-2.06 2.06-.94-2.06-.94-.94-2.06-.94 2.06-2.06.94zm-11 1L8.5 8.5l.94-2.06 2.06-.94-2.06-.94L8.5 2.5l-.94 2.06-2.06.94zm10 10l.94 2.06.94-2.06 2.06-.94-2.06-.94-.94-2.06-.94 2.06-2.06.94z\"/><path d=\"M17.41 7.96l-1.37-1.37c-.4-.4-.92-.59-1.43-.59-.52 0-1.04.2-1.43.59L10.3 9.45l-7.72 7.72c-.78.78-.78 2.05 0 2.83L4 21.41c.39.39.9.59 1.41.59.51 0 1.02-.2 1.41-.59l7.78-7.78 2.81-2.81c.8-.78.8-2.07 0-2.86zM5.41 20L4 18.59l7.72-7.72 1.47 1.35L5.41 20z\"/>\n",
       "  </svg>\n",
       "      </button>\n",
       "      \n",
       "  <style>\n",
       "    .colab-df-container {\n",
       "      display:flex;\n",
       "      flex-wrap:wrap;\n",
       "      gap: 12px;\n",
       "    }\n",
       "\n",
       "    .colab-df-convert {\n",
       "      background-color: #E8F0FE;\n",
       "      border: none;\n",
       "      border-radius: 50%;\n",
       "      cursor: pointer;\n",
       "      display: none;\n",
       "      fill: #1967D2;\n",
       "      height: 32px;\n",
       "      padding: 0 0 0 0;\n",
       "      width: 32px;\n",
       "    }\n",
       "\n",
       "    .colab-df-convert:hover {\n",
       "      background-color: #E2EBFA;\n",
       "      box-shadow: 0px 1px 2px rgba(60, 64, 67, 0.3), 0px 1px 3px 1px rgba(60, 64, 67, 0.15);\n",
       "      fill: #174EA6;\n",
       "    }\n",
       "\n",
       "    [theme=dark] .colab-df-convert {\n",
       "      background-color: #3B4455;\n",
       "      fill: #D2E3FC;\n",
       "    }\n",
       "\n",
       "    [theme=dark] .colab-df-convert:hover {\n",
       "      background-color: #434B5C;\n",
       "      box-shadow: 0px 1px 3px 1px rgba(0, 0, 0, 0.15);\n",
       "      filter: drop-shadow(0px 1px 2px rgba(0, 0, 0, 0.3));\n",
       "      fill: #FFFFFF;\n",
       "    }\n",
       "  </style>\n",
       "\n",
       "      <script>\n",
       "        const buttonEl =\n",
       "          document.querySelector('#df-77ca8781-7db8-4b01-a0f0-85aefabd108e button.colab-df-convert');\n",
       "        buttonEl.style.display =\n",
       "          google.colab.kernel.accessAllowed ? 'block' : 'none';\n",
       "\n",
       "        async function convertToInteractive(key) {\n",
       "          const element = document.querySelector('#df-77ca8781-7db8-4b01-a0f0-85aefabd108e');\n",
       "          const dataTable =\n",
       "            await google.colab.kernel.invokeFunction('convertToInteractive',\n",
       "                                                     [key], {});\n",
       "          if (!dataTable) return;\n",
       "\n",
       "          const docLinkHtml = 'Like what you see? Visit the ' +\n",
       "            '<a target=\"_blank\" href=https://colab.research.google.com/notebooks/data_table.ipynb>data table notebook</a>'\n",
       "            + ' to learn more about interactive tables.';\n",
       "          element.innerHTML = '';\n",
       "          dataTable['output_type'] = 'display_data';\n",
       "          await google.colab.output.renderOutput(dataTable, element);\n",
       "          const docLink = document.createElement('div');\n",
       "          docLink.innerHTML = docLinkHtml;\n",
       "          element.appendChild(docLink);\n",
       "        }\n",
       "      </script>\n",
       "    </div>\n",
       "  </div>\n",
       "  "
      ],
      "text/plain": [
       "     year  Cases\n",
       "1  2008.0    301\n",
       "2  2009.0    522\n",
       "3  2010.0    984\n",
       "4  2011.0   1499\n",
       "5  2012.0   2908"
      ]
     },
     "execution_count": 11,
     "metadata": {},
     "output_type": "execute_result"
    }
   ],
   "source": [
    "# Clean the data by dropping NaN values and rename the column \"count\" to \"Cases\"\n",
    "pandas_df = pandas_df.dropna()\n",
    "pandas_df = pandas_df.rename(columns={\"count\": \"Cases\"})\n",
    "pandas_df.head()"
   ]
  },
  {
   "cell_type": "code",
   "execution_count": 12,
   "metadata": {
    "colab": {
     "base_uri": "https://localhost:8080/",
     "height": 296
    },
    "id": "kPAL5A9oFtSc",
    "outputId": "a001351d-ebd9-450e-8cc7-142c05bb1cc2"
   },
   "outputs": [
    {
     "data": {
      "text/plain": [
       "<matplotlib.axes._subplots.AxesSubplot at 0x7fe1bdd7a8d0>"
      ]
     },
     "execution_count": 12,
     "metadata": {},
     "output_type": "execute_result"
    },
    {
     "data": {
      "image/png": "[encoded data removed]",
      "text/plain": [
       "<Figure size 432x288 with 1 Axes>"
      ]
     },
     "metadata": {
      "needs_background": "light"
     },
     "output_type": "display_data"
    }
   ],
   "source": [
    "# Plot the year and Cases\n",
    "%matplotlib inline\n",
    "pandas_df.plot(\"year\", \"Cases\")"
   ]
  },
  {
   "cell_type": "code",
   "execution_count": null,
   "metadata": {
    "id": "LsS-TQ5tGby5"
   },
   "outputs": [],
   "source": []
  }
 ],
 "metadata": {
  "anaconda-cloud": {},
  "colab": {
   "collapsed_sections": [],
   "name": "illegal_postings_311.ipynb",
   "provenance": []
  },
  "kernel_info": {
   "name": "python3"
  },
  "kernelspec": {
   "display_name": "Python 3",
   "language": "python",
   "name": "python3"
  },
  "language_info": {
   "codemirror_mode": {
    "name": "ipython",
    "version": 3
   },
   "file_extension": ".py",
   "mimetype": "text/x-python",
   "name": "python",
   "nbconvert_exporter": "python",
   "pygments_lexer": "ipython3",
   "version": "3.8.8"
  },
  "nteract": {
   "version": "0.11.2"
  },
  "varInspector": {
   "cols": {
    "lenName": 16,
    "lenType": 16,
    "lenVar": 40
   },
   "kernels_config": {
    "python": {
     "delete_cmd_postfix": "",
     "delete_cmd_prefix": "del ",
     "library": "var_list.py",
     "varRefreshCmd": "print(var_dic_list())"
    },
    "r": {
     "delete_cmd_postfix": ") ",
     "delete_cmd_prefix": "rm(",
     "library": "var_list.r",
     "varRefreshCmd": "cat(var_dic_list()) "
    }
   },
   "types_to_exclude": [
    "module",
    "function",
    "builtin_function_or_method",
    "instance",
    "_Feature"
   ],
   "window_display": false
  }
 },
 "nbformat": 4,
 "nbformat_minor": 1
}
