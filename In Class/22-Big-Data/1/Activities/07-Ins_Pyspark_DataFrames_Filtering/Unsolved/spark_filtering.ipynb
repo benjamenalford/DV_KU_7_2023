{
 "cells": [
  {
   "cell_type": "code",
   "execution_count": null,
   "metadata": {
    "id": "WuorenOcBis5"
   },
   "outputs": [],
   "source": [
    "import os\n",
    "# Find the latest version of spark 3.2  from http://www.apache.org/dist/spark/ and enter as the spark version\n",
    "# For example:\n",
    "# spark_version = 'spark-3.2.2'\n",
    "spark_version = 'spark-3.<enter version>'\n",
    "\n",
    "os.environ['SPARK_VERSION']=spark_version\n",
    "\n",
    "# Install Spark and Java\n",
    "!apt-get update\n",
    "!apt-get install openjdk-8-jdk-headless -qq > /dev/null\n",
    "!wget -q http://www.apache.org/dist/spark/$SPARK_VERSION/$SPARK_VERSION-bin-hadoop2.7.tgz\n",
    "!tar xf $SPARK_VERSION-bin-hadoop2.7.tgz\n",
    "!pip install -q findspark\n",
    "\n",
    "# Set Environment Variables\n",
    "os.environ[\"JAVA_HOME\"] = \"/usr/lib/jvm/java-8-openjdk-amd64\"\n",
    "os.environ[\"SPARK_HOME\"] = f\"/content/{spark_version}-bin-hadoop2.7\"\n",
    "\n",
    "# Start a SparkSession\n",
    "import findspark\n",
    "findspark.init()"
   ]
  },
  {
   "cell_type": "code",
   "execution_count": 2,
   "metadata": {
    "id": "4Z1VrO-sBmig"
   },
   "outputs": [],
   "source": [
    "# Start Spark session\n",
    "from pyspark.sql import SparkSession\n",
    "spark = SparkSession.builder.appName(\"sparkFunctions\").getOrCreate()"
   ]
  },
  {
   "cell_type": "code",
   "execution_count": 7,
   "metadata": {
    "colab": {
     "base_uri": "https://localhost:8080/"
    },
    "id": "p18L4J0oefTo",
    "outputId": "7fc0adac-96d7-42ab-f4a7-b9192813c5cf"
   },
   "outputs": [
    {
     "name": "stdout",
     "output_type": "stream",
     "text": [
      "+---------------+--------------+----------+---------+----------+-------------+--------------------+\n",
      "|        dish_id|total_calories|total_mass|total_fat|total_carb|total_protein|         ingredients|\n",
      "+---------------+--------------+----------+---------+----------+-------------+--------------------+\n",
      "|dish_1561662216|    300.794281|193.000000|12.387489| 28.218290|    18.633970|soy sauce; garlic...|\n",
      "|dish_1562688426|    137.569992| 88.000000| 8.256000|  5.190000|    10.297000|roasted potatoes;...|\n",
      "|dish_1561662054|    419.438782|292.000000|23.838249| 26.351543|    25.910593|pepper; white ric...|\n",
      "|dish_1562008979|    382.936646|290.000000|22.224644| 10.173570|    35.345387|jalapenos; lemon ...|\n",
      "|dish_1560455030|     20.590000|103.000000| 0.148000|  4.625000|     0.956000|cherry tomatoes; ...|\n",
      "|dish_1558372433|     74.360001|143.000000| 0.286000|  0.429000|    20.020000|          deprecated|\n",
      "|dish_1563379132|    232.050003|119.000000|14.280000| 14.280000|    10.591001|         chilaquiles|\n",
      "|dish_1565640549|     45.482903|139.000000| 1.568471|  7.043886|     2.641478|tomatoes; cilantr...|\n",
      "|dish_1563207364|    309.269989|271.000000|13.774000| 30.657000|    15.010000|scrambled eggs; y...|\n",
      "|dish_1561575474|    120.058434|183.000000| 4.966118| 17.412746|     2.990431|salt; eggplant; r...|\n",
      "|dish_1550795690|     68.119995|131.000000| 0.262000| 18.340000|     0.393000|               apple|\n",
      "|dish_1563216717|    246.007996|332.000000| 5.636517| 16.284782|    33.068710|garlic; squash; c...|\n",
      "|dish_1565972591|    195.199997|122.000000|12.200000|  3.660000|    17.080000|chicken apple sau...|\n",
      "|dish_1568649312|     44.459999| 78.000000| 0.234000| 10.920000|     0.546000|             berries|\n",
      "|dish_1550876012|    253.520004|207.000000| 4.455999| 12.460000|    38.608002|chicken; cantalou...|\n",
      "|dish_1551565034|      7.790000| 19.000000| 0.038000|  1.900000|     0.171000|              carrot|\n",
      "|dish_1550860747|     39.500000| 79.000000| 0.079000| 10.270000|     0.395000|           pineapple|\n",
      "|dish_1566245398|    506.355377|230.000000|31.183908|  4.258222|    49.023197|olive oil; lime; ...|\n",
      "|dish_1563381680|     32.459999|  6.000000| 2.520000|  0.084000|     2.220000|               bacon|\n",
      "|dish_1562183096|     41.188980| 95.000000| 2.571043|  3.280260|     2.804970|pepper; chard; bl...|\n",
      "+---------------+--------------+----------+---------+----------+-------------+--------------------+\n",
      "only showing top 20 rows\n",
      "\n"
     ]
    }
   ],
   "source": [
    "#Observe the need to use ignoreLeadingWhiteSpace=True, to remove leading whitespace from the column names\n",
    "from pyspark import SparkFiles\n",
    "url =\"https://2u-data-curriculum-team.s3.amazonaws.com/dataviz-classroom/v1.1/22-big-data/day_1/nutrition.csv\"\n",
    "spark.sparkContext.addFile(url)\n",
    "df = spark.read.csv(SparkFiles.get(\"nutrition.csv\"), sep=\",\", header=True, ignoreLeadingWhiteSpace=True) \n",
    "\n",
    "# Show DataFrame\n",
    "df.show()"
   ]
  },
  {
   "cell_type": "code",
   "execution_count": null,
   "metadata": {
    "id": "IQxqyHWEfWDI"
   },
   "outputs": [],
   "source": []
  }
 ],
 "metadata": {
  "colab": {
   "collapsed_sections": [],
   "name": "spark_filtering.ipynb",
   "provenance": []
  },
  "kernelspec": {
   "display_name": "Python 3",
   "language": "python",
   "name": "python3"
  },
  "language_info": {
   "codemirror_mode": {
    "name": "ipython",
    "version": 3
   },
   "file_extension": ".py",
   "mimetype": "text/x-python",
   "name": "python",
   "nbconvert_exporter": "python",
   "pygments_lexer": "ipython3",
   "version": "3.8.8"
  },
  "latex_envs": {
   "LaTeX_envs_menu_present": true,
   "autoclose": false,
   "autocomplete": true,
   "bibliofile": "biblio.bib",
   "cite_by": "apalike",
   "current_citInitial": 1,
   "eqLabelWithNumbers": true,
   "eqNumInitial": 1,
   "hotkeys": {
    "equation": "Ctrl-E",
    "itemize": "Ctrl-I"
   },
   "labels_anchors": false,
   "latex_user_defs": false,
   "report_style_numbering": false,
   "user_envs_cfg": false
  }
 },
 "nbformat": 4,
 "nbformat_minor": 1
}
