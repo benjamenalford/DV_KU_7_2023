{
 "cells": [
  {
   "cell_type": "code",
   "execution_count": null,
   "metadata": {},
   "outputs": [],
   "source": [
    "# Import the Pandas library\n",
    "import pandas as pd"
   ]
  },
  {
   "cell_type": "code",
   "execution_count": null,
   "metadata": {},
   "outputs": [],
   "source": [
    "# Create a reference the CSV file desired\n",
    "csv_path = \"Resources/CT_fires_2015.csv\"\n",
    "\n",
    "# Read the CSV into a Pandas DataFrame\n",
    "fires_df = pd.read_csv(csv_path)\n",
    "\n",
    "# Print the first five rows of data to the screen\n",
    "fires_df.head()"
   ]
  },
  {
   "cell_type": "code",
   "execution_count": null,
   "metadata": {},
   "outputs": [],
   "source": [
    "# Check the names of all the columns and see if there are any rows with missing data\n",
    "fires_df.count()"
   ]
  },
  {
   "cell_type": "code",
   "execution_count": null,
   "metadata": {},
   "outputs": [],
   "source": [
    "# Rename mistyped columns \"Aid Given or Received Code \" and \"Propery Loss\"\n",
    "fires_df = fires_df.rename(columns={\"Aid Given or Received Code \": \"Aid Given or Received Code\", \n",
    "                                    \"Propery Loss\": \"Property Loss\"})"
   ]
  },
  {
   "cell_type": "code",
   "execution_count": null,
   "metadata": {},
   "outputs": [],
   "source": [
    "# Reduce to columns: Reporting Year, Fire Department Name, Incident date, Incident Type,\n",
    "# Aid Given or Received Code, Aid Given or Received, Number of Alarms, Alarm Date and Time,\n",
    "# Arrival Date and Time, Last Unit Cleared Date and Time, Actions Taken 1, Actions Taken 2,\n",
    "# Actions Taken 3, Property Value, Property Loss, Contents Value, Contents Loss,\n",
    "# Fire Service Deaths, Fire Service Injuries, Other Fire Deaths, Other Fire Injuries,\n",
    "# Property Use, Incident Street Address, Incident Apartment Number, Incident City, Incident Zip Code\n",
    "\n",
    "fires_reduced = fires_df[[\"Reporting Year\", \"Fire Department Name\", \"Incident date\", \n",
    "                          \"Incident Type\", \"Aid Given or Received Code\", \"Aid Given or Received\", \n",
    "                          \"Number of Alarms\", \"Alarm Date and Time\", \"Arrival Date and Time\", \n",
    "                          \"Last Unit Cleared Date and Time\", \"Actions Taken 1\", \n",
    "                          \"Actions Taken 2\", \"Actions Taken 3\", \"Property Value\", \n",
    "                          \"Property Loss\", \"Contents Value\", \"Contents Loss\", \"Fire Service Deaths\", \n",
    "                          \"Fire Service Injuries\", \"Other Fire Deaths\", \"Other Fire Injuries\", \n",
    "                          \"Property Use\", \"Incident Street Address\", \"Incident Apartment Number\", \n",
    "                          \"Incident City\", \"Incident Zip Code\"]]\n",
    "fires_reduced.head()"
   ]
  },
  {
   "cell_type": "code",
   "execution_count": null,
   "metadata": {},
   "outputs": [],
   "source": [
    "# Fill NAs for columns \"Actions Taken 1\", \"Actions Taken 2\", \"Actions Taken 3\", \n",
    "# and \"Incident Apartment Number\" with ''\n",
    "# Fill NAs for columns \"Other Fire Deaths\", \"Other Fire Injuries\",\n",
    "# \"Property Loss\", and \"Contents Loss\" with 0\n",
    "fires_reduced = fires_reduced.fillna({\"Actions Taken 1\": '', \n",
    "                                      \"Actions Taken 2\": '', \n",
    "                                      \"Actions Taken 3\": '',\n",
    "                                      \"Incident Apartment Number\": '',\n",
    "                                      \"Other Fire Deaths\": 0,\n",
    "                                      \"Other Fire Injuries\": 0,\n",
    "                                      \"Property Loss\": 0,\n",
    "                                      \"Contents Loss\": 0})\n",
    "fires_reduced.head()"
   ]
  },
  {
   "cell_type": "code",
   "execution_count": null,
   "metadata": {},
   "outputs": [],
   "source": [
    "# Remove remaining rows with missing data\n",
    "fires_cleaned_df = fires_reduced.dropna(how=\"any\")\n",
    "fires_cleaned_df.count()"
   ]
  },
  {
   "cell_type": "code",
   "execution_count": null,
   "metadata": {},
   "outputs": [],
   "source": [
    "# Filter data to incidents that caused Property or Contents Loss\n",
    "loss_df = fires_cleaned_df.loc[(fires_cleaned_df[\"Property Loss\"] > 0) |\n",
    "                               (fires_cleaned_df[\"Contents Loss\"] > 0) , :]\n",
    "loss_df.head()"
   ]
  },
  {
   "cell_type": "code",
   "execution_count": null,
   "metadata": {},
   "outputs": [],
   "source": [
    "# Count how many incidents occured in each city\n",
    "city_counts = loss_df[\"Incident City\"].value_counts()\n",
    "city_counts"
   ]
  },
  {
   "cell_type": "code",
   "execution_count": null,
   "metadata": {},
   "outputs": [],
   "source": [
    "# Convert the city_counts Series into a DataFrame\n",
    "city_loss_counts_df = pd.DataFrame(city_counts)\n",
    "city_loss_counts_df.head()"
   ]
  },
  {
   "cell_type": "code",
   "execution_count": null,
   "metadata": {},
   "outputs": [],
   "source": [
    "# Convert the column name into \"Sum of Loss Incidents\"\n",
    "city_loss_counts_df = city_loss_counts_df.rename(\n",
    "    columns={\"Incident City\": \"Sum of Loss Incidents\"})\n",
    "city_loss_counts_df.head()"
   ]
  },
  {
   "cell_type": "code",
   "execution_count": null,
   "metadata": {},
   "outputs": [],
   "source": [
    "# Calculate the number of deaths from fire incidents where loss occurred\n",
    "deaths = loss_df[\"Fire Service Deaths\"].sum() + loss_df[\"Other Fire Deaths\"].sum()\n",
    "deaths"
   ]
  },
  {
   "cell_type": "code",
   "execution_count": null,
   "metadata": {},
   "outputs": [],
   "source": [
    "# Want to calculate the fire department response time? There is a problem\n",
    "# Problem can be seen by examining datatypes within the DataFrame\n",
    "loss_df.dtypes"
   ]
  },
  {
   "cell_type": "code",
   "execution_count": null,
   "metadata": {},
   "outputs": [],
   "source": [
    "# Convert relevant date columns to datetime\n",
    "loss_df = loss_df.astype({\"Alarm Date and Time\": \"datetime64\",\n",
    "                         \"Arrival Date and Time\": \"datetime64\",\n",
    "                         \"Last Unit Cleared Date and Time\": \"datetime64\"})\n",
    "loss_df.dtypes"
   ]
  },
  {
   "cell_type": "code",
   "execution_count": null,
   "metadata": {},
   "outputs": [],
   "source": [
    "# Now it is possible to find the response time in seconds\n",
    "# Hint: create a new column for \"Response Time (seconds)\" and use .dt.total_seconds()\n",
    "# to calculate the seconds\n",
    "loss_df[\"Response Time (seconds)\"] = loss_df[\"Arrival Date and Time\"] - loss_df[\"Alarm Date and Time\"]\n",
    "loss_df[\"Response Time (seconds)\"] = loss_df[\"Response Time (seconds)\"].dt.total_seconds()\n",
    "loss_df[\"Response Time (seconds)\"] = loss_df[\"Response Time (seconds)\"].astype(\"int\")"
   ]
  },
  {
   "cell_type": "code",
   "execution_count": null,
   "metadata": {},
   "outputs": [],
   "source": [
    "# Check data for columns of your choosing\n",
    "response_times = loss_df[[\"Fire Department Name\", \"Incident date\", \"Incident Type\", \"Arrival Date and Time\",\n",
    "        \"Alarm Date and Time\", \"Response Time (seconds)\"]]\n",
    "response_times.head()"
   ]
  },
  {
   "cell_type": "code",
   "execution_count": null,
   "metadata": {},
   "outputs": [],
   "source": []
  }
 ],
 "metadata": {
  "kernelspec": {
   "display_name": "Python 3 (ipykernel)",
   "language": "python",
   "name": "python3"
  },
  "language_info": {
   "codemirror_mode": {
    "name": "ipython",
    "version": 3
   },
   "file_extension": ".py",
   "mimetype": "text/x-python",
   "name": "python",
   "nbconvert_exporter": "python",
   "pygments_lexer": "ipython3",
   "version": "3.7.7"
  }
 },
 "nbformat": 4,
 "nbformat_minor": 2
}
