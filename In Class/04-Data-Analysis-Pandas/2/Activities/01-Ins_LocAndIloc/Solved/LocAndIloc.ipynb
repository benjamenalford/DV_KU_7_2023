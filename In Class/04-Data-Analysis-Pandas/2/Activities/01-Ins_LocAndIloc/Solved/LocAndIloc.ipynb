{
 "cells": [
  {
   "cell_type": "code",
   "execution_count": 1,
   "metadata": {},
   "outputs": [],
   "source": [
    "import pandas as pd"
   ]
  },
  {
   "cell_type": "code",
   "execution_count": 2,
   "metadata": {},
   "outputs": [],
   "source": [
    "file = \"Resources/baton_streets.csv\""
   ]
  },
  {
   "cell_type": "code",
   "execution_count": 10,
   "metadata": {
    "scrolled": true
   },
   "outputs": [
    {
     "data": {
      "text/html": [
       "<div>\n",
       "<style scoped>\n",
       "    .dataframe tbody tr th:only-of-type {\n",
       "        vertical-align: middle;\n",
       "    }\n",
       "\n",
       "    .dataframe tbody tr th {\n",
       "        vertical-align: top;\n",
       "    }\n",
       "\n",
       "    .dataframe thead th {\n",
       "        text-align: right;\n",
       "    }\n",
       "</style>\n",
       "<table border=\"1\" class=\"dataframe\">\n",
       "  <thead>\n",
       "    <tr style=\"text-align: right;\">\n",
       "      <th></th>\n",
       "      <th>STREET NAME ID</th>\n",
       "      <th>STREET FULL NAME</th>\n",
       "      <th>POSTAL COMMUNITY</th>\n",
       "      <th>MUNICIPAL COMMUNITY</th>\n",
       "    </tr>\n",
       "    <tr>\n",
       "      <th>STREET NAME</th>\n",
       "      <th></th>\n",
       "      <th></th>\n",
       "      <th></th>\n",
       "      <th></th>\n",
       "    </tr>\n",
       "  </thead>\n",
       "  <tbody>\n",
       "    <tr>\n",
       "      <th>PRIVATE STREET</th>\n",
       "      <td>1400342</td>\n",
       "      <td>PRIVATE STREET</td>\n",
       "      <td>BATON ROUGE</td>\n",
       "      <td>BATON ROUGE</td>\n",
       "    </tr>\n",
       "    <tr>\n",
       "      <th>4TH</th>\n",
       "      <td>1</td>\n",
       "      <td>N 4TH ST</td>\n",
       "      <td>BATON ROUGE</td>\n",
       "      <td>BATON ROUGE</td>\n",
       "    </tr>\n",
       "    <tr>\n",
       "      <th>11TH</th>\n",
       "      <td>10</td>\n",
       "      <td>S 11TH ST</td>\n",
       "      <td>BATON ROUGE</td>\n",
       "      <td>BATON ROUGE</td>\n",
       "    </tr>\n",
       "    <tr>\n",
       "      <th>ADDINGTON</th>\n",
       "      <td>100</td>\n",
       "      <td>ADDINGTON AVE</td>\n",
       "      <td>BATON ROUGE</td>\n",
       "      <td>BATON ROUGE</td>\n",
       "    </tr>\n",
       "    <tr>\n",
       "      <th>CHALFONT</th>\n",
       "      <td>1000</td>\n",
       "      <td>W CHALFONT DR</td>\n",
       "      <td>BATON ROUGE</td>\n",
       "      <td>PARISH</td>\n",
       "    </tr>\n",
       "  </tbody>\n",
       "</table>\n",
       "</div>"
      ],
      "text/plain": [
       "                STREET NAME ID STREET FULL NAME POSTAL COMMUNITY  \\\n",
       "STREET NAME                                                        \n",
       "PRIVATE STREET         1400342   PRIVATE STREET      BATON ROUGE   \n",
       "4TH                          1         N 4TH ST      BATON ROUGE   \n",
       "11TH                        10        S 11TH ST      BATON ROUGE   \n",
       "ADDINGTON                  100    ADDINGTON AVE      BATON ROUGE   \n",
       "CHALFONT                  1000    W CHALFONT DR      BATON ROUGE   \n",
       "\n",
       "               MUNICIPAL COMMUNITY  \n",
       "STREET NAME                         \n",
       "PRIVATE STREET         BATON ROUGE  \n",
       "4TH                    BATON ROUGE  \n",
       "11TH                   BATON ROUGE  \n",
       "ADDINGTON              BATON ROUGE  \n",
       "CHALFONT                    PARISH  "
      ]
     },
     "execution_count": 10,
     "metadata": {},
     "output_type": "execute_result"
    }
   ],
   "source": [
    "original_df = pd.read_csv(file)\n",
    "df.head()"
   ]
  },
  {
   "cell_type": "code",
   "execution_count": 11,
   "metadata": {
    "scrolled": true
   },
   "outputs": [
    {
     "data": {
      "text/html": [
       "<div>\n",
       "<style scoped>\n",
       "    .dataframe tbody tr th:only-of-type {\n",
       "        vertical-align: middle;\n",
       "    }\n",
       "\n",
       "    .dataframe tbody tr th {\n",
       "        vertical-align: top;\n",
       "    }\n",
       "\n",
       "    .dataframe thead th {\n",
       "        text-align: right;\n",
       "    }\n",
       "</style>\n",
       "<table border=\"1\" class=\"dataframe\">\n",
       "  <thead>\n",
       "    <tr style=\"text-align: right;\">\n",
       "      <th></th>\n",
       "      <th>STREET NAME ID</th>\n",
       "      <th>STREET FULL NAME</th>\n",
       "      <th>POSTAL COMMUNITY</th>\n",
       "      <th>MUNICIPAL COMMUNITY</th>\n",
       "    </tr>\n",
       "    <tr>\n",
       "      <th>STREET NAME</th>\n",
       "      <th></th>\n",
       "      <th></th>\n",
       "      <th></th>\n",
       "      <th></th>\n",
       "    </tr>\n",
       "  </thead>\n",
       "  <tbody>\n",
       "    <tr>\n",
       "      <th>PRIVATE STREET</th>\n",
       "      <td>1400342</td>\n",
       "      <td>PRIVATE STREET</td>\n",
       "      <td>BATON ROUGE</td>\n",
       "      <td>BATON ROUGE</td>\n",
       "    </tr>\n",
       "    <tr>\n",
       "      <th>4TH</th>\n",
       "      <td>1</td>\n",
       "      <td>N 4TH ST</td>\n",
       "      <td>BATON ROUGE</td>\n",
       "      <td>BATON ROUGE</td>\n",
       "    </tr>\n",
       "    <tr>\n",
       "      <th>11TH</th>\n",
       "      <td>10</td>\n",
       "      <td>S 11TH ST</td>\n",
       "      <td>BATON ROUGE</td>\n",
       "      <td>BATON ROUGE</td>\n",
       "    </tr>\n",
       "    <tr>\n",
       "      <th>ADDINGTON</th>\n",
       "      <td>100</td>\n",
       "      <td>ADDINGTON AVE</td>\n",
       "      <td>BATON ROUGE</td>\n",
       "      <td>BATON ROUGE</td>\n",
       "    </tr>\n",
       "    <tr>\n",
       "      <th>CHALFONT</th>\n",
       "      <td>1000</td>\n",
       "      <td>W CHALFONT DR</td>\n",
       "      <td>BATON ROUGE</td>\n",
       "      <td>PARISH</td>\n",
       "    </tr>\n",
       "  </tbody>\n",
       "</table>\n",
       "</div>"
      ],
      "text/plain": [
       "                STREET NAME ID STREET FULL NAME POSTAL COMMUNITY  \\\n",
       "STREET NAME                                                        \n",
       "PRIVATE STREET         1400342   PRIVATE STREET      BATON ROUGE   \n",
       "4TH                          1         N 4TH ST      BATON ROUGE   \n",
       "11TH                        10        S 11TH ST      BATON ROUGE   \n",
       "ADDINGTON                  100    ADDINGTON AVE      BATON ROUGE   \n",
       "CHALFONT                  1000    W CHALFONT DR      BATON ROUGE   \n",
       "\n",
       "               MUNICIPAL COMMUNITY  \n",
       "STREET NAME                         \n",
       "PRIVATE STREET         BATON ROUGE  \n",
       "4TH                    BATON ROUGE  \n",
       "11TH                   BATON ROUGE  \n",
       "ADDINGTON              BATON ROUGE  \n",
       "CHALFONT                    PARISH  "
      ]
     },
     "execution_count": 11,
     "metadata": {},
     "output_type": "execute_result"
    }
   ],
   "source": [
    "# Set new index to STREET NAME\n",
    "df = original_df.set_index(\"STREET NAME\")\n",
    "df.head()"
   ]
  },
  {
   "cell_type": "code",
   "execution_count": null,
   "metadata": {},
   "outputs": [],
   "source": [
    "# Grab the data contained within the \"ADDINGTON\" row and the \"STREET FULL NAME\" column\n",
    "addington_name = df.loc[\"ADDINGTON\", \"STREET FULL NAME\"]\n",
    "print(\"Using Loc: \" + addington_name)\n",
    "\n",
    "also_addington_name = df.iloc[3, 1]\n",
    "print(\"Using Iloc: \" + also_addington_name)"
   ]
  },
  {
   "cell_type": "code",
   "execution_count": null,
   "metadata": {},
   "outputs": [],
   "source": [
    "# Grab the first five rows of data and the columns from \"STREET NAME ID\" to \"POSTAL COMMUNITY\"\n",
    "# The problem with using \"STREET NAME\" as the index is that the values are not unique so duplicates are returned\n",
    "# If there are duplicates and loc[] is being used, Pandas will return an error\n",
    "private_to_chalfont = df.loc[[\"PRIVATE STREET\", \"4TH\", \"11TH\", \"ADDINGTON\", \n",
    "                              \"CHALFONT\"], [\"STREET NAME ID\", \"STREET FULL NAME\", \"POSTAL COMMUNITY\"]]\n",
    "print(private_to_chalfont)\n",
    "\n",
    "print()\n",
    "\n",
    "# Using iloc[] will not find duplicates since a numeric index is always unique\n",
    "also_private_to_chalfont = df.iloc[0:5, 0:3]\n",
    "print(also_private_to_chalfont)"
   ]
  },
  {
   "cell_type": "code",
   "execution_count": null,
   "metadata": {},
   "outputs": [],
   "source": [
    "# The following will select all rows for columns `STREET FULL NAME` and `POSTAL COMMUNITY`\n",
    "df.loc[:, [\"STREET FULL NAME\", \"POSTAL COMMUNITY\"]].head()"
   ]
  },
  {
   "cell_type": "code",
   "execution_count": null,
   "metadata": {},
   "outputs": [],
   "source": [
    "# the following logic test/conditional statement returns a series of boolean values\n",
    "municipal_parish = df[\"MUNICIPAL COMMUNITY\"] == \"PARISH\"\n",
    "municipal_parish.head()"
   ]
  },
  {
   "cell_type": "code",
   "execution_count": null,
   "metadata": {},
   "outputs": [],
   "source": [
    "# Loc and Iloc also allow for conditional statments to filter rows of data\n",
    "# using Loc on the logic test above only returns rows where the result is True\n",
    "only_prairieville = df.loc[df[\"POSTAL COMMUNITY\"] == \"PRAIRIEVILLE\", :]\n",
    "print(only_prairieville)\n",
    "\n",
    "print()\n",
    "\n",
    "# Multiple conditions can be set to narrow down or widen the filter\n",
    "only_prairieville_and_jackson = df.loc[(df[\"POSTAL COMMUNITY\"] == \"PRAIRIEVILLE\") | (\n",
    "    df[\"POSTAL COMMUNITY\"] == \"JACKSON\"), :]\n",
    "print(only_prairieville_and_jackson)"
   ]
  },
  {
   "cell_type": "code",
   "execution_count": null,
   "metadata": {},
   "outputs": [],
   "source": []
  }
 ],
 "metadata": {
  "kernelspec": {
   "display_name": "Python 3 (ipykernel)",
   "language": "python",
   "name": "python3"
  },
  "language_info": {
   "codemirror_mode": {
    "name": "ipython",
    "version": 3
   },
   "file_extension": ".py",
   "mimetype": "text/x-python",
   "name": "python",
   "nbconvert_exporter": "python",
   "pygments_lexer": "ipython3",
   "version": "3.7.7"
  }
 },
 "nbformat": 4,
 "nbformat_minor": 2
}
